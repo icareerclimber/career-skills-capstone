{
 "cells": [
  {
   "cell_type": "code",
   "execution_count": 16,
   "metadata": {
    "hideCode": false,
    "hidePrompt": false
   },
   "outputs": [],
   "source": [
    "import sys\n",
    "from bs4 import BeautifulSoup\n",
    "# from selenium import webdriver\n",
    "# from selenium.common.exceptions import TimeoutException\n",
    "import time\n",
    "import requests\n",
    "import random\n",
    "import pandas as pd\n",
    "from datetime import date, datetime, timedelta\n",
    "import traceback\n",
    "import csv"
   ]
  },
  {
   "cell_type": "code",
   "execution_count": 17,
   "metadata": {},
   "outputs": [],
   "source": [
    "city_list = [\n",
    "        'Austin',\n",
    "        'Atlanta',\n",
    "        'Boston',\n",
    "        'Seattle',\n",
    "        'Denver',\n",
    "        'Miami',\n",
    "        'new+york+city',\n",
    "        'SAN+FRANCISCO',\n",
    "        'MINNEAPOLIS',\n",
    "        'WASHINGTON+DC'\n",
    "]\n",
    "\n",
    "for city in city_list:\n",
    "    search_url = \"http://h1bdata.info/index.php?em=&job=&city=\" +  city + \"&year=All+Years\"\n",
    "    search_page = requests.get(search_url)\n",
    "    soup = BeautifulSoup(search_page.text, \"html.parser\")\n",
    "    \n",
    "    for record in soup.find_all(name=\"tr\")[1:]:\n",
    "        record_num = 1\n",
    "        for current_value in record.find_all(name=\"td\"):\n",
    "            if record_num == 1: \n",
    "                company = current_value.find(name=\"a\").next\n",
    "#                 print(company)\n",
    "            if record_num == 2: \n",
    "                title = current_value.find(name=\"a\").next\n",
    "#                 print(title)\n",
    "            if record_num == 3: \n",
    "                salary = current_value.next\n",
    "#                 print(salary)\n",
    "            if record_num == 4: \n",
    "                location = current_value.find(name=\"a\").next\n",
    "#                 print(location)\n",
    "            if record_num == 5: \n",
    "                start_date = current_value.next\n",
    "#                 print(start_date)\n",
    "            if record_num == 6: \n",
    "                end_date = current_value.next\n",
    "#                 print(end_date)\n",
    "            if record_num == 7: \n",
    "                status = current_value.next\n",
    "#                 print(status)\n",
    "            record_num += 1\n",
    "#         print()\n",
    "        row = [company, title, salary, location, start_date, end_date, status]\n",
    "#         print(row)\n",
    "        with open(\"h1b_salaries.csv\", 'a') as myfile:\n",
    "            wr = csv.writer(myfile, quoting=csv.QUOTE_ALL)\n",
    "            wr.writerow(row)    "
   ]
  },
  {
   "cell_type": "code",
   "execution_count": null,
   "metadata": {},
   "outputs": [],
   "source": []
  }
 ],
 "metadata": {
  "anaconda-cloud": {},
  "celltoolbar": "Hide code",
  "hide_code_all_hidden": true,
  "kernelspec": {
   "display_name": "Python [conda env:python36]",
   "language": "python",
   "name": "conda-env-python36-py"
  },
  "language_info": {
   "codemirror_mode": {
    "name": "ipython",
    "version": 3
   },
   "file_extension": ".py",
   "mimetype": "text/x-python",
   "name": "python",
   "nbconvert_exporter": "python",
   "pygments_lexer": "ipython3",
   "version": "3.6.1"
  }
 },
 "nbformat": 4,
 "nbformat_minor": 2
}
