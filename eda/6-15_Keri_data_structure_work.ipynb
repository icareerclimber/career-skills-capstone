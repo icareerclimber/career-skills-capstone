{
 "cells": [
  {
   "cell_type": "code",
   "execution_count": 2,
   "metadata": {},
   "outputs": [],
   "source": [
    "import os\n",
    "import google.cloud.storage\n",
    "import pandas as pd\n",
    "import matplotlib.pyplot as plt\n",
    "from datetime import date, datetime, timedelta\n",
    "import re\n",
    "from collections import Counter\n",
    "import csv\n",
    "from nltk.tokenize import TweetTokenizer\n",
    "import spacy\n",
    "import datetime\n",
    "\n",
    "import nltk\n",
    "from nltk import word_tokenize \n",
    "from nltk.util import ngrams\n",
    "\n",
    "# Download spacy\n",
    "# python -m spacy download en_core_web_lg"
   ]
  },
  {
   "cell_type": "markdown",
   "metadata": {},
   "source": [
    "# Job Postings"
   ]
  },
  {
   "cell_type": "code",
   "execution_count": 2,
   "metadata": {},
   "outputs": [],
   "source": [
    "indeed_csv = '/Users/kwheatley/Desktop/Capstone/gcloud_data/job_postings%2Findeed_job_postings.csv'\n",
    "indeed_data = pd.read_csv(indeed_csv, header=None)\n",
    "\n",
    "# ccars_csv = '/Users/kwheatley/Desktop/Capstone/gcloud_data/job_postings%2Fvirginia_job_posts.csv'\n",
    "# ccars_data = pd.read_csv(ccars_csv)"
   ]
  },
  {
   "cell_type": "code",
   "execution_count": 3,
   "metadata": {},
   "outputs": [
    {
     "data": {
      "text/html": [
       "<div>\n",
       "<style>\n",
       "    .dataframe thead tr:only-child th {\n",
       "        text-align: right;\n",
       "    }\n",
       "\n",
       "    .dataframe thead th {\n",
       "        text-align: left;\n",
       "    }\n",
       "\n",
       "    .dataframe tbody tr th {\n",
       "        vertical-align: top;\n",
       "    }\n",
       "</style>\n",
       "<table border=\"1\" class=\"dataframe\">\n",
       "  <thead>\n",
       "    <tr style=\"text-align: right;\">\n",
       "      <th></th>\n",
       "      <th>company</th>\n",
       "      <th>created_date</th>\n",
       "      <th>days_created_before</th>\n",
       "      <th>id</th>\n",
       "      <th>location</th>\n",
       "      <th>salary</th>\n",
       "      <th>scrape_time</th>\n",
       "      <th>search_term</th>\n",
       "      <th>summary_text</th>\n",
       "      <th>title</th>\n",
       "      <th>url</th>\n",
       "    </tr>\n",
       "  </thead>\n",
       "  <tbody>\n",
       "    <tr>\n",
       "      <th>0</th>\n",
       "      <td>Murdock Martell</td>\n",
       "      <td>2018-03-19T02:58:33</td>\n",
       "      <td>12</td>\n",
       "      <td>c54bc3126565a2b5</td>\n",
       "      <td>Saratoga, CA 95070</td>\n",
       "      <td>Not_Found</td>\n",
       "      <td>1522490313</td>\n",
       "      <td>Accounting</td>\n",
       "      <td>We have an Accounting Manager opening with our...</td>\n",
       "      <td>Accounting Manager</td>\n",
       "      <td>https://www.indeed.com/m/viewjob?jk=c54bc31265...</td>\n",
       "    </tr>\n",
       "  </tbody>\n",
       "</table>\n",
       "</div>"
      ],
      "text/plain": [
       "           company         created_date days_created_before                id  \\\n",
       "0  Murdock Martell  2018-03-19T02:58:33                  12  c54bc3126565a2b5   \n",
       "\n",
       "             location     salary  scrape_time search_term  \\\n",
       "0  Saratoga, CA 95070  Not_Found   1522490313  Accounting   \n",
       "\n",
       "                                        summary_text               title  \\\n",
       "0  We have an Accounting Manager opening with our...  Accounting Manager   \n",
       "\n",
       "                                                 url  \n",
       "0  https://www.indeed.com/m/viewjob?jk=c54bc31265...  "
      ]
     },
     "execution_count": 3,
     "metadata": {},
     "output_type": "execute_result"
    }
   ],
   "source": [
    "indeed_data.columns = ['company','created_date','days_created_before','id','location','salary','scrape_time',\n",
    "          'search_term','summary_text','title','url']\n",
    "# indeed_data.drop(['salary','url','id','scrape_time'],axis=1,inplace=True,)\n",
    "indeed_data.head(1)"
   ]
  },
  {
   "cell_type": "code",
   "execution_count": 4,
   "metadata": {},
   "outputs": [],
   "source": [
    "# # Remove all job postings with null job title\n",
    "# ccars_data = ccars_data[~ccars_data.title.isnull()]\n",
    "\n",
    "# # Clean non words from job titles and lowercase\n",
    "# ccars_data.title = ccars_data.title.apply(lambda x: re.sub(r'\\W+', ' ', x).lower())\n",
    "# ccars_data.title = ccars_data.title.apply(lambda x: re.sub(r'[0-9]+', '', x).strip())\n",
    "\n",
    "# ccars_data.head(1)"
   ]
  },
  {
   "cell_type": "code",
   "execution_count": 5,
   "metadata": {},
   "outputs": [],
   "source": [
    "# This code converts scrape_time to readable date format\n",
    "indeed_data.scrape_time = indeed_data.scrape_time.apply(lambda x: datetime.datetime.fromtimestamp(int(x)))\n",
    "\n",
    "# There were only 3 records without a description. I removed those.\n",
    "indeed_data = indeed_data[~indeed_data.summary_text.isnull()]\n",
    "\n",
    "# Date doesn't matter for job postings. However I put a date in there for the unknowns.\n",
    "indeed_data.loc[indeed_data.created_date == '1900-01-01','created_date'] = \\\n",
    "        indeed_data.loc[indeed_data.created_date == '1900-01-01','scrape_time'] - timedelta(days=int(80))\n",
    "    \n",
    "# Clean non words from job titles and lowercase\n",
    "indeed_data.title = indeed_data.title.apply(lambda x: re.sub(r'\\W+', ' ', x).lower())\n",
    "indeed_data.title = indeed_data.title.apply(lambda x: re.sub(r'[0-9]+', '', x).strip())"
   ]
  },
  {
   "cell_type": "code",
   "execution_count": 45,
   "metadata": {},
   "outputs": [],
   "source": [
    "# Get a list of the words to be removed\n",
    "# We are going to look at the x most common words\n",
    "most_common_words = 1000\n",
    "\n",
    "# Words identified as needed to be retained but under the cutoff\n",
    "words_to_keep =['internship', 'vice', 'president', 'ceo', 'cto', 'clo', 'cio', 'cfo', 'coo', 'vi',\n",
    "                'vii','viii','viiv','vp','scrum','master','logistics','sales','data','extern','externship',\n",
    "                'researcher','researchers','executive','presales',\n",
    "                'account','hr', 'eng', 'mgr', 'net', 'web', 'mgr', 'digital', 'solutions',\n",
    "               'operations','technical','machine','learning','professional','services',\n",
    "               'consultant','analytics','analytics','supply','chain','management','app','strategist',\n",
    "               'android','finance','advisor','officer','accountant','resources','office','controller']\n",
    "\n",
    "# Stop words will be removed from job titles\n",
    "stop_words = ['ourselves', 'hers', 'between', 'yourself', 'but', 'again', 'there', 'about', \n",
    "              'once', 'during', 'out', 'very', 'having', 'with', 'they', 'own', 'an', 'be', \n",
    "              'some', 'for', 'do', 'its', 'yours', 'such', 'into', 'of', 'most', 'itself', \n",
    "              'other', 'off', 'is', 's', 'am', 'or', 'who', 'as', 'from', 'him', 'each', 'the', \n",
    "              'themselves', 'until', 'below', 'are', 'we', 'these', 'your', 'his', 'through', \n",
    "              'don', 'nor', 'me', 'were', 'her', 'more', 'himself', 'this', 'down', 'should', \n",
    "              'our', 'their', 'while', 'above', 'both', 'up', 'to', 'ours', 'had', 'she', 'all', \n",
    "              'no', 'when', 'at', 'any', 'before', 'them', 'same', 'and', 'been', 'have', 'in', \n",
    "              'will', 'on', 'does', 'yourselves', 'then', 'that', 'because', 'what', 'over', \n",
    "              'why', 'so', 'can', 'did', 'not', 'now', 'under', 'he', 'you', 'herself', 'has', \n",
    "              'just', 'where', 'too', 'only', 'myself', 'which', 'those', 'i', 'after', 'few', \n",
    "              'whom', 't', 'being', 'if', 'theirs', 'my', 'against', 'a', 'by', 'doing', 'it', \n",
    "              'how', 'further', 'was', 'here', 'than', 'in','of','full','part','time',\n",
    "             'gainesville','fl']"
   ]
  },
  {
   "cell_type": "code",
   "execution_count": 46,
   "metadata": {},
   "outputs": [],
   "source": [
    "def create_jobs_list(source_data,source):\n",
    "    word_list = [] # List of all the words used\n",
    "    jobs_list = [] # All job titles split into tokens\n",
    "\n",
    "    for job_title in source_data:\n",
    "        [word_list.append(x) for x in job_title.split()]\n",
    "        jobs_list.append(job_title)\n",
    "\n",
    "    # for job_title in ccars_data.title:\n",
    "    #     [word_list.append(x) for x in job_title.split()]\n",
    "    #     jobs_list.append(job_title)\n",
    "\n",
    "    counts = Counter(word_list)\n",
    "\n",
    "    with open(source+'_dict.csv', 'w') as csv_file:\n",
    "        writer = csv.writer(csv_file)\n",
    "        for key, value in counts.items():\n",
    "           writer.writerow([key, value])\n",
    "    \n",
    "    return jobs_list\n",
    "        \n",
    "# jobs_list = create_jobs_list(indeed_data.title,'indeed_jobs')"
   ]
  },
  {
   "cell_type": "code",
   "execution_count": 47,
   "metadata": {},
   "outputs": [],
   "source": [
    "counts = Counter(jobs_list)\n",
    "\n",
    "with open('counts_jobs_unprocessed.csv', 'w') as csv_file:\n",
    "    writer = csv.writer(csv_file)\n",
    "    for key, value in counts.items():\n",
    "        if len(key.split()) < 6:\n",
    "           writer.writerow([key, value])"
   ]
  },
  {
   "cell_type": "code",
   "execution_count": 48,
   "metadata": {},
   "outputs": [],
   "source": [
    "# Initialize Spacy\n",
    "nlp = spacy.load('en_core_web_lg')"
   ]
  },
  {
   "cell_type": "code",
   "execution_count": 49,
   "metadata": {},
   "outputs": [],
   "source": [
    "# This is a dictionary for all the available words in a job title\n",
    "# Currently, we are only looking at the x most common words\n",
    "WORDS = dict(counts.most_common(most_common_words))\n",
    "\n",
    "# We have removed all stop words from the list\n",
    "for word in stop_words:\n",
    "    if word in WORDS:\n",
    "        del WORDS[word]\n",
    "\n",
    "# We have added back in a list of specific words\n",
    "for word in words_to_keep:\n",
    "    WORDS[word] = 400\n",
    "    \n",
    "# Add all the lemma variations to the list of possible words\n",
    "lemma_list = []\n",
    "for word in WORDS:\n",
    "    tokens = nlp(word)\n",
    "    for token in tokens:\n",
    "        lemma_list.append(token.lemma_)\n",
    "\n",
    "for word in lemma_list:\n",
    "    if word not in WORDS:\n",
    "        WORDS[word] = 400"
   ]
  },
  {
   "cell_type": "code",
   "execution_count": 50,
   "metadata": {},
   "outputs": [],
   "source": [
    "# Grab all the misspellings that exist\n",
    "with open('cleaned_misspellings_list.csv', mode='r') as infile:\n",
    "    reader = csv.reader(infile)\n",
    "    dict_misspellings = {rows[0]:rows[1] for rows in reader}"
   ]
  },
  {
   "cell_type": "code",
   "execution_count": 51,
   "metadata": {},
   "outputs": [],
   "source": [
    "def update_job_misspellings(string_job):\n",
    "    # This code fixes any misspellings in a job title\n",
    "    list_words = []\n",
    "    for word in string_job.split():\n",
    "        if word in dict_misspellings:\n",
    "            word = dict_misspellings[word]\n",
    "        list_words.append(word)\n",
    "    return ' '.join(list_words)\n",
    "\n",
    "\n",
    "# def update_job_lemma(string_job):\n",
    "#     # This code performs a SpaCy lemma on all words\n",
    "#     list_words = []\n",
    "#     for token in nlp(string_job):\n",
    "#         if token.text not in ['accountant','accounting','data','sales','devops']:\n",
    "#             list_words.append(token.lemma_)\n",
    "#         else:\n",
    "#             list_words.append(token.text)\n",
    "#     return ' '.join(list_words)\n",
    "\n",
    "\n",
    "def update_job_remove_non_essential(string_job):\n",
    "    # This code performs a SpaCy lemma on all words\n",
    "    list_words = []\n",
    "    return ' '.join([word for word in string_job.split() if word in WORDS])\n",
    "\n",
    "\n",
    "def update_job_remove_stop_words(string_job):\n",
    "    # This code performs a SpaCy lemma on all words\n",
    "    list_words = []\n",
    "    return ' '.join([word for word in string_job.split() if word not in stop_words])\n",
    "\n",
    "\n",
    "def update_remove_dups(string_job):\n",
    "    # This code removes duplicate words from the job title\n",
    "    already_seen_words = []\n",
    "    list_words = []\n",
    "    for word in string_job.split():\n",
    "        if word not in already_seen_words:\n",
    "            list_words.append(word)\n",
    "        already_seen_words.append(word)\n",
    "    return ' '.join(list_words)\n",
    "\n",
    "\n",
    "def manual_replacement(string_job):\n",
    "    # This code replaces one word with another\n",
    "    words_to_replace = {\n",
    "                        'developer':'engineer',\n",
    "                        'ui':'ux',\n",
    "                        'sr':'senior',\n",
    "                        'jr':'junior',\n",
    "                        'mgr':'manager',\n",
    "                        'vp':'vice president',\n",
    "                        'db':'database',\n",
    "                        'researchers':'researcher',\n",
    "                        'service':'services',\n",
    "                        'eng':'engineering',\n",
    "    }\n",
    "    list_words = string_job.split()\n",
    "    for key in words_to_replace:\n",
    "        list_words = [words_to_replace[key] \n",
    "                               if word == key else word\n",
    "                               for word in list_words]\n",
    "    string_job = ' '.join(list_words)\n",
    "\n",
    "    phrases_to_replace = {\n",
    "                        'quality assurance':'qa',        \n",
    "                        'human resources':'hr',\n",
    "                        'business intelligence':'bi',\n",
    "                        'full stack':'fullstack',\n",
    "                        'front end':'frontend',        \n",
    "                        'back end':'backend',\n",
    "                        'master data management':'mdm',\n",
    "    }\n",
    "    for phrase in phrases_to_replace:\n",
    "        string_job = string_job.replace(phrase, phrases_to_replace[phrase])\n",
    "        \n",
    "    return string_job\n",
    "\n",
    "\n",
    "def transform_job(job_title):\n",
    "    # This code runs all the transformations needed for job title\n",
    "    job_title = update_job_misspellings(job_title)\n",
    "    job_title = manual_replacement(job_title)\n",
    "    job_title = update_job_remove_stop_words(job_title)\n",
    "#     job_title = update_job_lemma(job_title)\n",
    "    job_title = update_job_remove_non_essential(job_title)\n",
    "    job_title = update_remove_dups(job_title)\n",
    "    return job_title\n",
    "\n",
    "\n",
    "def transform_all_jobs(list_of_jobs):\n",
    "    # This code iterates through all the jobs in a list\n",
    "    datetime.datetime.now()\n",
    "    cleaned_list = []\n",
    "    for one_job in list_of_jobs:\n",
    "        cleaned_list.append(transform_job(one_job))\n",
    "    \n",
    "    datetime.datetime.now()\n",
    "    return cleaned_list\n",
    "\n",
    "\n",
    "phrase_qualifiers = ['mid level','entry level','senior level','experience required',\n",
    "                    'vice president'\n",
    "                    ]\n",
    "qualifiers = ['senior','junior','i','ii',\n",
    "              'iii','intern','internship','extern','externship',\n",
    "              'principal','lead','manager','director','controller'\n",
    "              , 'president','ceo','cio','coo','cto','clo','cfo'\n",
    "             ]\n",
    "\n",
    "def get_experience_level(list_of_jobs):\n",
    "    new_experience_level_list = []\n",
    "    new_jobs_list = []\n",
    "    \n",
    "    for one_job in list_of_jobs:\n",
    "        qualifier_list = []\n",
    "        one_job_list = []\n",
    "\n",
    "        for qualifier in phrase_qualifiers:\n",
    "            one_job = one_job.replace(qualifier,qualifier.replace(\" \",\"_\"))\n",
    "        \n",
    "        for word in one_job.split():\n",
    "            if word in qualifiers + [x.replace(\" \",\"_\") for x in phrase_qualifiers]:\n",
    "                qualifier_list.append(word)\n",
    "            else:\n",
    "                one_job_list.append(word)\n",
    "        new_experience_level_list.append(qualifier_list)\n",
    "        new_jobs_list.append(' '.join(one_job_list))\n",
    "    \n",
    "    return new_jobs_list, new_experience_level_list\n",
    "#     return new_jobs_list"
   ]
  },
  {
   "cell_type": "code",
   "execution_count": 52,
   "metadata": {},
   "outputs": [
    {
     "ename": "KeyboardInterrupt",
     "evalue": "",
     "output_type": "error",
     "traceback": [
      "\u001b[0;31m---------------------------------------------------------------------------\u001b[0m",
      "\u001b[0;31mKeyboardInterrupt\u001b[0m                         Traceback (most recent call last)",
      "\u001b[0;32m<ipython-input-52-a936ddd16cb4>\u001b[0m in \u001b[0;36m<module>\u001b[0;34m()\u001b[0m\n\u001b[0;32m----> 1\u001b[0;31m \u001b[0mcleaned_jobs\u001b[0m \u001b[0;34m=\u001b[0m \u001b[0mtransform_all_jobs\u001b[0m\u001b[0;34m(\u001b[0m\u001b[0mjobs_list\u001b[0m\u001b[0;34m)\u001b[0m\u001b[0;34m\u001b[0m\u001b[0m\n\u001b[0m\u001b[1;32m      2\u001b[0m \u001b[0;31m# pd.DataFrame(list(set(list(zip(cleaned_jobs,jobs_list))))).to_csv('comparison.csv')\u001b[0m\u001b[0;34m\u001b[0m\u001b[0;34m\u001b[0m\u001b[0m\n\u001b[1;32m      3\u001b[0m \u001b[0;34m\u001b[0m\u001b[0m\n\u001b[1;32m      4\u001b[0m \u001b[0mcleaned_jobs\u001b[0m\u001b[0;34m,\u001b[0m \u001b[0mnew_experience_level_list\u001b[0m \u001b[0;34m=\u001b[0m \u001b[0mget_experience_level\u001b[0m\u001b[0;34m(\u001b[0m\u001b[0mcleaned_jobs\u001b[0m\u001b[0;34m)\u001b[0m\u001b[0;34m\u001b[0m\u001b[0m\n\u001b[1;32m      5\u001b[0m \u001b[0;31m# pd.DataFrame(cleaned_jobs).to_csv(\"jobs_parsed.csv\")\u001b[0m\u001b[0;34m\u001b[0m\u001b[0;34m\u001b[0m\u001b[0m\n",
      "\u001b[0;32m<ipython-input-51-ed74a53c928d>\u001b[0m in \u001b[0;36mtransform_all_jobs\u001b[0;34m(list_of_jobs)\u001b[0m\n\u001b[1;32m     95\u001b[0m     \u001b[0mcleaned_list\u001b[0m \u001b[0;34m=\u001b[0m \u001b[0;34m[\u001b[0m\u001b[0;34m]\u001b[0m\u001b[0;34m\u001b[0m\u001b[0m\n\u001b[1;32m     96\u001b[0m     \u001b[0;32mfor\u001b[0m \u001b[0mone_job\u001b[0m \u001b[0;32min\u001b[0m \u001b[0mlist_of_jobs\u001b[0m\u001b[0;34m:\u001b[0m\u001b[0;34m\u001b[0m\u001b[0m\n\u001b[0;32m---> 97\u001b[0;31m         \u001b[0mcleaned_list\u001b[0m\u001b[0;34m.\u001b[0m\u001b[0mappend\u001b[0m\u001b[0;34m(\u001b[0m\u001b[0mtransform_job\u001b[0m\u001b[0;34m(\u001b[0m\u001b[0mone_job\u001b[0m\u001b[0;34m)\u001b[0m\u001b[0;34m)\u001b[0m\u001b[0;34m\u001b[0m\u001b[0m\n\u001b[0m\u001b[1;32m     98\u001b[0m \u001b[0;34m\u001b[0m\u001b[0m\n\u001b[1;32m     99\u001b[0m     \u001b[0mdatetime\u001b[0m\u001b[0;34m.\u001b[0m\u001b[0mdatetime\u001b[0m\u001b[0;34m.\u001b[0m\u001b[0mnow\u001b[0m\u001b[0;34m(\u001b[0m\u001b[0;34m)\u001b[0m\u001b[0;34m\u001b[0m\u001b[0m\n",
      "\u001b[0;32m<ipython-input-51-ed74a53c928d>\u001b[0m in \u001b[0;36mtransform_job\u001b[0;34m(job_title)\u001b[0m\n\u001b[1;32m     82\u001b[0m     \u001b[0;31m# This code runs all the transformations needed for job title\u001b[0m\u001b[0;34m\u001b[0m\u001b[0;34m\u001b[0m\u001b[0m\n\u001b[1;32m     83\u001b[0m     \u001b[0mjob_title\u001b[0m \u001b[0;34m=\u001b[0m \u001b[0mupdate_job_misspellings\u001b[0m\u001b[0;34m(\u001b[0m\u001b[0mjob_title\u001b[0m\u001b[0;34m)\u001b[0m\u001b[0;34m\u001b[0m\u001b[0m\n\u001b[0;32m---> 84\u001b[0;31m     \u001b[0mjob_title\u001b[0m \u001b[0;34m=\u001b[0m \u001b[0mmanual_replacement\u001b[0m\u001b[0;34m(\u001b[0m\u001b[0mjob_title\u001b[0m\u001b[0;34m)\u001b[0m\u001b[0;34m\u001b[0m\u001b[0m\n\u001b[0m\u001b[1;32m     85\u001b[0m     \u001b[0mjob_title\u001b[0m \u001b[0;34m=\u001b[0m \u001b[0mupdate_job_remove_stop_words\u001b[0m\u001b[0;34m(\u001b[0m\u001b[0mjob_title\u001b[0m\u001b[0;34m)\u001b[0m\u001b[0;34m\u001b[0m\u001b[0m\n\u001b[1;32m     86\u001b[0m \u001b[0;31m#     job_title = update_job_lemma(job_title)\u001b[0m\u001b[0;34m\u001b[0m\u001b[0;34m\u001b[0m\u001b[0m\n",
      "\u001b[0;32m<ipython-input-51-ed74a53c928d>\u001b[0m in \u001b[0;36mmanual_replacement\u001b[0;34m(string_job)\u001b[0m\n\u001b[1;32m     61\u001b[0m         list_words = [words_to_replace[key] \n\u001b[1;32m     62\u001b[0m                                \u001b[0;32mif\u001b[0m \u001b[0mword\u001b[0m \u001b[0;34m==\u001b[0m \u001b[0mkey\u001b[0m \u001b[0;32melse\u001b[0m \u001b[0mword\u001b[0m\u001b[0;34m\u001b[0m\u001b[0m\n\u001b[0;32m---> 63\u001b[0;31m                                for word in list_words]\n\u001b[0m\u001b[1;32m     64\u001b[0m     \u001b[0mstring_job\u001b[0m \u001b[0;34m=\u001b[0m \u001b[0;34m' '\u001b[0m\u001b[0;34m.\u001b[0m\u001b[0mjoin\u001b[0m\u001b[0;34m(\u001b[0m\u001b[0mlist_words\u001b[0m\u001b[0;34m)\u001b[0m\u001b[0;34m\u001b[0m\u001b[0m\n\u001b[1;32m     65\u001b[0m \u001b[0;34m\u001b[0m\u001b[0m\n",
      "\u001b[0;32m<ipython-input-51-ed74a53c928d>\u001b[0m in \u001b[0;36m<listcomp>\u001b[0;34m(.0)\u001b[0m\n\u001b[1;32m     59\u001b[0m     \u001b[0mlist_words\u001b[0m \u001b[0;34m=\u001b[0m \u001b[0mstring_job\u001b[0m\u001b[0;34m.\u001b[0m\u001b[0msplit\u001b[0m\u001b[0;34m(\u001b[0m\u001b[0;34m)\u001b[0m\u001b[0;34m\u001b[0m\u001b[0m\n\u001b[1;32m     60\u001b[0m     \u001b[0;32mfor\u001b[0m \u001b[0mkey\u001b[0m \u001b[0;32min\u001b[0m \u001b[0mwords_to_replace\u001b[0m\u001b[0;34m:\u001b[0m\u001b[0;34m\u001b[0m\u001b[0m\n\u001b[0;32m---> 61\u001b[0;31m         list_words = [words_to_replace[key] \n\u001b[0m\u001b[1;32m     62\u001b[0m                                \u001b[0;32mif\u001b[0m \u001b[0mword\u001b[0m \u001b[0;34m==\u001b[0m \u001b[0mkey\u001b[0m \u001b[0;32melse\u001b[0m \u001b[0mword\u001b[0m\u001b[0;34m\u001b[0m\u001b[0m\n\u001b[1;32m     63\u001b[0m                                for word in list_words]\n",
      "\u001b[0;31mKeyboardInterrupt\u001b[0m: "
     ]
    }
   ],
   "source": [
    "cleaned_jobs = transform_all_jobs(jobs_list)\n",
    "# pd.DataFrame(list(set(list(zip(cleaned_jobs,jobs_list))))).to_csv('comparison.csv')\n",
    "\n",
    "cleaned_jobs, new_experience_level_list = get_experience_level(cleaned_jobs)\n",
    "# pd.DataFrame(cleaned_jobs).to_csv(\"jobs_parsed.csv\")"
   ]
  },
  {
   "cell_type": "code",
   "execution_count": null,
   "metadata": {},
   "outputs": [],
   "source": [
    "WORDS['bi']"
   ]
  },
  {
   "cell_type": "code",
   "execution_count": null,
   "metadata": {},
   "outputs": [],
   "source": [
    "transform_all_jobs(['business intelligence consultant'])"
   ]
  },
  {
   "cell_type": "code",
   "execution_count": null,
   "metadata": {},
   "outputs": [],
   "source": [
    "from itertools import combinations\n",
    "\n",
    "def get_ngrams(input_data,ngram_number,min_count=1):\n",
    "\n",
    "    ngrams_list = []\n",
    "    for line in input_data:\n",
    "         \n",
    "        comb = list(combinations(line.split(), ngram_number))\n",
    "        for ngram in comb:\n",
    "            ngrams_list.append(' '.join(sorted(ngram)))\n",
    "\n",
    "    count_ngrams = Counter(ngrams_list)\n",
    "\n",
    "    with open('count_ngrams_' + str(ngram_number) + '.csv', 'w') as csv_file:\n",
    "        writer = csv.writer(csv_file)\n",
    "        for key, value in count_ngrams.items():\n",
    "            if value > min_count:\n",
    "                writer.writerow([key, value])\n",
    "\n",
    "#     return count_ngrams\n",
    "    return dict((k, v) for k, v in count_ngrams.items() if v >= min_count)"
   ]
  },
  {
   "cell_type": "code",
   "execution_count": null,
   "metadata": {},
   "outputs": [],
   "source": [
    "def check_for_ngram_match(ngram_number,string,input_dictionary):\n",
    "\n",
    "    found_ngram = False\n",
    "\n",
    "    value = 0\n",
    "    title = ' '.join(sorted(string.split()))\n",
    "    \n",
    "    ngrams_list = []\n",
    "    \n",
    "    for possible_ngram in list(combinations(string.split(), ngram_number)):\n",
    "        possible_ngram = ' '.join(sorted(possible_ngram))\n",
    "        if possible_ngram in input_dictionary:\n",
    "            if input_dictionary[possible_ngram] > value:\n",
    "                value = input_dictionary[possible_ngram]\n",
    "                title = possible_ngram\n",
    "                found_ngram = True\n",
    "    \n",
    "    return title, found_ngram\n",
    "\n",
    "    \n",
    "def convert_ngrams(list_of_jobs):\n",
    "    new_job_titles = []\n",
    "    for line in list_of_jobs:\n",
    "        new_title = line\n",
    "            \n",
    "        new_title, found_trigram = check_for_ngram_match(3,line,trigram_dict)\n",
    "            \n",
    "        if not found_trigram:\n",
    "                \n",
    "            new_title, found_bigram = check_for_ngram_match(2,line,bigram_dict)\n",
    "\n",
    "        new_job_titles.append(new_title)\n",
    "\n",
    "    return new_job_titles"
   ]
  },
  {
   "cell_type": "code",
   "execution_count": null,
   "metadata": {},
   "outputs": [],
   "source": [
    "new_job_titles = convert_ngrams(cleaned_jobs)"
   ]
  },
  {
   "cell_type": "code",
   "execution_count": 18,
   "metadata": {},
   "outputs": [],
   "source": [
    "counter_job_titles = Counter(new_job_titles)\n",
    "with open('indeed_cleaned_jobs.csv','w') as csvfile:\n",
    "    fieldnames=['title','count']\n",
    "    writer=csv.writer(csvfile)\n",
    "    writer.writerow(fieldnames)\n",
    "    for key, value in counter_job_titles.items():\n",
    "        writer.writerow([key, value]) "
   ]
  },
  {
   "cell_type": "code",
   "execution_count": 19,
   "metadata": {},
   "outputs": [],
   "source": [
    "pd.DataFrame(list(zip(new_job_titles,new_experience_level_list,jobs_list))).to_csv(\"final_jobs.csv\")"
   ]
  },
  {
   "cell_type": "code",
   "execution_count": 20,
   "metadata": {},
   "outputs": [],
   "source": [
    "indeed_data['converted_job_title'] = new_job_titles\n",
    "indeed_data['converted_experience_level'] = new_experience_level_list"
   ]
  },
  {
   "cell_type": "code",
   "execution_count": 22,
   "metadata": {},
   "outputs": [],
   "source": [
    "indeed_data.to_csv('converted_indeed_job_postings.csv')"
   ]
  },
  {
   "cell_type": "markdown",
   "metadata": {},
   "source": [
    "# Indeed Resumes"
   ]
  },
  {
   "cell_type": "code",
   "execution_count": 6,
   "metadata": {},
   "outputs": [],
   "source": [
    "resume_csv = '/Users/kwheatley/Desktop/Capstone/gcloud_data/resumes%2Fprocessed_resumes_work.csv'\n",
    "resume_data = pd.read_csv(resume_csv, header=None)\n",
    "resume_data.columns = ['city','resume_id','container','role','company','location','dates','descript']"
   ]
  },
  {
   "cell_type": "code",
   "execution_count": 16,
   "metadata": {},
   "outputs": [],
   "source": [
    "resume_data = resume_data[~resume_data.role.isnull()]"
   ]
  },
  {
   "cell_type": "code",
   "execution_count": 32,
   "metadata": {},
   "outputs": [],
   "source": [
    "resume_data.role = resume_data.role.apply(lambda x: re.sub(r'\\W+', ' ', x).lower())\n",
    "resume_data.role = resume_data.role.apply(lambda x: re.sub(r'[0-9]+', '', x).strip())"
   ]
  },
  {
   "cell_type": "code",
   "execution_count": 53,
   "metadata": {},
   "outputs": [],
   "source": [
    "jobs_list = create_jobs_list(resume_data.role,'indeed_resumes') \n",
    "cleaned_jobs = transform_all_jobs(jobs_list)\n",
    "# pd.DataFrame(list(set(list(zip(cleaned_jobs,jobs_list))))).to_csv('comparison.csv')\n",
    "\n",
    "cleaned_jobs, new_experience_level_list = get_experience_level(cleaned_jobs)\n",
    "# pd.DataFrame(cleaned_jobs).to_csv(\"jobs_parsed.csv\")\n",
    "\n",
    "bigram_dict = get_ngrams(cleaned_jobs,2,1)\n",
    "trigram_dict = get_ngrams(cleaned_jobs,3,50)\n",
    "\n",
    "new_job_titles = convert_ngrams(cleaned_jobs)\n",
    "\n",
    "\n",
    "counter_job_titles = Counter(new_job_titles)\n",
    "with open('indeed_cleaned_jobs.csv','w') as csvfile:\n",
    "    fieldnames=['title','count']\n",
    "    writer=csv.writer(csvfile)\n",
    "    writer.writerow(fieldnames)\n",
    "    for key, value in counter_job_titles.items():\n",
    "        writer.writerow([key, value]) \n",
    "\n",
    "pd.DataFrame(list(zip(new_job_titles,new_experience_level_list,jobs_list))).to_csv(\"final_jobs.csv\")"
   ]
  },
  {
   "cell_type": "code",
   "execution_count": 54,
   "metadata": {},
   "outputs": [],
   "source": [
    "resume_data['converted_job_title'] = new_job_titles\n",
    "resume_data['converted_experience_level'] = new_experience_level_list"
   ]
  },
  {
   "cell_type": "code",
   "execution_count": 55,
   "metadata": {},
   "outputs": [],
   "source": [
    "resume_data.to_csv('converted_indeed_job_resumes.csv')"
   ]
  },
  {
   "cell_type": "code",
   "execution_count": 56,
   "metadata": {},
   "outputs": [
    {
     "data": {
      "text/html": [
       "<div>\n",
       "<style>\n",
       "    .dataframe thead tr:only-child th {\n",
       "        text-align: right;\n",
       "    }\n",
       "\n",
       "    .dataframe thead th {\n",
       "        text-align: left;\n",
       "    }\n",
       "\n",
       "    .dataframe tbody tr th {\n",
       "        vertical-align: top;\n",
       "    }\n",
       "</style>\n",
       "<table border=\"1\" class=\"dataframe\">\n",
       "  <thead>\n",
       "    <tr style=\"text-align: right;\">\n",
       "      <th></th>\n",
       "      <th>city</th>\n",
       "      <th>resume_id</th>\n",
       "      <th>container</th>\n",
       "      <th>role</th>\n",
       "      <th>company</th>\n",
       "      <th>location</th>\n",
       "      <th>dates</th>\n",
       "      <th>descript</th>\n",
       "      <th>converted_job_title</th>\n",
       "      <th>converted_experience_level</th>\n",
       "    </tr>\n",
       "  </thead>\n",
       "  <tbody>\n",
       "    <tr>\n",
       "      <th>0</th>\n",
       "      <td>atlanta</td>\n",
       "      <td>0004d469fc497102</td>\n",
       "      <td>work-experience-items</td>\n",
       "      <td>senior informix database administrator</td>\n",
       "      <td>Breckinridge Insurance</td>\n",
       "      <td>Kennesaw, GA</td>\n",
       "      <td>July 2017 to Present</td>\n",
       "      <td>.Informix DBA for Breckinridge Insurance appli...</td>\n",
       "      <td>administrator database</td>\n",
       "      <td>[senior]</td>\n",
       "    </tr>\n",
       "    <tr>\n",
       "      <th>1</th>\n",
       "      <td>atlanta</td>\n",
       "      <td>0004d469fc497102</td>\n",
       "      <td>work-experience-items</td>\n",
       "      <td>senior informix dba database administrator</td>\n",
       "      <td>INTERCALL Inc</td>\n",
       "      <td>NaN</td>\n",
       "      <td>January 2007 to June 2017</td>\n",
       "      <td>.Informix Database Administor for InterCall's ...</td>\n",
       "      <td>administrator database dba</td>\n",
       "      <td>[senior]</td>\n",
       "    </tr>\n",
       "    <tr>\n",
       "      <th>2</th>\n",
       "      <td>atlanta</td>\n",
       "      <td>0004d469fc497102</td>\n",
       "      <td>work-experience-items</td>\n",
       "      <td>oracle informix dba database administrator</td>\n",
       "      <td>Accenture/Bellsouth Telecommuncations Inc</td>\n",
       "      <td>NaN</td>\n",
       "      <td>March 2004 to December 2007</td>\n",
       "      <td>.Oracle Database for OPEDS production support....</td>\n",
       "      <td>administrator database oracle</td>\n",
       "      <td>[]</td>\n",
       "    </tr>\n",
       "    <tr>\n",
       "      <th>3</th>\n",
       "      <td>atlanta</td>\n",
       "      <td>0004d469fc497102</td>\n",
       "      <td>work-experience-items</td>\n",
       "      <td>peoplesoft hrms oracle dba database administrator</td>\n",
       "      <td>ACENTRON/Michelin Inc</td>\n",
       "      <td>NaN</td>\n",
       "      <td>March 2003 to February 2004</td>\n",
       "      <td>.Responsible for Migrating objects and Project...</td>\n",
       "      <td>administrator database oracle</td>\n",
       "      <td>[]</td>\n",
       "    </tr>\n",
       "    <tr>\n",
       "      <th>4</th>\n",
       "      <td>atlanta</td>\n",
       "      <td>0004d469fc497102</td>\n",
       "      <td>work-experience-items</td>\n",
       "      <td>informix oracle database administrator</td>\n",
       "      <td>BellSouth Telecommunications INC</td>\n",
       "      <td>NaN</td>\n",
       "      <td>November 1998 to January 2003</td>\n",
       "      <td>.Worked on various projects for BellSouth. Wor...</td>\n",
       "      <td>administrator database oracle</td>\n",
       "      <td>[]</td>\n",
       "    </tr>\n",
       "  </tbody>\n",
       "</table>\n",
       "</div>"
      ],
      "text/plain": [
       "      city         resume_id              container  \\\n",
       "0  atlanta  0004d469fc497102  work-experience-items   \n",
       "1  atlanta  0004d469fc497102  work-experience-items   \n",
       "2  atlanta  0004d469fc497102  work-experience-items   \n",
       "3  atlanta  0004d469fc497102  work-experience-items   \n",
       "4  atlanta  0004d469fc497102  work-experience-items   \n",
       "\n",
       "                                                role  \\\n",
       "0             senior informix database administrator   \n",
       "1         senior informix dba database administrator   \n",
       "2         oracle informix dba database administrator   \n",
       "3  peoplesoft hrms oracle dba database administrator   \n",
       "4             informix oracle database administrator   \n",
       "\n",
       "                                     company      location  \\\n",
       "0                     Breckinridge Insurance  Kennesaw, GA   \n",
       "1                              INTERCALL Inc           NaN   \n",
       "2  Accenture/Bellsouth Telecommuncations Inc           NaN   \n",
       "3                      ACENTRON/Michelin Inc           NaN   \n",
       "4           BellSouth Telecommunications INC           NaN   \n",
       "\n",
       "                           dates  \\\n",
       "0           July 2017 to Present   \n",
       "1      January 2007 to June 2017   \n",
       "2    March 2004 to December 2007   \n",
       "3    March 2003 to February 2004   \n",
       "4  November 1998 to January 2003   \n",
       "\n",
       "                                            descript  \\\n",
       "0  .Informix DBA for Breckinridge Insurance appli...   \n",
       "1  .Informix Database Administor for InterCall's ...   \n",
       "2  .Oracle Database for OPEDS production support....   \n",
       "3  .Responsible for Migrating objects and Project...   \n",
       "4  .Worked on various projects for BellSouth. Wor...   \n",
       "\n",
       "             converted_job_title converted_experience_level  \n",
       "0         administrator database                   [senior]  \n",
       "1     administrator database dba                   [senior]  \n",
       "2  administrator database oracle                         []  \n",
       "3  administrator database oracle                         []  \n",
       "4  administrator database oracle                         []  "
      ]
     },
     "execution_count": 56,
     "metadata": {},
     "output_type": "execute_result"
    }
   ],
   "source": [
    "resume_data.head()"
   ]
  },
  {
   "cell_type": "code",
   "execution_count": 99,
   "metadata": {},
   "outputs": [],
   "source": [
    "# pt_doc = nlp(u\"presidents aws\")\n",
    "\n",
    "# for token in pt_doc:\n",
    "#     print(token)\n",
    "\n",
    "# for token in pt_doc:\n",
    "#     print(token.text, token.lemma_, token.pos_, token.tag_, token.dep_,\n",
    "#           token.shape_, token.is_alpha, token.is_stop)\n",
    "#     print()"
   ]
  },
  {
   "cell_type": "code",
   "execution_count": 88,
   "metadata": {},
   "outputs": [
    {
     "data": {
      "image/png": "[encoded data removed]",
      "text/plain": [
       "<matplotlib.figure.Figure at 0x134604eb8>"
      ]
     },
     "metadata": {},
     "output_type": "display_data"
    }
   ],
   "source": [
    "# Histogram of word count\n",
    "hist_data = [value for key,value in counts.items()]\n",
    "plt.hist(hist_data,bins=100,range=(1,100))\n",
    "plt.show()"
   ]
  },
  {
   "cell_type": "code",
   "execution_count": 91,
   "metadata": {},
   "outputs": [],
   "source": [
    "# indeed_data['principle'.isin(indeed_data.title)]\n",
    "# indeed_data[indeed_data['title'].str.contains(\"principle\")].title.unique()"
   ]
  },
  {
   "cell_type": "code",
   "execution_count": 65,
   "metadata": {},
   "outputs": [],
   "source": [
    "data = list(zip(experience_list, title_list,jobs_list))"
   ]
  },
  {
   "cell_type": "code",
   "execution_count": 98,
   "metadata": {},
   "outputs": [
    {
     "name": "stdout",
     "output_type": "stream",
     "text": [
      "2017-12-01 14:57:15\n",
      "2018-03-31 13:46:20\n"
     ]
    },
    {
     "data": {
      "image/png": "[encoded data removed]",
      "text/plain": [
       "<matplotlib.figure.Figure at 0x10829ada0>"
      ]
     },
     "metadata": {},
     "output_type": "display_data"
    }
   ],
   "source": [
    "print(indeed_data.created_date.min())\n",
    "print(indeed_data.created_date.max())\n",
    "hist_data = indeed_data.created_date.apply(lambda x: x.month)\n",
    "plt.hist(hist_data, bins = 11)\n",
    "plt.show()"
   ]
  },
  {
   "cell_type": "code",
   "execution_count": 167,
   "metadata": {
    "scrolled": false
   },
   "outputs": [
    {
     "name": "stdout",
     "output_type": "stream",
     "text": [
      "accounting manager\n",
      "We have an Accounting Manager opening with our client, a growing software start-up company. This is highly innovative company that offers a great company culture with a flexible work environment. Job Description: Reporting to the Controller, the accounting manager will be responsible for international entities (UK, Australia, New Zealand, Philippine, Malaysia, UAE, Singapore, Hong Kong, Spain, Ireland and Japan) and oversight of core accounting functions including: 1) monthly and annual accounting close and reporting for overseas entities, 2) overseas statutory audit and compliance filings, and 3) overseas entity payroll, 3rd party vendor invoice and employee expense payment and reporting process. Additional responsibilities may include supporting worldwide consolidations and eliminations, key management reporting packages, and ad-hoc projects. The successful candidate will ensure that the books are closed in a timely and accurate way each month and will help drive key improvements to the company’s internal processes. Ad-hoc projects will include implementation of a new ERP system, technical accounting research, developing and updating accounting procedures and policies to streamline and improve finance infrastructure. The candidate must have strong organization and communication skills, be a strategic thinker and have the ability and potential to build/lead a team of professionals. The finance team values a strong team player-coach who enjoys working in a collaborative environment. Key business partners include the outsourced payroll and compliance service provider based in the UK, legal and human resources, and the CFO. Responsibilities:   Lead accurate and timely international monthly close to ensure compliance with Generally Accepted Accounting Principles (GAAP) and local statutory requirements  Coordinate monthly/quarterly close process with US Senior Accountant through monitoring close schedule and deliverables  Prepare and support monthly WW close package and management budget vs. actual reporting package  Work closely with outsourced service provider to ensure accuracy, timeliness and compliance of monthly employee payroll process for overseas entities  Manage and lead overseas statutory audit and compliance to ensure all filings are complete, accurate and filed timely  Review overseas employee expense reports for accuracy to ensure compliance with company travel and entertainment policy, and manage timely payment process for 3rd party vendors and employee expense reports  Ensure monthly accuracy of international transfer pricing calculation in accordance to intercompany service agreement and timely settlement of intercompany invoices  Drive business process improvements and initiatives; brings best practice to accounting function such as creating and updating corporate accounting policy/methodology & desktop procedure.  Make interpretations of accounting guidance and facilitates technical accounting memos that analyze and conclude on accounting issues Requirements:  7-10 years professional experience in public/private accounting, CPA preferred  Strong experience and knowledge in U.S. GAAP  Strong experience with major ERP system such as QuickBooks, NetSuite, Intaact, Oracle or SAP  Bachelor’s degree in Accounting or Finance  Excellent communication, organization, and interpersonal skills; ability to influence outcomes  Confidence, good judgment, energy and personality to work in a dynamic environment across all levels of management and across functions and geographies  Experience managing global, large scale processes  Our Firm: Murdock Martell, Inc. is a leading financial consulting and recruiting firm that provides solutions to established and emerging growth companies. We represent some of the strongest companies in the Bay Area with an emphasis in technology and life sciences start-ups. Murdock Martell -  12 hours ago\n",
      "[('10', 'years')]\n",
      "\n"
     ]
    }
   ],
   "source": [
    "for i, row in indeed_data.head(1).iterrows():\n",
    "    print(row.title)\n",
    "    print(row.summary_text)    \n",
    "    matches = re.findall(\"(\\d+).? (years|yrs)\", row.summary_text)\n",
    "    print(matches)\n",
    "    print()"
   ]
  },
  {
   "cell_type": "code",
   "execution_count": null,
   "metadata": {},
   "outputs": [],
   "source": []
  }
 ],
 "metadata": {
  "anaconda-cloud": {},
  "kernelspec": {
   "display_name": "Python [conda env:python36]",
   "language": "python",
   "name": "conda-env-python36-py"
  },
  "language_info": {
   "codemirror_mode": {
    "name": "ipython",
    "version": 3
   },
   "file_extension": ".py",
   "mimetype": "text/x-python",
   "name": "python",
   "nbconvert_exporter": "python",
   "pygments_lexer": "ipython3",
   "version": "3.6.1"
  }
 },
 "nbformat": 4,
 "nbformat_minor": 2
}
