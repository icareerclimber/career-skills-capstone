{
 "cells": [
  {
   "cell_type": "code",
   "execution_count": 1,
   "metadata": {},
   "outputs": [],
   "source": [
    "import os\n",
    "import google.cloud.storage\n",
    "import pandas as pd\n",
    "import matplotlib.pyplot as plt\n",
    "from datetime import date, datetime, timedelta\n",
    "import re\n",
    "from collections import Counter\n",
    "import csv\n",
    "from nltk.tokenize import TweetTokenizer\n",
    "import spacy\n",
    "import datetime\n",
    "\n",
    "# Download spacy\n",
    "# python -m spacy download en_core_web_lg"
   ]
  },
  {
   "cell_type": "code",
   "execution_count": 4,
   "metadata": {},
   "outputs": [],
   "source": [
    "ccars_csv = '/Users/kwheatley/Desktop/Capstone/gcloud_data/job_postings%2Fvirginia_job_posts.csv'\n",
    "ccars_data = pd.read_csv(ccars_csv)"
   ]
  },
  {
   "cell_type": "code",
   "execution_count": 30,
   "metadata": {},
   "outputs": [],
   "source": [
    "# Remove all job postings with null job title\n",
    "ccars_data = ccars_data[~ccars_data.title.isnull()]\n",
    "\n",
    "# Clean non words from job titles and lowercase\n",
    "ccars_data.title = ccars_data.title.apply(lambda x: re.sub(r'\\W+', ' ', x).lower())\n",
    "ccars_data.title = ccars_data.title.apply(lambda x: re.sub(r'[0-9]+', '', x).strip())\n",
    "\n",
    "ccars_data.head(1)"
   ]
  },
  {
   "cell_type": "code",
   "execution_count": 33,
   "metadata": {},
   "outputs": [],
   "source": [
    "word_list = [] # List of all the words used\n",
    "jobs_list = [] # All job titles split into tokens\n",
    "\n",
    "for job_title in virginia_data.title:\n",
    "    [word_list.append(x) for x in job_title.split()]\n",
    "    jobs_list.append(job_title)\n",
    "\n",
    "counts = Counter(word_list)\n",
    "\n",
    "with open('ccars_dict.csv', 'w') as csv_file:\n",
    "    writer = csv.writer(csv_file)\n",
    "    for key, value in counts.items():\n",
    "       writer.writerow([key, value])"
   ]
  },
  {
   "cell_type": "code",
   "execution_count": 40,
   "metadata": {},
   "outputs": [],
   "source": [
    "# Get a list of the words to be removed\n",
    "# We are going to eliminate all words with less than a certain number of occurrences\n",
    "most_common_words = 300\n",
    "\n",
    "# Words identified as needed to be retained but under the cutoff\n",
    "words_to_keep =['internship', 'vice', 'president', 'ceo', 'cto', 'clo', 'cio', 'cfo', 'coo','vi',\n",
    "                'vii','viii','viiv','vp','scrum','master','logistics','sales','data','extern','externship']\n",
    "\n",
    "# Stop words will be removed from job titles\n",
    "stop_words = ['ourselves', 'hers', 'between', 'yourself', 'but', 'again', 'there', 'about', \n",
    "              'once', 'during', 'out', 'very', 'having', 'with', 'they', 'own', 'an', 'be', \n",
    "              'some', 'for', 'do', 'its', 'yours', 'such', 'into', 'of', 'most', 'itself', \n",
    "              'other', 'off', 'is', 's', 'am', 'or', 'who', 'as', 'from', 'him', 'each', 'the', \n",
    "              'themselves', 'until', 'below', 'are', 'we', 'these', 'your', 'his', 'through', \n",
    "              'don', 'nor', 'me', 'were', 'her', 'more', 'himself', 'this', 'down', 'should', \n",
    "              'our', 'their', 'while', 'above', 'both', 'up', 'to', 'ours', 'had', 'she', 'all', \n",
    "              'no', 'when', 'at', 'any', 'before', 'them', 'same', 'and', 'been', 'have', 'in', \n",
    "              'will', 'on', 'does', 'yourselves', 'then', 'that', 'because', 'what', 'over', \n",
    "              'why', 'so', 'can', 'did', 'not', 'now', 'under', 'he', 'you', 'herself', 'has', \n",
    "              'just', 'where', 'too', 'only', 'myself', 'which', 'those', 'i', 'after', 'few', \n",
    "              'whom', 't', 'being', 'if', 'theirs', 'my', 'against', 'a', 'by', 'doing', 'it', \n",
    "              'how', 'further', 'was', 'here', 'than']"
   ]
  },
  {
   "cell_type": "code",
   "execution_count": 41,
   "metadata": {},
   "outputs": [],
   "source": [
    "# This is a dictionary for all the available words in a job title\n",
    "# Currently, we are only looking at the x most common words\n",
    "WORDS = dict(counts.most_common(most_common_words))\n",
    "\n",
    "# We have removed all stop words from the list\n",
    "for word in stop_words:\n",
    "    if word in WORDS:\n",
    "        del WORDS[word]\n",
    "\n",
    "# We have added back in a list of specific words\n",
    "for word in words_to_keep:\n",
    "    WORDS[word] = 400"
   ]
  },
  {
   "cell_type": "code",
   "execution_count": 50,
   "metadata": {},
   "outputs": [],
   "source": [
    "# Get list of all words to test for misspelling\n",
    "all_words = set(word_list)\n",
    "\n",
    "[all_words.remove(word) for word in WORDS if word in all_words]\n",
    "\n",
    "words_to_remove = []\n",
    "for word in all_words:\n",
    "    if len(word) < 6:\n",
    "        words_to_remove.append(word)\n",
    "        \n",
    "for word in words_to_remove:\n",
    "    all_words.remove(word)"
   ]
  },
  {
   "cell_type": "code",
   "execution_count": 51,
   "metadata": {},
   "outputs": [],
   "source": [
    "# This code returns the list of misspellings\n",
    "def words(text): return re.findall(r'\\w+', text.lower())\n",
    "\n",
    "def P(word, N=sum(WORDS.values())): \n",
    "    \"Probability of `word`.\"\n",
    "    if word in WORDS.keys():\n",
    "        return WORDS[word] / N\n",
    "    else:\n",
    "        return .0001\n",
    "\n",
    "def corrections(word): \n",
    "    \"Most probable spelling correction for word.\"\n",
    "    return max(candidates(word), key=P)\n",
    "\n",
    "def candidates(word): \n",
    "    \"Generate possible spelling corrections for word.\"\n",
    "    return (known([word]) or known(edits1(word)) or known(edits2(word)) or [word])\n",
    "\n",
    "def known(words): \n",
    "    \"The subset of `words` that appear in the dictionary of WORDS.\"\n",
    "    return set(w for w in words if w in WORDS)\n",
    "\n",
    "def edits1(word):\n",
    "    \"All edits that are one edit away from `word`.\"\n",
    "    letters    = 'abcdefghijklmnopqrstuvwxyz'\n",
    "    splits     = [(word[:i], word[i:])    for i in range(len(word) + 1)]\n",
    "    deletes    = [L + R[1:]               for L, R in splits if R]\n",
    "    transposes = [L + R[1] + R[0] + R[2:] for L, R in splits if len(R)>1]\n",
    "    replaces   = [L + c + R[1:]           for L, R in splits if R for c in letters]\n",
    "    inserts    = [L + c + R               for L, R in splits for c in letters]\n",
    "    return set(deletes + transposes + replaces + inserts)\n",
    "\n",
    "def edits2(word): \n",
    "    \"All edits that are two edits away from `word`.\"\n",
    "    return (e2 for e1 in edits1(word) for e2 in edits1(e1))"
   ]
  },
  {
   "cell_type": "code",
   "execution_count": 53,
   "metadata": {},
   "outputs": [
    {
     "name": "stdout",
     "output_type": "stream",
     "text": [
      "2018-06-16 11:46:10.103515\n",
      "2018-06-16 12:12:12.176593\n"
     ]
    }
   ],
   "source": [
    "print(datetime.datetime.now())\n",
    "\n",
    "misspellings = []\n",
    "correction = []\n",
    "for word in all_words:\n",
    "    corrected_word = corrections(word)\n",
    "    if corrected_word != word:\n",
    "        misspellings.append(word)\n",
    "        correction.append(corrected_word)\n",
    "\n",
    "dict_misspellings = list(zip(misspellings,correction))\n",
    "pd.DataFrame(dict_misspellings).to_csv(\"ccars_misspellings_list.csv\")\n",
    "print(datetime.datetime.now())"
   ]
  },
  {
   "cell_type": "code",
   "execution_count": null,
   "metadata": {},
   "outputs": [],
   "source": []
  }
 ],
 "metadata": {
  "kernelspec": {
   "display_name": "Python [conda env:python36]",
   "language": "python",
   "name": "conda-env-python36-py"
  },
  "language_info": {
   "codemirror_mode": {
    "name": "ipython",
    "version": 3
   },
   "file_extension": ".py",
   "mimetype": "text/x-python",
   "name": "python",
   "nbconvert_exporter": "python",
   "pygments_lexer": "ipython3",
   "version": "3.6.1"
  }
 },
 "nbformat": 4,
 "nbformat_minor": 2
}
