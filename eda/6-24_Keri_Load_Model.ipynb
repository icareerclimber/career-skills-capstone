{
 "cells": [
  {
   "cell_type": "code",
   "execution_count": 33,
   "metadata": {},
   "outputs": [],
   "source": [
    "import datetime\n",
    "import pickle\n",
    "from gensim.models import Doc2Vec"
   ]
  },
  {
   "cell_type": "code",
   "execution_count": 34,
   "metadata": {},
   "outputs": [],
   "source": [
    "traindocs = pickle.load(open('traindocs', 'rb'))"
   ]
  },
  {
   "cell_type": "code",
   "execution_count": 260,
   "metadata": {},
   "outputs": [],
   "source": [
    "modelname = \"models/\" + \\\n",
    "'20180625114755675134_model.doc2vec'\n",
    "# '20180625111817959062_model.doc2vec'\n",
    "# '20180623203108904607_model.doc2vec' # returns actual similar\n",
    "# '20180623202751801350_model.doc2vec' # best\n",
    "# '20180623215617438303_model.doc2vec' # bad\n",
    "# '20180624024907328966_model.doc2vec' # bad\n",
    "# '20180624113815370585_model.doc2vec' # bad\n",
    "# '20180624210441666250_model.doc2vec' # bad\n",
    "# '20180624220452218506_model.doc2vec' # bad\n",
    "# '20180625095718795750_model.doc2vec'\n",
    "\n",
    "model = Doc2Vec.load(modelname)"
   ]
  },
  {
   "cell_type": "code",
   "execution_count": 261,
   "metadata": {},
   "outputs": [
    {
     "data": {
      "text/plain": [
       "1200000"
      ]
     },
     "execution_count": 261,
     "metadata": {},
     "output_type": "execute_result"
    }
   ],
   "source": [
    "len(model.docvecs)"
   ]
  },
  {
   "cell_type": "code",
   "execution_count": 262,
   "metadata": {},
   "outputs": [],
   "source": [
    "def find_most_similar(doc_id):\n",
    "    if isinstance(doc_id, int):\n",
    "        print(doc_id, 'seed_doc', ' '.join(traindocs[doc_id].words))\n",
    "    else:\n",
    "        print(doc_id)\n",
    "    print()\n",
    "        \n",
    "    examples = model.docvecs.most_similar(doc_id)\n",
    "    for example in examples:\n",
    "        index = example[0]\n",
    "        percent = example[1]\n",
    "        text = ' '.join(traindocs[index].words)\n",
    "        print(index, percent, text)\n",
    "        print()"
   ]
  },
  {
   "cell_type": "code",
   "execution_count": 268,
   "metadata": {
    "scrolled": false
   },
   "outputs": [
    {
     "name": "stdout",
     "output_type": "stream",
     "text": [
      "20100 seed_doc project manager business analyst led member production support team project initiation planning requirement gathering build test change management phase farmer insurance reducing effort slippage kpi designed implemented automated build deployment solution devops using open source software called db deploy time cost estimation tool adopted organizational process asset redesigned induction program farmer mentored direct report reducing project onboarding time\n",
      "\n",
      "36777 0.7880547642707825 project manager business analyst led member production support team project initiation planning requirement gathering build test change management phase farmer insurance reducing effort slippage kpi designed implemented automated build deployment solution devops using open source software called db deploy time cost estimation tool adopted organizational process asset redesigned induction program farmer account mentored junior resource thus reducing project onboarding time week building capability house effective project delivery\n",
      "\n",
      "339945 0.7082772850990295 senior programmer analyst senior team member guided phase project life cycle led mentored fidelity project team member\n",
      "\n",
      "266958 0.6943579316139221 producer director editor film project producer director please see http vimeopro comjennlindsayportfolio\n",
      "\n",
      "236569 0.6924188137054443 associate scientist research small molecule therapy oncology immunology inflammation project\n",
      "\n",
      "87486 0.6923210620880127 carpenter gained experience working addition home remodeling framing interior exterior trim cabinet siding project\n",
      "\n",
      "1074936 0.6893066167831421 software test engineer project\n",
      "\n",
      "1029767 0.6854372620582581 preschool teacher infant toddler preschool classroom consulting\n",
      "\n",
      "914835 0.6833763718605042 adjunct professor english course\n",
      "\n",
      "645837 0.682737410068512 line cook bar back cooking washing dish cleaning kitchen prep next shift serve food stock bar clean bar serve drink needed change keg\n",
      "\n",
      "642515 0.6827254891395569 construction carpenter sw th street miami fl glperez gmail com\n",
      "\n"
     ]
    }
   ],
   "source": [
    "find_most_similar(20100)"
   ]
  },
  {
   "cell_type": "code",
   "execution_count": 266,
   "metadata": {},
   "outputs": [],
   "source": [
    "infered_vector = model.infer_vector(\n",
    "    'senior informix dba database administrator informix database administor intercall reservation \\\n",
    "    collection ds production enviornments provided technical leadership dba runing informix v fc aix \\\n",
    "    upgraded v depth diagnostic review current database tuning value determine area improvement optimize \\\n",
    "    configured hdr high data replicaton informix database maximum scalability performance terabyte db develop \\\n",
    "    test deploy database backup restore procedure hdr replication setup environment provide connectivity using \\\n",
    "    ibm connection manager provide x day call coverage maintaining supporting iicp database er replilcation \\\n",
    "    configured hp loader using gui onpladm create load job table million row setup connection manager using \\\n",
    "    v dr r instance includes database design performance tuning indexing amp amp sql tuning logical physical \\\n",
    "    design backup strategy also implemented backup recovery strategy using onbar tivoli storage manager \\\n",
    "    database oracle dba responsible backup recovery test environment developer using g secondary support \\\n",
    "    primary oracle dba'\n",
    "\n",
    "#     'senior product manager managed product roadmap enterprise wide healthcare information software \\\n",
    "#     system included mobile application physician order entry order management clinical management pharmacy \\\n",
    "#     laboratory radiology application managed product strategy direction web application increase new software \\\n",
    "#     revenue company implemented software project release plan reduced release cycle time month month managed \\\n",
    "#     multi functional team achieve time delivery software application three year period implemented use \\\n",
    "#     functional technical design template ensure compliance capability maturity model integration cmmi company \\\n",
    "#     standard amp amp technology initiative' \n",
    "    \n",
    "#     'web application developer designed coded interactive ui html cs javascript took advantage mysql database \\\n",
    "#     store manipulate app data sql query leveraged php ajax call make application fast robust'\n",
    ")\n"
   ]
  },
  {
   "cell_type": "code",
   "execution_count": 267,
   "metadata": {
    "scrolled": false
   },
   "outputs": [
    {
     "name": "stdout",
     "output_type": "stream",
     "text": [
      "[array([ 0.42825729,  0.84582049,  1.32781541, -0.96349412,  0.66816747,\n",
      "       -0.1942111 ,  0.45471326, -0.52943879,  1.64389265,  1.93194461,\n",
      "       -1.13284278, -0.11675049,  2.13660955, -0.41331735,  0.34907851,\n",
      "       -1.67767942, -1.23947895,  1.16906667,  0.20026866, -0.33879283,\n",
      "       -0.93600577, -0.73397034,  1.24545467,  0.05103303,  0.62462169,\n",
      "       -0.77725738, -0.16523394, -0.44052047,  0.68080646, -1.30880451,\n",
      "        0.9392156 , -0.54996485,  3.26284122,  0.37726992,  1.28894424,\n",
      "        1.40407085, -0.32129806, -1.03276134,  0.60557324, -2.69320035,\n",
      "        2.62632585,  0.87964374,  0.84869534, -1.84043181, -0.39439833,\n",
      "        1.1395191 , -1.21206784, -0.78737998,  1.16596901, -0.69282055,\n",
      "        1.59949148, -0.05566947, -0.18103331, -0.35729513, -0.17539208,\n",
      "       -0.19961204, -1.24166918, -0.80424857, -1.7304064 ,  0.74244893,\n",
      "        1.09514582, -1.58073997,  0.85665584,  0.90601969, -0.21994402,\n",
      "        0.23159172,  0.96995217,  0.78427625,  1.12620091,  1.67500627,\n",
      "        0.03448942, -0.01970256, -0.01343325, -0.55165297, -1.01967812,\n",
      "        0.09245221,  0.36112395,  0.03388536,  0.25651354, -1.28963625,\n",
      "       -2.05856919,  1.1151942 ,  1.02983654,  0.67151666,  1.5825516 ,\n",
      "        0.3164109 , -0.41989297, -1.8001889 ,  1.71260715, -0.82366633,\n",
      "       -1.32841802, -0.08840914, -0.085611  , -0.25271025, -1.67028713,\n",
      "        1.33782887, -0.72544658, -0.49800393,  0.90806103,  1.93189681,\n",
      "        2.54723287, -1.86705709,  0.94704974,  0.0516789 , -1.04035139,\n",
      "       -0.81946832,  0.49195701, -0.14421941, -0.29487184, -0.14936768,\n",
      "        2.34837413,  0.57304019, -0.74226087, -0.3331345 ,  0.71281636,\n",
      "        0.15926114,  0.4596175 , -0.70371455,  0.42523587, -0.33492112,\n",
      "       -0.08885798, -1.22399008, -1.46332157, -1.39807773, -1.7286129 ,\n",
      "        0.72489011,  0.09635011, -0.81815773,  0.29895595,  1.06346464,\n",
      "        0.27948484, -0.62072259,  0.99725026, -1.20228207, -0.96501487,\n",
      "        1.05542302,  0.24376793,  1.50257313,  1.21855259,  0.06036068,\n",
      "        0.07035492, -1.14443934, -0.6613996 ,  0.02290661,  1.55970597,\n",
      "       -0.44471708,  0.18104246,  0.93710041, -0.96928984,  0.8449918 ,\n",
      "        0.76016694, -0.20819615,  1.29638314, -2.17612052, -1.05627131,\n",
      "        0.70246726,  0.4497745 , -0.85667384, -1.90718007,  0.81724942,\n",
      "       -0.05027749,  0.43385434,  1.04628527,  0.9723919 ,  0.71443027,\n",
      "        0.41743165, -0.98672605,  0.18342476, -0.00430851,  0.68205982,\n",
      "        0.77506524,  2.74602818,  0.08693264, -0.1125818 , -0.43146428,\n",
      "       -0.13427344, -0.14525393,  0.85640073, -1.84229052,  0.43052036,\n",
      "        1.17371273,  2.1407516 ,  0.60089016, -3.43286848,  0.75100464,\n",
      "       -0.46518204, -0.7804181 , -0.04169694, -0.47396633, -1.21934783,\n",
      "        1.2500298 , -0.32010585,  0.06376719,  0.32323495,  0.32001185,\n",
      "       -0.79482603,  0.03582643, -0.61288339,  0.9646064 , -2.09563303,\n",
      "       -0.09755975,  0.56409806, -1.66803277, -0.69946206, -1.32943237,\n",
      "        0.30469245, -0.72984761, -0.91389817, -1.36440337, -0.34810385,\n",
      "       -0.71481442,  0.23201473,  0.99954706,  0.09482121,  1.65930021,\n",
      "        2.58913326, -1.86998618, -0.1465302 ,  0.16606465,  2.17738676,\n",
      "       -0.78085929,  1.47679186,  0.14298753,  0.60943592, -1.43135977,\n",
      "        1.69738829, -0.22466105, -0.35850835, -0.0416467 , -1.02431834,\n",
      "       -1.50749302,  0.62058014, -0.56804651, -1.18480742,  1.03925169,\n",
      "        0.63292986, -0.60517192, -0.70340556,  2.16222882,  0.61025351,\n",
      "        0.00674987, -1.33872199, -1.29611528, -2.28108335,  0.04818307,\n",
      "        0.1571773 ,  0.82717597,  1.25846708, -0.19481562,  2.16867828,\n",
      "       -0.42662856,  0.24781929,  0.9647637 , -0.77565819, -0.03365921,\n",
      "        1.09276676,  0.23811913,  0.15164232,  1.54366386,  0.5539192 ,\n",
      "       -0.21952562,  1.42182183,  0.58977652,  0.69285315, -0.64668375,\n",
      "       -0.73656332,  1.65049243, -0.66226536, -1.75636625,  0.10674521,\n",
      "        0.61510098,  0.39802927,  0.1368116 ,  1.05431402, -0.25095978,\n",
      "       -1.77494073, -1.02187872, -0.21147491, -2.16175604, -1.38039184,\n",
      "       -0.09792618,  1.54481792,  0.44456729, -0.12365474, -0.45915249,\n",
      "       -0.68288314, -1.73605537, -0.98396337, -0.76680452,  1.90782452,\n",
      "        0.36375549,  1.17167091, -1.27574754,  0.37408209, -0.85678095,\n",
      "       -0.406602  , -0.54078132,  0.00700394, -0.64490682, -0.74399543], dtype=float32)]\n",
      "\n",
      "328411 0.4269988536834717 application architect health activate product development kolkata india thact v te cog z p oduct wh ch p ov de pe zed get p e e g geme se v ce fo p e u ch c c post u ch comme c zed b ded u b ded sce o th s sts ptetsdcegvesudestdg co med ctosdm g g ppo tme schedu e come w th emdesdotfctosegdg med c do g ppo tme tsspeptet p efe e ce yt c epo t b sed ect co ect body v th ough med c dev ce p omot g med c dhe e ce th ough gmfcto ew d segme ttoofptetsd dv se outto ctvtyd equ ed med c woedseyppcto ch tect fo th p oduct deve opme e g geme web b sed te f ce cobotow th othe mob e f st uctu e ch tects le ded te deve ope ze oc ted c os mu p e geog phcoctosd coo ted w th p oduct bus es ch tectu etemtodeveppcto dt secu ty f st uctu e ch tectu e de ved web b sed mp eme f mewo w th pp op te de g p tte deve opme mp eme p oduct web compo e t de g ed deve oped b sed web se v ce teg dev ce th ough l b sed tech cedwoedo teg w th othe b c e system e b e push otfctos teg towthcet uthe tcto use e eme system p ge technology stack j v j ee rhel p g f mewo p g vc je sey f mewo fo p g b tch jque l fe j r c e db h te c osoft v jboss u l ehc che vn je cube\n",
      "\n",
      "1149641 0.4133170545101166 software engineer o development\n",
      "\n",
      "223658 0.4090556204319 director operation exceed r fit bilit goal turn around underperforming unit nd driving increased r v nu nd rk h r champion tr ng focus n customer ti f ti n loyalty w v l employee relation tiv ti n n g nt v l nt nd tr ining qualification n tr high r th n average retention r n g people r ni r l turnover fr l year nd lead team f contract employee r united state l rt u n fr pre revenue k r v nu nth ab u l ti started agile methodology increase firm transparency accountability\n",
      "\n",
      "68439 0.40000951290130615 staff software engineer bangalore ibm india software lab bangalore jan dec staff software engineer development support bsdlite based tcp ipv stack ibm o worked team member later technical lead development support team ibm o tcp ip responsibility included providing o development release field support tcp ipv stack nfs lpr snmp mib routed development new bit kernel socket library o tcp ip stack v newer memory allocator performance enhancement socket interface efficient kernel stack utilization prevention failure smp system design development new ring based client nfsv ifs installable file system performance advantage previous user space based nfs client development soft link support nfs server v enhancement o tcp ip stack v supporting mobile ipv selective ack implementation o tcp ip v instrumental solving many critical customer problem\n",
      "\n",
      "328414 0.3947710394859314 technical lead yum brand corporate franchaise web apps kolkata india yum b d c u ted te b sed fo tu e co po yum ope te ce s co kfc p zz hut dwgt eet est u t wo dw de p p ge yum asoowedlog joh amp amp w rest u t ey object veofthsp oject w p ov de deve opewfucto e b sed bus es dem d g w th e b eme de eg ted dm st fo ffe e f ch see eve educe ope c de t epo ted f ch see co po te custome wo ed tech c te deve opme e te ze fo ew system equ eme t wo ed w th custome e ch tect de fy ope g bus es mode p oposed su b e de eg ted dm st mode b sed ib web phe e po access co u e thsdstcy educed pedgcdetso ope queue technology stack j v j ee ib web phe e po ih ib udb ib lotus web co te geme teg ted wthetep se coveo e ch ib vo ide tty ge dt vo access ge g w th webse\n",
      "\n",
      "903291 0.39373543858528137 administrator system application programmer analyst installed configured support administrate m nt v inter intranet www ftp e mail server migrated dasd k ramac installed m nt internet gateway mail server bridge working p disaster recovery continuous service configuration internet intranet oc webconnect web citrix installed configured supported linux slackware aix mac o x risc sybase installed configured supported administrate nextstep sql rexx novell saa w hostprint sna server rumba window o emulation lan wan window nt word exchange office backoffice developing business system application amp amp implementation migrated data center p vm vse sp cics e k vm vse esa cics maintained amp amp supported sdlc link iocp novell saa m sna server rje connection activity included feasibility study analysis design programming mainframe micro focus cobol oracle db sql c java consultation trouble shooting resolution customer support testing installation integrated financial software system also use visio system flow documentation responsibility payroll personnel general ledger account receivable payable jd edward win insurace inventory control velocity fixed asset vm vse system w db dbd psb report derived database delivered web perl cgi sql java\n",
      "\n",
      "316364 0.39289918541908264 program manager developed planned implemented advertised program people m family newly diagnosed patient provided information referral support patient diagnosed m family member acted liaison m support group eastern massachusetts participated development annual marketing plan developed led m training newly diagnosed patient health care provider topic m\n",
      "\n",
      "672685 0.39195743203163147 qa tester sc rd floor rm na letter jc penney plano tx july april responsibility involved business requirement analysis meeting worked test plan document zed vu design created traceab dy matrix interlink test r wrote manual po ba funca extensively u quality ce idplanning bug trac report ilspecific performance end user h compat various web browser like chrome firefox net explorer iny new software sale system po login look feel shopp cart order statui check f written sql querie p amp lt ed amp gt window xp unix java db acle ester msd st louis mo may review b es amp lt prepared presente power pe show demo team u e lhe scrum methodology detail strategiea ion ri ticketsyy w dmedium large si lex projec r hat h impact bm unit ope ensur achiev outcome dtechnical spec plan eo scree workfla assurance ng script f managed schedul provid heq g ed e q n withe aw multi table joi ocedur spot issue di code mi edi file intained drive build ver accepta uat u ah amp amp b l account pagm e holder non p xid customer alloa sel cross thusa enue along z purchase path rally ed one wallet android visitor c service good c ionship sup torage db offsha dstudio m io clear server qc sr etl qaijlr fallon community health r decemb nd dfq moveaq autom verify synchron g roubleshoot amp amp ssrs formula etc kill r o sun solaris hp ux ibm aix do l x x source warehouseq x bi cognos ssa crystal siebel tic langu p vb c c cobol au g teraa v r erwin blank amp gt standard toc z z z z z z v v v v v v x x x x x h p author date en amp lt prepared amp gt amp lt ed amp gt\n",
      "\n",
      "660540 0.38935258984565735 o technical support analyst o technical support including writing technical spec internal technical note system defect do o skill amp amp\n",
      "\n",
      "653612 0.3885350823402405 country manager lead u market penetration important channel service hw provider oracle communication line product pcrf stp dsr e m lnp sbc pic technology distributor provider tier\n",
      "\n"
     ]
    }
   ],
   "source": [
    "find_most_similar([infered_vector])"
   ]
  },
  {
   "cell_type": "code",
   "execution_count": null,
   "metadata": {},
   "outputs": [],
   "source": []
  }
 ],
 "metadata": {
  "anaconda-cloud": {},
  "kernelspec": {
   "display_name": "Python [conda env:python36]",
   "language": "python",
   "name": "conda-env-python36-py"
  },
  "language_info": {
   "codemirror_mode": {
    "name": "ipython",
    "version": 3
   },
   "file_extension": ".py",
   "mimetype": "text/x-python",
   "name": "python",
   "nbconvert_exporter": "python",
   "pygments_lexer": "ipython3",
   "version": "3.6.1"
  }
 },
 "nbformat": 4,
 "nbformat_minor": 2
}
