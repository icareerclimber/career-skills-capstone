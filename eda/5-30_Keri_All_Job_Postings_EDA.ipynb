{
 "cells": [
  {
   "cell_type": "code",
   "execution_count": 1,
   "metadata": {
    "hideCode": false,
    "hidePrompt": false
   },
   "outputs": [],
   "source": [
    "import numpy as np\n",
    "import pandas as pd\n",
    "import re\n",
    "import pickle\n",
    "import itertools\n",
    "from __future__ import print_function\n",
    "from __future__ import division\n",
    "import matplotlib.pyplot as plt\n",
    "from collections import Counter\n",
    "import matplotlib.pyplot as plt\n",
    "import csv\n",
    "from datetime import datetime\n",
    "\n",
    "\n",
    "# SK-learn libraries for learning.\n",
    "#from sklearn.pipeline import Pipeline\n",
    "#from sklearn.grid_search import GridSearchCV\n",
    "from sklearn.naive_bayes import MultinomialNB\n",
    "from sklearn.linear_model import LogisticRegression\n",
    "from sklearn.linear_model import LinearRegression\n",
    "from sklearn.linear_model import Ridge\n",
    "from sklearn.linear_model import Lasso\n",
    "from sklearn.linear_model import ElasticNet\n",
    "from sklearn.linear_model import SGDClassifier\n",
    "\n",
    "# SK-learn libraries for evaluation.\n",
    "from sklearn.metrics import confusion_matrix\n",
    "from sklearn import metrics\n",
    "from sklearn.metrics import classification_report\n",
    "from sklearn.model_selection import train_test_split\n",
    "\n",
    "# SK-learn libraries for feature extraction from text.\n",
    "from sklearn.feature_extraction.text import *\n",
    "\n",
    "# NLTK libs\n",
    "from nltk.tokenize import TweetTokenizer\n",
    "\n",
    "import dask.dataframe as dd"
   ]
  },
  {
   "cell_type": "code",
   "execution_count": 2,
   "metadata": {
    "hideCode": false,
    "hidePrompt": false
   },
   "outputs": [
    {
     "ename": "SyntaxError",
     "evalue": "invalid syntax (webapp2.py, line 571)",
     "output_type": "error",
     "traceback": [
      "\u001b[0;36m  File \u001b[0;32m\"/Users/kwheatley/anaconda/envs/python36/lib/python3.6/site-packages/webapp2.py\"\u001b[0;36m, line \u001b[0;32m571\u001b[0m\n\u001b[0;31m    except Exception, e:\u001b[0m\n\u001b[0m                    ^\u001b[0m\n\u001b[0;31mSyntaxError\u001b[0m\u001b[0;31m:\u001b[0m invalid syntax\n"
     ]
    }
   ],
   "source": [
    "import logging\n",
    "import os\n",
    "import cloudstorage as gcs\n",
    "import webapp2"
   ]
  },
  {
   "cell_type": "code",
   "execution_count": 19,
   "metadata": {},
   "outputs": [
    {
     "ename": "FileNotFoundError",
     "evalue": "[Errno 2] No such file or directory: '/Users/kwheatley/anaconda/envs/python36/lib/python3.6/site-packages/setuptools-27.2.0-py3.6.egg'",
     "output_type": "error",
     "traceback": [
      "\u001b[0;31m---------------------------------------------------------------------------\u001b[0m",
      "\u001b[0;31mFileNotFoundError\u001b[0m                         Traceback (most recent call last)",
      "\u001b[0;32m<ipython-input-19-eeb0eca305b4>\u001b[0m in \u001b[0;36m<module>\u001b[0;34m()\u001b[0m\n\u001b[0;32m----> 1\u001b[0;31m \u001b[0;32mfrom\u001b[0m \u001b[0mgoogle\u001b[0m\u001b[0;34m.\u001b[0m\u001b[0mcloud\u001b[0m \u001b[0;32mimport\u001b[0m \u001b[0mstorage\u001b[0m\u001b[0;34m\u001b[0m\u001b[0m\n\u001b[0m\u001b[1;32m      2\u001b[0m \u001b[0;31m# client = storage.Client()\u001b[0m\u001b[0;34m\u001b[0m\u001b[0;34m\u001b[0m\u001b[0m\n\u001b[1;32m      3\u001b[0m \u001b[0;31m# bucket = 'w210_all_data'\u001b[0m\u001b[0;34m\u001b[0m\u001b[0;34m\u001b[0m\u001b[0m\n\u001b[1;32m      4\u001b[0m \u001b[0;31m# Then do other things...\u001b[0m\u001b[0;34m\u001b[0m\u001b[0;34m\u001b[0m\u001b[0m\n\u001b[1;32m      5\u001b[0m \u001b[0;31m# blob = bucket.get_blob('job_postings/indeed_job_postings.csv')\u001b[0m\u001b[0;34m\u001b[0m\u001b[0;34m\u001b[0m\u001b[0m\n",
      "\u001b[0;32m/Users/kwheatley/anaconda/envs/python36/lib/python3.6/site-packages/google/cloud/storage/__init__.py\u001b[0m in \u001b[0;36m<module>\u001b[0;34m()\u001b[0m\n\u001b[1;32m     33\u001b[0m \u001b[0;34m\u001b[0m\u001b[0m\n\u001b[1;32m     34\u001b[0m \u001b[0;32mfrom\u001b[0m \u001b[0mpkg_resources\u001b[0m \u001b[0;32mimport\u001b[0m \u001b[0mget_distribution\u001b[0m\u001b[0;34m\u001b[0m\u001b[0m\n\u001b[0;32m---> 35\u001b[0;31m \u001b[0m__version__\u001b[0m \u001b[0;34m=\u001b[0m \u001b[0mget_distribution\u001b[0m\u001b[0;34m(\u001b[0m\u001b[0;34m'google-cloud-storage'\u001b[0m\u001b[0;34m)\u001b[0m\u001b[0;34m.\u001b[0m\u001b[0mversion\u001b[0m\u001b[0;34m\u001b[0m\u001b[0m\n\u001b[0m\u001b[1;32m     36\u001b[0m \u001b[0;34m\u001b[0m\u001b[0m\n\u001b[1;32m     37\u001b[0m \u001b[0;32mfrom\u001b[0m \u001b[0mgoogle\u001b[0m\u001b[0;34m.\u001b[0m\u001b[0mcloud\u001b[0m\u001b[0;34m.\u001b[0m\u001b[0mstorage\u001b[0m\u001b[0;34m.\u001b[0m\u001b[0mbatch\u001b[0m \u001b[0;32mimport\u001b[0m \u001b[0mBatch\u001b[0m\u001b[0;34m\u001b[0m\u001b[0m\n",
      "\u001b[0;32m/Users/kwheatley/anaconda/envs/python36/lib/python3.6/site-packages/setuptools-27.2.0-py3.6.egg/pkg_resources/__init__.py\u001b[0m in \u001b[0;36mget_distribution\u001b[0;34m(dist)\u001b[0m\n",
      "\u001b[0;32m/Users/kwheatley/anaconda/envs/python36/lib/python3.6/site-packages/setuptools-27.2.0-py3.6.egg/pkg_resources/__init__.py\u001b[0m in \u001b[0;36mget_provider\u001b[0;34m(moduleOrReq)\u001b[0m\n",
      "\u001b[0;32m/Users/kwheatley/anaconda/envs/python36/lib/python3.6/site-packages/setuptools-27.2.0-py3.6.egg/pkg_resources/__init__.py\u001b[0m in \u001b[0;36mrequire\u001b[0;34m(self, *requirements)\u001b[0m\n",
      "\u001b[0;32m/Users/kwheatley/anaconda/envs/python36/lib/python3.6/site-packages/setuptools-27.2.0-py3.6.egg/pkg_resources/__init__.py\u001b[0m in \u001b[0;36mresolve\u001b[0;34m(self, requirements, env, installer, replace_conflicting)\u001b[0m\n",
      "\u001b[0;32m/Users/kwheatley/anaconda/envs/python36/lib/python3.6/site-packages/setuptools-27.2.0-py3.6.egg/pkg_resources/__init__.py\u001b[0m in \u001b[0;36m__init__\u001b[0;34m(self, search_path, platform, python)\u001b[0m\n",
      "\u001b[0;32m/Users/kwheatley/anaconda/envs/python36/lib/python3.6/site-packages/setuptools-27.2.0-py3.6.egg/pkg_resources/__init__.py\u001b[0m in \u001b[0;36mscan\u001b[0;34m(self, search_path)\u001b[0m\n",
      "\u001b[0;32m/Users/kwheatley/anaconda/envs/python36/lib/python3.6/site-packages/setuptools-27.2.0-py3.6.egg/pkg_resources/__init__.py\u001b[0m in \u001b[0;36mfind_eggs_in_zip\u001b[0;34m(importer, path_item, only)\u001b[0m\n",
      "\u001b[0;32m/Users/kwheatley/anaconda/envs/python36/lib/python3.6/site-packages/setuptools-27.2.0-py3.6.egg/pkg_resources/__init__.py\u001b[0m in \u001b[0;36mhas_metadata\u001b[0;34m(self, name)\u001b[0m\n",
      "\u001b[0;32m/Users/kwheatley/anaconda/envs/python36/lib/python3.6/site-packages/setuptools-27.2.0-py3.6.egg/pkg_resources/__init__.py\u001b[0m in \u001b[0;36m_has\u001b[0;34m(self, fspath)\u001b[0m\n",
      "\u001b[0;32m/Users/kwheatley/anaconda/envs/python36/lib/python3.6/site-packages/setuptools-27.2.0-py3.6.egg/pkg_resources/__init__.py\u001b[0m in \u001b[0;36mzipinfo\u001b[0;34m(self)\u001b[0m\n",
      "\u001b[0;32m/Users/kwheatley/anaconda/envs/python36/lib/python3.6/site-packages/setuptools-27.2.0-py3.6.egg/pkg_resources/__init__.py\u001b[0m in \u001b[0;36mload\u001b[0;34m(self, path)\u001b[0m\n",
      "\u001b[0;31mFileNotFoundError\u001b[0m: [Errno 2] No such file or directory: '/Users/kwheatley/anaconda/envs/python36/lib/python3.6/site-packages/setuptools-27.2.0-py3.6.egg'"
     ]
    }
   ],
   "source": [
    "from google.cloud import storage\n",
    "# client = storage.Client()\n",
    "# bucket = 'w210_all_data'\n",
    "# Then do other things...\n",
    "# blob = bucket.get_blob('job_postings/indeed_job_postings.csv')\n",
    "# print(blob.download_as_string())\n",
    "# blob.upload_from_string('New contents!')\n",
    "# blob2 = bucket.blob('remote/path/storage.txt')\n",
    "# blob2.upload_from_filename(filename='/local/path.txt')"
   ]
  },
  {
   "cell_type": "code",
   "execution_count": 3,
   "metadata": {
    "hideCode": false,
    "hidePrompt": false
   },
   "outputs": [],
   "source": [
    "df = pd.DataFrame()\n",
    "for filename in file_list:\n",
    "    data = pd.read_csv(filename)\n",
    "    df = df.append(data)"
   ]
  },
  {
   "cell_type": "code",
   "execution_count": 4,
   "metadata": {
    "hideCode": false,
    "hidePrompt": false
   },
   "outputs": [
    {
     "data": {
      "text/plain": [
       "Unnamed: 0          846613\n",
       "datePosted          846613\n",
       "organizationName    843930\n",
       "title               846609\n",
       "onetName            705218\n",
       "onetCode            705218\n",
       "numberOfOpenings    846613\n",
       "medianSalary        846613\n",
       "jobDescription      846607\n",
       "locality            771794\n",
       "region              761879\n",
       "dtype: int64"
      ]
     },
     "execution_count": 4,
     "metadata": {},
     "output_type": "execute_result"
    }
   ],
   "source": [
    "df.count()"
   ]
  },
  {
   "cell_type": "code",
   "execution_count": 5,
   "metadata": {
    "hideCode": false,
    "hidePrompt": false
   },
   "outputs": [
    {
     "data": {
      "image/png": "[encoded data removed]",
      "text/plain": [
       "<matplotlib.figure.Figure at 0x117911f60>"
      ]
     },
     "metadata": {},
     "output_type": "display_data"
    }
   ],
   "source": [
    "df['datePosted'] = df.datePosted.map(lambda x: pd.to_datetime(x))\n",
    "\n",
    "cnt_timeline = df[df.datePosted >= '2016-01-01']\n",
    "cnt_timeline = cnt_timeline.groupby('datePosted').title.count().reset_index()\n",
    "\n",
    "plt.plot(cnt_timeline.datePosted,cnt_timeline.title)\n",
    "plt.show()"
   ]
  },
  {
   "cell_type": "code",
   "execution_count": 7,
   "metadata": {
    "hideCode": false,
    "hidePrompt": false
   },
   "outputs": [
    {
     "data": {
      "text/html": [
       "<div>\n",
       "<style>\n",
       "    .dataframe thead tr:only-child th {\n",
       "        text-align: right;\n",
       "    }\n",
       "\n",
       "    .dataframe thead th {\n",
       "        text-align: left;\n",
       "    }\n",
       "\n",
       "    .dataframe tbody tr th {\n",
       "        vertical-align: top;\n",
       "    }\n",
       "</style>\n",
       "<table border=\"1\" class=\"dataframe\">\n",
       "  <thead>\n",
       "    <tr style=\"text-align: right;\">\n",
       "      <th></th>\n",
       "      <th>datePosted</th>\n",
       "      <th>title</th>\n",
       "    </tr>\n",
       "  </thead>\n",
       "  <tbody>\n",
       "    <tr>\n",
       "      <th>302</th>\n",
       "      <td>2016-03-17</td>\n",
       "      <td>59837</td>\n",
       "    </tr>\n",
       "    <tr>\n",
       "      <th>478</th>\n",
       "      <td>2016-09-09</td>\n",
       "      <td>59516</td>\n",
       "    </tr>\n",
       "    <tr>\n",
       "      <th>338</th>\n",
       "      <td>2016-04-22</td>\n",
       "      <td>26116</td>\n",
       "    </tr>\n",
       "    <tr>\n",
       "      <th>344</th>\n",
       "      <td>2016-04-28</td>\n",
       "      <td>8341</td>\n",
       "    </tr>\n",
       "    <tr>\n",
       "      <th>795</th>\n",
       "      <td>2017-07-29</td>\n",
       "      <td>7363</td>\n",
       "    </tr>\n",
       "  </tbody>\n",
       "</table>\n",
       "</div>"
      ],
      "text/plain": [
       "    datePosted  title\n",
       "302 2016-03-17  59837\n",
       "478 2016-09-09  59516\n",
       "338 2016-04-22  26116\n",
       "344 2016-04-28   8341\n",
       "795 2017-07-29   7363"
      ]
     },
     "execution_count": 7,
     "metadata": {},
     "output_type": "execute_result"
    }
   ],
   "source": [
    "df.groupby('datePosted').title.count().reset_index().sort_values(by='title',ascending=False).head()"
   ]
  },
  {
   "cell_type": "code",
   "execution_count": 8,
   "metadata": {
    "hideCode": false,
    "hidePrompt": false
   },
   "outputs": [
    {
     "data": {
      "text/html": [
       "<div>\n",
       "<style>\n",
       "    .dataframe thead tr:only-child th {\n",
       "        text-align: right;\n",
       "    }\n",
       "\n",
       "    .dataframe thead th {\n",
       "        text-align: left;\n",
       "    }\n",
       "\n",
       "    .dataframe tbody tr th {\n",
       "        vertical-align: top;\n",
       "    }\n",
       "</style>\n",
       "<table border=\"1\" class=\"dataframe\">\n",
       "  <thead>\n",
       "    <tr style=\"text-align: right;\">\n",
       "      <th></th>\n",
       "      <th>organizationName</th>\n",
       "      <th>title</th>\n",
       "    </tr>\n",
       "  </thead>\n",
       "  <tbody>\n",
       "    <tr>\n",
       "      <th>1116</th>\n",
       "      <td>Oracle</td>\n",
       "      <td>5299</td>\n",
       "    </tr>\n",
       "    <tr>\n",
       "      <th>1337</th>\n",
       "      <td>Sentara Health</td>\n",
       "      <td>1189</td>\n",
       "    </tr>\n",
       "    <tr>\n",
       "      <th>223</th>\n",
       "      <td>Booz Allen Hamilton</td>\n",
       "      <td>1133</td>\n",
       "    </tr>\n",
       "    <tr>\n",
       "      <th>1176</th>\n",
       "      <td>Pizza Hut</td>\n",
       "      <td>1090</td>\n",
       "    </tr>\n",
       "    <tr>\n",
       "      <th>285</th>\n",
       "      <td>CVS Health</td>\n",
       "      <td>1068</td>\n",
       "    </tr>\n",
       "  </tbody>\n",
       "</table>\n",
       "</div>"
      ],
      "text/plain": [
       "         organizationName  title\n",
       "1116               Oracle   5299\n",
       "1337       Sentara Health   1189\n",
       "223   Booz Allen Hamilton   1133\n",
       "1176            Pizza Hut   1090\n",
       "285            CVS Health   1068"
      ]
     },
     "execution_count": 8,
     "metadata": {},
     "output_type": "execute_result"
    }
   ],
   "source": [
    "df[df.datePosted == '2016-03-17'].groupby('organizationName').title.count()\\\n",
    "    .reset_index().sort_values(by='title',ascending=False).head()"
   ]
  },
  {
   "cell_type": "code",
   "execution_count": 9,
   "metadata": {
    "hideCode": false,
    "hidePrompt": false
   },
   "outputs": [
    {
     "data": {
      "text/html": [
       "<div>\n",
       "<style>\n",
       "    .dataframe thead tr:only-child th {\n",
       "        text-align: right;\n",
       "    }\n",
       "\n",
       "    .dataframe thead th {\n",
       "        text-align: left;\n",
       "    }\n",
       "\n",
       "    .dataframe tbody tr th {\n",
       "        vertical-align: top;\n",
       "    }\n",
       "</style>\n",
       "<table border=\"1\" class=\"dataframe\">\n",
       "  <thead>\n",
       "    <tr style=\"text-align: right;\">\n",
       "      <th></th>\n",
       "      <th>title</th>\n",
       "      <th>datePosted</th>\n",
       "    </tr>\n",
       "  </thead>\n",
       "  <tbody>\n",
       "    <tr>\n",
       "      <th>20</th>\n",
       "      <td>Applications Sales Representative III</td>\n",
       "      <td>215</td>\n",
       "    </tr>\n",
       "    <tr>\n",
       "      <th>297</th>\n",
       "      <td>Principal Sales Consultant</td>\n",
       "      <td>207</td>\n",
       "    </tr>\n",
       "    <tr>\n",
       "      <th>25</th>\n",
       "      <td>Applications Sales Representative V</td>\n",
       "      <td>180</td>\n",
       "    </tr>\n",
       "    <tr>\n",
       "      <th>68</th>\n",
       "      <td>CRM Applications Sales Rep</td>\n",
       "      <td>150</td>\n",
       "    </tr>\n",
       "    <tr>\n",
       "      <th>398</th>\n",
       "      <td>Senior Principal Consultant</td>\n",
       "      <td>130</td>\n",
       "    </tr>\n",
       "  </tbody>\n",
       "</table>\n",
       "</div>"
      ],
      "text/plain": [
       "                                     title  datePosted\n",
       "20   Applications Sales Representative III         215\n",
       "297             Principal Sales Consultant         207\n",
       "25     Applications Sales Representative V         180\n",
       "68              CRM Applications Sales Rep         150\n",
       "398            Senior Principal Consultant         130"
      ]
     },
     "execution_count": 9,
     "metadata": {},
     "output_type": "execute_result"
    }
   ],
   "source": [
    "df[(df.organizationName == 'Oracle') & (df.datePosted == '2016-03-17')].groupby('title').datePosted.count()\\\n",
    "    .reset_index().sort_values(by='datePosted', ascending=False).head()"
   ]
  },
  {
   "cell_type": "code",
   "execution_count": 10,
   "metadata": {
    "hideCode": false,
    "hidePrompt": false,
    "scrolled": false
   },
   "outputs": [],
   "source": [
    "df[(df.organizationName == 'Oracle') & (df.title == 'Applications Sales Representative IV')].to_csv('temp.csv')"
   ]
  },
  {
   "cell_type": "code",
   "execution_count": 11,
   "metadata": {
    "hideCode": false,
    "hidePrompt": false
   },
   "outputs": [
    {
     "data": {
      "text/html": [
       "<div>\n",
       "<style>\n",
       "    .dataframe thead tr:only-child th {\n",
       "        text-align: right;\n",
       "    }\n",
       "\n",
       "    .dataframe thead th {\n",
       "        text-align: left;\n",
       "    }\n",
       "\n",
       "    .dataframe tbody tr th {\n",
       "        vertical-align: top;\n",
       "    }\n",
       "</style>\n",
       "<table border=\"1\" class=\"dataframe\">\n",
       "  <thead>\n",
       "    <tr style=\"text-align: right;\">\n",
       "      <th></th>\n",
       "      <th>onetCode</th>\n",
       "      <th>title</th>\n",
       "    </tr>\n",
       "  </thead>\n",
       "  <tbody>\n",
       "    <tr>\n",
       "      <th>1</th>\n",
       "      <td>11-1021.00</td>\n",
       "      <td>88634</td>\n",
       "    </tr>\n",
       "    <tr>\n",
       "      <th>51</th>\n",
       "      <td>13-1111.00</td>\n",
       "      <td>45099</td>\n",
       "    </tr>\n",
       "    <tr>\n",
       "      <th>484</th>\n",
       "      <td>53-3032.00</td>\n",
       "      <td>36853</td>\n",
       "    </tr>\n",
       "    <tr>\n",
       "      <th>92</th>\n",
       "      <td>15-1151.00</td>\n",
       "      <td>29726</td>\n",
       "    </tr>\n",
       "    <tr>\n",
       "      <th>85</th>\n",
       "      <td>15-1132.00</td>\n",
       "      <td>28591</td>\n",
       "    </tr>\n",
       "  </tbody>\n",
       "</table>\n",
       "</div>"
      ],
      "text/plain": [
       "       onetCode  title\n",
       "1    11-1021.00  88634\n",
       "51   13-1111.00  45099\n",
       "484  53-3032.00  36853\n",
       "92   15-1151.00  29726\n",
       "85   15-1132.00  28591"
      ]
     },
     "execution_count": 11,
     "metadata": {},
     "output_type": "execute_result"
    }
   ],
   "source": [
    "df.groupby('onetCode').title.count().reset_index().sort_values(by='title',ascending=False).head()"
   ]
  },
  {
   "cell_type": "code",
   "execution_count": 12,
   "metadata": {
    "hideCode": false,
    "hidePrompt": false
   },
   "outputs": [
    {
     "data": {
      "text/html": [
       "<div>\n",
       "<style>\n",
       "    .dataframe thead tr:only-child th {\n",
       "        text-align: right;\n",
       "    }\n",
       "\n",
       "    .dataframe thead th {\n",
       "        text-align: left;\n",
       "    }\n",
       "\n",
       "    .dataframe tbody tr th {\n",
       "        vertical-align: top;\n",
       "    }\n",
       "</style>\n",
       "<table border=\"1\" class=\"dataframe\">\n",
       "  <thead>\n",
       "    <tr style=\"text-align: right;\">\n",
       "      <th></th>\n",
       "      <th>onetCode</th>\n",
       "      <th>onet_title</th>\n",
       "      <th>onet_description</th>\n",
       "    </tr>\n",
       "  </thead>\n",
       "  <tbody>\n",
       "    <tr>\n",
       "      <th>0</th>\n",
       "      <td>11-1011.00</td>\n",
       "      <td>Chief Executives</td>\n",
       "      <td>Determine and formulate policies and provide o...</td>\n",
       "    </tr>\n",
       "    <tr>\n",
       "      <th>1</th>\n",
       "      <td>11-1011.03</td>\n",
       "      <td>Chief Sustainability Officers</td>\n",
       "      <td>Communicate and coordinate with management, sh...</td>\n",
       "    </tr>\n",
       "    <tr>\n",
       "      <th>2</th>\n",
       "      <td>11-1021.00</td>\n",
       "      <td>General and Operations Managers</td>\n",
       "      <td>Plan, direct, or coordinate the operations of ...</td>\n",
       "    </tr>\n",
       "    <tr>\n",
       "      <th>3</th>\n",
       "      <td>11-1031.00</td>\n",
       "      <td>Legislators</td>\n",
       "      <td>Develop, introduce or enact laws and statutes ...</td>\n",
       "    </tr>\n",
       "    <tr>\n",
       "      <th>4</th>\n",
       "      <td>11-2011.00</td>\n",
       "      <td>Advertising and Promotions Managers</td>\n",
       "      <td>Plan, direct, or coordinate advertising polici...</td>\n",
       "    </tr>\n",
       "  </tbody>\n",
       "</table>\n",
       "</div>"
      ],
      "text/plain": [
       "     onetCode                           onet_title  \\\n",
       "0  11-1011.00                     Chief Executives   \n",
       "1  11-1011.03        Chief Sustainability Officers   \n",
       "2  11-1021.00      General and Operations Managers   \n",
       "3  11-1031.00                          Legislators   \n",
       "4  11-2011.00  Advertising and Promotions Managers   \n",
       "\n",
       "                                    onet_description  \n",
       "0  Determine and formulate policies and provide o...  \n",
       "1  Communicate and coordinate with management, sh...  \n",
       "2  Plan, direct, or coordinate the operations of ...  \n",
       "3  Develop, introduce or enact laws and statutes ...  \n",
       "4  Plan, direct, or coordinate advertising polici...  "
      ]
     },
     "execution_count": 12,
     "metadata": {},
     "output_type": "execute_result"
    }
   ],
   "source": [
    "occupation_data = pd.read_csv('job_types/db_22_2_excel/occupation_data.csv')\n",
    "occupation_data.head()"
   ]
  },
  {
   "cell_type": "code",
   "execution_count": 13,
   "metadata": {
    "hideCode": false,
    "hidePrompt": false
   },
   "outputs": [],
   "source": [
    "# df.set_index('onetCode',inplace=True)\n",
    "# occupation_data.set_index('onet',inplace=True)"
   ]
  },
  {
   "cell_type": "code",
   "execution_count": 14,
   "metadata": {
    "hideCode": false,
    "hidePrompt": false
   },
   "outputs": [],
   "source": [
    "combined_df = dd.merge(df, occupation_data, how='outer', on=['onetCode'])"
   ]
  },
  {
   "cell_type": "code",
   "execution_count": 15,
   "metadata": {
    "hideCode": false,
    "hidePrompt": false
   },
   "outputs": [],
   "source": [
    "combined_df.groupby(['onet_title','onetCode'])['datePosted'].count().reset_index()\\\n",
    "    .sort_values(by='datePosted',ascending=False).to_csv('temp.csv')"
   ]
  },
  {
   "cell_type": "code",
   "execution_count": 16,
   "metadata": {},
   "outputs": [],
   "source": [
    "# combined_df[combined_df.onet_title == 'Management Analysts'].to_csv('temp2.csv')"
   ]
  },
  {
   "cell_type": "code",
   "execution_count": 22,
   "metadata": {},
   "outputs": [],
   "source": [
    "data = combined_df[(combined_df.onet_title == 'Computer User Support Specialists') |\n",
    "            (combined_df.onet_title == 'Software Developers, Applications') |\n",
    "            (combined_df.onet_title == 'Mechanical Engineers') |\n",
    "            (combined_df.onet_title == 'Registered Nurses')\n",
    "           ]"
   ]
  },
  {
   "cell_type": "code",
   "execution_count": 24,
   "metadata": {},
   "outputs": [
    {
     "data": {
      "text/plain": [
       "onet_title\n",
       "Computer User Support Specialists    29726\n",
       "Mechanical Engineers                 23883\n",
       "Registered Nurses                    22234\n",
       "Software Developers, Applications    28591\n",
       "Name: title, dtype: int64"
      ]
     },
     "execution_count": 24,
     "metadata": {},
     "output_type": "execute_result"
    }
   ],
   "source": [
    "data.groupby('onet_title')['title'].count()"
   ]
  },
  {
   "cell_type": "markdown",
   "metadata": {},
   "source": [
    "# Data Processing"
   ]
  },
  {
   "cell_type": "code",
   "execution_count": 25,
   "metadata": {},
   "outputs": [],
   "source": [
    "# Borrowed some functions from the w266 utils.py file\n",
    "# Miscellaneous helpers\n",
    "def flatten(list_of_lists):\n",
    "    \"\"\"Flatten a list-of-lists into a single list.\"\"\"\n",
    "    return list(itertools.chain.from_iterable(list_of_lists))\n",
    "\n",
    "\n",
    "# Word processing functions\n",
    "def canonicalize_digits(word):\n",
    "    if any([c.isalpha() for c in word]): return word\n",
    "    word = re.sub(\"\\d\", \"DG\", word)\n",
    "    if word.startswith(\"DG\"):\n",
    "        word = word.replace(\",\", \"\") # remove thousands separator\n",
    "    return word\n",
    "\n",
    "def canonicalize_word(word, wordset=None, digits=True):\n",
    "    word = re.sub(r\"(https?:\\/\\/)?([\\da-z\\.-]+)\\.([a-z\\.]{2,6})([\\/\\w\\.-]*)*\\/?\\S*\", \"postedhyperlinkvalue\", word)\n",
    "    word = re.sub(r\"(postedhyperlinkvalue)+\", \"postedhyperlinkvalue\", word)\n",
    "    #if not word.isupper():\n",
    "    word = word.lower()\n",
    "    if digits:\n",
    "        if (wordset != None) and (word in wordset): return word\n",
    "        word = canonicalize_digits(word) # try to canonicalize numbers\n",
    "    if (wordset == None) or (word in wordset):\n",
    "        return word\n",
    "    else:\n",
    "        return constants.UNK_TOKEN\n",
    "\n",
    "def canonicalize_words(words, **kw):\n",
    "    return [canonicalize_word(word, **kw) for word in words]"
   ]
  },
  {
   "cell_type": "code",
   "execution_count": 50,
   "metadata": {},
   "outputs": [],
   "source": [
    "def make_data(data, target, tokenizer=TweetTokenizer(), canonize=True, stem=True):\n",
    "        \n",
    "    # Separate comments\n",
    "    comments = data.loc[:, 'jobDescription']\n",
    "    labels = data.loc[:, target]\n",
    "    \n",
    "    # Convert to list\n",
    "    comment_list = comments.values.tolist()\n",
    "    \n",
    "    # Tokenize comments\n",
    "    tokenizer = tokenizer\n",
    "    x_tokens = [tokenizer.tokenize(sentence) for sentence in comment_list]\n",
    "\n",
    "    from nltk.stem import PorterStemmer\n",
    "    ps = PorterStemmer()\n",
    "\n",
    "    if stem:\n",
    "        if canonize:\n",
    "            comments_canon = []\n",
    "            for token in x_tokens:\n",
    "                stem_token = []\n",
    "                for word in token:\n",
    "                    stem_token.append(ps.stem(word))\n",
    "                x_tokens_canon = canonicalize_words(stem_token)\n",
    "                comments_canon.append(x_tokens_canon)\n",
    "            x_tokens = comments_canon\n",
    "        \n",
    "    if not stem:\n",
    "        if canonize:\n",
    "            comments_canon = []\n",
    "            for token in x_tokens:\n",
    "                x_tokens_canon = canonicalize_words(token)\n",
    "                comments_canon.append(x_tokens_canon)\n",
    "            x_tokens = comments_canon\n",
    "        \n",
    "    return comments, x_tokens, labels"
   ]
  },
  {
   "cell_type": "code",
   "execution_count": 51,
   "metadata": {},
   "outputs": [],
   "source": [
    "data = data[~data.jobDescription.isnull()]"
   ]
  },
  {
   "cell_type": "code",
   "execution_count": 45,
   "metadata": {},
   "outputs": [],
   "source": [
    "# tokenizer = TweetTokenizer()\n",
    "# x_tokens = [tokenizer.tokenize(sentence) for sentence in comment_list]"
   ]
  },
  {
   "cell_type": "code",
   "execution_count": 52,
   "metadata": {},
   "outputs": [],
   "source": [
    "comments, x_tokens, labels = \\\n",
    "make_data(data, target='onet_title',stem=False )"
   ]
  },
  {
   "cell_type": "code",
   "execution_count": 54,
   "metadata": {},
   "outputs": [],
   "source": [
    "# Split into test and train\n",
    "train_data, test_data, train_labels, test_labels = \\\n",
    "    train_test_split(x_tokens, labels, test_size=0.10, random_state=42)  "
   ]
  },
  {
   "cell_type": "code",
   "execution_count": 55,
   "metadata": {},
   "outputs": [],
   "source": [
    "# Count or TF-IDF vectorize, removing stop words.\n",
    "vectorizer = TfidfVectorizer(analyzer='word', stop_words='english', lowercase=False, \n",
    "                             tokenizer=lambda text: text)\n",
    "                             #tokenizer=lambda text: text, min_df=0.00002, max_df=0.005)"
   ]
  },
  {
   "cell_type": "code",
   "execution_count": 56,
   "metadata": {},
   "outputs": [
    {
     "name": "stderr",
     "output_type": "stream",
     "text": [
      "/Users/kwheatley/anaconda/envs/python36/lib/python3.6/site-packages/sklearn/feature_extraction/text.py:1059: FutureWarning: Conversion of the second argument of issubdtype from `float` to `np.floating` is deprecated. In future, it will be treated as `np.float64 == np.dtype(float).type`.\n",
      "  if hasattr(X, 'dtype') and np.issubdtype(X.dtype, np.float):\n"
     ]
    }
   ],
   "source": [
    "train_data_sparse = vectorizer.fit_transform(train_data)\n",
    "test_data_sparse = vectorizer.transform(test_data)"
   ]
  },
  {
   "cell_type": "code",
   "execution_count": 57,
   "metadata": {},
   "outputs": [],
   "source": [
    "# Save off word counts in csv\n",
    "flat_list = [item for sublist in x_tokens for item in sublist]\n",
    "counts = Counter(flat_list)\n",
    "\n",
    "with open('dict.csv', 'w') as csv_file:\n",
    "    writer = csv.writer(csv_file)\n",
    "    for key, value in counts.items():\n",
    "       writer.writerow([key, value])"
   ]
  },
  {
   "cell_type": "code",
   "execution_count": 58,
   "metadata": {},
   "outputs": [
    {
     "name": "stdout",
     "output_type": "stream",
     "text": [
      "Class counts:\n",
      "{'Computer User Support Specialists': 29726, 'Mechanical Engineers': 23883, 'Registered Nurses': 22234, 'Software Developers, Applications': 28591}\n"
     ]
    }
   ],
   "source": [
    "counts = {}\n",
    "for label in np.unique(labels):\n",
    "    counts[label] = sum(labels == label)\n",
    "\n",
    "print(\"Class counts:\\n{}\".format(counts))"
   ]
  },
  {
   "cell_type": "markdown",
   "metadata": {},
   "source": [
    "# Logistic Regresssion"
   ]
  },
  {
   "cell_type": "code",
   "execution_count": 59,
   "metadata": {},
   "outputs": [
    {
     "data": {
      "text/plain": [
       "SGDClassifier(alpha=0.0001, average=False, class_weight=None, epsilon=0.1,\n",
       "       eta0=0.0, fit_intercept=True, l1_ratio=0.15,\n",
       "       learning_rate='optimal', loss='log', n_iter=5, n_jobs=1,\n",
       "       penalty='l1', power_t=0.5, random_state=42, shuffle=True, verbose=0,\n",
       "       warm_start=False)"
      ]
     },
     "execution_count": 59,
     "metadata": {},
     "output_type": "execute_result"
    }
   ],
   "source": [
    "lgst_l1 = SGDClassifier(loss=\"log\", penalty=\"l1\", random_state=42\n",
    "#                         ,alpha=0.00015\n",
    "                       )\n",
    "lgst_l1.fit(train_data_sparse, train_labels)\n",
    "# save the classifier\n",
    "# with open('lgst_l1_classifier.pkl', 'wb') as fid:\n",
    "#     pickle.dump(lgst_l1, fid)"
   ]
  },
  {
   "cell_type": "code",
   "execution_count": 60,
   "metadata": {},
   "outputs": [
    {
     "name": "stdout",
     "output_type": "stream",
     "text": [
      "Training set score: 0.928\n",
      "Test set score: 0.926\n",
      "Number of features used: 587\n",
      "Confusion Matrix...\n",
      "[[2901   56   15   40]\n",
      " [  72 2116    0  235]\n",
      " [  19    0 2237    0]\n",
      " [ 106  226    1 2420]]\n"
     ]
    }
   ],
   "source": [
    "#Create predictions and evaluate\n",
    "pred_labels = lgst_l1.predict(test_data_sparse)\n",
    "print(\"Training set score: {:.3f}\".format(lgst_l1.score(train_data_sparse, train_labels)))\n",
    "print(\"Test set score: {:.3f}\".format(lgst_l1.score(test_data_sparse, test_labels)))\n",
    "print(\"Number of features used: {}\".format(np.sum(lgst_l1.coef_ != 0)))\n",
    "\n",
    "print(\"Confusion Matrix...\")\n",
    "confusionMatrix = metrics.confusion_matrix(test_labels, pred_labels)\n",
    "print(confusionMatrix)"
   ]
  },
  {
   "cell_type": "code",
   "execution_count": 61,
   "metadata": {},
   "outputs": [
    {
     "name": "stdout",
     "output_type": "stream",
     "text": [
      "f1_score  0.9270135427990355\n",
      "precision_score 0.9274175326406364\n",
      "recall 0.9267660089191299\n"
     ]
    },
    {
     "name": "stderr",
     "output_type": "stream",
     "text": [
      "/Users/kwheatley/anaconda/envs/python36/lib/python3.6/site-packages/sklearn/cross_validation.py:44: DeprecationWarning: This module was deprecated in version 0.18 in favor of the model_selection module into which all the refactored classes and functions are moved. Also note that the interface of the new CV iterators are different from that of this module. This module will be removed in 0.20.\n",
      "  \"This module will be removed in 0.20.\", DeprecationWarning)\n"
     ]
    }
   ],
   "source": [
    "from sklearn.datasets import make_classification\n",
    "from sklearn.cross_validation import StratifiedShuffleSplit\n",
    "from sklearn.metrics import accuracy_score, f1_score, precision_score, recall_score, classification_report, confusion_matrix\n",
    "\n",
    "print(\"f1_score \", f1_score(test_labels, pred_labels, average=\"macro\"))\n",
    "print(\"precision_score\", precision_score(test_labels, pred_labels, average=\"macro\"))\n",
    "print(\"recall\", recall_score(test_labels, pred_labels, average=\"macro\"))   "
   ]
  },
  {
   "cell_type": "code",
   "execution_count": 63,
   "metadata": {},
   "outputs": [
    {
     "name": "stdout",
     "output_type": "stream",
     "text": [
      "                                   precision    recall  f1-score   support\n",
      "\n",
      "Computer User Support Specialists       0.94      0.96      0.95      3012\n",
      "             Mechanical Engineers       0.88      0.87      0.88      2423\n",
      "                Registered Nurses       0.99      0.99      0.99      2256\n",
      "Software Developers, Applications       0.90      0.88      0.89      2753\n",
      "\n",
      "                      avg / total       0.93      0.93      0.93     10444\n",
      "\n"
     ]
    }
   ],
   "source": [
    "print(classification_report(test_labels, pred_labels))"
   ]
  },
  {
   "cell_type": "code",
   "execution_count": 1,
   "metadata": {},
   "outputs": [],
   "source": [
    "n=20\n",
    "prediction_probs = lgst_l1.predict_proba(test_data_sparse)[:,0]\n",
    "prob_actual = list(zip(prediction_probs, pred_labels,test_data))\n",
    "\n",
    "print(\"Most likely fans\")\n",
    "for row in sorted(prob_actual)[:n]:\n",
    "    print(row)\n",
    "print()\n",
    "\n",
    "print(\"Least likely fans\")\n",
    "for row in sorted(prob_actual)[-n:]:\n",
    "    print(row)\n",
    "print()"
   ]
  },
  {
   "cell_type": "code",
   "execution_count": 81,
   "metadata": {},
   "outputs": [
    {
     "name": "stdout",
     "output_type": "stream",
     "text": [
      "68.86 specialist\n",
      "8.25 hardware\n",
      "6.87 desk\n",
      "6.21 office\n",
      "5.16 technician\n",
      "5.03 client\n",
      "4.53 high\n",
      "3.72 social\n",
      "3.65 programs\n",
      "3.64 service\n",
      "3.57 announcement\n",
      "3.41 special\n",
      "3.27 information\n",
      "3.26 position\n",
      "3.15 training\n",
      "3.06 diploma\n",
      "3.05 operations\n",
      "2.99 support\n",
      "2.97 geek\n",
      "2.94 squad\n",
      "2.91 mason\n",
      "2.8 order\n",
      "2.79 store\n",
      "2.77 resources\n",
      "2.63 agency\n",
      "2.22 computers\n",
      "2.09 provides\n",
      "1.92 technicians\n",
      "1.9 center\n",
      "1.85 required\n",
      "1.7 users\n",
      "1.66 level\n",
      "1.64 administrative\n",
      "1.6 prepare\n",
      "1.56 specialists\n",
      "1.51 a5\n",
      "1.49 duties\n",
      "1.45 z\n",
      "1.33 procedures\n",
      "1.29 maintains\n",
      "1.18 /DG\n",
      "1.15 human\n",
      "1.04 specialized\n",
      "0.99 international\n",
      "0.95 acquisition\n",
      "0.95 personnel\n",
      "0.9 requests\n",
      "0.89 operating\n",
      "0.89 market\n",
      "0.87 asset\n"
     ]
    }
   ],
   "source": [
    "n=50\n",
    "classifier=lgst_l1\n",
    "\n",
    "feature_names = vectorizer.get_feature_names()\n",
    "    \n",
    "topn_class1 = sorted(zip(classifier.coef_[0], feature_names))[:n]\n",
    "topn_class2 = sorted(zip(classifier.coef_[0], feature_names))[-n:]\n",
    "# for coef, feat in topn_class1:\n",
    "#     print (round(coef,2), feat)\n",
    "\n",
    "# print()\n",
    "\n",
    "for coef, feat in reversed(topn_class2):\n",
    "    print (round(coef,2), feat)"
   ]
  },
  {
   "cell_type": "code",
   "execution_count": 82,
   "metadata": {},
   "outputs": [
    {
     "name": "stdout",
     "output_type": "stream",
     "text": [
      "42.22 engineer\n",
      "15.23 engineering\n",
      "7.09 systems\n",
      "5.7 test\n",
      "5.61 network\n",
      "5.56 mechanical\n",
      "5.31 technical\n",
      "4.55 engineers\n",
      "3.29 construction\n",
      "3.15 testing\n",
      "2.91 analysis\n",
      "2.82 platform\n",
      "2.78 cisco\n",
      "2.71 design\n",
      "2.65 architecture\n",
      "2.64 enterprise\n",
      "2.29 strong\n",
      "2.28 ip\n",
      "2.25 cbre\n",
      "2.2 tools\n",
      "2.04 demonstrations\n",
      "2.03 splunk\n",
      "1.93 vmware\n",
      "1.92 security\n",
      "1.89 knowledge\n",
      "1.85 communications\n",
      "1.71 understanding\n",
      "1.68 opower\n",
      "1.65 energy\n",
      "1.64 nextlabs\n",
      "1.57 cyber\n",
      "1.57 ground\n",
      "1.56 cloud\n",
      "1.55 travel\n",
      "1.55 environments\n",
      "1.51 itil\n",
      "1.51 cybersecurity\n",
      "1.51 designs\n",
      "1.41 ships\n",
      "1.31 water\n",
      "1.3 amazon\n",
      "1.26 windows\n",
      "1.25 configuration\n",
      "1.24 citizenship\n",
      "1.17 algorithms\n",
      "1.13 modeling\n",
      "1.0 equipment\n",
      "1.0 storage\n",
      "0.98 aramark\n",
      "0.94 field\n"
     ]
    }
   ],
   "source": [
    "n=50\n",
    "classifier=lgst_l1\n",
    "\n",
    "feature_names = vectorizer.get_feature_names()\n",
    "    \n",
    "topn_class1 = sorted(zip(classifier.coef_[1], feature_names))[:n]\n",
    "topn_class2 = sorted(zip(classifier.coef_[1], feature_names))[-n:]\n",
    "# for coef, feat in topn_class1:\n",
    "#     print (round(coef,2), feat)\n",
    "\n",
    "# print()\n",
    "\n",
    "for coef, feat in reversed(topn_class2):\n",
    "    print (round(coef,2), feat)"
   ]
  },
  {
   "cell_type": "code",
   "execution_count": 83,
   "metadata": {},
   "outputs": [
    {
     "name": "stdout",
     "output_type": "stream",
     "text": [
      "31.56 nurse\n",
      "18.74 nursing\n",
      "13.72 rn\n",
      "13.67 care\n",
      "8.05 registered\n",
      "5.97 lrb-rn-rrb\n",
      "5.63 healthcare\n",
      "5.63 hospital\n",
      "5.57 patient\n",
      "4.8 residents\n",
      "4.72 health\n",
      "4.68 bed\n",
      "3.95 medical\n",
      "3.87 carilion\n",
      "3.7 facility\n",
      "3.05 temporary\n",
      "2.96 patients\n",
      "2.66 clinic\n",
      "2.43 specialty\n",
      "2.31 virginia\n",
      "1.74 DGDGDG\n",
      "1.63 reference\n",
      "1.42 randstad\n",
      "1.4 license\n",
      "1.33 roanoke\n",
      "1.05 clinical\n",
      "0.85 state\n",
      "0.51 licensure\n",
      "0.48 washington\n",
      "0.41 located\n",
      "0.3 bls\n",
      "0.26 surgical\n",
      "0.23 acls\n",
      "0.21 apply\n",
      "0.14 fredericksburg\n",
      "0.13 miles\n",
      "0.0 �\n",
      "0.0 ~\n",
      "0.0 |\n",
      "0.0 zytel-lrb-r-rrb\n",
      "0.0 zynq\n",
      "0.0 zweimiller\n",
      "0.0 zweig\n",
      "0.0 zwe\n",
      "0.0 zwada\n",
      "0.0 zvm\n",
      "0.0 zuul\n",
      "0.0 zuse\n",
      "0.0 zurb\n",
      "0.0 zuni\n"
     ]
    }
   ],
   "source": [
    "n=50\n",
    "classifier=lgst_l1\n",
    "\n",
    "feature_names = vectorizer.get_feature_names()\n",
    "    \n",
    "topn_class1 = sorted(zip(classifier.coef_[2], feature_names))[:n]\n",
    "topn_class2 = sorted(zip(classifier.coef_[2], feature_names))[-n:]\n",
    "# for coef, feat in topn_class1:\n",
    "#     print (round(coef,2), feat)\n",
    "\n",
    "# print()\n",
    "\n",
    "for coef, feat in reversed(topn_class2):\n",
    "    print (round(coef,2), feat)"
   ]
  },
  {
   "cell_type": "code",
   "execution_count": 84,
   "metadata": {},
   "outputs": [
    {
     "name": "stdout",
     "output_type": "stream",
     "text": [
      "36.06 developer\n",
      "16.24 software\n",
      "8.28 development\n",
      "7.95 java\n",
      "7.84 oracle\n",
      "6.98 programming\n",
      "5.11 months\n",
      "4.7 solutions\n",
      "4.41 accounts\n",
      "4.23 sql\n",
      "3.91 business\n",
      "3.4 applications\n",
      "3.35 integration\n",
      "2.99 agile\n",
      "2.85 capital\n",
      "2.8 develops\n",
      "2.75 c\n",
      "2.66 code\n",
      "2.62 devops\n",
      "2.49 pwc\n",
      "2.48 ...\n",
      "2.38 cashier\n",
      "2.34 data\n",
      "2.19 database\n",
      "2.09 etl\n",
      "2.07 html\n",
      "1.87 lockheed\n",
      "1.84 coding\n",
      "1.8 territory\n",
      "1.78 web\n",
      "1.7 javascript\n",
      "1.67 +\n",
      "1.6 language\n",
      "1.57 gender\n",
      "1.56 app-v\n",
      "1.48 using\n",
      "1.47 cgi\n",
      "1.33 cash\n",
      "1.3 intelligence\n",
      "1.29 output\n",
      "1.2 netforum\n",
      "1.2 sharepoint\n",
      "1.17 existing\n",
      "1.17 modules\n",
      "1.12 postedhyperlinkvalue\n",
      "1.11 reviews\n",
      "1.09 o\n",
      "1.08 net\n",
      "1.03 design\n",
      "1.03 robert\n"
     ]
    }
   ],
   "source": [
    "n=50\n",
    "classifier=lgst_l1\n",
    "\n",
    "feature_names = vectorizer.get_feature_names()\n",
    "    \n",
    "topn_class1 = sorted(zip(classifier.coef_[3], feature_names))[:n]\n",
    "topn_class2 = sorted(zip(classifier.coef_[3], feature_names))[-n:]\n",
    "# for coef, feat in topn_class1:\n",
    "#     print (round(coef,2), feat)\n",
    "\n",
    "# print()\n",
    "\n",
    "for coef, feat in reversed(topn_class2):\n",
    "    print (round(coef,2), feat)"
   ]
  },
  {
   "cell_type": "markdown",
   "metadata": {},
   "source": [
    "# Logistic Regression with L2"
   ]
  },
  {
   "cell_type": "code",
   "execution_count": 85,
   "metadata": {},
   "outputs": [],
   "source": [
    "lgst_l2 = SGDClassifier(loss=\"log\", penalty=\"l2\", random_state=42\n",
    "                        ,alpha=.000005\n",
    "                       )\n",
    "lgst_l2.fit(train_data_sparse, train_labels)\n",
    "with open('lgst_l2_classifier.pkl', 'wb') as fid:\n",
    "    pickle.dump(lgst_l2, fid)    "
   ]
  },
  {
   "cell_type": "code",
   "execution_count": 86,
   "metadata": {},
   "outputs": [
    {
     "name": "stdout",
     "output_type": "stream",
     "text": [
      "Training set score: 0.966\n",
      "Test set score: 0.957\n",
      "Number of features used: 663268\n",
      "Confusion Matrix...\n",
      "[[2942   43    5   22]\n",
      " [  25 2263    0  135]\n",
      " [   8    0 2248    0]\n",
      " [  47  167    0 2539]]\n"
     ]
    }
   ],
   "source": [
    "#Create predictions and evaluate\n",
    "pred_labels = lgst_l2.predict(test_data_sparse)\n",
    "print(\"Training set score: {:.3f}\".format(lgst_l2.score(train_data_sparse, train_labels)))\n",
    "print(\"Test set score: {:.3f}\".format(lgst_l2.score(test_data_sparse, test_labels)))\n",
    "print(\"Number of features used: {}\".format(np.sum(lgst_l2.coef_ != 0)))\n",
    "\n",
    "print(\"Confusion Matrix...\")\n",
    "confusionMatrix = metrics.confusion_matrix(test_labels, pred_labels)\n",
    "print(confusionMatrix)"
   ]
  },
  {
   "cell_type": "code",
   "execution_count": 87,
   "metadata": {},
   "outputs": [
    {
     "name": "stdout",
     "output_type": "stream",
     "text": [
      "f1_score  0.9571499907562795\n",
      "precision_score 0.9570391689885253\n",
      "recall 0.9573615761884304\n"
     ]
    }
   ],
   "source": [
    "from sklearn.datasets import make_classification\n",
    "from sklearn.cross_validation import StratifiedShuffleSplit\n",
    "from sklearn.metrics import accuracy_score, f1_score, precision_score, recall_score, classification_report, confusion_matrix\n",
    "\n",
    "print(\"f1_score \", f1_score(test_labels, pred_labels, average=\"macro\"))\n",
    "print(\"precision_score\", precision_score(test_labels, pred_labels, average=\"macro\"))\n",
    "print(\"recall\", recall_score(test_labels, pred_labels, average=\"macro\"))   "
   ]
  },
  {
   "cell_type": "code",
   "execution_count": 88,
   "metadata": {},
   "outputs": [
    {
     "name": "stdout",
     "output_type": "stream",
     "text": [
      "                                   precision    recall  f1-score   support\n",
      "\n",
      "Computer User Support Specialists       0.97      0.98      0.98      3012\n",
      "             Mechanical Engineers       0.92      0.93      0.92      2423\n",
      "                Registered Nurses       1.00      1.00      1.00      2256\n",
      "Software Developers, Applications       0.94      0.92      0.93      2753\n",
      "\n",
      "                      avg / total       0.96      0.96      0.96     10444\n",
      "\n"
     ]
    }
   ],
   "source": [
    "print(classification_report(test_labels, pred_labels))"
   ]
  },
  {
   "cell_type": "code",
   "execution_count": 91,
   "metadata": {},
   "outputs": [
    {
     "name": "stdout",
     "output_type": "stream",
     "text": [
      "68.46 specialist\n",
      "6.82 technician\n",
      "6.7 desk\n",
      "5.61 specialists\n",
      "4.94 printer\n",
      "4.69 center\n",
      "4.54 summer\n",
      "4.46 hardware\n",
      "4.1 analyst\n",
      "4.0 mason\n",
      "4.0 office\n",
      "3.93 high\n",
      "3.9 support\n",
      "3.62 training\n",
      "3.42 related\n",
      "3.42 geek\n",
      "3.41 social\n",
      "3.38 helpdesk\n",
      "3.35 local\n",
      "3.3 squad\n",
      "3.29 pharmacy\n",
      "3.2 client\n",
      "3.19 customers\n",
      "3.19 tech\n",
      "3.18 includes\n",
      "3.18 operations\n",
      "3.13 store\n",
      "3.07 associates\n",
      "2.9 diploma\n",
      "2.89 human\n",
      "2.86 epic\n",
      "2.85 repair\n",
      "2.81 technicians\n",
      "2.81 axios\n",
      "2.81 operating\n",
      "2.79 selling\n",
      "2.74 provides\n",
      "2.74 resources\n",
      "2.74 fitness\n",
      "2.71 maintains\n",
      "2.69 end-users\n",
      "2.69 agency\n",
      "2.69 users\n",
      "2.68 trouble\n",
      "2.67 accuracy\n",
      "2.64 order\n",
      "2.6 material\n",
      "2.6 gca\n",
      "2.57 a5\n",
      "2.57 announcement\n"
     ]
    }
   ],
   "source": [
    "n=50\n",
    "classifier=lgst_l2\n",
    "\n",
    "feature_names = vectorizer.get_feature_names()\n",
    "    \n",
    "topn_class1 = sorted(zip(classifier.coef_[0], feature_names))[:n]\n",
    "topn_class2 = sorted(zip(classifier.coef_[0], feature_names))[-n:]\n",
    "# for coef, feat in topn_class1:\n",
    "#     print (round(coef,2), feat)\n",
    "\n",
    "# print()\n",
    "\n",
    "for coef, feat in reversed(topn_class2):\n",
    "    print (round(coef,2), feat)"
   ]
  },
  {
   "cell_type": "code",
   "execution_count": 92,
   "metadata": {},
   "outputs": [
    {
     "name": "stdout",
     "output_type": "stream",
     "text": [
      "40.16 engineer\n",
      "11.34 engineering\n",
      "7.06 mechanical\n",
      "5.91 systems\n",
      "5.27 demonstrations\n",
      "5.14 testing\n",
      "4.89 field\n",
      "4.78 test\n",
      "4.72 modeling\n",
      "4.53 engineers\n",
      "4.45 stack\n",
      "4.33 itil\n",
      "4.1 physics\n",
      "4.09 pre-sales\n",
      "4.07 passive\n",
      "4.0 network\n",
      "3.94 virtualization\n",
      "3.91 opower\n",
      "3.89 cissp\n",
      "3.81 cisco\n",
      "3.77 engineer's\n",
      "3.75 hvac\n",
      "3.64 gdit\n",
      "3.62 nextlabs\n",
      "3.56 subsystems\n",
      "3.51 construction\n",
      "3.48 express\n",
      "3.43 technical\n",
      "3.41 hbss\n",
      "3.35 phase\n",
      "3.33 hardening\n",
      "3.28 concept\n",
      "3.25 ats\n",
      "3.12 tools\n",
      "3.1 exploitation\n",
      "3.03 occupation\n",
      "3.01 platform\n",
      "3.01 cybersecurity\n",
      "3.01 cbre\n",
      "2.99 complexity\n",
      "2.99 professional\n",
      "2.99 scripting\n",
      "2.94 configure\n",
      "2.93 architecture\n",
      "2.93 bigfix\n",
      "2.88 enterprise\n",
      "2.82 aramark\n",
      "2.81 presales\n",
      "2.79 satellite\n",
      "2.79 cad\n"
     ]
    }
   ],
   "source": [
    "n=50\n",
    "classifier=lgst_l2\n",
    "\n",
    "feature_names = vectorizer.get_feature_names()\n",
    "    \n",
    "topn_class1 = sorted(zip(classifier.coef_[1], feature_names))[:n]\n",
    "topn_class2 = sorted(zip(classifier.coef_[1], feature_names))[-n:]\n",
    "# for coef, feat in topn_class1:\n",
    "#     print (round(coef,2), feat)\n",
    "\n",
    "# print()\n",
    "\n",
    "for coef, feat in reversed(topn_class2):\n",
    "    print (round(coef,2), feat)"
   ]
  },
  {
   "cell_type": "code",
   "execution_count": 93,
   "metadata": {},
   "outputs": [
    {
     "name": "stdout",
     "output_type": "stream",
     "text": [
      "24.46 nurse\n",
      "12.66 nursing\n",
      "9.6 rn\n",
      "8.85 registered\n",
      "8.42 care\n",
      "6.1 health\n",
      "5.42 lrb-rn-rrb\n",
      "5.34 medical\n",
      "5.33 healthcare\n",
      "4.81 patient\n",
      "4.57 case\n",
      "3.9 facility\n",
      "3.86 residents\n",
      "3.69 patients\n",
      "3.62 bed\n",
      "3.2 resident\n",
      "3.12 license\n",
      "3.04 hospital\n",
      "2.98 virginia\n",
      "2.93 state\n",
      "2.88 teaching\n",
      "2.86 licensure\n",
      "2.78 omniplex\n",
      "2.73 medications\n",
      "2.7 nurses\n",
      "2.7 educator\n",
      "2.63 temporary\n",
      "2.58 medication\n",
      "2.51 reference\n",
      "2.49 staffing\n",
      "2.48 bsn\n",
      "2.38 education\n",
      "2.31 mtf\n",
      "2.3 week\n",
      "2.28 specialty\n",
      "2.26 aide\n",
      "2.25 DGDGDG\n",
      "2.24 physician\n",
      "2.22 kaplan\n",
      "2.2 living\n",
      "2.2 clinical\n",
      "2.2 unit\n",
      "2.19 evidence\n",
      "2.19 acute\n",
      "2.16 unrestricted\n",
      "2.15 cpr\n",
      "2.13 bae\n",
      "2.13 clinic\n",
      "2.12 community\n",
      "2.1 er\n"
     ]
    }
   ],
   "source": [
    "n=50\n",
    "classifier=lgst_l2\n",
    "\n",
    "feature_names = vectorizer.get_feature_names()\n",
    "    \n",
    "topn_class1 = sorted(zip(classifier.coef_[2], feature_names))[:n]\n",
    "topn_class2 = sorted(zip(classifier.coef_[2], feature_names))[-n:]\n",
    "# for coef, feat in topn_class1:\n",
    "#     print (round(coef,2), feat)\n",
    "\n",
    "# print()\n",
    "\n",
    "for coef, feat in reversed(topn_class2):\n",
    "    print (round(coef,2), feat)"
   ]
  },
  {
   "cell_type": "code",
   "execution_count": 94,
   "metadata": {},
   "outputs": [
    {
     "name": "stdout",
     "output_type": "stream",
     "text": [
      "34.61 developer\n",
      "15.91 software\n",
      "8.91 oracle\n",
      "6.75 programming\n",
      "5.21 development\n",
      "4.47 based\n",
      "4.32 java\n",
      "4.2 iams\n",
      "4.17 bsa\n",
      "4.13 asp.net\n",
      "3.94 c\n",
      "3.75 architect\n",
      "3.63 reston\n",
      "3.58 team\n",
      "3.49 new\n",
      "3.45 integration\n",
      "3.44 science\n",
      "3.41 financials\n",
      "3.4 applications\n",
      "3.28 developers\n",
      "3.25 months\n",
      "3.23 pwc\n",
      "3.22 intern\n",
      "3.14 webmethods\n",
      "3.13 hyperion\n",
      "3.12 docker\n",
      "3.11 develops\n",
      "3.1 elements\n",
      "3.1 develop\n",
      "3.08 business\n",
      "3.07 in-service\n",
      "3.05 salesforce\n",
      "3.03 scenario\n",
      "3.01 frequently\n",
      "2.99 architectural\n",
      "2.96 demand\n",
      "2.95 sql\n",
      "2.93 refresh\n",
      "2.92 engage\n",
      "2.91 dba\n",
      "2.9 senior\n",
      "2.87 cross-functional\n",
      "2.87 specify\n",
      "2.87 computing\n",
      "2.86 hands-on\n",
      "2.86 modules\n",
      "2.84 analysts\n",
      "2.81 usa-new\n",
      "2.78 curriculum\n",
      "2.77 pega\n"
     ]
    }
   ],
   "source": [
    "n=50\n",
    "classifier=lgst_l2\n",
    "\n",
    "feature_names = vectorizer.get_feature_names()\n",
    "    \n",
    "topn_class1 = sorted(zip(classifier.coef_[3], feature_names))[:n]\n",
    "topn_class2 = sorted(zip(classifier.coef_[3], feature_names))[-n:]\n",
    "# for coef, feat in topn_class1:\n",
    "#     print (round(coef,2), feat)\n",
    "\n",
    "# print()\n",
    "\n",
    "for coef, feat in reversed(topn_class2):\n",
    "    print (round(coef,2), feat)"
   ]
  },
  {
   "cell_type": "code",
   "execution_count": 40,
   "metadata": {},
   "outputs": [],
   "source": [
    "filename = '/Users/kwheatley/Desktop/Capstone/indeed_job_postings.csv'\n",
    "indeed_data = pd.read_csv(filename, header=None)"
   ]
  },
  {
   "cell_type": "code",
   "execution_count": 1,
   "metadata": {},
   "outputs": [
    {
     "ename": "NameError",
     "evalue": "name 'open_data' is not defined",
     "output_type": "error",
     "traceback": [
      "\u001b[0;31m---------------------------------------------------------------------------\u001b[0m",
      "\u001b[0;31mNameError\u001b[0m                                 Traceback (most recent call last)",
      "\u001b[0;32m<ipython-input-1-116eb646b5d4>\u001b[0m in \u001b[0;36m<module>\u001b[0;34m()\u001b[0m\n\u001b[0;32m----> 1\u001b[0;31m \u001b[0mprint\u001b[0m\u001b[0;34m(\u001b[0m\u001b[0;34m\"Count unique OPEN DATA titles:\"\u001b[0m\u001b[0;34m,\u001b[0m \u001b[0mopen_data\u001b[0m\u001b[0;34m.\u001b[0m\u001b[0mtitle\u001b[0m\u001b[0;34m.\u001b[0m\u001b[0mnunique\u001b[0m\u001b[0;34m(\u001b[0m\u001b[0;34m)\u001b[0m\u001b[0;34m)\u001b[0m\u001b[0;34m\u001b[0m\u001b[0m\n\u001b[0m\u001b[1;32m      2\u001b[0m \u001b[0mprint\u001b[0m\u001b[0;34m(\u001b[0m\u001b[0;34m\"Count OPEN DATA records:\"\u001b[0m\u001b[0;34m,\u001b[0m \u001b[0mopen_data\u001b[0m\u001b[0;34m.\u001b[0m\u001b[0mdatePosted\u001b[0m\u001b[0;34m.\u001b[0m\u001b[0mcount\u001b[0m\u001b[0;34m(\u001b[0m\u001b[0;34m)\u001b[0m\u001b[0;34m)\u001b[0m\u001b[0;34m\u001b[0m\u001b[0m\n\u001b[1;32m      3\u001b[0m \u001b[0mprint\u001b[0m\u001b[0;34m(\u001b[0m\u001b[0;34m\"Count OPEN DATA records blank O*NET NAME:\"\u001b[0m\u001b[0;34m,\u001b[0m \u001b[0mopen_data\u001b[0m\u001b[0;34m[\u001b[0m\u001b[0mopen_data\u001b[0m\u001b[0;34m.\u001b[0m\u001b[0monetName\u001b[0m\u001b[0;34m.\u001b[0m\u001b[0misnull\u001b[0m\u001b[0;34m(\u001b[0m\u001b[0;34m)\u001b[0m\u001b[0;34m]\u001b[0m\u001b[0;34m.\u001b[0m\u001b[0mdatePosted\u001b[0m\u001b[0;34m.\u001b[0m\u001b[0mcount\u001b[0m\u001b[0;34m(\u001b[0m\u001b[0;34m)\u001b[0m\u001b[0;34m)\u001b[0m\u001b[0;34m\u001b[0m\u001b[0m\n",
      "\u001b[0;31mNameError\u001b[0m: name 'open_data' is not defined"
     ]
    }
   ],
   "source": [
    "print(\"Count unique OPEN DATA titles:\", open_data.title.nunique())\n",
    "print(\"Count OPEN DATA records:\", open_data.datePosted.count())\n",
    "print(\"Count OPEN DATA records blank O*NET NAME:\", open_data[open_data.onetName.isnull()].datePosted.count())"
   ]
  },
  {
   "cell_type": "code",
   "execution_count": 7,
   "metadata": {},
   "outputs": [
    {
     "ename": "AttributeError",
     "evalue": "'DataFrame' object has no attribute 'title'",
     "output_type": "error",
     "traceback": [
      "\u001b[0;31m---------------------------------------------------------------------------\u001b[0m",
      "\u001b[0;31mAttributeError\u001b[0m                            Traceback (most recent call last)",
      "\u001b[0;32m<ipython-input-7-c05d24c9bc44>\u001b[0m in \u001b[0;36m<module>\u001b[0;34m()\u001b[0m\n\u001b[0;32m----> 1\u001b[0;31m \u001b[0mprint\u001b[0m\u001b[0;34m(\u001b[0m\u001b[0;34m\"Count unique INDEED titles:\"\u001b[0m\u001b[0;34m,\u001b[0m \u001b[0mindeed_data\u001b[0m\u001b[0;34m.\u001b[0m\u001b[0mtitle\u001b[0m\u001b[0;34m.\u001b[0m\u001b[0mnunique\u001b[0m\u001b[0;34m(\u001b[0m\u001b[0;34m)\u001b[0m\u001b[0;34m)\u001b[0m\u001b[0;34m\u001b[0m\u001b[0m\n\u001b[0m\u001b[1;32m      2\u001b[0m \u001b[0mprint\u001b[0m\u001b[0;34m(\u001b[0m\u001b[0;34m\"Count unique INDEED records:\"\u001b[0m\u001b[0;34m,\u001b[0m \u001b[0mindeed_data\u001b[0m\u001b[0;34m.\u001b[0m\u001b[0mid\u001b[0m\u001b[0;34m.\u001b[0m\u001b[0mcount\u001b[0m\u001b[0;34m(\u001b[0m\u001b[0;34m)\u001b[0m\u001b[0;34m)\u001b[0m\u001b[0;34m\u001b[0m\u001b[0m\n",
      "\u001b[0;32m/Users/kwheatley/anaconda/envs/python36/lib/python3.6/site-packages/pandas/core/generic.py\u001b[0m in \u001b[0;36m__getattr__\u001b[0;34m(self, name)\u001b[0m\n\u001b[1;32m   2968\u001b[0m             \u001b[0;32mif\u001b[0m \u001b[0mname\u001b[0m \u001b[0;32min\u001b[0m \u001b[0mself\u001b[0m\u001b[0;34m.\u001b[0m\u001b[0m_info_axis\u001b[0m\u001b[0;34m:\u001b[0m\u001b[0;34m\u001b[0m\u001b[0m\n\u001b[1;32m   2969\u001b[0m                 \u001b[0;32mreturn\u001b[0m \u001b[0mself\u001b[0m\u001b[0;34m[\u001b[0m\u001b[0mname\u001b[0m\u001b[0;34m]\u001b[0m\u001b[0;34m\u001b[0m\u001b[0m\n\u001b[0;32m-> 2970\u001b[0;31m             \u001b[0;32mreturn\u001b[0m \u001b[0mobject\u001b[0m\u001b[0;34m.\u001b[0m\u001b[0m__getattribute__\u001b[0m\u001b[0;34m(\u001b[0m\u001b[0mself\u001b[0m\u001b[0;34m,\u001b[0m \u001b[0mname\u001b[0m\u001b[0;34m)\u001b[0m\u001b[0;34m\u001b[0m\u001b[0m\n\u001b[0m\u001b[1;32m   2971\u001b[0m \u001b[0;34m\u001b[0m\u001b[0m\n\u001b[1;32m   2972\u001b[0m     \u001b[0;32mdef\u001b[0m \u001b[0m__setattr__\u001b[0m\u001b[0;34m(\u001b[0m\u001b[0mself\u001b[0m\u001b[0;34m,\u001b[0m \u001b[0mname\u001b[0m\u001b[0;34m,\u001b[0m \u001b[0mvalue\u001b[0m\u001b[0;34m)\u001b[0m\u001b[0;34m:\u001b[0m\u001b[0;34m\u001b[0m\u001b[0m\n",
      "\u001b[0;31mAttributeError\u001b[0m: 'DataFrame' object has no attribute 'title'"
     ]
    }
   ],
   "source": [
    "print(\"Count unique INDEED titles:\", indeed_data.title.nunique())\n",
    "print(\"Count unique INDEED records:\", indeed_data.id.count())"
   ]
  },
  {
   "cell_type": "code",
   "execution_count": 43,
   "metadata": {
    "scrolled": true
   },
   "outputs": [],
   "source": [
    "indeed_data.columns = ['company','date','days','id',\n",
    "                      'location','ignore','id','search','description',\n",
    "                      'title','url']"
   ]
  },
  {
   "cell_type": "code",
   "execution_count": 45,
   "metadata": {},
   "outputs": [],
   "source": [
    "pd.DataFrame(indeed_data.title.unique()).to_csv(\"temp.csv\")"
   ]
  },
  {
   "cell_type": "code",
   "execution_count": 49,
   "metadata": {},
   "outputs": [],
   "source": [
    "indeed_data.title = indeed_data.title.apply(lambda x: re.sub(r'\\W+', ' ', x))\n",
    "indeed_data.title = indeed_data.title.apply(lambda x: re.sub(r'[0-9]+', '', x).strip())\n",
    "# indeed_data.title = indeed_data.title.apply(lambda x: re.sub('[^a-zA-Z]+', '', x).strip())\n"
   ]
  },
  {
   "cell_type": "code",
   "execution_count": 50,
   "metadata": {},
   "outputs": [],
   "source": [
    "indeed_data.groupby(['title','search']).count().to_csv(\"temp.csv\")"
   ]
  },
  {
   "cell_type": "code",
   "execution_count": 26,
   "metadata": {},
   "outputs": [
    {
     "data": {
      "text/html": [
       "<div>\n",
       "<style>\n",
       "    .dataframe thead tr:only-child th {\n",
       "        text-align: right;\n",
       "    }\n",
       "\n",
       "    .dataframe thead th {\n",
       "        text-align: left;\n",
       "    }\n",
       "\n",
       "    .dataframe tbody tr th {\n",
       "        vertical-align: top;\n",
       "    }\n",
       "</style>\n",
       "<table border=\"1\" class=\"dataframe\">\n",
       "  <thead>\n",
       "    <tr style=\"text-align: right;\">\n",
       "      <th></th>\n",
       "      <th>company</th>\n",
       "      <th>date</th>\n",
       "      <th>days</th>\n",
       "      <th>id</th>\n",
       "      <th>location</th>\n",
       "      <th>ignore</th>\n",
       "      <th>id</th>\n",
       "      <th>search</th>\n",
       "      <th>description</th>\n",
       "      <th>title</th>\n",
       "      <th>url</th>\n",
       "    </tr>\n",
       "  </thead>\n",
       "  <tbody>\n",
       "    <tr>\n",
       "      <th>0</th>\n",
       "      <td>Murdock Martell</td>\n",
       "      <td>2018-03-19T02:58:33</td>\n",
       "      <td>12</td>\n",
       "      <td>c54bc3126565a2b5</td>\n",
       "      <td>Saratoga, CA 95070</td>\n",
       "      <td>Not_Found</td>\n",
       "      <td>1522490313</td>\n",
       "      <td>Accounting</td>\n",
       "      <td>We have an Accounting Manager opening with our...</td>\n",
       "      <td>Accounting Manager</td>\n",
       "      <td>https://www.indeed.com/m/viewjob?jk=c54bc31265...</td>\n",
       "    </tr>\n",
       "    <tr>\n",
       "      <th>1</th>\n",
       "      <td>SSL (Space Systems Loral)</td>\n",
       "      <td>2018-03-30T02:58:35</td>\n",
       "      <td>1</td>\n",
       "      <td>7870c55efdd96581</td>\n",
       "      <td>Palo Alto, CA 94303</td>\n",
       "      <td>Not_Found</td>\n",
       "      <td>1522490315</td>\n",
       "      <td>Accounting</td>\n",
       "      <td>SSL is seeking an Accounting Manager to manage...</td>\n",
       "      <td>Accounting Manager</td>\n",
       "      <td>https://www.indeed.com/m/viewjob?jk=7870c55efd...</td>\n",
       "    </tr>\n",
       "    <tr>\n",
       "      <th>2</th>\n",
       "      <td>Accounting Principals</td>\n",
       "      <td>2018-03-11T02:58:43</td>\n",
       "      <td>20</td>\n",
       "      <td>3595884323690603</td>\n",
       "      <td>San Jose, CA 95110</td>\n",
       "      <td>Not_Found</td>\n",
       "      <td>1522490323</td>\n",
       "      <td>Accounting</td>\n",
       "      <td>Accounting Specialist Job in San Jose  Are you...</td>\n",
       "      <td>Accounting Specialist</td>\n",
       "      <td>https://www.indeed.com/m/viewjob?jk=3595884323...</td>\n",
       "    </tr>\n",
       "    <tr>\n",
       "      <th>3</th>\n",
       "      <td>Interesse International Inc</td>\n",
       "      <td>2018-03-22T02:58:46</td>\n",
       "      <td>9</td>\n",
       "      <td>16d6225e941ef5f8</td>\n",
       "      <td>San Jose, CA</td>\n",
       "      <td>Not_Found</td>\n",
       "      <td>1522490326</td>\n",
       "      <td>Accounting</td>\n",
       "      <td>- Manage / Responsible for daily accounting tr...</td>\n",
       "      <td>Accounting Manager</td>\n",
       "      <td>https://www.indeed.com/m/viewjob?jk=16d6225e94...</td>\n",
       "    </tr>\n",
       "    <tr>\n",
       "      <th>4</th>\n",
       "      <td>Hampton Inn Manhattan/Times Square South</td>\n",
       "      <td>2018-03-13T23:06:34</td>\n",
       "      <td>17</td>\n",
       "      <td>f141b703641cd1c7</td>\n",
       "      <td>New York, NY 10018</td>\n",
       "      <td>Not_Found</td>\n",
       "      <td>1522476394</td>\n",
       "      <td>Accounting</td>\n",
       "      <td>**Opportunity: Accounting Clerk**  Verify, obt...</td>\n",
       "      <td>Accounting Clerk</td>\n",
       "      <td>https://www.indeed.com/m/viewjob?jk=f141b70364...</td>\n",
       "    </tr>\n",
       "  </tbody>\n",
       "</table>\n",
       "</div>"
      ],
      "text/plain": [
       "                                    company                 date days  \\\n",
       "0                           Murdock Martell  2018-03-19T02:58:33   12   \n",
       "1                 SSL (Space Systems Loral)  2018-03-30T02:58:35    1   \n",
       "2                     Accounting Principals  2018-03-11T02:58:43   20   \n",
       "3               Interesse International Inc  2018-03-22T02:58:46    9   \n",
       "4  Hampton Inn Manhattan/Times Square South  2018-03-13T23:06:34   17   \n",
       "\n",
       "                 id             location     ignore          id      search  \\\n",
       "0  c54bc3126565a2b5   Saratoga, CA 95070  Not_Found  1522490313  Accounting   \n",
       "1  7870c55efdd96581  Palo Alto, CA 94303  Not_Found  1522490315  Accounting   \n",
       "2  3595884323690603   San Jose, CA 95110  Not_Found  1522490323  Accounting   \n",
       "3  16d6225e941ef5f8         San Jose, CA  Not_Found  1522490326  Accounting   \n",
       "4  f141b703641cd1c7   New York, NY 10018  Not_Found  1522476394  Accounting   \n",
       "\n",
       "                                         description                  title  \\\n",
       "0  We have an Accounting Manager opening with our...     Accounting Manager   \n",
       "1  SSL is seeking an Accounting Manager to manage...     Accounting Manager   \n",
       "2  Accounting Specialist Job in San Jose  Are you...  Accounting Specialist   \n",
       "3  - Manage / Responsible for daily accounting tr...     Accounting Manager   \n",
       "4  **Opportunity: Accounting Clerk**  Verify, obt...       Accounting Clerk   \n",
       "\n",
       "                                                 url  \n",
       "0  https://www.indeed.com/m/viewjob?jk=c54bc31265...  \n",
       "1  https://www.indeed.com/m/viewjob?jk=7870c55efd...  \n",
       "2  https://www.indeed.com/m/viewjob?jk=3595884323...  \n",
       "3  https://www.indeed.com/m/viewjob?jk=16d6225e94...  \n",
       "4  https://www.indeed.com/m/viewjob?jk=f141b70364...  "
      ]
     },
     "execution_count": 26,
     "metadata": {},
     "output_type": "execute_result"
    }
   ],
   "source": [
    "indeed_data.head()"
   ]
  },
  {
   "cell_type": "code",
   "execution_count": 51,
   "metadata": {},
   "outputs": [
    {
     "ename": "DefaultCredentialsError",
     "evalue": "Could not automatically determine credentials. Please set GOOGLE_APPLICATION_CREDENTIALS or explicitly create credentials and re-run the application. For more information, please see https://developers.google.com/accounts/docs/application-default-credentials.",
     "output_type": "error",
     "traceback": [
      "\u001b[0;31m---------------------------------------------------------------------------\u001b[0m",
      "\u001b[0;31mDefaultCredentialsError\u001b[0m                   Traceback (most recent call last)",
      "\u001b[0;32m<ipython-input-51-05bb5fd228b6>\u001b[0m in \u001b[0;36m<module>\u001b[0;34m()\u001b[0m\n\u001b[1;32m      4\u001b[0m \u001b[0;34m\u001b[0m\u001b[0m\n\u001b[1;32m      5\u001b[0m \u001b[0;31m# Create a storage client.\u001b[0m\u001b[0;34m\u001b[0m\u001b[0;34m\u001b[0m\u001b[0m\n\u001b[0;32m----> 6\u001b[0;31m \u001b[0mstorage_client\u001b[0m \u001b[0;34m=\u001b[0m \u001b[0mgoogle\u001b[0m\u001b[0;34m.\u001b[0m\u001b[0mcloud\u001b[0m\u001b[0;34m.\u001b[0m\u001b[0mstorage\u001b[0m\u001b[0;34m.\u001b[0m\u001b[0mClient\u001b[0m\u001b[0;34m(\u001b[0m\u001b[0;34m)\u001b[0m\u001b[0;34m\u001b[0m\u001b[0m\n\u001b[0m\u001b[1;32m      7\u001b[0m \u001b[0;34m\u001b[0m\u001b[0m\n\u001b[1;32m      8\u001b[0m \u001b[0;31m# TODO (Developer): Replace this with your Cloud Storage bucket name.\u001b[0m\u001b[0;34m\u001b[0m\u001b[0;34m\u001b[0m\u001b[0m\n",
      "\u001b[0;32m/Users/kwheatley/anaconda/envs/python36/lib/python3.6/site-packages/google/cloud/storage/client.py\u001b[0m in \u001b[0;36m__init__\u001b[0;34m(self, project, credentials, _http)\u001b[0m\n\u001b[1;32m     69\u001b[0m             \u001b[0mproject\u001b[0m \u001b[0;34m=\u001b[0m \u001b[0;32mNone\u001b[0m\u001b[0;34m\u001b[0m\u001b[0m\n\u001b[1;32m     70\u001b[0m         super(Client, self).__init__(project=project, credentials=credentials,\n\u001b[0;32m---> 71\u001b[0;31m                                      _http=_http)\n\u001b[0m\u001b[1;32m     72\u001b[0m         \u001b[0;32mif\u001b[0m \u001b[0mno_project\u001b[0m\u001b[0;34m:\u001b[0m\u001b[0;34m\u001b[0m\u001b[0m\n\u001b[1;32m     73\u001b[0m             \u001b[0mself\u001b[0m\u001b[0;34m.\u001b[0m\u001b[0mproject\u001b[0m \u001b[0;34m=\u001b[0m \u001b[0;32mNone\u001b[0m\u001b[0;34m\u001b[0m\u001b[0m\n",
      "\u001b[0;32m/Users/kwheatley/anaconda/envs/python36/lib/python3.6/site-packages/google/cloud/client.py\u001b[0m in \u001b[0;36m__init__\u001b[0;34m(self, project, credentials, _http)\u001b[0m\n\u001b[1;32m    213\u001b[0m \u001b[0;34m\u001b[0m\u001b[0m\n\u001b[1;32m    214\u001b[0m     \u001b[0;32mdef\u001b[0m \u001b[0m__init__\u001b[0m\u001b[0;34m(\u001b[0m\u001b[0mself\u001b[0m\u001b[0;34m,\u001b[0m \u001b[0mproject\u001b[0m\u001b[0;34m=\u001b[0m\u001b[0;32mNone\u001b[0m\u001b[0;34m,\u001b[0m \u001b[0mcredentials\u001b[0m\u001b[0;34m=\u001b[0m\u001b[0;32mNone\u001b[0m\u001b[0;34m,\u001b[0m \u001b[0m_http\u001b[0m\u001b[0;34m=\u001b[0m\u001b[0;32mNone\u001b[0m\u001b[0;34m)\u001b[0m\u001b[0;34m:\u001b[0m\u001b[0;34m\u001b[0m\u001b[0m\n\u001b[0;32m--> 215\u001b[0;31m         \u001b[0m_ClientProjectMixin\u001b[0m\u001b[0;34m.\u001b[0m\u001b[0m__init__\u001b[0m\u001b[0;34m(\u001b[0m\u001b[0mself\u001b[0m\u001b[0;34m,\u001b[0m \u001b[0mproject\u001b[0m\u001b[0;34m=\u001b[0m\u001b[0mproject\u001b[0m\u001b[0;34m)\u001b[0m\u001b[0;34m\u001b[0m\u001b[0m\n\u001b[0m\u001b[1;32m    216\u001b[0m         \u001b[0mClient\u001b[0m\u001b[0;34m.\u001b[0m\u001b[0m__init__\u001b[0m\u001b[0;34m(\u001b[0m\u001b[0mself\u001b[0m\u001b[0;34m,\u001b[0m \u001b[0mcredentials\u001b[0m\u001b[0;34m=\u001b[0m\u001b[0mcredentials\u001b[0m\u001b[0;34m,\u001b[0m \u001b[0m_http\u001b[0m\u001b[0;34m=\u001b[0m\u001b[0m_http\u001b[0m\u001b[0;34m)\u001b[0m\u001b[0;34m\u001b[0m\u001b[0m\n",
      "\u001b[0;32m/Users/kwheatley/anaconda/envs/python36/lib/python3.6/site-packages/google/cloud/client.py\u001b[0m in \u001b[0;36m__init__\u001b[0;34m(self, project)\u001b[0m\n\u001b[1;32m    167\u001b[0m \u001b[0;34m\u001b[0m\u001b[0m\n\u001b[1;32m    168\u001b[0m     \u001b[0;32mdef\u001b[0m \u001b[0m__init__\u001b[0m\u001b[0;34m(\u001b[0m\u001b[0mself\u001b[0m\u001b[0;34m,\u001b[0m \u001b[0mproject\u001b[0m\u001b[0;34m=\u001b[0m\u001b[0;32mNone\u001b[0m\u001b[0;34m)\u001b[0m\u001b[0;34m:\u001b[0m\u001b[0;34m\u001b[0m\u001b[0m\n\u001b[0;32m--> 169\u001b[0;31m         \u001b[0mproject\u001b[0m \u001b[0;34m=\u001b[0m \u001b[0mself\u001b[0m\u001b[0;34m.\u001b[0m\u001b[0m_determine_default\u001b[0m\u001b[0;34m(\u001b[0m\u001b[0mproject\u001b[0m\u001b[0;34m)\u001b[0m\u001b[0;34m\u001b[0m\u001b[0m\n\u001b[0m\u001b[1;32m    170\u001b[0m         \u001b[0;32mif\u001b[0m \u001b[0mproject\u001b[0m \u001b[0;32mis\u001b[0m \u001b[0;32mNone\u001b[0m\u001b[0;34m:\u001b[0m\u001b[0;34m\u001b[0m\u001b[0m\n\u001b[1;32m    171\u001b[0m             raise EnvironmentError('Project was not passed and could not be '\n",
      "\u001b[0;32m/Users/kwheatley/anaconda/envs/python36/lib/python3.6/site-packages/google/cloud/client.py\u001b[0m in \u001b[0;36m_determine_default\u001b[0;34m(project)\u001b[0m\n\u001b[1;32m    180\u001b[0m     \u001b[0;32mdef\u001b[0m \u001b[0m_determine_default\u001b[0m\u001b[0;34m(\u001b[0m\u001b[0mproject\u001b[0m\u001b[0;34m)\u001b[0m\u001b[0;34m:\u001b[0m\u001b[0;34m\u001b[0m\u001b[0m\n\u001b[1;32m    181\u001b[0m         \u001b[0;34m\"\"\"Helper:  use default project detection.\"\"\"\u001b[0m\u001b[0;34m\u001b[0m\u001b[0m\n\u001b[0;32m--> 182\u001b[0;31m         \u001b[0;32mreturn\u001b[0m \u001b[0m_determine_default_project\u001b[0m\u001b[0;34m(\u001b[0m\u001b[0mproject\u001b[0m\u001b[0;34m)\u001b[0m\u001b[0;34m\u001b[0m\u001b[0m\n\u001b[0m\u001b[1;32m    183\u001b[0m \u001b[0;34m\u001b[0m\u001b[0m\n\u001b[1;32m    184\u001b[0m \u001b[0;34m\u001b[0m\u001b[0m\n",
      "\u001b[0;32m/Users/kwheatley/anaconda/envs/python36/lib/python3.6/site-packages/google/cloud/_helpers.py\u001b[0m in \u001b[0;36m_determine_default_project\u001b[0;34m(project)\u001b[0m\n\u001b[1;32m    177\u001b[0m     \"\"\"\n\u001b[1;32m    178\u001b[0m     \u001b[0;32mif\u001b[0m \u001b[0mproject\u001b[0m \u001b[0;32mis\u001b[0m \u001b[0;32mNone\u001b[0m\u001b[0;34m:\u001b[0m\u001b[0;34m\u001b[0m\u001b[0m\n\u001b[0;32m--> 179\u001b[0;31m         \u001b[0m_\u001b[0m\u001b[0;34m,\u001b[0m \u001b[0mproject\u001b[0m \u001b[0;34m=\u001b[0m \u001b[0mgoogle\u001b[0m\u001b[0;34m.\u001b[0m\u001b[0mauth\u001b[0m\u001b[0;34m.\u001b[0m\u001b[0mdefault\u001b[0m\u001b[0;34m(\u001b[0m\u001b[0;34m)\u001b[0m\u001b[0;34m\u001b[0m\u001b[0m\n\u001b[0m\u001b[1;32m    180\u001b[0m     \u001b[0;32mreturn\u001b[0m \u001b[0mproject\u001b[0m\u001b[0;34m\u001b[0m\u001b[0m\n\u001b[1;32m    181\u001b[0m \u001b[0;34m\u001b[0m\u001b[0m\n",
      "\u001b[0;32m/Users/kwheatley/anaconda/envs/python36/lib/python3.6/site-packages/google/auth/_default.py\u001b[0m in \u001b[0;36mdefault\u001b[0;34m(scopes, request)\u001b[0m\n\u001b[1;32m    304\u001b[0m             \u001b[0;32mreturn\u001b[0m \u001b[0mcredentials\u001b[0m\u001b[0;34m,\u001b[0m \u001b[0meffective_project_id\u001b[0m\u001b[0;34m\u001b[0m\u001b[0m\n\u001b[1;32m    305\u001b[0m \u001b[0;34m\u001b[0m\u001b[0m\n\u001b[0;32m--> 306\u001b[0;31m     \u001b[0;32mraise\u001b[0m \u001b[0mexceptions\u001b[0m\u001b[0;34m.\u001b[0m\u001b[0mDefaultCredentialsError\u001b[0m\u001b[0;34m(\u001b[0m\u001b[0m_HELP_MESSAGE\u001b[0m\u001b[0;34m)\u001b[0m\u001b[0;34m\u001b[0m\u001b[0m\n\u001b[0m",
      "\u001b[0;31mDefaultCredentialsError\u001b[0m: Could not automatically determine credentials. Please set GOOGLE_APPLICATION_CREDENTIALS or explicitly create credentials and re-run the application. For more information, please see https://developers.google.com/accounts/docs/application-default-credentials."
     ]
    }
   ],
   "source": [
    "import os\n",
    "\n",
    "import google.cloud.storage\n",
    "\n",
    "# Create a storage client.\n",
    "storage_client = google.cloud.storage.Client()\n",
    "\n",
    "# TODO (Developer): Replace this with your Cloud Storage bucket name.\n",
    "bucket_name = 'Name of a bucket, for example my-bucket'\n",
    "bucket = storage_client.get_bucket(bucket_name)\n",
    "\n",
    "# TODO (Developer): Replace this with the name of the local file to upload.\n",
    "source_file_name = 'Local file to upload, for example ./file.txt'\n",
    "blob = bucket.blob(os.path.basename(source_file_name))\n",
    "\n",
    "# Upload the local file to Cloud Storage.\n",
    "blob.upload_from_filename(source_file_name)\n",
    "\n",
    "print('File {} uploaded to {}.'.format(\n",
    "    source_file_name,\n",
    "    bucket))\n"
   ]
  },
  {
   "cell_type": "code",
   "execution_count": null,
   "metadata": {},
   "outputs": [],
   "source": []
  }
 ],
 "metadata": {
  "anaconda-cloud": {},
  "celltoolbar": "Hide code",
  "hide_code_all_hidden": false,
  "kernelspec": {
   "display_name": "Python [conda env:python36]",
   "language": "python",
   "name": "conda-env-python36-py"
  },
  "language_info": {
   "codemirror_mode": {
    "name": "ipython",
    "version": 3
   },
   "file_extension": ".py",
   "mimetype": "text/x-python",
   "name": "python",
   "nbconvert_exporter": "python",
   "pygments_lexer": "ipython3",
   "version": "3.6.1"
  }
 },
 "nbformat": 4,
 "nbformat_minor": 2
}
