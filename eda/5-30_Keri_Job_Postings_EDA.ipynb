{
 "cells": [
  {
   "cell_type": "code",
   "execution_count": 27,
   "metadata": {
    "hideCode": false,
    "hidePrompt": false
   },
   "outputs": [],
   "source": [
    "import numpy as np\n",
    "import pandas as pd\n",
    "import re\n",
    "import pickle\n",
    "import itertools\n",
    "from __future__ import print_function\n",
    "from __future__ import division\n",
    "import matplotlib.pyplot as plt\n",
    "from collections import Counter\n",
    "import matplotlib.pyplot as plt\n",
    "import csv\n",
    "from datetime import datetime\n",
    "\n",
    "\n",
    "# SK-learn libraries for learning.\n",
    "#from sklearn.pipeline import Pipeline\n",
    "#from sklearn.grid_search import GridSearchCV\n",
    "from sklearn.naive_bayes import MultinomialNB\n",
    "from sklearn.linear_model import LogisticRegression\n",
    "from sklearn.linear_model import LinearRegression\n",
    "from sklearn.linear_model import Ridge\n",
    "from sklearn.linear_model import Lasso\n",
    "from sklearn.linear_model import ElasticNet\n",
    "from sklearn.linear_model import SGDClassifier\n",
    "\n",
    "# SK-learn libraries for evaluation.\n",
    "from sklearn.metrics import confusion_matrix\n",
    "from sklearn import metrics\n",
    "from sklearn.metrics import classification_report\n",
    "from sklearn.model_selection import train_test_split\n",
    "\n",
    "# SK-learn libraries for feature extraction from text.\n",
    "from sklearn.feature_extraction.text import *\n",
    "\n",
    "# NLTK libs\n",
    "from nltk.tokenize import TweetTokenizer\n",
    "\n",
    "import dask.dataframe as dd"
   ]
  },
  {
   "cell_type": "code",
   "execution_count": 2,
   "metadata": {
    "hideCode": false,
    "hidePrompt": false
   },
   "outputs": [],
   "source": [
    "file_list = [\n",
    "'01openjobs-jobpostings.mar-2016.csv',\n",
    "'02openjobs-jobpostings.apr-2016.csv',\n",
    "'03openjobs-jobpostings.may-2016.csv',\n",
    "'04openjobs-jobpostings.jun-2016.csv',\n",
    "'05openjobs-jobpostings.jul-2016.csv',\n",
    "'06openjobs-jobpostings.aug-2016.csv',\n",
    "'07openjobs-jobpostings.sep-2016.csv',\n",
    "'08openjobs-jobpostings.oct-2016.csv',\n",
    "'09openjobs-jobpostings.nov-2016.csv',\n",
    "'10openjobs-jobpostings.dec-2016.csv',\n",
    "'11openjobs-jobpostings.jan-2017.csv',\n",
    "'12openjobs-jobpostings.feb-2017.csv',\n",
    "'13openjobs-jobpostings.mar-2017.csv',\n",
    "'14openjobs-jobpostings.apr-2017.csv',\n",
    "'15openjobs-jobpostings.may-2017.csv',\n",
    "'16openjobs-jobpostings.jun-2017.csv',\n",
    "'17openjobs-jobpostings.jul-2017.csv']"
   ]
  },
  {
   "cell_type": "code",
   "execution_count": 3,
   "metadata": {
    "hideCode": false,
    "hidePrompt": false
   },
   "outputs": [],
   "source": [
    "df = pd.DataFrame()\n",
    "for filename in file_list:\n",
    "    data = pd.read_csv(filename)\n",
    "    df = df.append(data)"
   ]
  },
  {
   "cell_type": "code",
   "execution_count": 4,
   "metadata": {
    "hideCode": false,
    "hidePrompt": false
   },
   "outputs": [
    {
     "data": {
      "text/plain": [
       "Unnamed: 0          846613\n",
       "datePosted          846613\n",
       "organizationName    843930\n",
       "title               846609\n",
       "onetName            705218\n",
       "onetCode            705218\n",
       "numberOfOpenings    846613\n",
       "medianSalary        846613\n",
       "jobDescription      846607\n",
       "locality            771794\n",
       "region              761879\n",
       "dtype: int64"
      ]
     },
     "execution_count": 4,
     "metadata": {},
     "output_type": "execute_result"
    }
   ],
   "source": [
    "df.count()"
   ]
  },
  {
   "cell_type": "code",
   "execution_count": 5,
   "metadata": {
    "hideCode": false,
    "hidePrompt": false
   },
   "outputs": [
    {
     "data": {
      "image/png": "[encoded data removed]",
      "text/plain": [
       "<matplotlib.figure.Figure at 0x117911f60>"
      ]
     },
     "metadata": {},
     "output_type": "display_data"
    }
   ],
   "source": [
    "df['datePosted'] = df.datePosted.map(lambda x: pd.to_datetime(x))\n",
    "\n",
    "cnt_timeline = df[df.datePosted >= '2016-01-01']\n",
    "cnt_timeline = cnt_timeline.groupby('datePosted').title.count().reset_index()\n",
    "\n",
    "plt.plot(cnt_timeline.datePosted,cnt_timeline.title)\n",
    "plt.show()"
   ]
  },
  {
   "cell_type": "code",
   "execution_count": 6,
   "metadata": {
    "hideCode": false,
    "hidePrompt": false
   },
   "outputs": [
    {
     "data": {
      "text/plain": [
       "Timestamp('2010-10-31 00:00:00')"
      ]
     },
     "execution_count": 6,
     "metadata": {},
     "output_type": "execute_result"
    }
   ],
   "source": [
    "df.datePosted.min()"
   ]
  },
  {
   "cell_type": "code",
   "execution_count": 7,
   "metadata": {
    "hideCode": false,
    "hidePrompt": false
   },
   "outputs": [
    {
     "data": {
      "text/html": [
       "<div>\n",
       "<style>\n",
       "    .dataframe thead tr:only-child th {\n",
       "        text-align: right;\n",
       "    }\n",
       "\n",
       "    .dataframe thead th {\n",
       "        text-align: left;\n",
       "    }\n",
       "\n",
       "    .dataframe tbody tr th {\n",
       "        vertical-align: top;\n",
       "    }\n",
       "</style>\n",
       "<table border=\"1\" class=\"dataframe\">\n",
       "  <thead>\n",
       "    <tr style=\"text-align: right;\">\n",
       "      <th></th>\n",
       "      <th>datePosted</th>\n",
       "      <th>title</th>\n",
       "    </tr>\n",
       "  </thead>\n",
       "  <tbody>\n",
       "    <tr>\n",
       "      <th>302</th>\n",
       "      <td>2016-03-17</td>\n",
       "      <td>59837</td>\n",
       "    </tr>\n",
       "    <tr>\n",
       "      <th>478</th>\n",
       "      <td>2016-09-09</td>\n",
       "      <td>59516</td>\n",
       "    </tr>\n",
       "    <tr>\n",
       "      <th>338</th>\n",
       "      <td>2016-04-22</td>\n",
       "      <td>26116</td>\n",
       "    </tr>\n",
       "    <tr>\n",
       "      <th>344</th>\n",
       "      <td>2016-04-28</td>\n",
       "      <td>8341</td>\n",
       "    </tr>\n",
       "    <tr>\n",
       "      <th>795</th>\n",
       "      <td>2017-07-29</td>\n",
       "      <td>7363</td>\n",
       "    </tr>\n",
       "  </tbody>\n",
       "</table>\n",
       "</div>"
      ],
      "text/plain": [
       "    datePosted  title\n",
       "302 2016-03-17  59837\n",
       "478 2016-09-09  59516\n",
       "338 2016-04-22  26116\n",
       "344 2016-04-28   8341\n",
       "795 2017-07-29   7363"
      ]
     },
     "execution_count": 7,
     "metadata": {},
     "output_type": "execute_result"
    }
   ],
   "source": [
    "df.groupby('datePosted').title.count().reset_index().sort_values(by='title',ascending=False).head()"
   ]
  },
  {
   "cell_type": "code",
   "execution_count": 8,
   "metadata": {
    "hideCode": false,
    "hidePrompt": false
   },
   "outputs": [
    {
     "data": {
      "text/html": [
       "<div>\n",
       "<style>\n",
       "    .dataframe thead tr:only-child th {\n",
       "        text-align: right;\n",
       "    }\n",
       "\n",
       "    .dataframe thead th {\n",
       "        text-align: left;\n",
       "    }\n",
       "\n",
       "    .dataframe tbody tr th {\n",
       "        vertical-align: top;\n",
       "    }\n",
       "</style>\n",
       "<table border=\"1\" class=\"dataframe\">\n",
       "  <thead>\n",
       "    <tr style=\"text-align: right;\">\n",
       "      <th></th>\n",
       "      <th>organizationName</th>\n",
       "      <th>title</th>\n",
       "    </tr>\n",
       "  </thead>\n",
       "  <tbody>\n",
       "    <tr>\n",
       "      <th>1116</th>\n",
       "      <td>Oracle</td>\n",
       "      <td>5299</td>\n",
       "    </tr>\n",
       "    <tr>\n",
       "      <th>1337</th>\n",
       "      <td>Sentara Health</td>\n",
       "      <td>1189</td>\n",
       "    </tr>\n",
       "    <tr>\n",
       "      <th>223</th>\n",
       "      <td>Booz Allen Hamilton</td>\n",
       "      <td>1133</td>\n",
       "    </tr>\n",
       "    <tr>\n",
       "      <th>1176</th>\n",
       "      <td>Pizza Hut</td>\n",
       "      <td>1090</td>\n",
       "    </tr>\n",
       "    <tr>\n",
       "      <th>285</th>\n",
       "      <td>CVS Health</td>\n",
       "      <td>1068</td>\n",
       "    </tr>\n",
       "  </tbody>\n",
       "</table>\n",
       "</div>"
      ],
      "text/plain": [
       "         organizationName  title\n",
       "1116               Oracle   5299\n",
       "1337       Sentara Health   1189\n",
       "223   Booz Allen Hamilton   1133\n",
       "1176            Pizza Hut   1090\n",
       "285            CVS Health   1068"
      ]
     },
     "execution_count": 8,
     "metadata": {},
     "output_type": "execute_result"
    }
   ],
   "source": [
    "df[df.datePosted == '2016-03-17'].groupby('organizationName').title.count()\\\n",
    "    .reset_index().sort_values(by='title',ascending=False).head()"
   ]
  },
  {
   "cell_type": "code",
   "execution_count": 9,
   "metadata": {
    "hideCode": false,
    "hidePrompt": false
   },
   "outputs": [
    {
     "data": {
      "text/html": [
       "<div>\n",
       "<style>\n",
       "    .dataframe thead tr:only-child th {\n",
       "        text-align: right;\n",
       "    }\n",
       "\n",
       "    .dataframe thead th {\n",
       "        text-align: left;\n",
       "    }\n",
       "\n",
       "    .dataframe tbody tr th {\n",
       "        vertical-align: top;\n",
       "    }\n",
       "</style>\n",
       "<table border=\"1\" class=\"dataframe\">\n",
       "  <thead>\n",
       "    <tr style=\"text-align: right;\">\n",
       "      <th></th>\n",
       "      <th>title</th>\n",
       "      <th>datePosted</th>\n",
       "    </tr>\n",
       "  </thead>\n",
       "  <tbody>\n",
       "    <tr>\n",
       "      <th>20</th>\n",
       "      <td>Applications Sales Representative III</td>\n",
       "      <td>215</td>\n",
       "    </tr>\n",
       "    <tr>\n",
       "      <th>297</th>\n",
       "      <td>Principal Sales Consultant</td>\n",
       "      <td>207</td>\n",
       "    </tr>\n",
       "    <tr>\n",
       "      <th>25</th>\n",
       "      <td>Applications Sales Representative V</td>\n",
       "      <td>180</td>\n",
       "    </tr>\n",
       "    <tr>\n",
       "      <th>68</th>\n",
       "      <td>CRM Applications Sales Rep</td>\n",
       "      <td>150</td>\n",
       "    </tr>\n",
       "    <tr>\n",
       "      <th>398</th>\n",
       "      <td>Senior Principal Consultant</td>\n",
       "      <td>130</td>\n",
       "    </tr>\n",
       "  </tbody>\n",
       "</table>\n",
       "</div>"
      ],
      "text/plain": [
       "                                     title  datePosted\n",
       "20   Applications Sales Representative III         215\n",
       "297             Principal Sales Consultant         207\n",
       "25     Applications Sales Representative V         180\n",
       "68              CRM Applications Sales Rep         150\n",
       "398            Senior Principal Consultant         130"
      ]
     },
     "execution_count": 9,
     "metadata": {},
     "output_type": "execute_result"
    }
   ],
   "source": [
    "df[(df.organizationName == 'Oracle') & (df.datePosted == '2016-03-17')].groupby('title').datePosted.count()\\\n",
    "    .reset_index().sort_values(by='datePosted', ascending=False).head()"
   ]
  },
  {
   "cell_type": "code",
   "execution_count": 10,
   "metadata": {
    "hideCode": false,
    "hidePrompt": false,
    "scrolled": false
   },
   "outputs": [],
   "source": [
    "df[(df.organizationName == 'Oracle') & (df.title == 'Applications Sales Representative IV')].to_csv('temp.csv')"
   ]
  },
  {
   "cell_type": "code",
   "execution_count": 11,
   "metadata": {
    "hideCode": false,
    "hidePrompt": false
   },
   "outputs": [
    {
     "data": {
      "text/html": [
       "<div>\n",
       "<style>\n",
       "    .dataframe thead tr:only-child th {\n",
       "        text-align: right;\n",
       "    }\n",
       "\n",
       "    .dataframe thead th {\n",
       "        text-align: left;\n",
       "    }\n",
       "\n",
       "    .dataframe tbody tr th {\n",
       "        vertical-align: top;\n",
       "    }\n",
       "</style>\n",
       "<table border=\"1\" class=\"dataframe\">\n",
       "  <thead>\n",
       "    <tr style=\"text-align: right;\">\n",
       "      <th></th>\n",
       "      <th>onetCode</th>\n",
       "      <th>title</th>\n",
       "    </tr>\n",
       "  </thead>\n",
       "  <tbody>\n",
       "    <tr>\n",
       "      <th>1</th>\n",
       "      <td>11-1021.00</td>\n",
       "      <td>88634</td>\n",
       "    </tr>\n",
       "    <tr>\n",
       "      <th>51</th>\n",
       "      <td>13-1111.00</td>\n",
       "      <td>45099</td>\n",
       "    </tr>\n",
       "    <tr>\n",
       "      <th>484</th>\n",
       "      <td>53-3032.00</td>\n",
       "      <td>36853</td>\n",
       "    </tr>\n",
       "    <tr>\n",
       "      <th>92</th>\n",
       "      <td>15-1151.00</td>\n",
       "      <td>29726</td>\n",
       "    </tr>\n",
       "    <tr>\n",
       "      <th>85</th>\n",
       "      <td>15-1132.00</td>\n",
       "      <td>28591</td>\n",
       "    </tr>\n",
       "  </tbody>\n",
       "</table>\n",
       "</div>"
      ],
      "text/plain": [
       "       onetCode  title\n",
       "1    11-1021.00  88634\n",
       "51   13-1111.00  45099\n",
       "484  53-3032.00  36853\n",
       "92   15-1151.00  29726\n",
       "85   15-1132.00  28591"
      ]
     },
     "execution_count": 11,
     "metadata": {},
     "output_type": "execute_result"
    }
   ],
   "source": [
    "df.groupby('onetCode').title.count().reset_index().sort_values(by='title',ascending=False).head()"
   ]
  },
  {
   "cell_type": "code",
   "execution_count": 12,
   "metadata": {
    "hideCode": false,
    "hidePrompt": false
   },
   "outputs": [
    {
     "data": {
      "text/html": [
       "<div>\n",
       "<style>\n",
       "    .dataframe thead tr:only-child th {\n",
       "        text-align: right;\n",
       "    }\n",
       "\n",
       "    .dataframe thead th {\n",
       "        text-align: left;\n",
       "    }\n",
       "\n",
       "    .dataframe tbody tr th {\n",
       "        vertical-align: top;\n",
       "    }\n",
       "</style>\n",
       "<table border=\"1\" class=\"dataframe\">\n",
       "  <thead>\n",
       "    <tr style=\"text-align: right;\">\n",
       "      <th></th>\n",
       "      <th>onetCode</th>\n",
       "      <th>onet_title</th>\n",
       "      <th>onet_description</th>\n",
       "    </tr>\n",
       "  </thead>\n",
       "  <tbody>\n",
       "    <tr>\n",
       "      <th>0</th>\n",
       "      <td>11-1011.00</td>\n",
       "      <td>Chief Executives</td>\n",
       "      <td>Determine and formulate policies and provide o...</td>\n",
       "    </tr>\n",
       "    <tr>\n",
       "      <th>1</th>\n",
       "      <td>11-1011.03</td>\n",
       "      <td>Chief Sustainability Officers</td>\n",
       "      <td>Communicate and coordinate with management, sh...</td>\n",
       "    </tr>\n",
       "    <tr>\n",
       "      <th>2</th>\n",
       "      <td>11-1021.00</td>\n",
       "      <td>General and Operations Managers</td>\n",
       "      <td>Plan, direct, or coordinate the operations of ...</td>\n",
       "    </tr>\n",
       "    <tr>\n",
       "      <th>3</th>\n",
       "      <td>11-1031.00</td>\n",
       "      <td>Legislators</td>\n",
       "      <td>Develop, introduce or enact laws and statutes ...</td>\n",
       "    </tr>\n",
       "    <tr>\n",
       "      <th>4</th>\n",
       "      <td>11-2011.00</td>\n",
       "      <td>Advertising and Promotions Managers</td>\n",
       "      <td>Plan, direct, or coordinate advertising polici...</td>\n",
       "    </tr>\n",
       "  </tbody>\n",
       "</table>\n",
       "</div>"
      ],
      "text/plain": [
       "     onetCode                           onet_title  \\\n",
       "0  11-1011.00                     Chief Executives   \n",
       "1  11-1011.03        Chief Sustainability Officers   \n",
       "2  11-1021.00      General and Operations Managers   \n",
       "3  11-1031.00                          Legislators   \n",
       "4  11-2011.00  Advertising and Promotions Managers   \n",
       "\n",
       "                                    onet_description  \n",
       "0  Determine and formulate policies and provide o...  \n",
       "1  Communicate and coordinate with management, sh...  \n",
       "2  Plan, direct, or coordinate the operations of ...  \n",
       "3  Develop, introduce or enact laws and statutes ...  \n",
       "4  Plan, direct, or coordinate advertising polici...  "
      ]
     },
     "execution_count": 12,
     "metadata": {},
     "output_type": "execute_result"
    }
   ],
   "source": [
    "occupation_data = pd.read_csv('job_types/db_22_2_excel/occupation_data.csv')\n",
    "occupation_data.head()"
   ]
  },
  {
   "cell_type": "code",
   "execution_count": 13,
   "metadata": {
    "hideCode": false,
    "hidePrompt": false
   },
   "outputs": [],
   "source": [
    "# df.set_index('onetCode',inplace=True)\n",
    "# occupation_data.set_index('onet',inplace=True)"
   ]
  },
  {
   "cell_type": "code",
   "execution_count": 14,
   "metadata": {
    "hideCode": false,
    "hidePrompt": false
   },
   "outputs": [],
   "source": [
    "combined_df = dd.merge(df, occupation_data, how='outer', on=['onetCode'])"
   ]
  },
  {
   "cell_type": "code",
   "execution_count": 15,
   "metadata": {
    "hideCode": false,
    "hidePrompt": false
   },
   "outputs": [],
   "source": [
    "combined_df.groupby(['onet_title','onetCode'])['datePosted'].count().reset_index()\\\n",
    "    .sort_values(by='datePosted',ascending=False).to_csv('temp.csv')"
   ]
  },
  {
   "cell_type": "code",
   "execution_count": 16,
   "metadata": {},
   "outputs": [],
   "source": [
    "# combined_df[combined_df.onet_title == 'Management Analysts'].to_csv('temp2.csv')"
   ]
  },
  {
   "cell_type": "code",
   "execution_count": 22,
   "metadata": {},
   "outputs": [],
   "source": [
    "data = combined_df[(combined_df.onet_title == 'Computer User Support Specialists') |\n",
    "            (combined_df.onet_title == 'Software Developers, Applications') |\n",
    "            (combined_df.onet_title == 'Mechanical Engineers') |\n",
    "            (combined_df.onet_title == 'Registered Nurses')\n",
    "           ]"
   ]
  },
  {
   "cell_type": "code",
   "execution_count": 24,
   "metadata": {},
   "outputs": [
    {
     "data": {
      "text/plain": [
       "onet_title\n",
       "Computer User Support Specialists    29726\n",
       "Mechanical Engineers                 23883\n",
       "Registered Nurses                    22234\n",
       "Software Developers, Applications    28591\n",
       "Name: title, dtype: int64"
      ]
     },
     "execution_count": 24,
     "metadata": {},
     "output_type": "execute_result"
    }
   ],
   "source": [
    "data.groupby('onet_title')['title'].count()"
   ]
  },
  {
   "cell_type": "markdown",
   "metadata": {},
   "source": [
    "# Data Processing"
   ]
  },
  {
   "cell_type": "code",
   "execution_count": 25,
   "metadata": {},
   "outputs": [],
   "source": [
    "# Borrowed some functions from the w266 utils.py file\n",
    "# Miscellaneous helpers\n",
    "def flatten(list_of_lists):\n",
    "    \"\"\"Flatten a list-of-lists into a single list.\"\"\"\n",
    "    return list(itertools.chain.from_iterable(list_of_lists))\n",
    "\n",
    "\n",
    "# Word processing functions\n",
    "def canonicalize_digits(word):\n",
    "    if any([c.isalpha() for c in word]): return word\n",
    "    word = re.sub(\"\\d\", \"DG\", word)\n",
    "    if word.startswith(\"DG\"):\n",
    "        word = word.replace(\",\", \"\") # remove thousands separator\n",
    "    return word\n",
    "\n",
    "def canonicalize_word(word, wordset=None, digits=True):\n",
    "    word = re.sub(r\"(https?:\\/\\/)?([\\da-z\\.-]+)\\.([a-z\\.]{2,6})([\\/\\w\\.-]*)*\\/?\\S*\", \"postedhyperlinkvalue\", word)\n",
    "    word = re.sub(r\"(postedhyperlinkvalue)+\", \"postedhyperlinkvalue\", word)\n",
    "    #if not word.isupper():\n",
    "    word = word.lower()\n",
    "    if digits:\n",
    "        if (wordset != None) and (word in wordset): return word\n",
    "        word = canonicalize_digits(word) # try to canonicalize numbers\n",
    "    if (wordset == None) or (word in wordset):\n",
    "        return word\n",
    "    else:\n",
    "        return constants.UNK_TOKEN\n",
    "\n",
    "def canonicalize_words(words, **kw):\n",
    "    return [canonicalize_word(word, **kw) for word in words]"
   ]
  },
  {
   "cell_type": "code",
   "execution_count": 50,
   "metadata": {},
   "outputs": [],
   "source": [
    "def make_data(data, target, tokenizer=TweetTokenizer(), canonize=True, stem=True):\n",
    "        \n",
    "    # Separate comments\n",
    "    comments = data.loc[:, 'jobDescription']\n",
    "    labels = data.loc[:, target]\n",
    "    \n",
    "    # Convert to list\n",
    "    comment_list = comments.values.tolist()\n",
    "    \n",
    "    # Tokenize comments\n",
    "    tokenizer = tokenizer\n",
    "    x_tokens = [tokenizer.tokenize(sentence) for sentence in comment_list]\n",
    "\n",
    "    from nltk.stem import PorterStemmer\n",
    "    ps = PorterStemmer()\n",
    "\n",
    "    if stem:\n",
    "        if canonize:\n",
    "            comments_canon = []\n",
    "            for token in x_tokens:\n",
    "                stem_token = []\n",
    "                for word in token:\n",
    "                    stem_token.append(ps.stem(word))\n",
    "                x_tokens_canon = canonicalize_words(stem_token)\n",
    "                comments_canon.append(x_tokens_canon)\n",
    "            x_tokens = comments_canon\n",
    "        \n",
    "    if not stem:\n",
    "        if canonize:\n",
    "            comments_canon = []\n",
    "            for token in x_tokens:\n",
    "                x_tokens_canon = canonicalize_words(token)\n",
    "                comments_canon.append(x_tokens_canon)\n",
    "            x_tokens = comments_canon\n",
    "        \n",
    "    return comments, x_tokens, labels"
   ]
  },
  {
   "cell_type": "code",
   "execution_count": 51,
   "metadata": {},
   "outputs": [],
   "source": [
    "data = data[~data.jobDescription.isnull()]"
   ]
  },
  {
   "cell_type": "code",
   "execution_count": 45,
   "metadata": {},
   "outputs": [],
   "source": [
    "# tokenizer = TweetTokenizer()\n",
    "# x_tokens = [tokenizer.tokenize(sentence) for sentence in comment_list]"
   ]
  },
  {
   "cell_type": "code",
   "execution_count": 52,
   "metadata": {},
   "outputs": [],
   "source": [
    "comments, x_tokens, labels = \\\n",
    "make_data(data, target='onet_title',stem=False )"
   ]
  },
  {
   "cell_type": "code",
   "execution_count": 54,
   "metadata": {},
   "outputs": [],
   "source": [
    "# Split into test and train\n",
    "train_data, test_data, train_labels, test_labels = \\\n",
    "    train_test_split(x_tokens, labels, test_size=0.10, random_state=42)  "
   ]
  },
  {
   "cell_type": "code",
   "execution_count": 55,
   "metadata": {},
   "outputs": [],
   "source": [
    "# Count or TF-IDF vectorize, removing stop words.\n",
    "vectorizer = TfidfVectorizer(analyzer='word', stop_words='english', lowercase=False, \n",
    "                             tokenizer=lambda text: text)\n",
    "                             #tokenizer=lambda text: text, min_df=0.00002, max_df=0.005)"
   ]
  },
  {
   "cell_type": "code",
   "execution_count": 56,
   "metadata": {},
   "outputs": [
    {
     "name": "stderr",
     "output_type": "stream",
     "text": [
      "/Users/kwheatley/anaconda/envs/python36/lib/python3.6/site-packages/sklearn/feature_extraction/text.py:1059: FutureWarning: Conversion of the second argument of issubdtype from `float` to `np.floating` is deprecated. In future, it will be treated as `np.float64 == np.dtype(float).type`.\n",
      "  if hasattr(X, 'dtype') and np.issubdtype(X.dtype, np.float):\n"
     ]
    }
   ],
   "source": [
    "train_data_sparse = vectorizer.fit_transform(train_data)\n",
    "test_data_sparse = vectorizer.transform(test_data)"
   ]
  },
  {
   "cell_type": "code",
   "execution_count": 57,
   "metadata": {},
   "outputs": [],
   "source": [
    "# Save off word counts in csv\n",
    "flat_list = [item for sublist in x_tokens for item in sublist]\n",
    "counts = Counter(flat_list)\n",
    "\n",
    "with open('dict.csv', 'w') as csv_file:\n",
    "    writer = csv.writer(csv_file)\n",
    "    for key, value in counts.items():\n",
    "       writer.writerow([key, value])"
   ]
  },
  {
   "cell_type": "code",
   "execution_count": 58,
   "metadata": {},
   "outputs": [
    {
     "name": "stdout",
     "output_type": "stream",
     "text": [
      "Class counts:\n",
      "{'Computer User Support Specialists': 29726, 'Mechanical Engineers': 23883, 'Registered Nurses': 22234, 'Software Developers, Applications': 28591}\n"
     ]
    }
   ],
   "source": [
    "counts = {}\n",
    "for label in np.unique(labels):\n",
    "    counts[label] = sum(labels == label)\n",
    "\n",
    "print(\"Class counts:\\n{}\".format(counts))"
   ]
  },
  {
   "cell_type": "markdown",
   "metadata": {},
   "source": [
    "# Logistic Regresssion"
   ]
  },
  {
   "cell_type": "code",
   "execution_count": 59,
   "metadata": {},
   "outputs": [
    {
     "data": {
      "text/plain": [
       "SGDClassifier(alpha=0.0001, average=False, class_weight=None, epsilon=0.1,\n",
       "       eta0=0.0, fit_intercept=True, l1_ratio=0.15,\n",
       "       learning_rate='optimal', loss='log', n_iter=5, n_jobs=1,\n",
       "       penalty='l1', power_t=0.5, random_state=42, shuffle=True, verbose=0,\n",
       "       warm_start=False)"
      ]
     },
     "execution_count": 59,
     "metadata": {},
     "output_type": "execute_result"
    }
   ],
   "source": [
    "lgst_l1 = SGDClassifier(loss=\"log\", penalty=\"l1\", random_state=42\n",
    "#                         ,alpha=0.00015\n",
    "                       )\n",
    "lgst_l1.fit(train_data_sparse, train_labels)\n",
    "# save the classifier\n",
    "# with open('lgst_l1_classifier.pkl', 'wb') as fid:\n",
    "#     pickle.dump(lgst_l1, fid)"
   ]
  },
  {
   "cell_type": "code",
   "execution_count": 60,
   "metadata": {},
   "outputs": [
    {
     "name": "stdout",
     "output_type": "stream",
     "text": [
      "Training set score: 0.928\n",
      "Test set score: 0.926\n",
      "Number of features used: 587\n",
      "Confusion Matrix...\n",
      "[[2901   56   15   40]\n",
      " [  72 2116    0  235]\n",
      " [  19    0 2237    0]\n",
      " [ 106  226    1 2420]]\n"
     ]
    }
   ],
   "source": [
    "#Create predictions and evaluate\n",
    "pred_labels = lgst_l1.predict(test_data_sparse)\n",
    "print(\"Training set score: {:.3f}\".format(lgst_l1.score(train_data_sparse, train_labels)))\n",
    "print(\"Test set score: {:.3f}\".format(lgst_l1.score(test_data_sparse, test_labels)))\n",
    "print(\"Number of features used: {}\".format(np.sum(lgst_l1.coef_ != 0)))\n",
    "\n",
    "print(\"Confusion Matrix...\")\n",
    "confusionMatrix = metrics.confusion_matrix(test_labels, pred_labels)\n",
    "print(confusionMatrix)"
   ]
  },
  {
   "cell_type": "code",
   "execution_count": 61,
   "metadata": {},
   "outputs": [
    {
     "name": "stdout",
     "output_type": "stream",
     "text": [
      "f1_score  0.9270135427990355\n",
      "precision_score 0.9274175326406364\n",
      "recall 0.9267660089191299\n"
     ]
    },
    {
     "name": "stderr",
     "output_type": "stream",
     "text": [
      "/Users/kwheatley/anaconda/envs/python36/lib/python3.6/site-packages/sklearn/cross_validation.py:44: DeprecationWarning: This module was deprecated in version 0.18 in favor of the model_selection module into which all the refactored classes and functions are moved. Also note that the interface of the new CV iterators are different from that of this module. This module will be removed in 0.20.\n",
      "  \"This module will be removed in 0.20.\", DeprecationWarning)\n"
     ]
    }
   ],
   "source": [
    "from sklearn.datasets import make_classification\n",
    "from sklearn.cross_validation import StratifiedShuffleSplit\n",
    "from sklearn.metrics import accuracy_score, f1_score, precision_score, recall_score, classification_report, confusion_matrix\n",
    "\n",
    "print(\"f1_score \", f1_score(test_labels, pred_labels, average=\"macro\"))\n",
    "print(\"precision_score\", precision_score(test_labels, pred_labels, average=\"macro\"))\n",
    "print(\"recall\", recall_score(test_labels, pred_labels, average=\"macro\"))   "
   ]
  },
  {
   "cell_type": "code",
   "execution_count": 63,
   "metadata": {},
   "outputs": [
    {
     "name": "stdout",
     "output_type": "stream",
     "text": [
      "                                   precision    recall  f1-score   support\n",
      "\n",
      "Computer User Support Specialists       0.94      0.96      0.95      3012\n",
      "             Mechanical Engineers       0.88      0.87      0.88      2423\n",
      "                Registered Nurses       0.99      0.99      0.99      2256\n",
      "Software Developers, Applications       0.90      0.88      0.89      2753\n",
      "\n",
      "                      avg / total       0.93      0.93      0.93     10444\n",
      "\n"
     ]
    }
   ],
   "source": [
    "print(classification_report(test_labels, pred_labels))"
   ]
  },
  {
   "cell_type": "code",
   "execution_count": 64,
   "metadata": {},
   "outputs": [
    {
     "name": "stdout",
     "output_type": "stream",
     "text": [
      "Most likely fans\n",
      "(4.395029247580342e-07, 'Registered Nurses', ['tracking', 'code', '.', 'DGDGDGDGDG', '.', 'job', 'description', '.', 'i', 'believe', 'that', 'the', 'care', 'we', 'give', 'can', 'make', 'every', 'moment', 'count', '.', 'compassionate', 'care', ',', 'uncompromising', 'service', 'and', 'clinical', 'excellence', '-', \"that's\", '.', 'how', 'our', 'hospice', 'improves', 'quality', 'of', 'life', 'in', 'the', 'final', 'stages', 'of', 'life', '.', 'by', '.', 'delivering', 'palliative', 'care', 'by', 'hospice', 'professionals', ',', 'our', 'patients', 'can', 'spend', '.', 'their', 'remaining', 'days', 'in', 'comfort', 'and', 'peace', '.', 'kindred', 'at', 'home', ',', 'a', 'division', 'of', '.', 'kindred', 'healthcare', 'inc', '.', ',', 'is', 'the', \"nation's\", 'leading', 'provider', 'of', 'comprehensive', '.', 'home', 'health', ',', 'hospice', ',', 'and', 'non-medical', 'home', 'care', 'services', '.', 'kindred', 'at', 'home', ',', 'and', 'its', 'affiliates', ',', 'including', 'gentiva', ',', 'delivers', '.', 'compassionate', ',', 'high-quality', 'care', 'to', 'patients', 'and', 'clients', 'in', 'their', 'homes', 'or', '.', 'places', 'of', 'residence', ',', 'including', 'non-medical', 'personal', 'assistance', ',', 'skilled', '.', 'nursing', 'and', 'rehabilitation', 'and', 'hospice', 'and', 'palliative', 'care', '.', 'our', 'caregivers', '.', 'focus', 'on', 'each', 'unique', 'patient', 'to', 'deliver', 'the', 'appropriate', 'care', 'and', 'emotional', '.', 'support', 'to', 'our', 'patients', 'and', 'their', 'families', '.', 'we', 'believe', 'that', 'every', 'moment', 'matters', '.', 'we', 'believe', 'in', 'compassionate', 'care', '.', 'most', '.', 'of', 'all', ',', 'we', 'believe', 'in', 'dignity', 'and', 'respect', 'for', 'each', 'patient', 'we', 'serve', '.', 'i', 'believe', 'my', 'work', 'is', 'my', 'calling', '.', 'as', 'a', 'hospice', 'registered', 'nurse', ',', 'you', 'will', ':', 'provide', 'skilled', 'professional', 'nursing', 'care', 'to', 'patient', '/', 'family', '/', 'caregivers', '.', 'oversee', 'and', 'provide', 'primary', 'care', ',', 'including', 'all', 'clinical', 'care', ',', 'palliative', 'care', ',', 'and', 'symptom', 'control', 'and', 'identify', 'other', 'physical', ',', 'psychological', ',', 'social', 'and', 'spiritual', 'needs', 'for', 'assigned', 'patients', '.', 'regularly', 'assess', 'the', 'patient', 'for', 'nursing', 'needs', '.', 'implement', 'the', 'plan', 'of', 'care', 'provisions', 'to', 'meet', 'their', 'needs', ',', 'initiate', 'appropriate', 'intervention', 'and', 'support', 'for', 'the', 'patient', 'and', 'family', 'upon', 'admission', 'and', 're-evaluate', 'the', \"patient's\", 'nursing', 'needs', 'to', 'provide', 'appropriate', ',', 'comprehensive', 'and', 'responsive', 'care', 'plan', 'interventions', '.', 'work', 'closely', 'with', 'other', 'members', 'of', 'the', 'interdisciplinary', 'team', 'to', 'ensure', 'all', 'patient', 'and', 'family', 'care', 'needs', 'are', 'being', 'met', '.', 'work', 'in', 'collaboration', 'with', 'the', 'patient', 'care', 'manager', 'and', 'the', 'interdisciplinary', 'team', 'in', 'the', 'planning', ',', 'implementation', 'and', 'evaluation', 'of', 'medical', 'and', 'nursing', 'care', '.', 'required', 'skills', '.', 'qualifications', '.', 'current', 'and', 'unrestricted', 'registered', 'nurse', 'licensure', '.', \"bachelor's\", 'degree', 'and', 'c', '.', 'h', '.', 'p', '.', 'n', '.', '-', 'lrb-certified', 'hospice', 'and', 'palliative', 'nurse-rrb', '-', 'certification', 'preferred', '.', 'minimum', 'of', 'one', 'year', 'general', 'nursing', 'preferred', 'with', 'current', 'hospice', ',', 'home', 'health', ',', 'medical', ',', 'surgical', 'or', 'critical', 'care', 'experience', '.', 'experience', 'with', 'pain', 'and', 'symptom', 'management', 'interventions', '.', 'ability', 'to', 'work', 'within', 'an', 'interdisciplinary', 'setting', '.', 'understanding', 'of', 'hospice', 'philosophy', ',', 'principles', 'of', 'death', '/', 'dying', '.', 'required', 'experience', '.', 'keywords', ':', 'acls', ',', 'ana', ',', 'acute', 'care', ',', 'admissions', 'nurse', ',', 'admission', 'nurse', ',', 'bls', ',', 'bsn', ',', 'cardio', 'nurse', ',', 'cardio', 'rn', ',', 'cardio', 'registered', 'nurse', ',', 'cardiac', 'nurse', ',', 'cardiac', 'rn', ',', 'cardiac', 'registered', 'nurse', ',', 'case', 'management', ',', 'case', 'manager', ',', 'critical', 'care', ',', 'er', ',', 'emergency', 'room', ',', 'healthcare', ',', 'health', 'care', ',', 'homecare', ',', 'home', 'care', ',', 'home', 'health', ',', 'homehealth', ',', 'hospital', ',', 'icu', ',', 'intensive', 'care', 'unit', ',', 'msn', ',', 'medical', ',', 'medical', 'care', ',', 'med', 'surg', ',', 'med-surg', ',', 'medicare', ',', 'nurse', ',', 'nurse', 'care', 'manager', ',', 'nurse', 'job', ',', 'nurse', 'jobs', ',', 'oncology', 'rn', ',', 'oncology', 'nurse', ',', 'oncology', 'registered', 'nurse', ',', 'palliative', 'care', 'nurse', ',', 'ortho', 'nurse', ',', 'ortho', 'rn', ',', 'ortho', 'registered', 'nurse', ',', 'palliative', 'care', 'rn', ',', 'palliative', 'care', 'registered', 'nurse', ',', 'registered', 'nurse', ',', 'rn', 'job', ',', 'rn', 'jobs', ',', 'registered', 'nurse', 'job', ',', 'registered', 'nurse', 'jobs', ',', 'nursing', ',', 'oasis', ',', 'prn', ',', 'pdm', ',', 'progressive', 'care', 'nurse', ',', 'rehab', 'rn', ',', 'rehab', 'registered', 'nurse', ',', 'rehab', 'nurse', ',', 'registered', 'nurse', ',', 'registered', 'nurse', 'case', 'manager', ',', 'rn', ',', 'r', '.', 'n', '.', ',', 'rn', 'case', 'manager', ',', 'skilled', 'visit', ',', 'staff', 'rn', ',', 'staff', 'nurse', ',', 'staff', 'registered', 'nurse', ',', 'step', 'down', 'unit', ',', 'step-down', 'unit', ',', 'step', 'down', 'unit', 'rn', ',', 'tele', ',', 'telemetry', ',', 'telemetry', 'nurse', ',', 'telemetry', 'rn', ',', 'travel', 'nurse', ',', 'travel', 'rn', ',', 'travel', 'registered', 'nurse', ',', 'visit', 'nurse', 'mon', '..', 'all', 'qualified', 'applicants', 'will', 'receive', 'consideration', 'for', 'employment', 'without', '.', 'regard', 'to', 'race', ',', 'color', ',', 'religion', ',', 'sex', ',', 'sexual', 'orientation', ',', 'gender', 'identity', 'or', '.', 'national', 'origin', '.', 'to', 'learn', 'more', ',', 'please', 'contact', 'your', 'local', 'recruiter', 'at', '-', 'lrb-toll', 'free-rrb', '-', '1.877.44.hospice', '.', 'job', 'location', '.', 'richmond', ',', 'virginia', ',', 'united', 'states', '.', 'position', 'type', '.', 'full-time', '/', 'regular', '.', 'equal', 'opportunity', 'employer', '/', 'veterans', '/', 'individuals', 'with', 'disabilities', '.', 'drug', 'free', '.', 'workplace'])\n",
      "(4.454183565183985e-07, 'Registered Nurses', ['tracking', 'code', '.', 'DGDGDGDGDG', '.', 'job', 'description', '.', 'i', 'believe', 'that', 'the', 'care', 'we', 'give', 'can', 'make', 'every', 'moment', 'count', '.', 'compassionate', 'care', ',', 'uncompromising', 'service', 'and', 'clinical', 'excellence', '-', \"that's\", '.', 'how', 'our', 'hospice', 'improves', 'quality', 'of', 'life', 'in', 'the', 'final', 'stages', 'of', 'life', '.', 'by', '.', 'delivering', 'palliative', 'care', 'by', 'hospice', 'professionals', ',', 'our', 'patients', 'can', 'spend', '.', 'their', 'remaining', 'days', 'in', 'comfort', 'and', 'peace', '.', 'kindred', 'at', 'home', ',', 'a', 'division', 'of', '.', 'kindred', 'healthcare', 'inc', '.', ',', 'is', 'the', \"nation's\", 'leading', 'provider', 'of', 'comprehensive', '.', 'home', 'health', ',', 'hospice', ',', 'and', 'non-medical', 'home', 'care', 'services', '.', 'kindred', 'at', 'home', ',', 'and', 'its', 'affiliates', ',', 'including', 'gentiva', ',', 'delivers', '.', 'compassionate', ',', 'high-quality', 'care', 'to', 'patients', 'and', 'clients', 'in', 'their', 'homes', 'or', '.', 'places', 'of', 'residence', ',', 'including', 'non-medical', 'personal', 'assistance', ',', 'skilled', '.', 'nursing', 'and', 'rehabilitation', 'and', 'hospice', 'and', 'palliative', 'care', '.', 'our', 'caregivers', '.', 'focus', 'on', 'each', 'unique', 'patient', 'to', 'deliver', 'the', 'appropriate', 'care', 'and', 'emotional', '.', 'support', 'to', 'our', 'patients', 'and', 'their', 'families', '.', 'we', 'believe', 'that', 'every', 'moment', 'matters', '.', 'we', 'believe', 'in', 'compassionate', 'care', '.', 'most', '.', 'of', 'all', ',', 'we', 'believe', 'in', 'dignity', 'and', 'respect', 'for', 'each', 'patient', 'we', 'serve', '.', 'i', 'believe', 'my', 'work', 'is', 'my', 'calling', '.', 'as', 'a', 'hospice', 'registered', 'nurse', ',', 'you', 'will', ':', 'provide', 'skilled', 'professional', 'nursing', 'care', 'to', 'patient', '/', 'family', '/', 'caregivers', '.', 'oversee', 'and', 'provide', 'primary', 'care', ',', 'including', 'all', 'clinical', 'care', ',', 'palliative', 'care', ',', 'and', 'symptom', 'control', 'and', 'identify', 'other', 'physical', ',', 'psychological', ',', 'social', 'and', 'spiritual', 'needs', 'for', 'assigned', 'patients', '.', 'regularly', 'assess', 'the', 'patient', 'for', 'nursing', 'needs', '.', 'implement', 'the', 'plan', 'of', 'care', 'provisions', 'to', 'meet', 'their', 'needs', ',', 'initiate', 'appropriate', 'intervention', 'and', 'support', 'for', 'the', 'patient', 'and', 'family', 'upon', 'admission', 'and', 're-evaluate', 'the', \"patient's\", 'nursing', 'needs', 'to', 'provide', 'appropriate', ',', 'comprehensive', 'and', 'responsive', 'care', 'plan', 'interventions', '.', 'work', 'closely', 'with', 'other', 'members', 'of', 'the', 'interdisciplinary', 'team', 'to', 'ensure', 'all', 'patient', 'and', 'family', 'care', 'needs', 'are', 'being', 'met', '.', 'work', 'in', 'collaboration', 'with', 'the', 'patient', 'care', 'manager', 'and', 'the', 'interdisciplinary', 'team', 'in', 'the', 'planning', ',', 'implementation', 'and', 'evaluation', 'of', 'medical', 'and', 'nursing', 'care', '.', 'required', 'skills', '.', 'qualifications', '.', 'current', 'and', 'unrestricted', 'registered', 'nurse', 'licensure', '.', \"bachelor's\", 'degree', 'and', 'c', '.', 'h', '.', 'p', '.', 'n', '.', '-', 'lrb-certified', 'hospice', 'and', 'palliative', 'nurse-rrb', '-', 'certification', 'preferred', '.', 'minimum', 'of', 'one', 'year', 'general', 'nursing', 'preferred', 'with', 'current', 'hospice', ',', 'home', 'health', ',', 'medical', ',', 'surgical', 'or', 'critical', 'care', 'experience', '.', 'experience', 'with', 'pain', 'and', 'symptom', 'management', 'interventions', '.', 'ability', 'to', 'work', 'within', 'an', 'interdisciplinary', 'setting', '.', 'understanding', 'of', 'hospice', 'philosophy', ',', 'principles', 'of', 'death', '/', 'dying', '.', 'required', 'experience', '.', 'keywords', ':', 'acls', ',', 'ana', ',', 'acute', 'care', ',', 'admissions', 'nurse', ',', 'admission', 'nurse', ',', 'bls', ',', 'bsn', ',', 'cardio', 'nurse', ',', 'cardio', 'rn', ',', 'cardio', 'registered', 'nurse', ',', 'cardiac', 'nurse', ',', 'cardiac', 'rn', ',', 'cardiac', 'registered', 'nurse', ',', 'case', 'management', ',', 'case', 'manager', ',', 'critical', 'care', ',', 'er', ',', 'emergency', 'room', ',', 'healthcare', ',', 'health', 'care', ',', 'homecare', ',', 'home', 'care', ',', 'home', 'health', ',', 'homehealth', ',', 'hospital', ',', 'icu', ',', 'intensive', 'care', 'unit', ',', 'msn', ',', 'medical', ',', 'medical', 'care', ',', 'med', 'surg', ',', 'med-surg', ',', 'medicare', ',', 'nurse', ',', 'nurse', 'care', 'manager', ',', 'nurse', 'job', ',', 'nurse', 'jobs', ',', 'oncology', 'rn', ',', 'oncology', 'nurse', ',', 'oncology', 'registered', 'nurse', ',', 'palliative', 'care', 'nurse', ',', 'ortho', 'nurse', ',', 'ortho', 'rn', ',', 'ortho', 'registered', 'nurse', ',', 'palliative', 'care', 'rn', ',', 'palliative', 'care', 'registered', 'nurse', ',', 'registered', 'nurse', ',', 'rn', 'job', ',', 'rn', 'jobs', ',', 'registered', 'nurse', 'job', ',', 'registered', 'nurse', 'jobs', ',', 'nursing', ',', 'oasis', ',', 'prn', ',', 'pdm', ',', 'progressive', 'care', 'nurse', ',', 'rehab', 'rn', ',', 'rehab', 'registered', 'nurse', ',', 'rehab', 'nurse', ',', 'registered', 'nurse', ',', 'registered', 'nurse', 'case', 'manager', ',', 'rn', ',', 'r', '.', 'n', '.', ',', 'rn', 'case', 'manager', ',', 'skilled', 'visit', ',', 'staff', 'rn', ',', 'staff', 'nurse', ',', 'staff', 'registered', 'nurse', ',', 'step', 'down', 'unit', ',', 'step-down', 'unit', ',', 'step', 'down', 'unit', 'rn', ',', 'tele', ',', 'telemetry', ',', 'telemetry', 'nurse', ',', 'telemetry', 'rn', ',', 'travel', 'nurse', ',', 'travel', 'rn', ',', 'travel', 'registered', 'nurse', ',', 'visit', 'nurse', 'mon', '..', 'all', 'qualified', 'applicants', 'will', 'receive', 'consideration', 'for', 'employment', 'without', '.', 'regard', 'to', 'race', ',', 'color', ',', 'religion', ',', 'sex', ',', 'sexual', 'orientation', ',', 'gender', 'identity', 'or', '.', 'national', 'origin', '.', 'to', 'learn', 'more', ',', 'please', 'contact', 'your', 'local', 'recruiter', 'at', '-', 'lrb-toll', 'free-rrb', '-', '1.877.44.hospice', '.', 'job', 'location', '.', 'colonial', 'heights', ',', 'virginia', ',', 'united', 'states', '.', 'position', 'type', '.', 'full-time', '/', 'regular', '.', 'equal', 'opportunity', 'employer', '/', 'veterans', '/', 'individuals', 'with', 'disabilities', '.', 'drug', 'free', '.', 'workplace'])\n",
      "(1.1182326667457764e-06, 'Registered Nurses', ['tracking', 'code', '.', 'DGDGDGDGDGDG', '.', 'job', 'description', '.', 'i', 'believe', 'that', 'better', 'care', 'begins', 'at', 'home', '.', 'compassionate', 'care', ',', 'uncompromising', 'service', 'and', 'clinical', 'excellence', '-', \"that's\", 'what', 'our', 'patients', 'have', 'come', 'to', 'expect', 'from', 'our', 'clinicians', '.', 'kindred', 'at', 'home', ',', 'a', 'division', 'of', 'kindred', 'healthcare', 'inc', '.', ',', 'is', 'the', \"nation's\", 'leading', 'provider', 'of', 'comprehensive', 'home', 'health', ',', 'hospice', ',', 'and', 'non-medical', 'home', 'care', 'services', '.', 'kindred', 'at', 'home', ',', 'and', 'its', 'affiliates', ',', 'including', 'gentiva', ',', 'delivers', '.', 'compassionate', ',', 'high-quality', 'care', 'to', 'patients', 'and', 'clients', 'in', 'their', 'homes', 'or', '.', 'places', 'of', 'residence', ',', 'including', 'non-medical', 'personal', 'assistance', ',', 'skilled', '.', 'nursing', 'and', 'rehabilitation', 'and', 'hospice', 'and', 'palliative', 'care', '.', 'our', 'caregivers', '.', 'focus', 'on', 'each', 'unique', 'patient', 'to', 'deliver', 'the', 'appropriate', 'care', 'and', 'emotional', '.', 'support', 'to', 'our', 'patients', 'and', 'their', 'families', '.', 'i', 'believe', 'in', 'working', 'for', 'a', 'company', 'that', 'cares', 'as', 'much', 'as', 'i', 'do', '.', 'we', 'offer', 'a', 'unique', 'employment', 'package', 'that', 'includes', ':', 'unprecedented', 'opportunities', 'for', 'career', 'growth', '.', 'clinical', 'ladder', 'for', 'professional', 'credentialing', 'and', 'advancement', '.', 'innovative', 'specialties', 'with', 'cutting-edge', 'training', 'and', 'development', '.', 'flexible', 'full-time', ',', 'part-time', 'and', 'prn', 'positions', '.', 'i', 'believe', 'my', 'work', 'is', 'my', 'calling', '.', 'as', 'a', 'home', 'health', 'registered', 'nurse', ',', 'you', 'will', ':', 'provide', 'admission', ',', 'case', 'management', ',', 'and', 'follow-up', 'skilled', 'nursing', 'visits', 'for', 'home', 'health', 'patients', '.', 'administer', 'on-going', 'care', 'and', 'case', 'management', 'for', 'each', 'patient', ',', 'provide', 'necessary', 'follow-up', 'as', 'directed', 'by', 'the', 'clinical', 'manager', '.', 'confer', 'with', 'physician', 'in', 'developing', 'the', 'initial', 'plan', 'of', 'treatment', 'based', 'on', \"physician's\", 'orders', 'and', 'initial', 'patient', 'assessment', '.', 'provide', 'hands-on', 'care', ',', 'management', 'and', 'evaluation', 'of', 'the', 'care', 'plan', 'and', 'teaching', 'of', 'the', 'patient', 'in', 'accordance', 'with', 'physician', 'orders', ',', 'under', 'clinical', \"manager's\", 'supervision', '.', 'revise', 'plan', 'in', 'consultation', 'with', 'physician', 'based', 'on', 'ongoing', 'assessments', 'and', 'as', 'required', 'by', 'policy', '/', 'regulation', '.', 'coordinate', 'appropriate', 'care', ',', 'encompassing', 'various', 'healthcare', 'personnel', '-', 'lrb-such', 'as', 'physical', 'therapists', ',', 'occupational', 'therapists', ',', 'home', 'health', 'aides', 'and', 'external', 'providers-rrb', '-', '.', 'report', 'patient', 'care', '/', 'condition', '/', 'progress', 'to', \"patient's\", 'physician', 'and', 'clinical', 'manager', 'on', 'a', 'continuous', 'basis', '.', 'implement', 'patient', 'care', 'plan', 'in', 'conjunction', 'with', 'patient', 'and', 'family', 'to', 'assist', 'them', 'in', 'achieving', 'optimal', 'resolution', 'of', 'needs', '/', 'problems', '.', 'coordinate', '/', 'oversee', '/', 'supervise', 'the', 'work', 'of', 'home', 'health', 'aides', ',', 'certified', 'home', 'health', 'aides', 'and', 'personal', 'care', 'workers', 'and', 'provides', 'written', 'personal', 'care', 'instructions', '/', 'care', 'plan', 'that', 'reflect', 'current', 'plan', 'of', 'care', '.', 'monitor', 'the', 'appropriate', 'completion', 'of', 'documentation', 'by', 'home', 'health', 'aides', '/', 'personal', 'care', 'workers', 'as', 'part', 'of', 'the', 'supervisory', '/', 'leadership', 'responsibility', '.', 'discharge', 'patients', 'after', 'consultation', 'with', 'the', 'physician', 'and', 'clinical', 'manager', ',', 'preparing', 'and', 'completing', 'needed', 'clinical', 'documentation', '.', 'prepare', 'appropriate', 'medical', 'documentation', 'on', 'all', 'patients', ',', 'including', 'any', 'case', 'conferences', ',', 'patient', 'contacts', ',', 'medication', 'order', 'changes', ',', 're-certifications', ',', 'progress', 'updates', ',', 'and', 'care', 'plan', 'changes', '.', 'prepare', 'visit', '/', 'shift', 'reports', ',', 'updates', '/', 'summarizes', 'patient', 'records', ',', 'and', 'confers', 'with', 'other', 'health', 'care', 'disciplines', 'in', 'providing', 'optimum', 'patient', 'care', '.', 'required', 'skills', '.', 'qualifications', '.', 'diploma', ',', 'associate', 'or', 'bachelor', 'degree', 'in', 'nursing', '.', 'minimum', 'of', 'one', 'year', 'nursing', 'experience', 'preferred', '.', 'strong', 'med', 'surg', ',', 'icu', ',', 'er', ',', 'acute', 'experience', '.', 'home', 'health', 'experience', 'a', 'plus', '.', 'current', 'and', 'unrestricted', 'registered', 'nurse', 'licensure', '.', 'current', 'cpr', 'certification', '.', 'strong', 'organizational', 'and', 'communication', 'skills', '.', 'required', 'experience', '.', 'keywords', ':', 'acls', ',', 'ana', ',', 'acute', 'care', ',', 'admissions', 'nurse', ',', 'admission', 'nurse', ',', 'bls', ',', 'bsn', ',', 'cardio', 'nurse', ',', 'cardio', 'rn', ',', 'cardio', 'registered', 'nurse', ',', 'cardiac', 'nurse', ',', 'cardiac', 'rn', ',', 'cardiac', 'registered', 'nurse', ',', 'case', 'management', ',', 'case', 'manager', ',', 'critical', 'care', ',', 'er', ',', 'emergency', 'room', ',', 'healthcare', ',', 'health', 'care', ',', 'homecare', ',', 'home', 'care', ',', 'home', 'health', ',', 'homehealth', ',', 'hospital', ',', 'icu', ',', 'intensive', 'care', 'unit', ',', 'msn', ',', 'medical', ',', 'medical', 'care', ',', 'med', 'surg', ',', 'med-surg', ',', 'medicare', ',', 'nurse', ',', 'nurse', 'care', 'manager', ',', 'nurse', 'job', ',', 'nurse', 'jobs', ',', 'oncology', 'rn', ',', 'oncology', 'nurse', ',', 'oncology', 'registered', 'nurse', ',', 'palliative', 'care', 'nurse', ',', 'ortho', 'nurse', ',', 'ortho', 'rn', ',', 'ortho', 'registered', 'nurse', ',', 'palliative', 'care', 'rn', ',', 'palliative', 'care', 'registered', 'nurse', ',', 'registered', 'nurse', ',', 'rn', 'job', ',', 'rn', 'jobs', ',', 'registered', 'nurse', 'job', ',', 'registered', 'nurse', 'jobs', ',', 'nursing', ',', 'oasis', ',', 'prn', ',', 'pdm', ',', 'progressive', 'care', 'nurse', ',', 'rehab', 'rn', ',', 'rehab', 'registered', 'nurse', ',', 'rehab', 'nurse', ',', 'registered', 'nurse', ',', 'registered', 'nurse', 'case', 'manager', ',', 'rn', ',', 'r', '.', 'n', '.', ',', 'rn', 'case', 'manager', ',', 'skilled', 'visit', ',', 'staff', 'rn', ',', 'staff', 'nurse', ',', 'staff', 'registered', 'nurse', ',', 'step', 'down', 'unit', ',', 'step-down', 'unit', ',', 'step', 'down', 'unit', 'rn', ',', 'tele', ',', 'telemetry', ',', 'telemetry', 'nurse', ',', 'telemetry', 'rn', ',', 'travel', 'nurse', ',', 'travel', 'rn', ',', 'travel', 'registered', 'nurse', ',', 'visit', 'nurse', 'mon', '..', 'all', 'qualified', 'applicants', 'will', 'receive', 'consideration', 'for', 'employment', 'without', '.', 'regard', 'to', 'race', ',', 'color', ',', 'religion', ',', 'sex', ',', 'sexual', 'orientation', ',', 'gender', 'identity', 'or', '.', 'national', 'origin', '.', 'to', 'learn', 'more', ',', 'please', 'contact', 'your', 'local', 'recruiter', 'at', '-', 'lrb-toll', 'free-rrb', '-', '1.866.gentiva', '.', 'job', 'location', '.', 'norfolk', ',', 'virginia', ',', 'united', 'states', '.', 'position', 'type', '.', 'prn', '.', 'equal', 'opportunity', 'employer', '/', 'veterans', '/', 'individuals', 'with', 'disabilities', '.', 'drug', 'free', '.', 'workplace'])\n",
      "(1.1199246846992295e-06, 'Registered Nurses', ['tracking', 'code', '.', '23420b', '.', 'job', 'description', '.', 'i', 'believe', 'that', 'better', 'care', 'begins', 'at', 'home', '.', 'compassionate', 'care', ',', 'uncompromising', 'service', 'and', 'clinical', 'excellence', '-', \"that's\", 'what', 'our', 'patients', 'have', 'come', 'to', 'expect', 'from', 'our', 'clinicians', '.', 'kindred', 'at', 'home', ',', 'a', 'division', 'of', 'kindred', 'healthcare', 'inc', '.', ',', 'is', 'the', \"nation's\", 'leading', 'provider', 'of', 'comprehensive', 'home', 'health', ',', 'hospice', ',', 'and', 'non-medical', 'home', 'care', 'services', '.', 'kindred', 'at', 'home', ',', 'and', 'its', 'affiliates', ',', 'including', 'gentiva', ',', 'delivers', '.', 'compassionate', ',', 'high-quality', 'care', 'to', 'patients', 'and', 'clients', 'in', 'their', 'homes', 'or', '.', 'places', 'of', 'residence', ',', 'including', 'non-medical', 'personal', 'assistance', ',', 'skilled', '.', 'nursing', 'and', 'rehabilitation', 'and', 'hospice', 'and', 'palliative', 'care', '.', 'our', 'caregivers', '.', 'focus', 'on', 'each', 'unique', 'patient', 'to', 'deliver', 'the', 'appropriate', 'care', 'and', 'emotional', '.', 'support', 'to', 'our', 'patients', 'and', 'their', 'families', '.', 'i', 'believe', 'in', 'working', 'for', 'a', 'company', 'that', 'cares', 'as', 'much', 'as', 'i', 'do', '.', 'we', 'offer', 'a', 'unique', 'employment', 'package', 'that', 'includes', ':', 'unprecedented', 'opportunities', 'for', 'career', 'growth', '.', 'clinical', 'ladder', 'for', 'professional', 'credentialing', 'and', 'advancement', '.', 'innovative', 'specialties', 'with', 'cutting-edge', 'training', 'and', 'development', '.', 'flexible', 'full-time', ',', 'part-time', 'and', 'prn', 'positions', '.', 'i', 'believe', 'my', 'work', 'is', 'my', 'calling', '.', 'as', 'a', 'home', 'health', 'registered', 'nurse', ',', 'you', 'will', ':', 'provide', 'admission', ',', 'case', 'management', ',', 'and', 'follow-up', 'skilled', 'nursing', 'visits', 'for', 'home', 'health', 'patients', '.', 'administer', 'on-going', 'care', 'and', 'case', 'management', 'for', 'each', 'patient', ',', 'provide', 'necessary', 'follow-up', 'as', 'directed', 'by', 'the', 'clinical', 'manager', '.', 'confer', 'with', 'physician', 'in', 'developing', 'the', 'initial', 'plan', 'of', 'treatment', 'based', 'on', \"physician's\", 'orders', 'and', 'initial', 'patient', 'assessment', '.', 'provide', 'hands-on', 'care', ',', 'management', 'and', 'evaluation', 'of', 'the', 'care', 'plan', 'and', 'teaching', 'of', 'the', 'patient', 'in', 'accordance', 'with', 'physician', 'orders', ',', 'under', 'clinical', \"manager's\", 'supervision', '.', 'revise', 'plan', 'in', 'consultation', 'with', 'physician', 'based', 'on', 'ongoing', 'assessments', 'and', 'as', 'required', 'by', 'policy', '/', 'regulation', '.', 'coordinate', 'appropriate', 'care', ',', 'encompassing', 'various', 'healthcare', 'personnel', '-', 'lrb-such', 'as', 'physical', 'therapists', ',', 'occupational', 'therapists', ',', 'home', 'health', 'aides', 'and', 'external', 'providers-rrb', '-', '.', 'report', 'patient', 'care', '/', 'condition', '/', 'progress', 'to', \"patient's\", 'physician', 'and', 'clinical', 'manager', 'on', 'a', 'continuous', 'basis', '.', 'implement', 'patient', 'care', 'plan', 'in', 'conjunction', 'with', 'patient', 'and', 'family', 'to', 'assist', 'them', 'in', 'achieving', 'optimal', 'resolution', 'of', 'needs', '/', 'problems', '.', 'coordinate', '/', 'oversee', '/', 'supervise', 'the', 'work', 'of', 'home', 'health', 'aides', ',', 'certified', 'home', 'health', 'aides', 'and', 'personal', 'care', 'workers', 'and', 'provides', 'written', 'personal', 'care', 'instructions', '/', 'care', 'plan', 'that', 'reflect', 'current', 'plan', 'of', 'care', '.', 'monitor', 'the', 'appropriate', 'completion', 'of', 'documentation', 'by', 'home', 'health', 'aides', '/', 'personal', 'care', 'workers', 'as', 'part', 'of', 'the', 'supervisory', '/', 'leadership', 'responsibility', '.', 'discharge', 'patients', 'after', 'consultation', 'with', 'the', 'physician', 'and', 'clinical', 'manager', ',', 'preparing', 'and', 'completing', 'needed', 'clinical', 'documentation', '.', 'prepare', 'appropriate', 'medical', 'documentation', 'on', 'all', 'patients', ',', 'including', 'any', 'case', 'conferences', ',', 'patient', 'contacts', ',', 'medication', 'order', 'changes', ',', 're-certifications', ',', 'progress', 'updates', ',', 'and', 'care', 'plan', 'changes', '.', 'prepare', 'visit', '/', 'shift', 'reports', ',', 'updates', '/', 'summarizes', 'patient', 'records', ',', 'and', 'confers', 'with', 'other', 'health', 'care', 'disciplines', 'in', 'providing', 'optimum', 'patient', 'care', '.', 'required', 'skills', '.', 'qualifications', '.', 'diploma', ',', 'associate', 'or', 'bachelor', 'degree', 'in', 'nursing', '.', 'minimum', 'of', 'one', 'year', 'nursing', 'experience', 'preferred', '.', 'strong', 'med', 'surg', ',', 'icu', ',', 'er', ',', 'acute', 'experience', '.', 'home', 'health', 'experience', 'a', 'plus', '.', 'current', 'and', 'unrestricted', 'registered', 'nurse', 'licensure', '.', 'current', 'cpr', 'certification', '.', 'strong', 'organizational', 'and', 'communication', 'skills', '.', 'required', 'experience', '.', 'keywords', ':', 'acls', ',', 'ana', ',', 'acute', 'care', ',', 'admissions', 'nurse', ',', 'admission', 'nurse', ',', 'bls', ',', 'bsn', ',', 'cardio', 'nurse', ',', 'cardio', 'rn', ',', 'cardio', 'registered', 'nurse', ',', 'cardiac', 'nurse', ',', 'cardiac', 'rn', ',', 'cardiac', 'registered', 'nurse', ',', 'case', 'management', ',', 'case', 'manager', ',', 'critical', 'care', ',', 'er', ',', 'emergency', 'room', ',', 'healthcare', ',', 'health', 'care', ',', 'homecare', ',', 'home', 'care', ',', 'home', 'health', ',', 'homehealth', ',', 'hospital', ',', 'icu', ',', 'intensive', 'care', 'unit', ',', 'msn', ',', 'medical', ',', 'medical', 'care', ',', 'med', 'surg', ',', 'med-surg', ',', 'medicare', ',', 'nurse', ',', 'nurse', 'care', 'manager', ',', 'nurse', 'job', ',', 'nurse', 'jobs', ',', 'oncology', 'rn', ',', 'oncology', 'nurse', ',', 'oncology', 'registered', 'nurse', ',', 'palliative', 'care', 'nurse', ',', 'ortho', 'nurse', ',', 'ortho', 'rn', ',', 'ortho', 'registered', 'nurse', ',', 'palliative', 'care', 'rn', ',', 'palliative', 'care', 'registered', 'nurse', ',', 'registered', 'nurse', ',', 'rn', 'job', ',', 'rn', 'jobs', ',', 'registered', 'nurse', 'job', ',', 'registered', 'nurse', 'jobs', ',', 'nursing', ',', 'oasis', ',', 'prn', ',', 'pdm', ',', 'progressive', 'care', 'nurse', ',', 'rehab', 'rn', ',', 'rehab', 'registered', 'nurse', ',', 'rehab', 'nurse', ',', 'registered', 'nurse', ',', 'registered', 'nurse', 'case', 'manager', ',', 'rn', ',', 'r', '.', 'n', '.', ',', 'rn', 'case', 'manager', ',', 'skilled', 'visit', ',', 'staff', 'rn', ',', 'staff', 'nurse', ',', 'staff', 'registered', 'nurse', ',', 'step', 'down', 'unit', ',', 'step-down', 'unit', ',', 'step', 'down', 'unit', 'rn', ',', 'tele', ',', 'telemetry', ',', 'telemetry', 'nurse', ',', 'telemetry', 'rn', ',', 'travel', 'nurse', ',', 'travel', 'rn', ',', 'travel', 'registered', 'nurse', ',', 'visit', 'nurse', 'mon', '..', 'all', 'qualified', 'applicants', 'will', 'receive', 'consideration', 'for', 'employment', 'without', '.', 'regard', 'to', 'race', ',', 'color', ',', 'religion', ',', 'sex', ',', 'sexual', 'orientation', ',', 'gender', 'identity', 'or', '.', 'national', 'origin', '.', 'to', 'learn', 'more', ',', 'please', 'contact', 'your', 'local', 'recruiter', 'at', '-', 'lrb-toll', 'free-rrb', '-', '1.866.gentiva', '.', 'job', 'location', '.', 'south', 'boston', ',', 'virginia', ',', 'united', 'states', '.', 'position', 'type', '.', 'full-time', '/', 'regular', '.', 'equal', 'opportunity', 'employer', '/', 'veterans', '/', 'individuals', 'with', 'disabilities', '.', 'drug', 'free', '.', 'workplace'])\n",
      "(1.6335469381931133e-06, 'Registered Nurses', ['rn', 'oncology', '.', 'job', 'description', '.', 'for', 'more', 'than', 'a', 'century', ',', 'lewisgale', 'medical', 'center', 'has', 'delivered', 'the', 'highest', 'quality', 'healthcare', 'to', 'residents', 'of', 'southwest', 'virginia', 'from', 'our', 'location', 'in', 'the', 'salem', '/', 'roanoke', 'metro', 'area', '.', 'as', 'the', 'largest', 'facility', 'in', 'lewisgale', 'regional', 'health', 'system', ',', 'we', 'provide', 'the', 'full', 'scope', 'of', 'healthcare', 'services', 'you', 'expect', 'to', 'find', 'at', 'a', 'regional', 'referral', 'center', '.', 'we', 'specialize', 'in', 'heart', 'and', 'vascular', 'care--including', 'the', 'latest', 'advanced', 'technology', 'available', 'through', 'our', 'designated', 'heart', 'center--as', 'well', 'as', 'orthopedics', 'and', 'spine', 'care', ',', 'services', 'for', 'mental', 'and', 'behavioral', 'health', 'and', 'cancer', 'care', '.', 'the', 'registered', 'nurse', '-', 'lrb-rn-rrb', '-', '6w', 'oncology', '-', 'will', 'perform', 'care', 'under', 'the', 'direction', 'of', 'the', 'unit', 'nursing', 'leadership', 'team', 'and', 'the', 'director', '.', 'the', 'registered', 'nurse', 'provides', 'therapeutic', 'and', 'administrative', 'services', 'necessary', 'for', 'the', 'care', 'of', 'the', 'patient', ',', 'in', 'support', 'of', 'hca', 'ethical', 'principles', 'and', 'values', '.', 'the', 'rn', 'is', 'responsible', 'for', 'assessing', ',', 'planning', ',', 'implementing', ',', 'evaluating', ',', 'and', 'documenting', 'all', 'aspects', 'of', 'patient', 'care', '.', 'the', 'registered', 'nurse', 'delegates', 'appropriate', 'tasks', 'to', 'unlicensed', 'personnel', 'and', 'provides', 'required', 'supervision', '.', 'the', 'rn', 'works', 'closely', 'with', 'all', 'health', 'care', 'providers', 'to', 'facilitate', 'and', 'coordinate', 'efficient', ',', 'effective', ',', 'and', 'quality', 'healthcare', '.', 'the', 'registered', 'nurse', 'communicates', 'effectively', 'and', 'maintains', 'therapeutic', 'relationships', 'with', 'patients', ',', 'families', ',', 'physicians', ',', 'and', 'staff', '.', 'the', 'rn', 'evaluates', \"patient's\", 'signs', 'and', 'symptoms', ';', 'and', 'records', 'and', 'reports', 'results', '.', 'the', 'registered', 'nurse', 'sets', 'priorities', 'and', 'modifies', 'patient', 'care', 'in', 'response', 'to', 'changing', 'conditions', 'by', 'utilizing', 'problem', 'solving', 'skills', 'and', 'exhibiting', 'good', 'judgment', '.', 'the', 'rn', 'collaborates', 'with', 'physicians', 'regarding', 'patient', 'progress', 'towards', 'the', 'outcome', 'attainment', '.', 'the', 'registered', 'nurse', 'assists', 'physician', 'during', 'treatment', '/', 'examination', 'of', 'patient', 'and', 'processes', 'orders', '.', 'the', 'rn', 'makes', 'appropriate', 'and', 'timely', 'notification', 'to', 'physicians', 'on', 'patient', 'condition', 'changes', '.', 'the', 'registered', 'nurse', 'is', 'expected', 'to', 'attend', 'unit', 'meetings', 'as', 'directed', 'by', 'the', 'nurse', 'manager', 'and', 'participate', 'in', 'continuing', 'education', 'programs', 'to', 'maintain', 'competence', 'and', 'gain', 'additional', 'skills', '.', 'patient', 'rights', '-', 'the', 'registered', 'nurse', 'will', 'work', 'to', 'support', 'and', 'protect', 'the', 'rights', 'of', 'each', 'patient', 'served', ',', 'treat', 'each', 'patient', 'with', 'dignity', 'and', 'care', ',', 'and', 'maintain', 'patient', 'confidentiality', '/', 'privacy', '.', 'patient', 'safety', '-', 'the', 'registered', 'nurse', 'demonstrates', 'commitment', 'to', 'patient', 'safety', 'initiatives', 'including', 'patient', 'falls', ',', 'medication', 'safety', ',', 'national', 'patient', 'safety', 'goals', ',', 'critical', 'value', 'reporting', ',', 'and', 'administration', 'of', 'blood', 'products', '.', 'licensure', '/', 'certification', ':', 'registered', 'nurse', 'license', 'issued', 'by', 'the', 'department', 'of', 'health', 'professions', ',', 'commonwealth', 'of', 'virginia', '.', 'registered', 'nurse', 'with', 'multi-state', 'privilege', 'granted', 'to', 'them', 'by', 'virtue', 'of', 'holding', 'a', 'license', 'in', 'one', 'of', 'the', 'states', 'participating', 'in', 'the', 'nurse', 'licensure', 'compact', 'agreement', 'and', 'who', 'has', 'not', 'established', 'permanent', 'residency', 'in', 'virginia', '.', 'american', 'heart', 'association', 'bls', ',', 'basic', 'life', 'support', 'certification', '.', 'education', ':', 'graduate', 'of', 'a', 'nursing', 'program', '.', 'for', 'full-time', 'and', 'part-time', 'registered', 'nurses', 'hired', 'on', 'or', 'after', 'july', 'DG', ',', 'DGDGDGDG', ':', 'bsn', 'or', 'enrollment', 'in', 'bsn', 'program', 'required', 'within', 'first', 'two', 'years', 'of', 'employment', 'and', 'completion', 'of', 'bsn', 'within', 'five', 'years', 'of', 'employment', '.', 'preferred', 'experience', ':', 'previous', 'rn', 'experience', 'preferred', '.', 'title', ':', 'rn', 'registered', 'nurse', 'oncology', 'nights', '.', 'location', ':', 'united', 'states-virginia-salem', 'va-lewis-gale', 'medical', 'center', '.', 'requisition', 'id', ':', 'DGDGDGDGDG-DGDGDGDGDG'])\n",
      "(1.955625480513701e-06, 'Mechanical Engineers', ['mechanical', 'design', 'engineer', '.', 'tracking', 'code', 'DGDGDGDGDG', '.', 'job', 'description', '.', 'johnson', ',', 'mirmiran', '&', 'thompson', 'is', 'a', 'dynamic', ',', 'DGDGDG', '%', 'employee-owned', 'consulting', 'firm', 'of', 'more', 'than', 'DGDGDGDG', 'professionals', 'that', 'provides', 'a', 'full', 'range', 'of', 'multi-disciplined', 'engineering', ',', 'architecture', ',', 'information', 'technology', ',', 'and', 'related', 'services', 'to', 'public', 'agencies', 'and', 'private', 'clients', 'throughout', 'the', 'united', 'states', '.', 'jmt', ',', 'currently', 'ranked', '#DGDG', 'on', 'engineering', \"news-record's\", 'list', 'of', 'the', 'top', 'DGDGDG', 'design', 'firms', '.', 'jmt', 'is', 'seeking', 'an', 'experienced', 'mechanical', 'engineer', 'that', 'is', 'self-motivated', ',', 'hardworking', 'and', 'willing', 'to', 'learn', '.', 'the', 'engineer', 'will', 'specialize', 'in', 'hvac', ',', 'building', 'automation', 'system', ',', 'plumbing', 'and', 'fire', 'protection', 'evaluation', ',', 'engineering', 'and', 'design', ',', 'and', 'will', 'be', 'a', 'part', 'of', 'our', 'growing', 'facilities', 'engineering', 'practice', 'in', 'the', 'herndon', ',', 'va', 'office', ',', 'serving', 'the', 'virginia', 'and', 'washington', 'dc', 'area', '.', 'the', 'design', 'engineer', 'will', 'be', 'provided', 'the', 'opportunity', 'to', 'be', 'directly', 'involved', 'from', 'the', 'initial', 'conceptual', 'mechanical', 'design', 'to', 'completion', 'for', 'large', 'and', 'small', 'facilities', 'type', 'projects', 'across', 'a', 'wide', 'range', 'of', 'industries', 'including', 'transportation', ',', 'education', ',', 'aviation', 'and', 'energy', '.', 'the', 'design', 'engineer', 'will', 'plan', ',', 'schedule', ',', 'conduct', 'and', 'coordinate', 'mechanical', 'engineering', 'work', 'including', 'coordination', 'of', 'the', 'project', 'with', 'local', ',', 'city', ',', 'state', ',', 'and', 'county', 'codes', 'and', 'officials', '.', 'working', 'with', 'a', 'staff', 'of', 'technically', 'qualified', 'designers', 'and', 'engineers', ',', 'the', 'design', 'engineer', 'will', 'have', 'the', 'opportunity', 'to', 'resolve', 'a', 'variety', 'of', 'complex', 'issues', ',', '-', 'lrb-i', '.', 'e', '.', ',', 'challenging', 'design', 'requirements', ',', 'requirements', 'for', 'unconventional', 'materials', ',', 'difficult', 'coordination', 'requirements', ',', 'etc', '.', '-', 'rrb', '-', 'while', 'also', 'serving', 'as', 'a', 'liaison', 'between', 'clients', 'and', 'agencies', ',', 'subcontractors', ',', 'and', 'design', 'teams', '.', 'the', 'design', 'engineer', 'will', 'be', 'supported', 'with', 'a', 'solid', 'quality', 'control', 'process', '.', 'assigned', 'roles', 'will', 'also', 'include', 'but', 'are', 'not', 'limited', 'to', 'performing', 'engineering', 'calculations', ',', 'review', 'of', 'project', 'contract', 'documents', ',', 'energy', 'simulation', ',', 'ventilation', 'and', 'heat', 'load', 'calculations', ',', 'code', 'reviews', ',', 'field', 'survey', 'activities', ',', 'construction', 'administration', 'and', 'commissioning', '.', 'the', 'ideal', 'candidate', 'is', 'an', 'experienced', 'design', 'engineer', 'ready', 'for', 'new', 'challenges', 'and', 'opportunities', 'to', 'advance', 'within', 'a', 'rapidly', 'growing', 'organization', '.', 'required', 'skills', \"bachelor's\", 'degree', 'in', 'mechanical', 'engineering', 'is', 'required', '.', 'professional', 'engineering', 'licensure', 'in', 'va', ';', 'or', 'the', 'ability', 'to', 'obtain', 'licensure', 'within', 'twelve', 'months', 'of', 'hire', '.', 'required', 'experience', '.', 'DG', 'years', 'or', 'more', 'of', 'progressive', 'work', 'experience', 'in', 'the', 'mechanical', 'engineering', 'field', '.', 'must', 'possess', 'a', 'working', 'knowledge', 'of', 'and', 'ability', 'to', 'use', 'auto', 'cad', 'and', 'building', 'load', 'simulation', 'programs', '.', 'revit', 'experience', 'is', 'a', 'plus', '.', 'leed', 'accreditation', 'is', 'a', 'plus', '.', 'commissioning', 'certification', 'and', 'experience', 'is', 'a', 'plus', '.', 'ability', 'to', 'successfully', 'function', 'in', 'a', 'fast', 'pace', 'cooperative', 'team', 'environment', 'across', 'multiple', 'offices', '.', 'prior', 'engineering', 'and', 'design', 'work', 'experience', 'in', 'educational', ',', 'transportation', ',', 'public', 'works', 'and', 'aviation', 'industries', 'is', 'a', 'plus', '.', 'job', 'location', 'herndon', ',', 'virginia', ',', 'united', 'states', '.', 'position', 'type', 'full-time', '/', 'regular', 'b5fbd5f51372465394f861536cadc534'])\n",
      "(2.005418724319772e-06, 'Registered Nurses', ['tracking', 'code', '.', 'DGDGDGDGDGDG', '.', 'job', 'description', '.', 'i', 'believe', 'that', 'the', 'care', 'we', 'give', 'can', 'make', 'every', 'moment', 'count', '.', 'compassionate', 'care', ',', 'uncompromising', 'service', 'and', 'clinical', 'excellence', '-', \"that's\", '.', 'how', 'our', 'hospice', 'improves', 'quality', 'of', 'life', 'in', 'the', 'final', 'stages', 'of', 'life', '.', 'by', '.', 'delivering', 'palliative', 'care', 'by', 'hospice', 'professionals', ',', 'our', 'patients', 'can', 'spend', '.', 'their', 'remaining', 'days', 'in', 'comfort', 'and', 'peace', '.', 'kindred', 'at', 'home', ',', 'a', 'division', 'of', '.', 'kindred', 'healthcare', 'inc', '.', ',', 'is', 'the', \"nation's\", 'leading', 'provider', 'of', 'comprehensive', '.', 'home', 'health', ',', 'hospice', ',', 'and', 'non-medical', 'home', 'care', 'services', '.', 'kindred', 'at', 'home', ',', 'and', 'its', 'affiliates', ',', 'including', 'gentiva', ',', 'delivers', '.', 'compassionate', ',', 'high-quality', 'care', 'to', 'patients', 'and', 'clients', 'in', 'their', 'homes', 'or', '.', 'places', 'of', 'residence', ',', 'including', 'non-medical', 'personal', 'assistance', ',', 'skilled', '.', 'nursing', 'and', 'rehabilitation', 'and', 'hospice', 'and', 'palliative', 'care', '.', 'our', 'caregivers', '.', 'focus', 'on', 'each', 'unique', 'patient', 'to', 'deliver', 'the', 'appropriate', 'care', 'and', 'emotional', '.', 'support', 'to', 'our', 'patients', 'and', 'their', 'families', '.', 'we', 'believe', 'that', 'every', 'moment', 'matters', '.', 'we', 'believe', 'in', 'compassionate', 'care', '.', 'most', '.', 'of', 'all', ',', 'we', 'believe', 'in', 'dignity', 'and', 'respect', 'for', 'each', 'patient', 'we', 'serve', '.', 'i', 'believe', 'my', 'work', 'is', 'my', 'calling', '.', 'as', 'a', 'hospice', 'registered', 'nurse', ',', 'you', 'will', ':', 'provide', 'skilled', 'professional', 'nursing', 'care', 'to', 'patient', '/', 'family', '/', 'caregivers', '.', 'oversee', 'and', 'provide', 'primary', 'care', ',', 'including', 'all', 'clinical', 'care', ',', 'palliative', 'care', ',', 'and', 'symptom', 'control', 'and', 'identify', 'other', 'physical', ',', 'psychological', ',', 'social', 'and', 'spiritual', 'needs', 'for', 'assigned', 'patients', '.', 'regularly', 'assess', 'the', 'patient', 'for', 'nursing', 'needs', '.', 'implement', 'the', 'plan', 'of', 'care', 'provisions', 'to', 'meet', 'their', 'needs', ',', 'initiate', 'appropriate', 'intervention', 'and', 'support', 'for', 'the', 'patient', 'and', 'family', 'upon', 'admission', 'and', 're-evaluate', 'the', \"patient's\", 'nursing', 'needs', 'to', 'provide', 'appropriate', ',', 'comprehensive', 'and', 'responsive', 'care', 'plan', 'interventions', '.', 'work', 'closely', 'with', 'other', 'members', 'of', 'the', 'interdisciplinary', 'team', 'to', 'ensure', 'all', 'patient', 'and', 'family', 'care', 'needs', 'are', 'being', 'met', '.', 'work', 'in', 'collaboration', 'with', 'the', 'patient', 'care', 'manager', 'and', 'the', 'interdisciplinary', 'team', 'in', 'the', 'planning', ',', 'implementation', 'and', 'evaluation', 'of', 'medical', 'and', 'nursing', 'care', '.', 'required', 'skills', '.', 'qualifications', '.', 'current', 'and', 'unrestricted', 'registered', 'nurse', 'licensure', '.', \"bachelor's\", 'degree', 'and', 'c', '.', 'h', '.', 'p', '.', 'n', '.', '-', 'lrb-certified', 'hospice', 'and', 'palliative', 'nurse-rrb', '-', 'certification', 'preferred', '.', 'minimum', 'of', 'one', 'year', 'general', 'nursing', 'preferred', 'with', 'current', 'hospice', ',', 'home', 'health', ',', 'medical', ',', 'surgical', 'or', 'critical', 'care', 'experience', '.', 'experience', 'with', 'pain', 'and', 'symptom', 'management', 'interventions', '.', 'ability', 'to', 'work', 'within', 'an', 'interdisciplinary', 'setting', '.', 'understanding', 'of', 'hospice', 'philosophy', ',', 'principles', 'of', 'death', '/', 'dying', '.', 'required', 'experience', '.', 'keywords', ':', 'acls', ',', 'ana', ',', 'acute', 'care', ',', 'admissions', 'nurse', ',', 'admission', 'nurse', ',', 'bls', ',', 'bsn', ',', 'cardio', 'nurse', ',', 'cardio', 'rn', ',', 'cardio', 'registered', 'nurse', ',', 'cardiac', 'nurse', ',', 'cardiac', 'rn', ',', 'cardiac', 'registered', 'nurse', ',', 'case', 'management', ',', 'case', 'manager', ',', 'critical', 'care', ',', 'er', ',', 'emergency', 'room', ',', 'healthcare', ',', 'health', 'care', ',', 'homecare', ',', 'home', 'care', ',', 'home', 'health', ',', 'homehealth', ',', 'hospital', ',', 'icu', ',', 'intensive', 'care', 'unit', ',', 'msn', ',', 'medical', ',', 'medical', 'care', ',', 'med', 'surg', ',', 'med-surg', ',', 'medicare', ',', 'nurse', ',', 'nurse', 'care', 'manager', ',', 'nurse', 'job', ',', 'nurse', 'jobs', ',', 'oncology', 'rn', ',', 'oncology', 'nurse', ',', 'oncology', 'registered', 'nurse', ',', 'palliative', 'care', 'nurse', ',', 'ortho', 'nurse', ',', 'ortho', 'rn', ',', 'ortho', 'registered', 'nurse', ',', 'palliative', 'care', 'rn', ',', 'palliative', 'care', 'registered', 'nurse', ',', 'registered', 'nurse', ',', 'rn', 'job', ',', 'rn', 'jobs', ',', 'registered', 'nurse', 'job', ',', 'registered', 'nurse', 'jobs', ',', 'nursing', ',', 'oasis', ',', 'prn', ',', 'pdm', ',', 'progressive', 'care', 'nurse', ',', 'rehab', 'rn', ',', 'rehab', 'registered', 'nurse', ',', 'rehab', 'nurse', ',', 'registered', 'nurse', ',', 'registered', 'nurse', 'case', 'manager', ',', 'rn', ',', 'r', '.', 'n', '.', ',', 'rn', 'case', 'manager', ',', 'skilled', 'visit', ',', 'staff', 'rn', ',', 'staff', 'nurse', ',', 'staff', 'registered', 'nurse', ',', 'step', 'down', 'unit', ',', 'step-down', 'unit', ',', 'step', 'down', 'unit', 'rn', ',', 'tele', ',', 'telemetry', ',', 'telemetry', 'nurse', ',', 'telemetry', 'rn', ',', 'travel', 'nurse', ',', 'travel', 'rn', ',', 'travel', 'registered', 'nurse', ',', 'visit', 'nurse', ',', 'girling', ',', 'girling', 'home', 'health', ',', 'girling', 'hospice', ',', 'amheart', 'hospice', ',', 'asian', 'american', 'home', 'health', ',', 'asian', 'american', 'hospice', ',', 'girling', 'healthcare', ',', 'harden', 'home', 'health', ',', 'harden', 'hospice', ',', 'healthfield', ',', 'iowa', 'hospice', ',', 'missouri', 'home', 'care', 'of', 'rolla', ',', 'omega', 'hospice', ',', 'the', 'home', 'option', ',', 'girling', 'community', 'care', ',', 'odyssey', ',', 'vista', 'care', ',', 'vistacare', ',', 'olsten', 'kimberley', 'quality', 'care', 'mon', '..', 'all', 'qualified', 'applicants', 'will', 'receive', 'consideration', 'for', 'employment', 'without', '.', 'regard', 'to', 'race', ',', 'color', ',', 'religion', ',', 'sex', ',', 'sexual', 'orientation', ',', 'gender', 'identity', 'or', '.', 'national', 'origin', '.', 'to', 'learn', 'more', ',', 'please', 'contact', 'your', 'local', 'recruiter', 'at', '-', 'lrb-toll', 'free-rrb', '-', '1.877.44.hospice', '.', 'job', 'location', '.', 'virginia', 'beach', ',', 'virginia', ',', 'united', 'states', '.', 'position', 'type', '.', 'prn', '.', 'equal', 'opportunity', 'employer', '/', 'veterans', '/', 'individuals', 'with', 'disabilities', '.', 'drug', 'free', '.', 'workplace'])\n",
      "(2.033710971967082e-06, 'Registered Nurses', ['rn', 'oncology', 'job', 'description', 'for', 'more', 'than', 'a', 'century', ',', 'lewisgale', 'medical', 'center', 'has', 'delivered', 'the', 'highest', 'quality', 'healthcare', 'to', 'residents', 'of', 'southwest', 'virginia', 'from', 'our', 'location', 'in', 'the', 'salem', '/', 'roanoke', 'metro', 'area', '.', 'as', 'the', 'largest', 'facility', 'in', 'lewisgale', 'regional', 'health', 'system', ',', 'we', 'provide', 'the', 'full', 'scope', 'of', 'healthcare', 'services', 'you', 'expect', 'to', 'find', 'at', 'a', 'regional', 'referral', 'center', '.', 'we', 'specialize', 'in', 'heart', 'and', 'vascular', 'care--including', 'the', 'latest', 'advanced', 'technology', 'available', 'through', 'our', 'designated', 'heart', 'center--as', 'well', 'as', 'orthopedics', 'and', 'spine', 'care', ',', 'services', 'for', 'mental', 'and', 'behavioral', 'health', 'and', 'cancer', 'care', '.', 'the', 'registered', 'nurse', '-', 'lrb-rn-rrb', '-', '6w', 'oncology', '-', 'will', 'perform', 'care', 'under', 'the', 'direction', 'of', 'the', 'unit', 'nursing', 'leadership', 'team', 'and', 'the', 'director', '.', 'the', 'registered', 'nurse', 'provides', 'therapeutic', 'and', 'administrative', 'services', 'necessary', 'for', 'the', 'care', 'of', 'the', 'patient', ',', 'in', 'support', 'of', 'hca', 'ethical', 'principles', 'and', 'values', '.', 'the', 'rn', 'is', 'responsible', 'for', 'assessing', ',', 'planning', ',', 'implementing', ',', 'evaluating', ',', 'and', 'documenting', 'all', 'aspects', 'of', 'patient', 'care', '.', 'the', 'registered', 'nurse', 'delegates', 'appropriate', 'tasks', 'to', 'unlicensed', 'personnel', 'and', 'provides', 'required', 'supervision', '.', 'the', 'rn', 'works', 'closely', 'with', 'all', 'health', 'care', 'providers', 'to', 'facilitate', 'and', 'coordinate', 'efficient', ',', 'effective', ',', 'and', 'quality', 'healthcare', '.', 'the', 'registered', 'nurse', 'communicates', 'effectively', 'and', 'maintains', 'therapeutic', 'relationships', 'with', 'patients', ',', 'families', ',', 'physicians', ',', 'and', 'staff', '.', 'the', 'rn', 'evaluates', \"patient's\", 'signs', 'and', 'symptoms', ';', 'and', 'records', 'and', 'reports', 'results', '.', 'the', 'registered', 'nurse', 'sets', 'priorities', 'and', 'modifies', 'patient', 'care', 'in', 'response', 'to', 'changing', 'conditions', 'by', 'utilizing', 'problem', 'solving', 'skills', 'and', 'exhibiting', 'good', 'judgment', '.', 'the', 'rn', 'collaborates', 'with', 'physicians', 'regarding', 'patient', 'progress', 'towards', 'the', 'outcome', 'attainment', '.', 'the', 'registered', 'nurse', 'assists', 'physician', 'during', 'treatment', '/', 'examination', 'of', 'patient', 'and', 'processes', 'orders', '.', 'the', 'rn', 'makes', 'appropriate', 'and', 'timely', 'notification', 'to', 'physicians', 'on', 'patient', 'condition', 'changes', '.', 'the', 'registered', 'nurse', 'is', 'expected', 'to', 'attend', 'unit', 'meetings', 'as', 'directed', 'by', 'the', 'nurse', 'manager', 'and', 'participate', 'in', 'continuing', 'education', 'programs', 'to', 'maintain', 'competence', 'and', 'gain', 'additional', 'skills', '.', 'patient', 'rights', '-', 'the', 'registered', 'nurse', 'will', 'work', 'to', 'support', 'and', 'protect', 'the', 'rights', 'of', 'each', 'patient', 'served', ',', 'treat', 'each', 'patient', 'with', 'dignity', 'and', 'care', ',', 'and', 'maintain', 'patient', 'confidentiality', '/', 'privacy', '.', 'patient', 'safety', '-', 'the', 'registered', 'nurse', 'demonstrates', 'commitment', 'to', 'patient', 'safety', 'initiatives', 'including', 'patient', 'falls', ',', 'medication', 'safety', ',', 'national', 'patient', 'safety', 'goals', ',', 'critical', 'value', 'reporting', ',', 'and', 'administration', 'of', 'blood', 'products', '.', 'licensure', '/', 'certification', ':', 'registered', 'nurse', 'license', 'issued', 'by', 'the', 'department', 'of', 'health', 'professions', ',', 'commonwealth', 'of', 'virginia', 'registered', 'nurse', 'with', 'multi-state', 'privilege', 'granted', 'to', 'them', 'by', 'virtue', 'of', 'holding', 'a', 'license', 'in', 'one', 'of', 'the', 'states', 'participating', 'in', 'the', 'nurse', 'licensure', 'compact', 'agreement', 'and', 'who', 'has', 'not', 'established', 'permanent', 'residency', 'in', 'virginia', '.', 'american', 'heart', 'association', 'bls', ',', 'basic', 'life', 'support', 'certification', '.', 'education', ':', 'graduate', 'of', 'a', 'nursing', 'program', '.', 'for', 'full-time', 'and', 'part-time', 'registered', 'nurses', 'hired', 'on', 'or', 'after', 'july', 'DG', ',', 'DGDGDGDG', ':', 'bsn', 'or', 'enrollment', 'in', 'bsn', 'program', 'required', 'within', 'first', 'two', 'years', 'of', 'employment', 'and', 'completion', 'of', 'bsn', 'within', 'five', 'years', 'of', 'employment', '.', 'preferred', 'experience', ':', 'previous', 'rn', 'experience', 'preferred', 'title', ':', 'rn', 'oncology', 'prn', 'location', ':', 'virginia-salem', 'va-lewis-gale', 'medical', 'center', 'requisition', 'id', ':', 'DGDGDGDGDG-DGDGDGDGDG', '38b020a7cec84414935bf0cd0d4ac189'])\n",
      "(2.040926364312377e-06, 'Registered Nurses', ['tracking', 'code', '.', 'DGDGDGDGDGDG', '.', 'job', 'description', '.', 'i', 'believe', 'that', 'the', 'care', 'we', 'give', 'can', 'make', 'every', 'moment', 'count', '.', 'compassionate', 'care', ',', 'uncompromising', 'service', 'and', 'clinical', 'excellence', '-', \"that's\", '.', 'how', 'our', 'hospice', 'improves', 'quality', 'of', 'life', 'in', 'the', 'final', 'stages', 'of', 'life', '.', 'by', '.', 'delivering', 'palliative', 'care', 'by', 'hospice', 'professionals', ',', 'our', 'patients', 'can', 'spend', '.', 'their', 'remaining', 'days', 'in', 'comfort', 'and', 'peace', '.', 'kindred', 'at', 'home', ',', 'a', 'division', 'of', '.', 'kindred', 'healthcare', 'inc', '.', ',', 'is', 'the', \"nation's\", 'leading', 'provider', 'of', 'comprehensive', '.', 'home', 'health', ',', 'hospice', ',', 'and', 'non-medical', 'home', 'care', 'services', '.', 'kindred', 'at', 'home', ',', 'and', 'its', 'affiliates', ',', 'including', 'gentiva', ',', 'delivers', '.', 'compassionate', ',', 'high-quality', 'care', 'to', 'patients', 'and', 'clients', 'in', 'their', 'homes', 'or', '.', 'places', 'of', 'residence', ',', 'including', 'non-medical', 'personal', 'assistance', ',', 'skilled', '.', 'nursing', 'and', 'rehabilitation', 'and', 'hospice', 'and', 'palliative', 'care', '.', 'our', 'caregivers', '.', 'focus', 'on', 'each', 'unique', 'patient', 'to', 'deliver', 'the', 'appropriate', 'care', 'and', 'emotional', '.', 'support', 'to', 'our', 'patients', 'and', 'their', 'families', '.', 'we', 'believe', 'that', 'every', 'moment', 'matters', '.', 'we', 'believe', 'in', 'compassionate', 'care', '.', 'most', '.', 'of', 'all', ',', 'we', 'believe', 'in', 'dignity', 'and', 'respect', 'for', 'each', 'patient', 'we', 'serve', '.', 'i', 'believe', 'my', 'work', 'is', 'my', 'calling', '.', 'as', 'a', 'hospice', 'registered', 'nurse', ',', 'you', 'will', ':', 'provide', 'skilled', 'professional', 'nursing', 'care', 'to', 'patient', '/', 'family', '/', 'caregivers', '.', 'oversee', 'and', 'provide', 'primary', 'care', ',', 'including', 'all', 'clinical', 'care', ',', 'palliative', 'care', ',', 'and', 'symptom', 'control', 'and', 'identify', 'other', 'physical', ',', 'psychological', ',', 'social', 'and', 'spiritual', 'needs', 'for', 'assigned', 'patients', '.', 'regularly', 'assess', 'the', 'patient', 'for', 'nursing', 'needs', '.', 'implement', 'the', 'plan', 'of', 'care', 'provisions', 'to', 'meet', 'their', 'needs', ',', 'initiate', 'appropriate', 'intervention', 'and', 'support', 'for', 'the', 'patient', 'and', 'family', 'upon', 'admission', 'and', 're-evaluate', 'the', \"patient's\", 'nursing', 'needs', 'to', 'provide', 'appropriate', ',', 'comprehensive', 'and', 'responsive', 'care', 'plan', 'interventions', '.', 'work', 'closely', 'with', 'other', 'members', 'of', 'the', 'interdisciplinary', 'team', 'to', 'ensure', 'all', 'patient', 'and', 'family', 'care', 'needs', 'are', 'being', 'met', '.', 'work', 'in', 'collaboration', 'with', 'the', 'patient', 'care', 'manager', 'and', 'the', 'interdisciplinary', 'team', 'in', 'the', 'planning', ',', 'implementation', 'and', 'evaluation', 'of', 'medical', 'and', 'nursing', 'care', '.', 'required', 'skills', '.', 'qualifications', '.', 'current', 'and', 'unrestricted', 'registered', 'nurse', 'licensure', '.', \"bachelor's\", 'degree', 'and', 'c', '.', 'h', '.', 'p', '.', 'n', '.', '-', 'lrb-certified', 'hospice', 'and', 'palliative', 'nurse-rrb', '-', 'certification', 'preferred', '.', 'minimum', 'of', 'one', 'year', 'general', 'nursing', 'preferred', 'with', 'current', 'hospice', ',', 'home', 'health', ',', 'medical', ',', 'surgical', 'or', 'critical', 'care', 'experience', '.', 'experience', 'with', 'pain', 'and', 'symptom', 'management', 'interventions', '.', 'ability', 'to', 'work', 'within', 'an', 'interdisciplinary', 'setting', '.', 'understanding', 'of', 'hospice', 'philosophy', ',', 'principles', 'of', 'death', '/', 'dying', '.', 'required', 'experience', '.', 'keywords', ':', 'acls', ',', 'ana', ',', 'acute', 'care', ',', 'admissions', 'nurse', ',', 'admission', 'nurse', ',', 'bls', ',', 'bsn', ',', 'cardio', 'nurse', ',', 'cardio', 'rn', ',', 'cardio', 'registered', 'nurse', ',', 'cardiac', 'nurse', ',', 'cardiac', 'rn', ',', 'cardiac', 'registered', 'nurse', ',', 'case', 'management', ',', 'case', 'manager', ',', 'critical', 'care', ',', 'er', ',', 'emergency', 'room', ',', 'healthcare', ',', 'health', 'care', ',', 'homecare', ',', 'home', 'care', ',', 'home', 'health', ',', 'homehealth', ',', 'hospital', ',', 'icu', ',', 'intensive', 'care', 'unit', ',', 'msn', ',', 'medical', ',', 'medical', 'care', ',', 'med', 'surg', ',', 'med-surg', ',', 'medicare', ',', 'nurse', ',', 'nurse', 'care', 'manager', ',', 'nurse', 'job', ',', 'nurse', 'jobs', ',', 'oncology', 'rn', ',', 'oncology', 'nurse', ',', 'oncology', 'registered', 'nurse', ',', 'palliative', 'care', 'nurse', ',', 'ortho', 'nurse', ',', 'ortho', 'rn', ',', 'ortho', 'registered', 'nurse', ',', 'palliative', 'care', 'rn', ',', 'palliative', 'care', 'registered', 'nurse', ',', 'registered', 'nurse', ',', 'rn', 'job', ',', 'rn', 'jobs', ',', 'registered', 'nurse', 'job', ',', 'registered', 'nurse', 'jobs', ',', 'nursing', ',', 'oasis', ',', 'prn', ',', 'pdm', ',', 'progressive', 'care', 'nurse', ',', 'rehab', 'rn', ',', 'rehab', 'registered', 'nurse', ',', 'rehab', 'nurse', ',', 'registered', 'nurse', ',', 'registered', 'nurse', 'case', 'manager', ',', 'rn', ',', 'r', '.', 'n', '.', ',', 'rn', 'case', 'manager', ',', 'skilled', 'visit', ',', 'staff', 'rn', ',', 'staff', 'nurse', ',', 'staff', 'registered', 'nurse', ',', 'step', 'down', 'unit', ',', 'step-down', 'unit', ',', 'step', 'down', 'unit', 'rn', ',', 'tele', ',', 'telemetry', ',', 'telemetry', 'nurse', ',', 'telemetry', 'rn', ',', 'travel', 'nurse', ',', 'travel', 'rn', ',', 'travel', 'registered', 'nurse', ',', 'visit', 'nurse', ',', 'girling', ',', 'girling', 'home', 'health', ',', 'girling', 'hospice', ',', 'amheart', 'hospice', ',', 'asian', 'american', 'home', 'health', ',', 'asian', 'american', 'hospice', ',', 'girling', 'healthcare', ',', 'harden', 'home', 'health', ',', 'harden', 'hospice', ',', 'healthfield', ',', 'iowa', 'hospice', ',', 'missouri', 'home', 'care', 'of', 'rolla', ',', 'omega', 'hospice', ',', 'the', 'home', 'option', ',', 'girling', 'community', 'care', ',', 'odyssey', ',', 'vista', 'care', ',', 'vistacare', ',', 'olsten', 'kimberley', 'quality', 'care', 'mon', '..', 'all', 'qualified', 'applicants', 'will', 'receive', 'consideration', 'for', 'employment', 'without', '.', 'regard', 'to', 'race', ',', 'color', ',', 'religion', ',', 'sex', ',', 'sexual', 'orientation', ',', 'gender', 'identity', 'or', '.', 'national', 'origin', '.', 'to', 'learn', 'more', ',', 'please', 'contact', 'your', 'local', 'recruiter', 'at', '-', 'lrb-toll', 'free-rrb', '-', '1.877.44.hospice', '.', 'job', 'location', '.', 'richmond', ',', 'virginia', ',', 'united', 'states', '.', 'position', 'type', '.', 'prn', '.', 'equal', 'opportunity', 'employer', '/', 'veterans', '/', 'individuals', 'with', 'disabilities', '.', 'drug', 'free', '.', 'workplace'])\n",
      "(2.040926364312377e-06, 'Registered Nurses', ['tracking', 'code', '.', 'DGDGDGDGDGDG', '.', 'job', 'description', '.', 'i', 'believe', 'that', 'the', 'care', 'we', 'give', 'can', 'make', 'every', 'moment', 'count', '.', 'compassionate', 'care', ',', 'uncompromising', 'service', 'and', 'clinical', 'excellence', '-', \"that's\", '.', 'how', 'our', 'hospice', 'improves', 'quality', 'of', 'life', 'in', 'the', 'final', 'stages', 'of', 'life', '.', 'by', '.', 'delivering', 'palliative', 'care', 'by', 'hospice', 'professionals', ',', 'our', 'patients', 'can', 'spend', '.', 'their', 'remaining', 'days', 'in', 'comfort', 'and', 'peace', '.', 'kindred', 'at', 'home', ',', 'a', 'division', 'of', '.', 'kindred', 'healthcare', 'inc', '.', ',', 'is', 'the', \"nation's\", 'leading', 'provider', 'of', 'comprehensive', '.', 'home', 'health', ',', 'hospice', ',', 'and', 'non-medical', 'home', 'care', 'services', '.', 'kindred', 'at', 'home', ',', 'and', 'its', 'affiliates', ',', 'including', 'gentiva', ',', 'delivers', '.', 'compassionate', ',', 'high-quality', 'care', 'to', 'patients', 'and', 'clients', 'in', 'their', 'homes', 'or', '.', 'places', 'of', 'residence', ',', 'including', 'non-medical', 'personal', 'assistance', ',', 'skilled', '.', 'nursing', 'and', 'rehabilitation', 'and', 'hospice', 'and', 'palliative', 'care', '.', 'our', 'caregivers', '.', 'focus', 'on', 'each', 'unique', 'patient', 'to', 'deliver', 'the', 'appropriate', 'care', 'and', 'emotional', '.', 'support', 'to', 'our', 'patients', 'and', 'their', 'families', '.', 'we', 'believe', 'that', 'every', 'moment', 'matters', '.', 'we', 'believe', 'in', 'compassionate', 'care', '.', 'most', '.', 'of', 'all', ',', 'we', 'believe', 'in', 'dignity', 'and', 'respect', 'for', 'each', 'patient', 'we', 'serve', '.', 'i', 'believe', 'my', 'work', 'is', 'my', 'calling', '.', 'as', 'a', 'hospice', 'registered', 'nurse', ',', 'you', 'will', ':', 'provide', 'skilled', 'professional', 'nursing', 'care', 'to', 'patient', '/', 'family', '/', 'caregivers', '.', 'oversee', 'and', 'provide', 'primary', 'care', ',', 'including', 'all', 'clinical', 'care', ',', 'palliative', 'care', ',', 'and', 'symptom', 'control', 'and', 'identify', 'other', 'physical', ',', 'psychological', ',', 'social', 'and', 'spiritual', 'needs', 'for', 'assigned', 'patients', '.', 'regularly', 'assess', 'the', 'patient', 'for', 'nursing', 'needs', '.', 'implement', 'the', 'plan', 'of', 'care', 'provisions', 'to', 'meet', 'their', 'needs', ',', 'initiate', 'appropriate', 'intervention', 'and', 'support', 'for', 'the', 'patient', 'and', 'family', 'upon', 'admission', 'and', 're-evaluate', 'the', \"patient's\", 'nursing', 'needs', 'to', 'provide', 'appropriate', ',', 'comprehensive', 'and', 'responsive', 'care', 'plan', 'interventions', '.', 'work', 'closely', 'with', 'other', 'members', 'of', 'the', 'interdisciplinary', 'team', 'to', 'ensure', 'all', 'patient', 'and', 'family', 'care', 'needs', 'are', 'being', 'met', '.', 'work', 'in', 'collaboration', 'with', 'the', 'patient', 'care', 'manager', 'and', 'the', 'interdisciplinary', 'team', 'in', 'the', 'planning', ',', 'implementation', 'and', 'evaluation', 'of', 'medical', 'and', 'nursing', 'care', '.', 'required', 'skills', '.', 'qualifications', '.', 'current', 'and', 'unrestricted', 'registered', 'nurse', 'licensure', '.', \"bachelor's\", 'degree', 'and', 'c', '.', 'h', '.', 'p', '.', 'n', '.', '-', 'lrb-certified', 'hospice', 'and', 'palliative', 'nurse-rrb', '-', 'certification', 'preferred', '.', 'minimum', 'of', 'one', 'year', 'general', 'nursing', 'preferred', 'with', 'current', 'hospice', ',', 'home', 'health', ',', 'medical', ',', 'surgical', 'or', 'critical', 'care', 'experience', '.', 'experience', 'with', 'pain', 'and', 'symptom', 'management', 'interventions', '.', 'ability', 'to', 'work', 'within', 'an', 'interdisciplinary', 'setting', '.', 'understanding', 'of', 'hospice', 'philosophy', ',', 'principles', 'of', 'death', '/', 'dying', '.', 'required', 'experience', '.', 'keywords', ':', 'acls', ',', 'ana', ',', 'acute', 'care', ',', 'admissions', 'nurse', ',', 'admission', 'nurse', ',', 'bls', ',', 'bsn', ',', 'cardio', 'nurse', ',', 'cardio', 'rn', ',', 'cardio', 'registered', 'nurse', ',', 'cardiac', 'nurse', ',', 'cardiac', 'rn', ',', 'cardiac', 'registered', 'nurse', ',', 'case', 'management', ',', 'case', 'manager', ',', 'critical', 'care', ',', 'er', ',', 'emergency', 'room', ',', 'healthcare', ',', 'health', 'care', ',', 'homecare', ',', 'home', 'care', ',', 'home', 'health', ',', 'homehealth', ',', 'hospital', ',', 'icu', ',', 'intensive', 'care', 'unit', ',', 'msn', ',', 'medical', ',', 'medical', 'care', ',', 'med', 'surg', ',', 'med-surg', ',', 'medicare', ',', 'nurse', ',', 'nurse', 'care', 'manager', ',', 'nurse', 'job', ',', 'nurse', 'jobs', ',', 'oncology', 'rn', ',', 'oncology', 'nurse', ',', 'oncology', 'registered', 'nurse', ',', 'palliative', 'care', 'nurse', ',', 'ortho', 'nurse', ',', 'ortho', 'rn', ',', 'ortho', 'registered', 'nurse', ',', 'palliative', 'care', 'rn', ',', 'palliative', 'care', 'registered', 'nurse', ',', 'registered', 'nurse', ',', 'rn', 'job', ',', 'rn', 'jobs', ',', 'registered', 'nurse', 'job', ',', 'registered', 'nurse', 'jobs', ',', 'nursing', ',', 'oasis', ',', 'prn', ',', 'pdm', ',', 'progressive', 'care', 'nurse', ',', 'rehab', 'rn', ',', 'rehab', 'registered', 'nurse', ',', 'rehab', 'nurse', ',', 'registered', 'nurse', ',', 'registered', 'nurse', 'case', 'manager', ',', 'rn', ',', 'r', '.', 'n', '.', ',', 'rn', 'case', 'manager', ',', 'skilled', 'visit', ',', 'staff', 'rn', ',', 'staff', 'nurse', ',', 'staff', 'registered', 'nurse', ',', 'step', 'down', 'unit', ',', 'step-down', 'unit', ',', 'step', 'down', 'unit', 'rn', ',', 'tele', ',', 'telemetry', ',', 'telemetry', 'nurse', ',', 'telemetry', 'rn', ',', 'travel', 'nurse', ',', 'travel', 'rn', ',', 'travel', 'registered', 'nurse', ',', 'visit', 'nurse', ',', 'girling', ',', 'girling', 'home', 'health', ',', 'girling', 'hospice', ',', 'amheart', 'hospice', ',', 'asian', 'american', 'home', 'health', ',', 'asian', 'american', 'hospice', ',', 'girling', 'healthcare', ',', 'harden', 'home', 'health', ',', 'harden', 'hospice', ',', 'healthfield', ',', 'iowa', 'hospice', ',', 'missouri', 'home', 'care', 'of', 'rolla', ',', 'omega', 'hospice', ',', 'the', 'home', 'option', ',', 'girling', 'community', 'care', ',', 'odyssey', ',', 'vista', 'care', ',', 'vistacare', ',', 'olsten', 'kimberley', 'quality', 'care', 'mon', '..', 'all', 'qualified', 'applicants', 'will', 'receive', 'consideration', 'for', 'employment', 'without', '.', 'regard', 'to', 'race', ',', 'color', ',', 'religion', ',', 'sex', ',', 'sexual', 'orientation', ',', 'gender', 'identity', 'or', '.', 'national', 'origin', '.', 'to', 'learn', 'more', ',', 'please', 'contact', 'your', 'local', 'recruiter', 'at', '-', 'lrb-toll', 'free-rrb', '-', '1.877.44.hospice', '.', 'job', 'location', '.', 'richmond', ',', 'virginia', ',', 'united', 'states', '.', 'position', 'type', '.', 'prn', '.', 'equal', 'opportunity', 'employer', '/', 'veterans', '/', 'individuals', 'with', 'disabilities', '.', 'drug', 'free', '.', 'workplace'])\n",
      "(2.040926364312377e-06, 'Registered Nurses', ['tracking', 'code', '.', 'DGDGDGDGDGDG', '.', 'job', 'description', '.', 'i', 'believe', 'that', 'the', 'care', 'we', 'give', 'can', 'make', 'every', 'moment', 'count', '.', 'compassionate', 'care', ',', 'uncompromising', 'service', 'and', 'clinical', 'excellence', '-', \"that's\", '.', 'how', 'our', 'hospice', 'improves', 'quality', 'of', 'life', 'in', 'the', 'final', 'stages', 'of', 'life', '.', 'by', '.', 'delivering', 'palliative', 'care', 'by', 'hospice', 'professionals', ',', 'our', 'patients', 'can', 'spend', '.', 'their', 'remaining', 'days', 'in', 'comfort', 'and', 'peace', '.', 'kindred', 'at', 'home', ',', 'a', 'division', 'of', '.', 'kindred', 'healthcare', 'inc', '.', ',', 'is', 'the', \"nation's\", 'leading', 'provider', 'of', 'comprehensive', '.', 'home', 'health', ',', 'hospice', ',', 'and', 'non-medical', 'home', 'care', 'services', '.', 'kindred', 'at', 'home', ',', 'and', 'its', 'affiliates', ',', 'including', 'gentiva', ',', 'delivers', '.', 'compassionate', ',', 'high-quality', 'care', 'to', 'patients', 'and', 'clients', 'in', 'their', 'homes', 'or', '.', 'places', 'of', 'residence', ',', 'including', 'non-medical', 'personal', 'assistance', ',', 'skilled', '.', 'nursing', 'and', 'rehabilitation', 'and', 'hospice', 'and', 'palliative', 'care', '.', 'our', 'caregivers', '.', 'focus', 'on', 'each', 'unique', 'patient', 'to', 'deliver', 'the', 'appropriate', 'care', 'and', 'emotional', '.', 'support', 'to', 'our', 'patients', 'and', 'their', 'families', '.', 'we', 'believe', 'that', 'every', 'moment', 'matters', '.', 'we', 'believe', 'in', 'compassionate', 'care', '.', 'most', '.', 'of', 'all', ',', 'we', 'believe', 'in', 'dignity', 'and', 'respect', 'for', 'each', 'patient', 'we', 'serve', '.', 'i', 'believe', 'my', 'work', 'is', 'my', 'calling', '.', 'as', 'a', 'hospice', 'registered', 'nurse', ',', 'you', 'will', ':', 'provide', 'skilled', 'professional', 'nursing', 'care', 'to', 'patient', '/', 'family', '/', 'caregivers', '.', 'oversee', 'and', 'provide', 'primary', 'care', ',', 'including', 'all', 'clinical', 'care', ',', 'palliative', 'care', ',', 'and', 'symptom', 'control', 'and', 'identify', 'other', 'physical', ',', 'psychological', ',', 'social', 'and', 'spiritual', 'needs', 'for', 'assigned', 'patients', '.', 'regularly', 'assess', 'the', 'patient', 'for', 'nursing', 'needs', '.', 'implement', 'the', 'plan', 'of', 'care', 'provisions', 'to', 'meet', 'their', 'needs', ',', 'initiate', 'appropriate', 'intervention', 'and', 'support', 'for', 'the', 'patient', 'and', 'family', 'upon', 'admission', 'and', 're-evaluate', 'the', \"patient's\", 'nursing', 'needs', 'to', 'provide', 'appropriate', ',', 'comprehensive', 'and', 'responsive', 'care', 'plan', 'interventions', '.', 'work', 'closely', 'with', 'other', 'members', 'of', 'the', 'interdisciplinary', 'team', 'to', 'ensure', 'all', 'patient', 'and', 'family', 'care', 'needs', 'are', 'being', 'met', '.', 'work', 'in', 'collaboration', 'with', 'the', 'patient', 'care', 'manager', 'and', 'the', 'interdisciplinary', 'team', 'in', 'the', 'planning', ',', 'implementation', 'and', 'evaluation', 'of', 'medical', 'and', 'nursing', 'care', '.', 'required', 'skills', '.', 'qualifications', '.', 'current', 'and', 'unrestricted', 'registered', 'nurse', 'licensure', '.', \"bachelor's\", 'degree', 'and', 'c', '.', 'h', '.', 'p', '.', 'n', '.', '-', 'lrb-certified', 'hospice', 'and', 'palliative', 'nurse-rrb', '-', 'certification', 'preferred', '.', 'minimum', 'of', 'one', 'year', 'general', 'nursing', 'preferred', 'with', 'current', 'hospice', ',', 'home', 'health', ',', 'medical', ',', 'surgical', 'or', 'critical', 'care', 'experience', '.', 'experience', 'with', 'pain', 'and', 'symptom', 'management', 'interventions', '.', 'ability', 'to', 'work', 'within', 'an', 'interdisciplinary', 'setting', '.', 'understanding', 'of', 'hospice', 'philosophy', ',', 'principles', 'of', 'death', '/', 'dying', '.', 'required', 'experience', '.', 'keywords', ':', 'acls', ',', 'ana', ',', 'acute', 'care', ',', 'admissions', 'nurse', ',', 'admission', 'nurse', ',', 'bls', ',', 'bsn', ',', 'cardio', 'nurse', ',', 'cardio', 'rn', ',', 'cardio', 'registered', 'nurse', ',', 'cardiac', 'nurse', ',', 'cardiac', 'rn', ',', 'cardiac', 'registered', 'nurse', ',', 'case', 'management', ',', 'case', 'manager', ',', 'critical', 'care', ',', 'er', ',', 'emergency', 'room', ',', 'healthcare', ',', 'health', 'care', ',', 'homecare', ',', 'home', 'care', ',', 'home', 'health', ',', 'homehealth', ',', 'hospital', ',', 'icu', ',', 'intensive', 'care', 'unit', ',', 'msn', ',', 'medical', ',', 'medical', 'care', ',', 'med', 'surg', ',', 'med-surg', ',', 'medicare', ',', 'nurse', ',', 'nurse', 'care', 'manager', ',', 'nurse', 'job', ',', 'nurse', 'jobs', ',', 'oncology', 'rn', ',', 'oncology', 'nurse', ',', 'oncology', 'registered', 'nurse', ',', 'palliative', 'care', 'nurse', ',', 'ortho', 'nurse', ',', 'ortho', 'rn', ',', 'ortho', 'registered', 'nurse', ',', 'palliative', 'care', 'rn', ',', 'palliative', 'care', 'registered', 'nurse', ',', 'registered', 'nurse', ',', 'rn', 'job', ',', 'rn', 'jobs', ',', 'registered', 'nurse', 'job', ',', 'registered', 'nurse', 'jobs', ',', 'nursing', ',', 'oasis', ',', 'prn', ',', 'pdm', ',', 'progressive', 'care', 'nurse', ',', 'rehab', 'rn', ',', 'rehab', 'registered', 'nurse', ',', 'rehab', 'nurse', ',', 'registered', 'nurse', ',', 'registered', 'nurse', 'case', 'manager', ',', 'rn', ',', 'r', '.', 'n', '.', ',', 'rn', 'case', 'manager', ',', 'skilled', 'visit', ',', 'staff', 'rn', ',', 'staff', 'nurse', ',', 'staff', 'registered', 'nurse', ',', 'step', 'down', 'unit', ',', 'step-down', 'unit', ',', 'step', 'down', 'unit', 'rn', ',', 'tele', ',', 'telemetry', ',', 'telemetry', 'nurse', ',', 'telemetry', 'rn', ',', 'travel', 'nurse', ',', 'travel', 'rn', ',', 'travel', 'registered', 'nurse', ',', 'visit', 'nurse', ',', 'girling', ',', 'girling', 'home', 'health', ',', 'girling', 'hospice', ',', 'amheart', 'hospice', ',', 'asian', 'american', 'home', 'health', ',', 'asian', 'american', 'hospice', ',', 'girling', 'healthcare', ',', 'harden', 'home', 'health', ',', 'harden', 'hospice', ',', 'healthfield', ',', 'iowa', 'hospice', ',', 'missouri', 'home', 'care', 'of', 'rolla', ',', 'omega', 'hospice', ',', 'the', 'home', 'option', ',', 'girling', 'community', 'care', ',', 'odyssey', ',', 'vista', 'care', ',', 'vistacare', ',', 'olsten', 'kimberley', 'quality', 'care', 'mon', '..', 'all', 'qualified', 'applicants', 'will', 'receive', 'consideration', 'for', 'employment', 'without', '.', 'regard', 'to', 'race', ',', 'color', ',', 'religion', ',', 'sex', ',', 'sexual', 'orientation', ',', 'gender', 'identity', 'or', '.', 'national', 'origin', '.', 'to', 'learn', 'more', ',', 'please', 'contact', 'your', 'local', 'recruiter', 'at', '-', 'lrb-toll', 'free-rrb', '-', '1.877.44.hospice', '.', 'job', 'location', '.', 'richmond', ',', 'virginia', ',', 'united', 'states', '.', 'position', 'type', '.', 'prn', '.', 'equal', 'opportunity', 'employer', '/', 'veterans', '/', 'individuals', 'with', 'disabilities', '.', 'drug', 'free', '.', 'workplace'])\n",
      "(2.059293085493233e-06, 'Registered Nurses', ['tracking', 'code', '.', 'DGDGDGDGDGDG', '.', 'job', 'description', '.', 'i', 'believe', 'that', 'the', 'care', 'we', 'give', 'can', 'make', 'every', 'moment', 'count', '.', 'compassionate', 'care', ',', 'uncompromising', 'service', 'and', 'clinical', 'excellence', '-', \"that's\", '.', 'how', 'our', 'hospice', 'improves', 'quality', 'of', 'life', 'in', 'the', 'final', 'stages', 'of', 'life', '.', 'by', '.', 'delivering', 'palliative', 'care', 'by', 'hospice', 'professionals', ',', 'our', 'patients', 'can', 'spend', '.', 'their', 'remaining', 'days', 'in', 'comfort', 'and', 'peace', '.', 'kindred', 'at', 'home', ',', 'a', 'division', 'of', '.', 'kindred', 'healthcare', 'inc', '.', ',', 'is', 'the', \"nation's\", 'leading', 'provider', 'of', 'comprehensive', '.', 'home', 'health', ',', 'hospice', ',', 'and', 'non-medical', 'home', 'care', 'services', '.', 'kindred', 'at', 'home', ',', 'and', 'its', 'affiliates', ',', 'including', 'gentiva', ',', 'delivers', '.', 'compassionate', ',', 'high-quality', 'care', 'to', 'patients', 'and', 'clients', 'in', 'their', 'homes', 'or', '.', 'places', 'of', 'residence', ',', 'including', 'non-medical', 'personal', 'assistance', ',', 'skilled', '.', 'nursing', 'and', 'rehabilitation', 'and', 'hospice', 'and', 'palliative', 'care', '.', 'our', 'caregivers', '.', 'focus', 'on', 'each', 'unique', 'patient', 'to', 'deliver', 'the', 'appropriate', 'care', 'and', 'emotional', '.', 'support', 'to', 'our', 'patients', 'and', 'their', 'families', '.', 'we', 'believe', 'that', 'every', 'moment', 'matters', '.', 'we', 'believe', 'in', 'compassionate', 'care', '.', 'most', '.', 'of', 'all', ',', 'we', 'believe', 'in', 'dignity', 'and', 'respect', 'for', 'each', 'patient', 'we', 'serve', '.', 'i', 'believe', 'my', 'work', 'is', 'my', 'calling', '.', 'as', 'a', 'hospice', 'registered', 'nurse', ',', 'you', 'will', ':', 'provide', 'skilled', 'professional', 'nursing', 'care', 'to', 'patient', '/', 'family', '/', 'caregivers', '.', 'oversee', 'and', 'provide', 'primary', 'care', ',', 'including', 'all', 'clinical', 'care', ',', 'palliative', 'care', ',', 'and', 'symptom', 'control', 'and', 'identify', 'other', 'physical', ',', 'psychological', ',', 'social', 'and', 'spiritual', 'needs', 'for', 'assigned', 'patients', '.', 'regularly', 'assess', 'the', 'patient', 'for', 'nursing', 'needs', '.', 'implement', 'the', 'plan', 'of', 'care', 'provisions', 'to', 'meet', 'their', 'needs', ',', 'initiate', 'appropriate', 'intervention', 'and', 'support', 'for', 'the', 'patient', 'and', 'family', 'upon', 'admission', 'and', 're-evaluate', 'the', \"patient's\", 'nursing', 'needs', 'to', 'provide', 'appropriate', ',', 'comprehensive', 'and', 'responsive', 'care', 'plan', 'interventions', '.', 'work', 'closely', 'with', 'other', 'members', 'of', 'the', 'interdisciplinary', 'team', 'to', 'ensure', 'all', 'patient', 'and', 'family', 'care', 'needs', 'are', 'being', 'met', '.', 'work', 'in', 'collaboration', 'with', 'the', 'patient', 'care', 'manager', 'and', 'the', 'interdisciplinary', 'team', 'in', 'the', 'planning', ',', 'implementation', 'and', 'evaluation', 'of', 'medical', 'and', 'nursing', 'care', '.', 'required', 'skills', '.', 'qualifications', '.', 'current', 'and', 'unrestricted', 'registered', 'nurse', 'licensure', '.', \"bachelor's\", 'degree', 'and', 'c', '.', 'h', '.', 'p', '.', 'n', '.', '-', 'lrb-certified', 'hospice', 'and', 'palliative', 'nurse-rrb', '-', 'certification', 'preferred', '.', 'minimum', 'of', 'one', 'year', 'general', 'nursing', 'preferred', 'with', 'current', 'hospice', ',', 'home', 'health', ',', 'medical', ',', 'surgical', 'or', 'critical', 'care', 'experience', '.', 'experience', 'with', 'pain', 'and', 'symptom', 'management', 'interventions', '.', 'ability', 'to', 'work', 'within', 'an', 'interdisciplinary', 'setting', '.', 'understanding', 'of', 'hospice', 'philosophy', ',', 'principles', 'of', 'death', '/', 'dying', '.', 'required', 'experience', '.', 'keywords', ':', 'acls', ',', 'ana', ',', 'acute', 'care', ',', 'admissions', 'nurse', ',', 'admission', 'nurse', ',', 'bls', ',', 'bsn', ',', 'cardio', 'nurse', ',', 'cardio', 'rn', ',', 'cardio', 'registered', 'nurse', ',', 'cardiac', 'nurse', ',', 'cardiac', 'rn', ',', 'cardiac', 'registered', 'nurse', ',', 'case', 'management', ',', 'case', 'manager', ',', 'critical', 'care', ',', 'er', ',', 'emergency', 'room', ',', 'healthcare', ',', 'health', 'care', ',', 'homecare', ',', 'home', 'care', ',', 'home', 'health', ',', 'homehealth', ',', 'hospital', ',', 'icu', ',', 'intensive', 'care', 'unit', ',', 'msn', ',', 'medical', ',', 'medical', 'care', ',', 'med', 'surg', ',', 'med-surg', ',', 'medicare', ',', 'nurse', ',', 'nurse', 'care', 'manager', ',', 'nurse', 'job', ',', 'nurse', 'jobs', ',', 'oncology', 'rn', ',', 'oncology', 'nurse', ',', 'oncology', 'registered', 'nurse', ',', 'palliative', 'care', 'nurse', ',', 'ortho', 'nurse', ',', 'ortho', 'rn', ',', 'ortho', 'registered', 'nurse', ',', 'palliative', 'care', 'rn', ',', 'palliative', 'care', 'registered', 'nurse', ',', 'registered', 'nurse', ',', 'rn', 'job', ',', 'rn', 'jobs', ',', 'registered', 'nurse', 'job', ',', 'registered', 'nurse', 'jobs', ',', 'nursing', ',', 'oasis', ',', 'prn', ',', 'pdm', ',', 'progressive', 'care', 'nurse', ',', 'rehab', 'rn', ',', 'rehab', 'registered', 'nurse', ',', 'rehab', 'nurse', ',', 'registered', 'nurse', ',', 'registered', 'nurse', 'case', 'manager', ',', 'rn', ',', 'r', '.', 'n', '.', ',', 'rn', 'case', 'manager', ',', 'skilled', 'visit', ',', 'staff', 'rn', ',', 'staff', 'nurse', ',', 'staff', 'registered', 'nurse', ',', 'step', 'down', 'unit', ',', 'step-down', 'unit', ',', 'step', 'down', 'unit', 'rn', ',', 'tele', ',', 'telemetry', ',', 'telemetry', 'nurse', ',', 'telemetry', 'rn', ',', 'travel', 'nurse', ',', 'travel', 'rn', ',', 'travel', 'registered', 'nurse', ',', 'visit', 'nurse', ',', 'girling', ',', 'girling', 'home', 'health', ',', 'girling', 'hospice', ',', 'amheart', 'hospice', ',', 'asian', 'american', 'home', 'health', ',', 'asian', 'american', 'hospice', ',', 'girling', 'healthcare', ',', 'harden', 'home', 'health', ',', 'harden', 'hospice', ',', 'healthfield', ',', 'iowa', 'hospice', ',', 'missouri', 'home', 'care', 'of', 'rolla', ',', 'omega', 'hospice', ',', 'the', 'home', 'option', ',', 'girling', 'community', 'care', ',', 'odyssey', ',', 'vista', 'care', ',', 'vistacare', ',', 'olsten', 'kimberley', 'quality', 'care', 'mon', '..', 'all', 'qualified', 'applicants', 'will', 'receive', 'consideration', 'for', 'employment', 'without', '.', 'regard', 'to', 'race', ',', 'color', ',', 'religion', ',', 'sex', ',', 'sexual', 'orientation', ',', 'gender', 'identity', 'or', '.', 'national', 'origin', '.', 'to', 'learn', 'more', ',', 'please', 'contact', 'your', 'local', 'recruiter', 'at', '-', 'lrb-toll', 'free-rrb', '-', '1.877.44.hospice', '.', 'job', 'location', '.', 'colonial', 'heights', ',', 'virginia', ',', 'united', 'states', '.', 'position', 'type', '.', 'prn', '.', 'equal', 'opportunity', 'employer', '/', 'veterans', '/', 'individuals', 'with', 'disabilities', '.', 'drug', 'free', '.', 'workplace'])\n",
      "(3.154104374797728e-06, 'Registered Nurses', [\"we've\", 'been', 'delivering', 'top', 'quality', 'healthcare', 'to', 'greater', 'richmond', 'and', 'the', 'tri-cities', 'area', 'for', 'more', 'than', 'DGDGDG', 'years', ',', 'which', 'means', 'you', 'can', 'depend', 'on', 'our', 'experience', 'to', 'provide', 'the', 'exceptional', 'care', 'you', 'need', '.', 'our', 'DGDGDG', '-', 'bed', 'hospital', 'offers', 'a', 'full', 'range', 'of', 'healthcare', 'services', ',', 'with', 'specialties', 'in', 'cancer', 'care--through', 'the', 'thomas', 'johns', 'cancer', 'hospital--as', 'well', 'as', 'inpatient', 'rehabilitation', '-', 'lrb-with', 'all', 'private', 'rooms-rrb', '-', ',', 'our', 'er', 'is', 'a', 'state-authorized', 'level', 'iii', 'trauma', 'center', 'and', 'neuroscience', ',', 'including', 'our', 'first-in-richmond', 'gamma', 'knife', 'center', '.', 'the', 'registered', 'nurse', '-', 'lrb-rn-rrb', '-', 'will', 'perform', 'care', 'under', 'the', 'direction', 'of', 'the', 'unit', 'nursing', 'leadership', 'team', 'and', 'the', 'director', '.', 'the', 'registered', 'nurse', 'provides', 'therapeutic', 'and', 'administrative', 'services', 'necessary', 'for', 'the', 'care', 'of', 'the', 'patient', ',', 'in', 'support', 'of', 'hca', 'ethical', 'principles', 'and', 'values', '.', 'the', 'rn', 'is', 'responsible', 'for', 'assessing', ',', 'planning', ',', 'implementing', ',', 'evaluating', ',', 'and', 'documenting', 'all', 'aspects', 'of', 'patient', 'care', '.', 'the', 'registered', 'nurse', 'delegates', 'appropriate', 'tasks', 'to', 'unlicensed', 'personnel', 'and', 'provides', 'required', 'supervision', '.', 'the', 'rn', 'works', 'closely', 'with', 'all', 'health', 'care', 'providers', 'to', 'facilitate', 'and', 'coordinate', 'efficient', ',', 'effective', ',', 'and', 'quality', 'healthcare', '.', 'the', 'registered', 'nurse', 'communicates', 'effectively', 'and', 'maintains', 'therapeutic', 'relationships', 'with', 'patients', ',', 'families', ',', 'physicians', ',', 'and', 'staff', '.', 'the', 'rn', 'evaluates', \"patient's\", 'signs', 'and', 'symptoms', ';', 'and', 'records', 'and', 'reports', 'results', '.', 'the', 'registered', 'nurse', 'sets', 'priorities', 'and', 'modifies', 'patient', 'care', 'in', 'response', 'to', 'changing', 'conditions', 'by', 'utilizing', 'problem', 'solving', 'skills', 'and', 'exhibiting', 'good', 'judgment', '.', 'the', 'rn', 'collaborates', 'with', 'physicians', 'regarding', 'patient', 'progress', 'towards', 'the', 'outcome', 'attainment', '.', 'the', 'registered', 'nurse', 'assists', 'physician', 'during', 'treatment', '/', 'examination', 'of', 'patient', 'and', 'processes', 'orders', '.', 'the', 'rn', 'makes', 'appropriate', 'and', 'timely', 'notification', 'to', 'physicians', 'on', 'patient', 'condition', 'changes', '.', 'the', 'med', '/', 'surg', 'registered', 'nurse', 'is', 'expected', 'to', 'attend', 'unit', 'meetings', 'as', 'directed', 'by', 'the', 'nurse', 'manager', 'and', 'participate', 'in', 'continuing', 'education', 'programs', 'to', 'maintain', 'competence', 'and', 'gain', 'additional', 'skills', '.', 'patient', 'rights', '-', 'the', 'med', '/', 'surg', 'registered', 'nurse', 'will', 'work', 'to', 'support', 'and', 'protect', 'the', 'rights', 'of', 'each', 'patient', 'served', ',', 'treat', 'each', 'patient', 'with', 'dignity', 'and', 'care', ',', 'and', 'maintain', 'patient', 'confidentiality', '/', 'privacy', '.', 'patient', 'safety', '-', 'the', 'med', '/', 'surg', 'registered', 'nurse', 'demonstrates', 'commitment', 'to', 'patient', 'safety', 'initiatives', 'including', 'patient', 'falls', ',', 'medication', 'safety', ',', 'national', 'patient', 'safety', 'goals', ',', 'critical', 'value', 'reporting', ',', 'and', 'administration', 'of', 'blood', 'products', '.', 'education', 'required', 'and', '/', 'or', 'preferred', ':', 'graduate', 'of', 'school', 'of', 'nursing', 'program', '-', 'lrb-required-rrb', '-', '.', 'licensure', '/', 'certification', ':', 'current', 'registered', 'nurse', 'license', 'in', 'this', 'state', '.', 'bls', 'certification', '-', 'lrb-required-rrb', '-', '.', 'experience', ':', 'previous', 'rn', 'experience', 'in', 'a', 'related', 'field', '-', 'lrb-preferred-rrb', '-', '.', 'title', ':', 'registered', 'nurse', ',', 'float', 'pool', 'location', ':', 'virginia-richmond-johnston-willis', 'hospital', 'requisition', 'id', ':', 'DGDGDGDGDG-DGDGDGDGDG', '7a4cf53e31784169943141f55c931088'])\n",
      "(3.4949893519779643e-06, 'Mechanical Engineers', ['overview', ':', 'adams', 'communication', 'and', 'engineering', 'technology', '-', 'lrb-acet-rrb', '-', 'is', 'seeking', 'a', 'senior', 'systems', '/', 'network', 'engineer', 'for', 'our', 'virginia', 'location', '.', 'the', 'systems', 'engineer', '/', 'network', 'engineer', 'will', 'work', 'in', 'a', 'fast-paced', 'and', 'dynamic', 'operational', 'environment', '.', 'this', 'is', 'a', 'hybrid', 'position', 'where', 'experience', 'is', 'required', 'as', 'both', 'a', 'linux', 'engineer', 'and', 'a', 'network', 'engineer', '.', 'qualified', 'candidates', 'must', 'have', 'an', 'active', 'ts', '/', 'sci', 'with', 'poly', '.', 'about', 'acet', ':', 'adams', 'communication', '&', 'engineering', 'technology', '-', 'lrb-acet-rrb', '-', ',', 'incorporated', 'is', 'a', 'veteran', 'owned', 'small', 'business', '-', 'lrb-vosb-rrb', '-', 'system', 'engineering', 'and', 'information', 'technology', 'firm', ',', 'headquartered', 'in', 'maryland', 'and', 'virginia', '.', 'incorporated', 'in', 'DGDGDGDG', ',', 'we', 'support', 'mission', 'critical', 'information', 'technology', '-', 'lrb-it-rrb', '-', 'business', 'needs', 'for', 'clients', 'within', 'the', 'intelligence', 'community', '-', 'lrb-ic-rrb', '-', ',', 'department', 'of', 'defense', '-', 'lrb-dod-rrb', '-', ',', 'veteran', 'administration', '-', 'lrb-va-rrb', '-', 'and', 'for', 'select', 'commercial', 'clients', '.', 'acet', ',', 'inc', '.', \"'\", 's', 'technical', ',', 'programmatic', ',', 'and', 'analytical', 'professionals', 'are', 'experts', 'in', 'commercial', 'technology', ',', 'customized', 'solutions', ',', 'and', 'proprietary', 'government', 'systems', '.', 'responsibilities', ':', 'the', 'successful', 'senior', 'systems', '/', 'network', 'engineer', 'will', ':', 'support', 'current', 'network', 'platforms', 'and', 'applications', '.', 'will', 'also', 'be', 'familiar', 'with', 'the', 'integration', 'of', 'software', 'tools', 'used', 'in', 'deployments', 'of', 'networks', 'to', 'include', 'the', 'management', 'of', 'their', 'implementation', '.', 'will', 'have', 'experience', 'in', 'both', 'as', 'a', 'linux', 'engineer', 'and', 'a', 'network', 'engineer', '.', 'qualifications', ':', 'required', 'qualifications', ':', 'DG', '+', 'years', \"'\", 'experience', 'as', 'a', 'linux', 'systems', 'engineer', 'with', 'additional', 'network', 'engineering', 'experience', '.', 'experience', 'building', ',', 'configuring', ',', 'patching', 'linux', 'servers', '.', 'scripting', 'experience', '.', 'experience', 'working', 'with', 'vmware', '.', 'experience', 'working', 'with', 'cisco', 'and', 'juniper', 'network', 'platforms', 'and', 'applications', '.', 'knowledge', 'of', 'and', 'experience', 'with', 'networking', 'and', 'network', 'protocols', '-', 'lrb-e', '.', 'g', '.', 'tcp', '/', 'ip', ',', 'routing', ',', 'firewalls', ',', 'ssh', ',', 'and', 'vpns-rrb', '-', '.', 'acet', 'is', 'an', 'equal', 'opportunity', '/', 'affirmative', 'action', 'employer', 'and', 'vevraa', 'federal', 'contractor', '.', 'job', 'locations', ':', 'us-va-northern', 'virginia', '.', 'clearance', 'level', 'required', ':', 'top', 'secret', 'sci', 'with', 'polygraph', '.', '#', 'of', 'openings', ':', 'DG', '.', 'travel', 'required', ':', '..'])\n",
      "(3.6526716066447084e-06, 'Registered Nurses', ['tracking', 'code', '.', 'DGDGDGDGDG', '.', 'job', 'description', '.', 'i', 'believe', 'that', 'better', 'care', 'begins', 'at', 'home', '.', 'compassionate', 'care', ',', 'uncompromising', 'service', 'and', 'clinical', 'excellence', '-', \"that's\", 'what', 'our', 'patients', 'have', 'come', 'to', 'expect', 'from', 'our', 'clinicians', '.', 'kindred', 'at', 'home', ',', 'a', 'division', 'of', 'kindred', 'healthcare', 'inc', '.', ',', 'is', 'the', \"nation's\", 'leading', 'provider', 'of', 'comprehensive', 'home', 'health', ',', 'hospice', ',', 'and', 'non-medical', 'home', 'care', 'services', '.', 'kindred', 'at', 'home', ',', 'and', 'its', 'affiliates', ',', 'including', 'gentiva', ',', 'delivers', '.', 'compassionate', ',', 'high-quality', 'care', 'to', 'patients', 'and', 'clients', 'in', 'their', 'homes', 'or', '.', 'places', 'of', 'residence', ',', 'including', 'non-medical', 'personal', 'assistance', ',', 'skilled', '.', 'nursing', 'and', 'rehabilitation', 'and', 'hospice', 'and', 'palliative', 'care', '.', 'our', 'caregivers', '.', 'focus', 'on', 'each', 'unique', 'patient', 'to', 'deliver', 'the', 'appropriate', 'care', 'and', 'emotional', '.', 'support', 'to', 'our', 'patients', 'and', 'their', 'families', '.', 'i', 'believe', 'in', 'working', 'for', 'a', 'company', 'that', 'cares', 'as', 'much', 'as', 'i', 'do', '.', 'we', 'offer', 'a', 'unique', 'employment', 'package', 'that', 'includes', ':', 'unprecedented', 'opportunities', 'for', 'career', 'growth', '.', 'clinical', 'ladder', 'for', 'professional', 'credentialing', 'and', 'advancement', '.', 'innovative', 'specialties', 'with', 'cutting-edge', 'training', 'and', 'development', '.', 'flexible', 'full-time', ',', 'part-time', 'and', 'prn', 'positions', '.', 'i', 'believe', 'my', 'work', 'is', 'my', 'calling', '.', 'as', 'a', 'home', 'health', 'registered', 'nurse', ',', 'you', 'will', ':', 'provide', 'admission', ',', 'case', 'management', ',', 'and', 'follow-up', 'skilled', 'nursing', 'visits', 'for', 'home', 'health', 'patients', '.', 'administer', 'on-going', 'care', 'and', 'case', 'management', 'for', 'each', 'patient', ',', 'provide', 'necessary', 'follow-up', 'as', 'directed', 'by', 'the', 'clinical', 'manager', '.', 'confer', 'with', 'physician', 'in', 'developing', 'the', 'initial', 'plan', 'of', 'treatment', 'based', 'on', \"physician's\", 'orders', 'and', 'initial', 'patient', 'assessment', '.', 'provide', 'hands-on', 'care', ',', 'management', 'and', 'evaluation', 'of', 'the', 'care', 'plan', 'and', 'teaching', 'of', 'the', 'patient', 'in', 'accordance', 'with', 'physician', 'orders', ',', 'under', 'clinical', \"manager's\", 'supervision', '.', 'revise', 'plan', 'in', 'consultation', 'with', 'physician', 'based', 'on', 'ongoing', 'assessments', 'and', 'as', 'required', 'by', 'policy', '/', 'regulation', '.', 'coordinate', 'appropriate', 'care', ',', 'encompassing', 'various', 'healthcare', 'personnel', '-', 'lrb-such', 'as', 'physical', 'therapists', ',', 'occupational', 'therapists', ',', 'home', 'health', 'aides', 'and', 'external', 'providers-rrb', '-', '.', 'report', 'patient', 'care', '/', 'condition', '/', 'progress', 'to', \"patient's\", 'physician', 'and', 'clinical', 'manager', 'on', 'a', 'continuous', 'basis', '.', 'implement', 'patient', 'care', 'plan', 'in', 'conjunction', 'with', 'patient', 'and', 'family', 'to', 'assist', 'them', 'in', 'achieving', 'optimal', 'resolution', 'of', 'needs', '/', 'problems', '.', 'coordinate', '/', 'oversee', '/', 'supervise', 'the', 'work', 'of', 'home', 'health', 'aides', ',', 'certified', 'home', 'health', 'aides', 'and', 'personal', 'care', 'workers', 'and', 'provides', 'written', 'personal', 'care', 'instructions', '/', 'care', 'plan', 'that', 'reflect', 'current', 'plan', 'of', 'care', '.', 'monitor', 'the', 'appropriate', 'completion', 'of', 'documentation', 'by', 'home', 'health', 'aides', '/', 'personal', 'care', 'workers', 'as', 'part', 'of', 'the', 'supervisory', '/', 'leadership', 'responsibility', '.', 'discharge', 'patients', 'after', 'consultation', 'with', 'the', 'physician', 'and', 'clinical', 'manager', ',', 'preparing', 'and', 'completing', 'needed', 'clinical', 'documentation', '.', 'prepare', 'appropriate', 'medical', 'documentation', 'on', 'all', 'patients', ',', 'including', 'any', 'case', 'conferences', ',', 'patient', 'contacts', ',', 'medication', 'order', 'changes', ',', 're-certifications', ',', 'progress', 'updates', ',', 'and', 'care', 'plan', 'changes', '.', 'prepare', 'visit', '/', 'shift', 'reports', ',', 'updates', '/', 'summarizes', 'patient', 'records', ',', 'and', 'confers', 'with', 'other', 'health', 'care', 'disciplines', 'in', 'providing', 'optimum', 'patient', 'care', '.', 'required', 'skills', '.', 'qualifications', '.', 'diploma', ',', 'associate', 'or', 'bachelor', 'degree', 'in', 'nursing', '.', 'minimum', 'of', 'one', 'year', 'nursing', 'experience', 'preferred', '.', 'strong', 'med', 'surg', ',', 'icu', ',', 'er', ',', 'acute', 'experience', '.', 'home', 'health', 'experience', 'a', 'plus', '.', 'current', 'and', 'unrestricted', 'registered', 'nurse', 'licensure', '.', 'current', 'cpr', 'certification', '.', 'strong', 'organizational', 'and', 'communication', 'skills', '.', 'required', 'experience', '.', 'keywords', ':', 'acls', ',', 'ana', ',', 'acute', 'care', ',', 'admissions', 'nurse', ',', 'admission', 'nurse', ',', 'bls', ',', 'bsn', ',', 'cardio', 'nurse', ',', 'cardio', 'rn', ',', 'cardio', 'registered', 'nurse', ',', 'cardiac', 'nurse', ',', 'cardiac', 'rn', ',', 'cardiac', 'registered', 'nurse', ',', 'case', 'management', ',', 'case', 'manager', ',', 'critical', 'care', ',', 'er', ',', 'emergency', 'room', ',', 'healthcare', ',', 'health', 'care', ',', 'homecare', ',', 'home', 'care', ',', 'home', 'health', ',', 'homehealth', ',', 'hospital', ',', 'icu', ',', 'intensive', 'care', 'unit', ',', 'msn', ',', 'medical', ',', 'medical', 'care', ',', 'med', 'surg', ',', 'med-surg', ',', 'medicare', ',', 'nurse', ',', 'nurse', 'care', 'manager', ',', 'nurse', 'job', ',', 'nurse', 'jobs', ',', 'oncology', 'rn', ',', 'oncology', 'nurse', ',', 'oncology', 'registered', 'nurse', ',', 'palliative', 'care', 'nurse', ',', 'ortho', 'nurse', ',', 'ortho', 'rn', ',', 'ortho', 'registered', 'nurse', ',', 'palliative', 'care', 'rn', ',', 'palliative', 'care', 'registered', 'nurse', ',', 'registered', 'nurse', ',', 'rn', 'job', ',', 'rn', 'jobs', ',', 'registered', 'nurse', 'job', ',', 'registered', 'nurse', 'jobs', ',', 'nursing', ',', 'oasis', ',', 'prn', ',', 'pdm', ',', 'progressive', 'care', 'nurse', ',', 'rehab', 'rn', ',', 'rehab', 'registered', 'nurse', ',', 'rehab', 'nurse', ',', 'registered', 'nurse', ',', 'registered', 'nurse', 'case', 'manager', ',', 'rn', ',', 'r', '.', 'n', '.', ',', 'rn', 'case', 'manager', ',', 'skilled', 'visit', ',', 'staff', 'rn', ',', 'staff', 'nurse', ',', 'staff', 'registered', 'nurse', ',', 'step', 'down', 'unit', ',', 'step-down', 'unit', ',', 'step', 'down', 'unit', 'rn', ',', 'tele', ',', 'telemetry', ',', 'telemetry', 'nurse', ',', 'telemetry', 'rn', ',', 'travel', 'nurse', ',', 'travel', 'rn', ',', 'travel', 'registered', 'nurse', ',', 'visit', 'nurse', ',', 'girling', ',', 'girling', 'home', 'health', ',', 'girling', 'hospice', ',', 'amheart', 'hospice', ',', 'asian', 'american', 'home', 'health', ',', 'asian', 'american', 'hospice', ',', 'girling', 'healthcare', ',', 'harden', 'home', 'health', ',', 'harden', 'hospice', ',', 'healthfield', ',', 'iowa', 'hospice', ',', 'missouri', 'home', 'care', 'of', 'rolla', ',', 'omega', 'hospice', ',', 'the', 'home', 'option', ',', 'girling', 'community', 'care', ',', 'odyssey', ',', 'vista', 'care', ',', 'vistacare', ',', 'olsten', 'kimberley', 'quality', 'care', 'mon', '..', 'all', 'qualified', 'applicants', 'will', 'receive', 'consideration', 'for', 'employment', 'without', '.', 'regard', 'to', 'race', ',', 'color', ',', 'religion', ',', 'sex', ',', 'sexual', 'orientation', ',', 'gender', 'identity', 'or', '.', 'national', 'origin', '.', 'to', 'learn', 'more', ',', 'please', 'contact', 'your', 'local', 'recruiter', 'at', '-', 'lrb-toll', 'free-rrb', '-', '1.866.gentiva', '.', 'job', 'location', '.', 'christiansburg', ',', 'virginia', ',', 'united', 'states', '.', 'position', 'type', '.', 'full-time', '/', 'regular', '.', 'equal', 'opportunity', 'employer', '/', 'veterans', '/', 'individuals', 'with', 'disabilities', '.', 'drug', 'free', '.', 'workplace'])\n",
      "(3.7825806365300314e-06, 'Registered Nurses', [\"we've\", 'been', 'delivering', 'top', 'quality', 'healthcare', 'to', 'greater', 'richmond', 'and', 'the', 'tri-cities', 'area', 'for', 'more', 'than', 'DGDGDG', 'years', ',', 'which', 'means', 'you', 'can', 'depend', 'on', 'our', 'experience', 'to', 'provide', 'the', 'exceptional', 'care', 'you', 'need', '.', 'our', 'DGDGDG', '-', 'bed', 'hospital', 'offers', 'a', 'full', 'range', 'of', 'healthcare', 'services', ',', 'with', 'specialties', 'in', 'cancer', 'care--through', 'the', 'thomas', 'johns', 'cancer', 'hospital--as', 'well', 'as', 'inpatient', 'rehabilitation', '-', 'lrb-with', 'all', 'private', 'rooms-rrb', '-', ',', 'our', 'er', 'is', 'a', 'state-authorized', 'level', 'iii', 'trauma', 'center', 'and', 'neuroscience', ',', 'including', 'our', 'first-in-richmond', 'gamma', 'knife', 'center', '.', 'the', 'registered', 'nurse', '-', 'lrb-rn-rrb', '-', 'will', 'perform', 'care', 'under', 'the', 'direction', 'of', 'the', 'unit', 'nursing', 'leadership', 'team', 'and', 'the', 'director', '.', 'the', 'registered', 'nurse', 'provides', 'therapeutic', 'and', 'administrative', 'services', 'necessary', 'for', 'the', 'care', 'of', 'the', 'patient', ',', 'in', 'support', 'of', 'hca', 'ethical', 'principles', 'and', 'values', '.', 'the', 'rn', 'is', 'responsible', 'for', 'assessing', ',', 'planning', ',', 'implementing', ',', 'evaluating', ',', 'and', 'documenting', 'all', 'aspects', 'of', 'patient', 'care', '.', 'the', 'registered', 'nurse', 'delegates', 'appropriate', 'tasks', 'to', 'unlicensed', 'personnel', 'and', 'provides', 'required', 'supervision', '.', 'the', 'rn', 'works', 'closely', 'with', 'all', 'health', 'care', 'providers', 'to', 'facilitate', 'and', 'coordinate', 'efficient', ',', 'effective', ',', 'and', 'quality', 'healthcare', '.', 'the', 'registered', 'nurse', 'communicates', 'effectively', 'and', 'maintains', 'therapeutic', 'relationships', 'with', 'patients', ',', 'families', ',', 'physicians', ',', 'and', 'staff', '.', 'the', 'rn', 'evaluates', \"patient's\", 'signs', 'and', 'symptoms', ';', 'and', 'records', 'and', 'reports', 'results', '.', 'the', 'registered', 'nurse', 'sets', 'priorities', 'and', 'modifies', 'patient', 'care', 'in', 'response', 'to', 'changing', 'conditions', 'by', 'utilizing', 'problem', 'solving', 'skills', 'and', 'exhibiting', 'good', 'judgment', '.', 'the', 'rn', 'collaborates', 'with', 'physicians', 'regarding', 'patient', 'progress', 'towards', 'the', 'outcome', 'attainment', '.', 'the', 'registered', 'nurse', 'assists', 'physician', 'during', 'treatment', '/', 'examination', 'of', 'patient', 'and', 'processes', 'orders', '.', 'the', 'rn', 'makes', 'appropriate', 'and', 'timely', 'notification', 'to', 'physicians', 'on', 'patient', 'condition', 'changes', '.', 'the', 'med', '/', 'surg', 'registered', 'nurse', 'is', 'expected', 'to', 'attend', 'unit', 'meetings', 'as', 'directed', 'by', 'the', 'nurse', 'manager', 'and', 'participate', 'in', 'continuing', 'education', 'programs', 'to', 'maintain', 'competence', 'and', 'gain', 'additional', 'skills', '.', 'patient', 'rights', '-', 'the', 'med', '/', 'surg', 'registered', 'nurse', 'will', 'work', 'to', 'support', 'and', 'protect', 'the', 'rights', 'of', 'each', 'patient', 'served', ',', 'treat', 'each', 'patient', 'with', 'dignity', 'and', 'care', ',', 'and', 'maintain', 'patient', 'confidentiality', '/', 'privacy', '.', 'patient', 'safety', '-', 'the', 'med', '/', 'surg', 'registered', 'nurse', 'demonstrates', 'commitment', 'to', 'patient', 'safety', 'initiatives', 'including', 'patient', 'falls', ',', 'medication', 'safety', ',', 'national', 'patient', 'safety', 'goals', ',', 'critical', 'value', 'reporting', ',', 'and', 'administration', 'of', 'blood', 'products', '.', 'education', 'required', 'and', '/', 'or', 'preferred', ':', 'graduate', 'of', 'school', 'of', 'nursing', 'program', '-', 'lrb-required-rrb', '-', '.', 'licensure', '/', 'certification', ':', 'current', 'registered', 'nurse', 'license', 'in', 'this', 'state', '.', 'bls', 'certification', '-', 'lrb-required-rrb', '-', '.', 'experience', ':', 'previous', 'rn', 'experience', 'in', 'a', 'related', 'field', '-', 'lrb-preferred-rrb', '-', '.', 'title', ':', 'registered', 'nurse', ',', 'float', 'pool', '-', 'lrb-johnston', 'willis', 'hospital-rrb', '-', 'location', ':', 'virginia-richmond-johnston-willis', 'hospital', 'requisition', 'id', ':', 'DGDGDGDGDG-DGDGDGDGDG', '771c805b461d4d0f9ac1043ac71f4556'])\n",
      "(3.7929686377273315e-06, 'Registered Nurses', ['tracking', 'code', '.', '143147b', '.', 'job', 'description', '.', 'i', 'believe', 'that', 'better', 'care', 'begins', 'at', 'home', '.', 'compassionate', 'care', ',', 'uncompromising', 'service', 'and', 'clinical', 'excellence', '-', \"that's\", '.', 'what', 'our', 'patients', 'have', 'come', 'to', 'expect', 'from', 'our', 'clinicians', '.', 'kindred', 'at', 'home', ',', 'a', '.', 'division', 'of', 'kindred', 'healthcare', 'inc', '.', ',', 'is', 'the', \"nation's\", 'leading', 'provider', 'of', '.', 'comprehensive', 'home', 'health', ',', 'hospice', ',', 'and', 'non-medical', 'home', 'care', 'services', '.', 'kindred', 'at', 'home', ',', 'and', 'its', 'affiliates', ',', 'including', 'gentiva', ',', 'delivers', '.', 'compassionate', ',', 'high-quality', 'care', 'to', 'patients', 'and', 'clients', 'in', 'their', 'homes', 'or', '.', 'places', 'of', 'residence', ',', 'including', 'non-medical', 'personal', 'assistance', ',', 'skilled', '.', 'nursing', 'and', 'rehabilitation', 'and', 'hospice', 'and', 'palliative', 'care', '.', 'our', 'caregivers', '.', 'focus', 'on', 'each', 'unique', 'patient', 'to', 'deliver', 'the', 'appropriate', 'care', 'and', 'emotional', '.', 'support', 'to', 'our', 'patients', 'and', 'their', 'families', '.', 'i', 'believe', 'in', 'working', 'for', 'a', 'company', 'that', 'cares', 'as', 'much', 'as', 'i', 'do', '.', 'we', 'offer', 'a', 'unique', 'employment', 'package', 'that', 'includes', ':', 'unprecedented', 'opportunities', 'for', 'career', 'growth', '.', 'clinical', 'ladder', 'for', 'professional', 'credentialing', 'and', 'advancement', '.', 'innovative', 'specialties', 'with', 'cutting-edge', 'training', 'and', 'development', '.', 'flexible', 'full-time', ',', 'part-time', 'and', 'prn', 'positions', '.', 'i', 'believe', 'my', 'work', 'is', 'my', 'calling', '.', 'as', 'a', 'home', 'health', 'registered', 'nurse', ',', 'you', 'will', ':', 'provide', 'admission', ',', 'case', 'management', ',', 'and', 'follow-up', 'skilled', 'nursing', 'visits', 'for', 'home', 'health', 'patients', '.', 'administer', 'on-going', 'care', 'and', 'case', 'management', 'for', 'each', 'patient', ',', 'provide', 'necessary', 'follow-up', 'as', 'directed', 'by', 'the', 'clinical', 'manager', '.', 'confer', 'with', 'physician', 'in', 'developing', 'the', 'initial', 'plan', 'of', 'treatment', 'based', 'on', \"physician's\", 'orders', 'and', 'initial', 'patient', 'assessment', '.', 'provide', 'hands-on', 'care', ',', 'management', 'and', 'evaluation', 'of', 'the', 'care', 'plan', 'and', 'teaching', 'of', 'the', 'patient', 'in', 'accordance', 'with', 'physician', 'orders', ',', 'under', 'clinical', \"manager's\", 'supervision', '.', 'revise', 'plan', 'in', 'consultation', 'with', 'physician', 'based', 'on', 'ongoing', 'assessments', 'and', 'as', 'required', 'by', 'policy', '/', 'regulation', '.', 'coordinate', 'appropriate', 'care', ',', 'encompassing', 'various', 'healthcare', 'personnel', '-', 'lrb-such', 'as', 'physical', 'therapists', ',', 'occupational', 'therapists', ',', 'home', 'health', 'aides', 'and', 'external', 'providers-rrb', '-', '.', 'report', 'patient', 'care', '/', 'condition', '/', 'progress', 'to', \"patient's\", 'physician', 'and', 'clinical', 'manager', 'on', 'a', 'continuous', 'basis', '.', 'implement', 'patient', 'care', 'plan', 'in', 'conjunction', 'with', 'patient', 'and', 'family', 'to', 'assist', 'them', 'in', 'achieving', 'optimal', 'resolution', 'of', 'needs', '/', 'problems', '.', 'coordinate', '/', 'oversee', '/', 'supervise', 'the', 'work', 'of', 'home', 'health', 'aides', ',', 'certified', 'home', 'health', 'aides', 'and', 'personal', 'care', 'workers', 'and', 'provides', 'written', 'personal', 'care', 'instructions', '/', 'care', 'plan', 'that', 'reflect', 'current', 'plan', 'of', 'care', '.', 'monitor', 'the', 'appropriate', 'completion', 'of', 'documentation', 'by', 'home', 'health', 'aides', '/', 'personal', 'care', 'workers', 'as', 'part', 'of', 'the', 'supervisory', '/', 'leadership', 'responsibility', '.', 'discharge', 'patients', 'after', 'consultation', 'with', 'the', 'physician', 'and', 'clinical', 'manager', ',', 'preparing', 'and', 'completing', 'needed', 'clinical', 'documentation', '.', 'prepare', 'appropriate', 'medical', 'documentation', 'on', 'all', 'patients', ',', 'including', 'any', 'case', 'conferences', ',', 'patient', 'contacts', ',', 'medication', 'order', 'changes', ',', 're-certifications', ',', 'progress', 'updates', ',', 'and', 'care', 'plan', 'changes', '.', 'prepare', 'visit', '/', 'shift', 'reports', ',', 'updates', '/', 'summarizes', 'patient', 'records', ',', 'and', 'confers', 'with', 'other', 'health', 'care', 'disciplines', 'in', 'providing', 'optimum', 'patient', 'care', '.', 'required', 'skills', '.', 'qualifications', '.', 'diploma', ',', 'associate', 'or', 'bachelor', 'degree', 'in', 'nursing', '.', 'minimum', 'of', 'one', 'year', 'nursing', 'experience', 'preferred', '.', 'strong', 'med', 'surg', ',', 'icu', ',', 'er', ',', 'acute', 'experience', '.', 'home', 'health', 'experience', 'a', 'plus', '.', 'current', 'and', 'unrestricted', 'registered', 'nurse', 'licensure', '.', 'current', 'cpr', 'certification', '.', 'strong', 'organizational', 'and', 'communication', 'skills', '.', 'required', 'experience', '.', 'keywords', ':', 'acls', ',', 'ana', ',', 'acute', 'care', ',', 'admissions', 'nurse', ',', 'admission', 'nurse', ',', 'bls', ',', 'bsn', ',', 'cardio', 'nurse', ',', 'cardio', 'rn', ',', 'cardio', 'registered', 'nurse', ',', 'cardiac', 'nurse', ',', 'cardiac', 'rn', ',', 'cardiac', 'registered', 'nurse', ',', 'case', 'management', ',', 'case', 'manager', ',', 'critical', 'care', ',', 'er', ',', 'emergency', 'room', ',', 'healthcare', ',', 'health', 'care', ',', 'homecare', ',', 'home', 'care', ',', 'home', 'health', ',', 'homehealth', ',', 'hospital', ',', 'icu', ',', 'intensive', 'care', 'unit', ',', 'msn', ',', 'medical', ',', 'medical', 'care', ',', 'med', 'surg', ',', 'med-surg', ',', 'medicare', ',', 'nurse', ',', 'nurse', 'care', 'manager', ',', 'nurse', 'job', ',', 'nurse', 'jobs', ',', 'oncology', 'rn', ',', 'oncology', 'nurse', ',', 'oncology', 'registered', 'nurse', ',', 'palliative', 'care', 'nurse', ',', 'ortho', 'nurse', ',', 'ortho', 'rn', ',', 'ortho', 'registered', 'nurse', ',', 'palliative', 'care', 'rn', ',', 'palliative', 'care', 'registered', 'nurse', ',', 'registered', 'nurse', ',', 'rn', 'job', ',', 'rn', 'jobs', ',', 'registered', 'nurse', 'job', ',', 'registered', 'nurse', 'jobs', ',', 'nursing', ',', 'oasis', ',', 'prn', ',', 'pdm', ',', 'progressive', 'care', 'nurse', ',', 'rehab', 'rn', ',', 'rehab', 'registered', 'nurse', ',', 'rehab', 'nurse', ',', 'registered', 'nurse', ',', 'registered', 'nurse', 'case', 'manager', ',', 'rn', ',', 'r', '.', 'n', '.', ',', 'rn', 'case', 'manager', ',', 'skilled', 'visit', ',', 'staff', 'rn', ',', 'staff', 'nurse', ',', 'staff', 'registered', 'nurse', ',', 'step', 'down', 'unit', ',', 'step-down', 'unit', ',', 'step', 'down', 'unit', 'rn', ',', 'tele', ',', 'telemetry', ',', 'telemetry', 'nurse', ',', 'telemetry', 'rn', ',', 'travel', 'nurse', ',', 'travel', 'rn', ',', 'travel', 'registered', 'nurse', ',', 'visit', 'nurse', ',', 'girling', ',', 'girling', 'home', 'health', ',', 'girling', 'hospice', ',', 'amheart', 'hospice', ',', 'asian', 'american', 'home', 'health', ',', 'asian', 'american', 'hospice', ',', 'girling', 'healthcare', ',', 'harden', 'home', 'health', ',', 'harden', 'hospice', ',', 'healthfield', ',', 'iowa', 'hospice', ',', 'missouri', 'home', 'care', 'of', 'rolla', ',', 'omega', 'hospice', ',', 'the', 'home', 'option', ',', 'girling', 'community', 'care', ',', 'odyssey', ',', 'vista', 'care', ',', 'vistacare', ',', 'olsten', 'kimberley', 'quality', 'care', 'mon', '..', 'all', 'qualified', 'applicants', 'will', 'receive', 'consideration', 'for', 'employment', 'without', '.', 'regard', 'to', 'race', ',', 'color', ',', 'religion', ',', 'sex', ',', 'sexual', 'orientation', ',', 'gender', 'identity', 'or', '.', 'national', 'origin', '.', 'to', 'learn', 'more', ',', 'please', 'contact', 'your', 'local', 'recruiter', 'at', '-', 'lrb-toll', 'free-rrb', '-', '1.866.gentiva', '.', 'job', 'location', '.', 'henry', 'county', ',', 'virginia', ',', 'united', 'states', '.', 'position', 'type', '.', 'prn', '.', 'equal', 'opportunity', 'employer', '/', 'veterans', '/', 'individuals', 'with', 'disabilities', '.', 'drug', 'free', '.', 'workplace'])\n",
      "(3.827103035077439e-06, 'Registered Nurses', ['tracking', 'code', '.', 'DGDGDGDGDG', '.', 'job', 'description', '.', 'i', 'believe', 'that', 'the', 'care', 'we', 'give', 'can', 'make', 'every', 'moment', 'count', '.', 'compassionate', 'care', ',', 'uncompromising', 'service', 'and', 'clinical', 'excellence', '-', \"that's\", '.', 'how', 'our', 'hospice', 'improves', 'quality', 'of', 'life', 'in', 'the', 'final', 'stages', 'of', 'life', '.', 'by', '.', 'delivering', 'palliative', 'care', 'by', 'hospice', 'professionals', ',', 'our', 'patients', 'can', 'spend', '.', 'their', 'remaining', 'days', 'in', 'comfort', 'and', 'peace', '.', 'kindred', 'at', 'home', ',', 'a', 'division', 'of', '.', 'kindred', 'healthcare', 'inc', '.', ',', 'is', 'the', \"nation's\", 'leading', 'provider', 'of', 'comprehensive', '.', 'home', 'health', ',', 'hospice', ',', 'and', 'non-medical', 'home', 'care', 'services', '.', 'kindred', 'at', 'home', ',', 'and', 'its', 'affiliates', ',', 'including', 'gentiva', ',', 'delivers', '.', 'compassionate', ',', 'high-quality', 'care', 'to', 'patients', 'and', 'clients', 'in', 'their', 'homes', 'or', '.', 'places', 'of', 'residence', ',', 'including', 'non-medical', 'personal', 'assistance', ',', 'skilled', '.', 'nursing', 'and', 'rehabilitation', 'and', 'hospice', 'and', 'palliative', 'care', '.', 'our', 'caregivers', '.', 'focus', 'on', 'each', 'unique', 'patient', 'to', 'deliver', 'the', 'appropriate', 'care', 'and', 'emotional', '.', 'support', 'to', 'our', 'patients', 'and', 'their', 'families', '.', 'we', 'believe', 'that', 'every', 'moment', 'matters', '.', 'we', 'believe', 'in', 'compassionate', 'care', '.', 'most', '.', 'of', 'all', ',', 'we', 'believe', 'in', 'dignity', 'and', 'respect', 'for', 'each', 'patient', 'we', 'serve', '.', 'i', 'believe', 'my', 'work', 'is', 'my', 'calling', '.', 'as', 'a', 'hospice', 'on-call', 'registered', 'nurse', ',', 'you', 'will', ':', 'provide', 'skilled', 'professional', 'nursing', 'care', 'to', 'patient', '/', 'family', '/', 'caregivers', 'as', 'prescribed', 'by', 'the', 'physician', 'and', 'in', 'compliance', 'with', 'regulations', 'by', 'the', 'state', 'board', 'of', 'registered', 'nursing', 'and', 'company', 'policies', 'when', 'called', 'upon', 'after', 'hours', '.', 'prioritize', 'calls', ',', 'and', 'instruct', 'nurses', 'to', 'see', 'patients', 'as', 'needed', '.', 'guide', 'after', \"hour's\", 'staff', 'in', 'assessing', 'and', 'treating', 'physical', ',', 'psychological', ',', 'psychosocial', 'and', 'spiritual', 'needs', '.', 'after', 'clinical', 'and', 'social', 'staffs', 'report', 'findings', 'and', 'interventions', ',', 'determine', 'appropriateness', 'and', 'if', 'any', 'further', 'instruction', 'is', 'needed', '.', 'work', 'closely', 'with', 'all', 'members', 'of', 'the', 'interdisciplinary', 'team', 'to', 'ensure', 'proper', 'patient', 'follow', 'up', 'on', 'previous', 'night', 'after', \"hour's\", 'calls', '.', 'adhere', 'to', 'company', 'policies', 'and', 'procedures', 'and', 'regulatory', 'compliance', 'requirements', 'and', 'directives', '.', 'timely', 'documentation', 'of', 'all', 'after-hours', 'calls', 'and', 'visits', 'including', 'problem', 'and', 'intervention', '.', 'provide', 'leadership', 'and', 'support', 'to', 'the', 'after-hours', 'staff', '.', 'manage', 'related', 'expenditures', 'in', 'a', 'fiscally', 'responsible', 'manner', 'within', 'the', \"company's\", 'budget', ',', 'and', 'report', 'to', 'case', 'managers', 'any', 'supplies', 'that', 'were', 'ordered', 'previous', 'on', 'call', 'day', '.', 'required', 'skills', '.', 'qualifications', '.', 'current', 'and', 'unrestricted', 'registered', 'nurse', 'licensure', '.', \"bachelor's\", 'degree', 'and', 'c', '.', 'h', '.', 'p', '.', 'n', '.', '-', 'lrb-certified', 'hospice', 'and', 'palliative', 'nurse-rrb', '-', 'certification', 'preferred', '.', 'minimum', 'of', 'one', 'year', 'general', 'nursing', 'preferred', 'with', 'current', 'hospice', ',', 'home', 'health', ',', 'medical', ',', 'surgical', 'or', 'critical', 'care', 'experience', '.', 'experience', 'with', 'pain', 'and', 'symptom', 'management', 'interventions', '.', 'ability', 'to', 'work', 'within', 'an', 'interdisciplinary', 'setting', '.', 'understanding', 'of', 'hospice', 'philosophy', ',', 'principles', 'of', 'death', '/', 'dying', '.', 'required', 'experience', '.', 'keywords', ':', 'acls', ',', 'ana', ',', 'acute', 'care', ',', 'admissions', 'nurse', ',', 'admission', 'nurse', ',', 'bls', ',', 'bsn', ',', 'cardio', 'nurse', ',', 'cardio', 'rn', ',', 'cardio', 'registered', 'nurse', ',', 'cardiac', 'nurse', ',', 'cardiac', 'rn', ',', 'cardiac', 'registered', 'nurse', ',', 'case', 'management', ',', 'case', 'manager', ',', 'critical', 'care', ',', 'er', ',', 'emergency', 'room', ',', 'healthcare', ',', 'health', 'care', ',', 'homecare', ',', 'home', 'care', ',', 'home', 'health', ',', 'homehealth', ',', 'hospital', ',', 'icu', ',', 'intensive', 'care', 'unit', ',', 'msn', ',', 'medical', ',', 'medical', 'care', ',', 'med', 'surg', ',', 'med-surg', ',', 'medicare', ',', 'nurse', ',', 'nurse', 'care', 'manager', ',', 'nurse', 'job', ',', 'nurse', 'jobs', ',', 'oncology', 'rn', ',', 'oncology', 'nurse', ',', 'oncology', 'registered', 'nurse', ',', 'palliative', 'care', 'nurse', ',', 'ortho', 'nurse', ',', 'ortho', 'rn', ',', 'ortho', 'registered', 'nurse', ',', 'palliative', 'care', 'rn', ',', 'palliative', 'care', 'registered', 'nurse', ',', 'registered', 'nurse', ',', 'rn', 'job', ',', 'rn', 'jobs', ',', 'registered', 'nurse', 'job', ',', 'registered', 'nurse', 'jobs', ',', 'nursing', ',', 'oasis', ',', 'prn', ',', 'pdm', ',', 'progressive', 'care', 'nurse', ',', 'rehab', 'rn', ',', 'rehab', 'registered', 'nurse', ',', 'rehab', 'nurse', ',', 'registered', 'nurse', ',', 'registered', 'nurse', 'case', 'manager', ',', 'rn', ',', 'r', '.', 'n', '.', ',', 'rn', 'case', 'manager', ',', 'skilled', 'visit', ',', 'staff', 'rn', ',', 'staff', 'nurse', ',', 'staff', 'registered', 'nurse', ',', 'step', 'down', 'unit', ',', 'step-down', 'unit', ',', 'step', 'down', 'unit', 'rn', ',', 'tele', ',', 'telemetry', ',', 'telemetry', 'nurse', ',', 'telemetry', 'rn', ',', 'travel', 'nurse', ',', 'travel', 'rn', ',', 'travel', 'registered', 'nurse', ',', 'visit', 'nurse', ',', 'girling', ',', 'girling', 'home', 'health', ',', 'girling', 'hospice', ',', 'amheart', 'hospice', ',', 'asian', 'american', 'home', 'health', ',', 'asian', 'american', 'hospice', ',', 'girling', 'healthcare', ',', 'harden', 'home', 'health', ',', 'harden', 'hospice', ',', 'healthfield', ',', 'iowa', 'hospice', ',', 'missouri', 'home', 'care', 'of', 'rolla', ',', 'omega', 'hospice', ',', 'the', 'home', 'option', ',', 'girling', 'community', 'care', ',', 'odyssey', ',', 'vista', 'care', ',', 'vistacare', ',', 'olsten', 'kimberley', 'quality', 'care', 'mon', '..', 'all', 'qualified', 'applicants', 'will', 'receive', 'consideration', 'for', 'employment', 'without', '.', 'regard', 'to', 'race', ',', 'color', ',', 'religion', ',', 'sex', ',', 'sexual', 'orientation', ',', 'gender', 'identity', 'or', '.', 'national', 'origin', '.', 'to', 'learn', 'more', ',', 'please', 'contact', 'your', 'local', 'recruiter', 'at', '-', 'lrb-toll', 'free-rrb', '-', '1.877.44.hospice', '.', 'job', 'location', '.', 'richmond', ',', 'virginia', ',', 'united', 'states', '.', 'position', 'type', '.', 'full-time', '/', 'regular', '.', 'equal', 'opportunity', 'employer', '/', 'veterans', '/', 'individuals', 'with', 'disabilities', '.', 'drug', 'free', '.', 'workplace'])\n",
      "(3.833168655139112e-06, 'Registered Nurses', [\"we've\", 'been', 'delivering', 'top', 'quality', 'healthcare', 'to', 'greater', 'richmond', 'and', 'the', 'tri-cities', 'area', 'for', 'more', 'than', 'DGDGDG', 'years', ',', 'which', 'means', 'you', 'can', 'depend', 'on', 'our', 'experience', 'to', 'provide', 'the', 'exceptional', 'care', 'you', 'need', '.', 'our', 'DGDGDG', '-', 'bed', 'hospital', 'offers', 'a', 'full', 'range', 'of', 'healthcare', 'services', ',', 'with', 'specialties', 'in', 'cancer', 'care--through', 'the', 'thomas', 'johns', 'cancer', 'hospital--as', 'well', 'as', 'inpatient', 'rehabilitation', '-', 'lrb-with', 'all', 'private', 'rooms-rrb', '-', ',', 'our', 'er', 'is', 'a', 'state-authorized', 'level', 'iii', 'trauma', 'center', 'and', 'neuroscience', ',', 'including', 'our', 'first-in-richmond', 'gamma', 'knife', 'center', '.', 'the', 'registered', 'nurse', '-', 'lrb-rn-rrb', '-', 'will', 'perform', 'care', 'under', 'the', 'direction', 'of', 'the', 'unit', 'nursing', 'leadership', 'team', 'and', 'the', 'director', '.', 'the', 'registered', 'nurse', 'provides', 'therapeutic', 'and', 'administrative', 'services', 'necessary', 'for', 'the', 'care', 'of', 'the', 'patient', ',', 'in', 'support', 'of', 'hca', 'ethical', 'principles', 'and', 'values', '.', 'the', 'rn', 'is', 'responsible', 'for', 'assessing', ',', 'planning', ',', 'implementing', ',', 'evaluating', ',', 'and', 'documenting', 'all', 'aspects', 'of', 'patient', 'care', '.', 'the', 'registered', 'nurse', 'delegates', 'appropriate', 'tasks', 'to', 'unlicensed', 'personnel', 'and', 'provides', 'required', 'supervision', '.', 'the', 'rn', 'works', 'closely', 'with', 'all', 'health', 'care', 'providers', 'to', 'facilitate', 'and', 'coordinate', 'efficient', ',', 'effective', ',', 'and', 'quality', 'healthcare', '.', 'the', 'registered', 'nurse', 'communicates', 'effectively', 'and', 'maintains', 'therapeutic', 'relationships', 'with', 'patients', ',', 'families', ',', 'physicians', ',', 'and', 'staff', '.', 'the', 'rn', 'evaluates', \"patient's\", 'signs', 'and', 'symptoms', ';', 'and', 'records', 'and', 'reports', 'results', '.', 'the', 'registered', 'nurse', 'sets', 'priorities', 'and', 'modifies', 'patient', 'care', 'in', 'response', 'to', 'changing', 'conditions', 'by', 'utilizing', 'problem', 'solving', 'skills', 'and', 'exhibiting', 'good', 'judgment', '.', 'the', 'rn', 'collaborates', 'with', 'physicians', 'regarding', 'patient', 'progress', 'towards', 'the', 'outcome', 'attainment', '.', 'the', 'registered', 'nurse', 'assists', 'physician', 'during', 'treatment', '/', 'examination', 'of', 'patient', 'and', 'processes', 'orders', '.', 'the', 'rn', 'makes', 'appropriate', 'and', 'timely', 'notification', 'to', 'physicians', 'on', 'patient', 'condition', 'changes', '.', 'the', 'med', '/', 'surg', 'registered', 'nurse', 'is', 'expected', 'to', 'attend', 'unit', 'meetings', 'as', 'directed', 'by', 'the', 'nurse', 'manager', 'and', 'participate', 'in', 'continuing', 'education', 'programs', 'to', 'maintain', 'competence', 'and', 'gain', 'additional', 'skills', '.', 'patient', 'rights', '-', 'the', 'med', '/', 'surg', 'registered', 'nurse', 'will', 'work', 'to', 'support', 'and', 'protect', 'the', 'rights', 'of', 'each', 'patient', 'served', ',', 'treat', 'each', 'patient', 'with', 'dignity', 'and', 'care', ',', 'and', 'maintain', 'patient', 'confidentiality', '/', 'privacy', '.', 'patient', 'safety', '-', 'the', 'med', '/', 'surg', 'registered', 'nurse', 'demonstrates', 'commitment', 'to', 'patient', 'safety', 'initiatives', 'including', 'patient', 'falls', ',', 'medication', 'safety', ',', 'national', 'patient', 'safety', 'goals', ',', 'critical', 'value', 'reporting', ',', 'and', 'administration', 'of', 'blood', 'products', '.', 'education', 'required', 'and', '/', 'or', 'preferred', ':', 'graduate', 'of', 'school', 'of', 'nursing', 'program', '-', 'lrb-required-rrb', '-', '.', 'licensure', '/', 'certification', ':', 'current', 'registered', 'nurse', 'license', 'in', 'this', 'state', '.', 'bls', 'certification', '-', 'lrb-required-rrb', '-', '.', 'experience', ':', 'previous', 'rn', 'experience', 'in', 'a', 'related', 'field', '-', 'lrb-preferred-rrb', '-', '.', 'title', ':', 'registered', 'nurse', ',', 'float', 'pool', 'prn', '-', 'lrb-johnston', 'willis', 'hospital-rrb', '-', 'location', ':', 'virginia-richmond-johnston-willis', 'hospital', 'requisition', 'id', ':', 'DGDGDGDGDG-DGDGDGDGDG', '34f7083406c34876ad78eabc1207f759'])\n",
      "(4.033013191059354e-06, 'Registered Nurses', ['as', 'one', 'of', 'the', 'largest', 'facilities', 'in', 'the', \"nation's\", 'largest', 'hospital', 'system', '-', 'lrb-hca-rrb', '-', ',', 'chippenham', 'hospital', 'provides', 'the', 'full', 'scope', 'of', 'healthcare', 'services', '.', 'with', 'DGDGDG', 'beds', ',', 'we', 'specialize', 'in', 'heart', 'care', 'at', 'the', 'levinson', 'heart', 'hospital', 'and', 'emotional', 'and', 'mental', 'health', 'services', 'through', 'the', 'tucker', 'pavilion', '.', 'our', 'er', 'is', 'also', 'a', 'state-authorized', 'level', 'ii', 'trauma', 'center', 'and', 'we', 'offer', 'central', \"virginia's\", 'only', 'pediatric', 'er', 'staffed', 'DGDG/DG', 'by', 'pediatric-trained', 'er', 'nurse', 'and', 'physician', 'specialists', '.', 'the', 'cardiac', 'tele', 'registered', 'nurse', '-', 'lrb-rn-rrb', '-', '...', 'performs', 'care', 'under', 'the', 'direction', 'of', 'the', 'unit', 'nursing', 'leadership', 'team', 'and', 'the', 'director', '.', 'the', 'tele', 'registered', 'nurse', 'provides', 'therapeutic', 'and', 'administrative', 'services', 'necessary', 'for', 'the', 'care', 'of', 'the', 'patient', ',', 'in', 'support', 'of', 'hca', 'ethical', 'principles', 'and', 'values', '.', 'the', 'tele', 'rn', 'is', 'responsible', 'for', 'assessing', ',', 'planning', ',', 'implementing', ',', 'evaluating', ',', 'and', 'documenting', 'all', 'aspects', 'of', 'patient', 'care', '.', 'the', 'registered', 'nurse', 'delegates', 'appropriate', 'tasks', 'to', 'unlicensed', 'personnel', 'and', 'provides', 'required', 'supervision', '.', 'the', 'rn', 'works', 'closely', 'with', 'all', 'health', 'care', 'providers', 'to', 'facilitate', 'and', 'coordinate', 'efficient', ',', 'effective', ',', 'and', 'quality', 'healthcare', '.', 'the', 'registered', 'nurse', 'communicates', 'effectively', 'and', 'maintains', 'therapeutic', 'relationships', 'with', 'patients', ',', 'families', ',', 'physicians', ',', 'and', 'staff', '.', 'the', 'cardiac', 'rn', 'evaluates', \"patient's\", 'signs', 'and', 'symptoms', ';', 'and', 'records', 'and', 'reports', 'results', '.', 'the', 'registered', 'nurse', 'sets', 'priorities', 'and', 'modifies', 'patient', 'care', 'in', 'response', 'to', 'changing', 'conditions', 'by', 'utilizing', 'problem', 'solving', 'skills', 'and', 'exhibiting', 'good', 'judgment', '.', 'the', 'rn', 'collaborates', 'with', 'physicians', 'regarding', 'patient', 'progress', 'towards', 'the', 'outcome', 'attainment', '.', 'the', 'telemetry', 'registered', 'nurse', 'assists', 'physician', 'during', 'treatment', '/', 'examination', 'of', 'patient', 'and', 'processes', 'orders', '.', 'the', 'rn', 'makes', 'appropriate', 'and', 'timely', 'notification', 'to', 'physicians', 'on', 'patient', 'condition', 'changes', '.', 'the', 'cardiac', 'registered', 'nurse', 'is', 'expected', 'to', 'attend', 'unit', 'meetings', 'as', 'directed', 'by', 'the', 'nurse', 'manager', 'and', 'participate', 'in', 'continuing', 'education', 'programs', 'to', 'maintain', 'competence', 'and', 'gain', 'additional', 'skills', '.', 'patient', 'rights', '-', 'the', 'med', '/', 'surg', 'registered', 'nurse', 'will', 'work', 'to', 'support', 'and', 'protect', 'the', 'rights', 'of', 'each', 'patient', 'served', ',', 'treat', 'each', 'patient', 'with', 'dignity', 'and', 'care', ',', 'and', 'maintain', 'patient', 'confidentiality', '/', 'privacy', '.', 'patient', 'safety', '-', 'the', 'med', '/', 'surg', 'registered', 'nurse', 'demonstrates', 'commitment', 'to', 'patient', 'safety', 'initiatives', 'including', 'patient', 'falls', ',', 'medication', 'safety', ',', 'national', 'patient', 'safety', 'goals', ',', 'critical', 'value', 'reporting', ',', 'and', 'administration', 'of', 'blood', 'products', '.', 'education', 'required', 'and', '/', 'or', 'preferred', ':', 'diploma', 'or', 'associates', 'degree', 'from', 'a', 'professional', 'nursing', 'program', '-', 'lrb-required-rrb', '-', 'bsn', 'or', 'current', 'enrollment', 'in', 'a', 'bsn', 'program', 'at', 'an', 'accredited', 'school', 'of', 'nursing', '-', 'lrb-preferred-rrb', '-', '.', 'licensure', '/', 'certification', ':', 'current', 'registered', 'nurse', 'license', 'in', 'this', 'state', 'american', 'heart', 'association', 'basic', 'life', 'support', '-', 'lrb-bls-rrb', '-', 'health', 'care', 'provider', '-', 'lrb-required-rrb', '-', '.', 'experience', ':', 'DG', 'year', 'of', 'experience', 'in', 'area', 'of', 'clinical', 'expertise', 'to', 'which', 'applying', '-', 'lrb-preferred-rrb', '-', '.', 'title', ':', 'registered', 'nurse', 'prn', ':', 'cardiac', 'telemetry', '.', 'location', ':', 'united', 'states-virginia-richmond-chippenham', 'hospital', '.', 'requisition', 'id', ':', 'DGDGDGDGDG-DGDGDGDGDG'])\n",
      "\n",
      "Least likely fans\n",
      "(0.9966538524394665, 'Computer User Support Specialists', ['peer', 'recovery', 'specialist', 'ii', '-', 'pact', 'peer', 'recovery', 'specialist', 'ii', 'has', 'knowledge', 'of', 'the', 'signs', 'and', 'symptoms', 'of', 'mental', '.', 'illness', '-', 'lrb-i', '.', 'e', '.', 'auditory', 'and', 'visual', 'hallucinations', ',', 'aggressive', 'talk', 'and', '.', 'behavior', ',', 'thoughts', 'of', 'self-harm', 'or', 'harm', 'towards', 'others', ',', 'isolation-rrb', '-', 'and', 'the', '.', 'ability', 'to', 'assist', 'the', 'individual', 'to', 'address', 'symptoms', 'using', 'strategies', 'such', 'as', '.', 'positive', 'self-talk', '.', 'peer', 'specialist', 'ii', 'provides', 'peer', 'support', ';', 'serves', 'as', 'a', '.', 'consumer', 'advocate', ';', 'carries', 'out', 'rehabilitation', 'and', 'support', 'functions', ';', 'promotes', '.', 'recovery', 'from', 'substance', 'abuse', 'and', '/', 'or', 'mental', 'health', 'conditions', ';', 'promotes', '.', 'employment', ',', 'education', ',', 'health', ',', 'and', 'community', 'integration', ';', 'and', 'serves', 'as', 'a', 'role', '.', 'model', 'for', 'personal', 'recovery', '.', 'the', 'peer', 'specialist', 'ii', 'may', 'assist', 'individuals', '.', 'with', 'basic', 'physical', ',', 'financial', ',', 'social', ',', 'personal', ',', 'and', 'recovery', 'needs', '.', 'services', 'carried', 'out', 'by', 'the', 'peer', 'specialist', 'ii', 'include', 'outreach', ',', 'monitoring', ',', '.', 'advocacy', ',', 'daily', 'living', 'support', ',', 'and', 'similar', 'functions', '.'])\n",
      "(0.9969990555805057, 'Computer User Support Specialists', ['499017br', '.', 'job', 'title', ':', 'appliance', 'customer', 'service', 'specialist', '.', 'location', 'number', ':', 'DGDGDGDGDGDG', '-', 'fredricksburg-store', '.', 'job', 'description', ':', 'what', 'does', 'an', 'appliance', 'customer', 'service', 'specialist', 'do', '?', '.', 'the', 'appliance', 'customer', 'service', 'specialist', 'is', 'responsible', 'for', 'ensuring', ',', 'fast', ',', 'friendly', ',', 'and', 'accurate', 'processing', 'of', 'appliance', 'customer', 'transactions', '.', 'the', 'primary', 'responsibilities', 'of', 'a', 'customer', 'service', 'specialist', 'are', 'to', 'provide', 'an', 'excellent', 'customer', 'experience', 'through', 'calling', 'the', 'customer', 'prior', 'to', 'delivery', 'to', 'verify', 'delivery', 'location', ',', 'in-home', 'path', ',', 'customer', 'measurement', 'of', 'product', 'placement', ',', 'and', 'appointment', 'window', '.', 'this', 'role', 'is', 'also', 'responsible', 'for', 'supporting', 'the', 'sales', 'floor', 'in', 'customer', 'follow', 'up', ',', 'which', 'may', 'include', 'scheduling', 'deliveries', ',', 'checking', 'on', 'purchase', 'orders', 'or', 'doing', 'a', 'stock', 'check', '.', 'the', 'customer', 'service', 'specialist', 'is', 'also', 'responsible', 'for', 'supporting', 'the', 'inventory', 'processes', ',', 'which', 'may', 'include', 'warehouse', 'functions', 'such', 'as', 'unaccounted', 'research', ',', 'receiving', ',', 'shipping', 'and', 'will', 'calls', '.', 'this', 'role', 'keeps', 'the', 'customer', 'service', 'work', 'center', 'well', 'organized', 'by', 'creating', 'solutions', 'toorganizational', 'challenges', ',', 'they', 'are', 'also', 'responsible', 'for', 'selling', 'accessories', 'and', 'general', 'service', 'contracts', 'to', 'customers', 'during', 'review', 'of', 'sales', 'order', '.', 'as', 'an', 'appliance', 'customer', 'service', 'specialist', ',', 'you', 'will', ':', 'call', 'customers', 'prior', 'to', 'delivery', 'to', 'verify', 'delivery', 'location', ',', 'in-home', 'path', ',', 'customer', 'measurement', 'of', 'product', 'placement', ',', 'and', 'appointment', 'window', '.', 'process', 'transactions', 'such', 'as', 'new', 'orders', ',', 'returns', '&', 'exchanges', ',', 'releases', ',', 'etc', '.', 'in', 'a', 'timely', 'and', 'efficient', 'manner', '.', 'support', 'the', 'sales', 'specialists', 'through', 'customer', 'follow', 'up', ',', 'scheduling', 'deliveries', ',', 'reconciling', 'purchase', 'orders', ',', 'stock', 'checks', '.', 'demonstrate', 'company', 'sales', 'model', 'in', 'order', 'to', 'offer', 'each', 'customer', 'the', 'complete', 'solution', '-', 'lrb-accessories', 'and', 'general', 'service', 'contracts-rrb', '-', 'to', 'their', 'purchase', '.', 'complete', 'shipping', 'invoices', 'and', 'reconciliation', 'reporting', '.', 'assists', 'inventory', 'processes', 'such', 'as', 'various', 'report', 'reconciliation', '-', 'lrb-unaccounted', 'research', 'report-rrb', '-', 'receiving', 'product', ',', 'shipping', 'product', 'or', 'customer', 'will-calls', '.', 'what', 'are', 'the', 'professional', 'requirements', 'of', 'a', 'customer', 'service', 'specialist', '?', '.', 'basic', 'qualifications', '.', 'high', 'school', 'diploma', 'or', 'equivalent', '.', 'DG', 'year', 'customer', 'service', 'experience', ',', 'with', 'experience', 'in', 'oms', 'order', 'creation', 'and', 'modification', '.', 'preferred', 'qualifications', ':', 'associate', 'or', 'bachelor', 'degree', 'or', 'above', 'in', 'business', ',', 'sales', 'management', 'or', 'related', 'field', '.', 'req', '#', ':', '499017br', '.', 'address', 'line', 'DG', ':', 'DGDGDGDG', 'carl', 'd', 'silver', 'pkwy', '.', 'city', ':', 'fredericksburg', '.', 'state', ':', 'va', '..', 'zip', ':', 'DGDGDGDGDG-DGDGDGDG', '.', 'job', 'level', ':', 'entry', 'level', '.', 'employment', 'category', ':', 'part', 'time', '.', 'brand', ':', 'best', 'buy', '.', 'about', 'us', ':', 'best', 'buy', 'company', 'and', 'its', 'family', 'of', 'brands', '.', 'best', 'buy', 'is', 'the', \"world's\", 'largest', 'multi-channel', 'consumer', 'electronics', 'retailer', 'with', 'stores', 'in', 'the', 'united', 'states', ',', 'canada', ',', 'and', 'mexico', '.', 'we', 'are', 'the', '11th', 'largest', 'online', 'retailer', 'in', 'the', 'u', '.', 's', '.', 'and', 'canada', ',', 'we', 'have', 'the', 'number', 'one', 'customer', 'loyalty', 'program', 'of', 'its', 'kind', 'and', 'more', 'than', 'DG.DG', 'billion', 'visitors', 'to', 'our', 'websites', 'and', 'stores', 'each', 'year', '.', 'our', 'more', 'than', 'DGDGDGDGDGDG', 'employees', 'are', 'committed', 'to', 'helping', 'deliver', 'the', 'technology', 'solutions', 'that', 'provide', 'value', ',', 'enabling', 'access', 'to', 'people', ',', 'knowledge', ',', 'ideas', 'and', 'fun', '-', 'whether', 'online', ',', 'via', 'mobile', 'device', 'or', 'in', 'our', 'stores', '.', 'additional', 'job', 'information', ':', 'what', 'are', 'my', 'rewards', 'and', 'benefits', '?', '.', 'discover', 'your', 'career', 'here', '!', 'at', 'geek', 'squad', 'and', 'best', 'buy', 'we', 'offer', 'much', 'more', 'than', 'a', 'paycheck', '.', 'surrounded', 'by', 'the', 'latest', 'and', 'greatest', 'technology', ',', 'a', 'team', 'of', 'amazing', 'coworkers', 'and', 'a', 'work', 'environment', 'where', 'anything', 'is', 'possible', ',', \"you'll\", 'find', 'it', 'easy', 'to', 'be', 'your', 'best', 'when', 'you', 'work', 'with', 'us', '.', 'we', 'provide', 'an', 'exciting', 'work', 'environment', 'with', 'a', 'community', 'of', 'techno', 'learners', 'where', 'you', 'can', 'be', 'yourself', 'while', 'investing', 'in', 'your', 'career', '.', 'empowered', 'with', 'knowledge', 'you', 'will', 'discover', 'endless', 'opportunities', 'to', 'grow', '.', 'from', 'deep', 'employee', 'discounts', 'to', 'tuition', 'reimbursement', ',', 'to', 'health', ',', 'wealth', 'and', 'wellness', 'benefits', ',', 'to', 'learning', 'and', 'development', 'programs', ',', 'we', 'believe', 'the', 'success', 'of', 'our', 'company', 'depends', 'on', 'the', 'passion', 'of', 'employees', 'for', 'learning', ',', 'technology', 'and', 'people', '.', 'job', 'search', 'categories', ':', 'retail', 'jobs'])\n",
      "(0.9971414229815482, 'Computer User Support Specialists', [':', 'position', 'description', ':', 'xla', 'is', 'looking', 'to', 'fill', 'a', 'financial', 'support', 'specialist', 'position', 'for', 'support', 'in', 'the', 'transit', 'benefits', 'unit', 'to', 'directly', 'support', 'a', 'federal', 'law', 'enforcement', 'customer', 'in', 'providing', '...', 'DG', 'days', 'ago', '..', 'xla', ',', 'inc', '.', 'has', 'a', 'job', 'for', 'financial', 'support', 'specialist', ',', 'DGDGDGDGDGDGDG', 'DGDG', 'in', 'arlington', ',', 'virginia', '.', 'view', 'job', 'details', 'and', 'apply', 'for', 'the', 'job', '.'])\n",
      "(0.9971773195558188, 'Computer User Support Specialists', ['527242br', '.', 'job', 'title', ':', 'appliance', 'customer', 'service', 'specialist', '.', 'location', 'number', ':', 'DGDGDGDGDGDG', '-', 'chesterfield-store', '.', 'job', 'description', ':', 'what', 'does', 'an', 'appliance', 'customer', 'service', 'specialist', 'do', '?', '.', 'the', 'appliance', 'customer', 'service', 'specialist', 'is', 'responsible', 'for', 'ensuring', ',', 'fast', ',', 'friendly', ',', 'and', 'accurate', 'processing', 'of', 'appliance', 'customer', 'transactions', '.', 'the', 'primary', 'responsibilities', 'of', 'a', 'customer', 'service', 'specialist', 'are', 'to', 'provide', 'an', 'excellent', 'customer', 'experience', 'through', 'calling', 'the', 'customer', 'prior', 'to', 'delivery', 'to', 'verify', 'delivery', 'location', ',', 'in-home', 'path', ',', 'customer', 'measurement', 'of', 'product', 'placement', ',', 'and', 'appointment', 'window', '.', 'this', 'role', 'is', 'also', 'responsible', 'for', 'supporting', 'the', 'sales', 'floor', 'in', 'customer', 'follow', 'up', ',', 'which', 'may', 'include', 'scheduling', 'deliveries', ',', 'checking', 'on', 'purchase', 'orders', 'or', 'doing', 'a', 'stock', 'check', '.', 'the', 'customer', 'service', 'specialist', 'is', 'also', 'responsible', 'for', 'supporting', 'the', 'inventory', 'processes', ',', 'which', 'may', 'include', 'warehouse', 'functions', 'such', 'as', 'unaccounted', 'research', ',', 'receiving', ',', 'shipping', 'and', 'will', 'calls', '.', 'this', 'role', 'keeps', 'the', 'customer', 'service', 'work', 'center', 'well', 'organized', 'by', 'creating', 'solutions', 'toorganizational', 'challenges', ',', 'they', 'are', 'also', 'responsible', 'for', 'selling', 'accessories', 'and', 'general', 'service', 'contracts', 'to', 'customers', 'during', 'review', 'of', 'sales', 'order', '.', 'as', 'an', 'appliance', 'customer', 'service', 'specialist', ',', 'you', 'will', ':', 'call', 'customers', 'prior', 'to', 'delivery', 'to', 'verify', 'delivery', 'location', ',', 'in-home', 'path', ',', 'customer', 'measurement', 'of', 'product', 'placement', ',', 'and', 'appointment', 'window', '.', 'process', 'transactions', 'such', 'as', 'new', 'orders', ',', 'returns', '&', 'exchanges', ',', 'releases', ',', 'etc', '.', 'in', 'a', 'timely', 'and', 'efficient', 'manner', '.', 'support', 'the', 'sales', 'specialists', 'through', 'customer', 'follow', 'up', ',', 'scheduling', 'deliveries', ',', 'reconciling', 'purchase', 'orders', ',', 'stock', 'checks', '.', 'demonstrate', 'company', 'sales', 'model', 'in', 'order', 'to', 'offer', 'each', 'customer', 'the', 'complete', 'solution', '-', 'lrb-accessories', 'and', 'general', 'service', 'contracts-rrb', '-', 'to', 'their', 'purchase', '.', 'complete', 'shipping', 'invoices', 'and', 'reconciliation', 'reporting', '.', 'assists', 'inventory', 'processes', 'such', 'as', 'various', 'report', 'reconciliation', '-', 'lrb-unaccounted', 'research', 'report-rrb', '-', 'receiving', 'product', ',', 'shipping', 'product', 'or', 'customer', 'will-calls', '.', 'what', 'are', 'the', 'professional', 'requirements', 'of', 'a', 'customer', 'service', 'specialist', '?', '.', 'basic', 'qualifications', '.', 'high', 'school', 'diploma', 'or', 'equivalent', '.', 'DG', 'year', 'customer', 'service', 'experience', ',', 'with', 'experience', 'in', 'oms', 'order', 'creation', 'and', 'modification', '.', 'preferred', 'qualifications', ':', 'associate', 'or', 'bachelor', 'degree', 'or', 'above', 'in', 'business', ',', 'sales', 'management', 'or', 'related', 'field', '.', 'req', '#', ':', '527242br', '.', 'address', 'line', 'DG', ':', 'DGDGDGDG', 'w', 'koger', 'center', 'blvd', '..', 'city', ':', 'richmond', '.', 'state', ':', 'va', '..', 'zip', ':', 'DGDGDGDGDG-DGDGDGDG', '.', 'job', 'level', ':', 'entry', 'level', '.', 'employment', 'category', ':', 'part', 'time', '.', 'brand', ':', 'best', 'buy', '.', 'about', 'us', ':', 'best', 'buy', 'company', 'and', 'its', 'family', 'of', 'brands', '.', 'best', 'buy', 'is', 'the', \"world's\", 'largest', 'multi-channel', 'consumer', 'electronics', 'retailer', 'with', 'stores', 'in', 'the', 'united', 'states', ',', 'canada', ',', 'and', 'mexico', '.', 'we', 'are', 'the', '11th', 'largest', 'online', 'retailer', 'in', 'the', 'u', '.', 's', '.', 'and', 'canada', ',', 'we', 'have', 'the', 'number', 'one', 'customer', 'loyalty', 'program', 'of', 'its', 'kind', 'and', 'more', 'than', 'DG.DG', 'billion', 'visitors', 'to', 'our', 'websites', 'and', 'stores', 'each', 'year', '.', 'our', 'more', 'than', 'DGDGDGDGDGDG', 'employees', 'are', 'committed', 'to', 'helping', 'deliver', 'the', 'technology', 'solutions', 'that', 'provide', 'value', ',', 'enabling', 'access', 'to', 'people', ',', 'knowledge', ',', 'ideas', 'and', 'fun', '-', 'whether', 'online', ',', 'via', 'mobile', 'device', 'or', 'in', 'our', 'stores', '.', 'additional', 'job', 'information', ':', 'what', 'are', 'my', 'rewards', 'and', 'benefits', '?', '.', 'discover', 'your', 'career', 'here', '!', 'at', 'geek', 'squad', 'and', 'best', 'buy', 'we', 'offer', 'much', 'more', 'than', 'a', 'paycheck', '.', 'surrounded', 'by', 'the', 'latest', 'and', 'greatest', 'technology', ',', 'a', 'team', 'of', 'amazing', 'coworkers', 'and', 'a', 'work', 'environment', 'where', 'anything', 'is', 'possible', ',', \"you'll\", 'find', 'it', 'easy', 'to', 'be', 'your', 'best', 'when', 'you', 'work', 'with', 'us', '.', 'we', 'provide', 'an', 'exciting', 'work', 'environment', 'with', 'a', 'community', 'of', 'techno', 'learners', 'where', 'you', 'can', 'be', 'yourself', 'while', 'investing', 'in', 'your', 'career', '.', 'empowered', 'with', 'knowledge', 'you', 'will', 'discover', 'endless', 'opportunities', 'to', 'grow', '.', 'from', 'deep', 'employee', 'discounts', 'to', 'tuition', 'reimbursement', ',', 'to', 'health', ',', 'wealth', 'and', 'wellness', 'benefits', ',', 'to', 'learning', 'and', 'development', 'programs', ',', 'we', 'believe', 'the', 'success', 'of', 'our', 'company', 'depends', 'on', 'the', 'passion', 'of', 'employees', 'for', 'learning', ',', 'technology', 'and', 'people', '.', 'job', 'search', 'categories', ':', 'retail', 'jobs'])\n",
      "(0.9975053999605481, 'Computer User Support Specialists', ['req', 'id', '88019br', 'business', 'title', 'help', 'desk', 'specialist', 'group', 'mcis', 'location', 'usa', 'virginia', 'shirlington', 'clearance', 'level', 'needed', 'ts', '/', 'sci', 'category', 'technical', 'assistance', '&', 'support', 'job', 'duties', 'and', 'responsibilities', '...', 'help', 'desk', 'specialist', 'in', 'shirlington', ',', 'virginia', 'requiring', 'an', 'active', 'security', '..', 'and', 'customer', 'oriented', 'help', 'desk', 'specialist', 'to', 'join', 'our', 'team', 'in', 'arlington', ',', 'va', 'area', 'to', '...'])\n",
      "(0.9977347571563039, 'Computer User Support Specialists', ['req', 'id', '85418br', 'business', 'title', 'ia', 'specialist', 'group', 'mcis', 'location', 'usa', 'virginia', 'reston', 'clearance', 'level', 'needed', 'none', 'category', 'technical', 'analysis', 'job', 'duties', 'and', 'responsibilities', 'become', 'an', 'integral', '...', 'ia', 'specialist', 'in', 'reston', ',', 'virginia', 'requiring', 'an', 'active', 'security', 'clearance', '. ..', 'career', 'and', 'customer', 'oriented', 'ia', 'specialist', 'to', 'join', 'our', 'team', 'in', 'the', 'reston', ',', 'va', 'area', 'to', '...'])\n",
      "(0.9977356483454711, 'Computer User Support Specialists', ['/', 'your', 'talent', '.', 'our', 'vision', '.', '/', 'at', 'anthem', ',', 'inc', '.', ',', \"it's\", 'a', 'powerful', 'combination', ',', 'and', 'the', 'foundation', 'upon', 'which', \"we're\", 'creating', 'greater', 'access', 'to', 'care', 'for', 'our', 'members', ',', 'greater', 'value', 'for', 'our', 'customers', ',', 'and', 'greater', 'health', 'for', 'our', 'communities', '.', 'join', 'us', 'and', 'together', 'we', 'willdrive', 'the', 'future', 'of', 'health', 'care', '.', 'this', 'is', 'an', 'exceptional', 'opportunity', 'to', 'do', 'innovative', 'work', 'that', 'means', 'more', 'to', 'you', 'and', 'those', 'we', 'serve', 'atone', 'of', \"america's\", 'leading', 'health', 'benefits', 'companies', 'and', 'a', 'fortune', 'top', 'DGDG', 'company', '.', 'legal', 'specialist', 'ii', ',', 'or', 'legal', 'specialist', 'sr', '..', 'preferred', 'locations', 'include', ':', 'woodland', 'hills', ',', 'ca', ',', 'richmond', 'va', ',', 'virginia', 'beach', 'va', ',', 'indianapolis', ',', 'in', ',', 'mason', ',', 'ohio', ',', 'or', 'louisville', ',', 'ky', '..', 'please', 'note', ',', 'we', 'have', 'two', 'positions', 'to', 'fill', 'at', 'either', 'the', 'specialist', 'ii', 'or', 'specialist', 'sr', '.', 'level', 'depending', 'on', 'candidates', \"'\", 'qualifications', '.', 'thelegal', 'specialist', 'ii', 'andlegal', 'specialist', 'sr', 'will', 'be', 'responsible', 'for', 'providing', 'legal', 'support', 'services', 'for', 'one', 'or', 'more', 'primarily', 'supporting', 'the', 'legal', 'area', 'dedicated', 'to', 'support', 'of', 'provider', 'solutions', 'business', 'area', 'including', 'commercial', ',', 'medicaid', 'and', 'medicare', 'products', '.', 'primary', 'duties', 'may', 'include', ',', 'but', 'are', 'not', 'limited', 'to', ':', 'drafts', 'contract', 'templates', 'and', 'amendments', 'to', 'provider', 'agreements', '.', 'responds', 'to', 'proposed', 'changes', 'to', 'contract', 'language', '.', 'conducts', 'legal', 'research', 'and', 'analysis', ',', 'and', 'recommends', 'appropriate', 'course', 'of', 'action', 'and', 'next', 'steps', '.', 'responds', 'to', 'questions', '/', 'issues', 'regarding', 'provider', 'contract', 'language', '.', 'prepares', 'and', 'assists', 'with', 'regulatory', 'filings', '.', 'prepares', 'and', 'assists', 'with', 'creating', 'training', 'programs', 'related', 'to', 'support', 'of', 'provider', 'solutions', '.', 'prepares', 'settlement', 'agreements', ',', 'letters', 'of', 'intent', ',', 'confidentiality', 'agreements', 'and', 'other', 'documents', 'as', 'requested', '.', 'assists', 'with', 'development', 'of', 'state', 'requirements', 'matrix', '.', 'assists', 'with', 'regulatory', 'governance', 'and', 'compliance', 'issues', '.', 'supports', 'databases', 'or', 'other', 'provider', 'contract', 'document', 'management', 'systems', '.', 'assists', 'with', 'project', 'management', '.', 'legal', 'specialist', 'ii', 'requires', 'a', 'law', 'degree', 'or', 'a', 'paralegal', 'certification', 'with', 'DG', 'years', 'of', 'legal', 'or', 'job', 'related', 'experience', ';', 'or', 'any', 'combination', 'of', 'education', 'and', 'experience', ',', 'which', 'would', 'provide', 'an', 'equivalent', 'background', '.', 'legal', 'specialist', 'sr', '..', 'requires', 'a', 'law', 'degree', 'or', 'a', 'paralegal', 'certificate', 'with', 'DGDG', 'years', 'of', 'legal', 'or', 'job', 'related', 'experience', ';', 'or', 'any', 'combination', 'of', 'education', 'and', 'experience', ',', 'which', 'would', 'provide', 'an', 'equivalent', 'background', '.', '/', 'anthem', ',', 'inc', '.', 'is', 'ranked', 'as', 'one', 'of', \"america's\", 'most', 'admired', 'companies', 'among', 'health', 'insurers', 'by', 'fortune', 'magazine', 'and', 'is', 'a', 'DGDGDGDG', 'diversityinc', 'magazine', 'top', 'DGDG', 'company', 'for', 'diversity', '.', 'to', 'learn', 'more', 'about', 'our', 'company', 'and', 'apply', ',', 'please', 'visit', 'us', 'at', 'postedhyperlinkvalue', '.', 'eoe', '.', 'm', '/', 'f', '/', 'disability', '/', 'veteran', '.', '/', '.', 'job', 'legal', 'title', ':', 'legal', 'specialist', 'ii', ',', 'or', 'sr', '.', 'DGDGDGDGDGDG', 'location', ':', 'va-chantilly', 'other', 'locations', ':', 'ca-woodland', 'hills', ',', 'va-virginia', 'beach', ',', 'va-richmond', ',', 'oh-mason', ',', 'ky-louisville', ',', 'in-indianapolis', 'requisition', 'id', ':', 'DGDGDGDGDGDG'])\n",
      "(0.9977384506443582, 'Computer User Support Specialists', ['/', 'your', 'talent', '.', 'our', 'vision', '.', '/', 'at', 'anthem', ',', 'inc', '.', ',', \"it's\", 'a', 'powerful', 'combination', ',', 'and', 'the', 'foundation', 'upon', 'which', \"we're\", 'creating', 'greater', 'access', 'to', 'care', 'for', 'our', 'members', ',', 'greater', 'value', 'for', 'our', 'customers', ',', 'and', 'greater', 'health', 'for', 'our', 'communities', '.', 'join', 'us', 'and', 'together', 'we', 'willdrive', 'the', 'future', 'of', 'health', 'care', '.', 'this', 'is', 'an', 'exceptional', 'opportunity', 'to', 'do', 'innovative', 'work', 'that', 'means', 'more', 'to', 'you', 'and', 'those', 'we', 'serve', 'atone', 'of', \"america's\", 'leading', 'health', 'benefits', 'companies', 'and', 'a', 'fortune', 'top', 'DGDG', 'company', '.', 'legal', 'specialist', 'ii', ',', 'or', 'legal', 'specialist', 'sr', '..', 'preferred', 'locations', 'include', ':', 'woodland', 'hills', ',', 'ca', ',', 'richmond', 'va', ',', 'virginia', 'beach', 'va', ',', 'indianapolis', ',', 'in', ',', 'mason', ',', 'ohio', ',', 'or', 'louisville', ',', 'ky', '..', 'please', 'note', ',', 'we', 'have', 'two', 'positions', 'to', 'fill', 'at', 'either', 'the', 'specialist', 'ii', 'or', 'specialist', 'sr', '.', 'level', 'depending', 'on', 'candidates', \"'\", 'qualifications', '.', 'thelegal', 'specialist', 'ii', 'andlegal', 'specialist', 'sr', 'will', 'be', 'responsible', 'for', 'providing', 'legal', 'support', 'services', 'for', 'one', 'or', 'more', 'primarily', 'supporting', 'the', 'legal', 'area', 'dedicated', 'to', 'support', 'of', 'provider', 'solutions', 'business', 'area', 'including', 'commercial', ',', 'medicaid', 'and', 'medicare', 'products', '.', 'primary', 'duties', 'may', 'include', ',', 'but', 'are', 'not', 'limited', 'to', ':', 'drafts', 'contract', 'templates', 'and', 'amendments', 'to', 'provider', 'agreements', '.', 'responds', 'to', 'proposed', 'changes', 'to', 'contract', 'language', '.', 'conducts', 'legal', 'research', 'and', 'analysis', ',', 'and', 'recommends', 'appropriate', 'course', 'of', 'action', 'and', 'next', 'steps', '.', 'responds', 'to', 'questions', '/', 'issues', 'regarding', 'provider', 'contract', 'language', '.', 'prepares', 'and', 'assists', 'with', 'regulatory', 'filings', '.', 'prepares', 'and', 'assists', 'with', 'creating', 'training', 'programs', 'related', 'to', 'support', 'of', 'provider', 'solutions', '.', 'prepares', 'settlement', 'agreements', ',', 'letters', 'of', 'intent', ',', 'confidentiality', 'agreements', 'and', 'other', 'documents', 'as', 'requested', '.', 'assists', 'with', 'development', 'of', 'state', 'requirements', 'matrix', '.', 'assists', 'with', 'regulatory', 'governance', 'and', 'compliance', 'issues', '.', 'supports', 'databases', 'or', 'other', 'provider', 'contract', 'document', 'management', 'systems', '.', 'assists', 'with', 'project', 'management', '.', 'legal', 'specialist', 'ii', 'requires', 'a', 'law', 'degree', 'or', 'a', 'paralegal', 'certification', 'with', 'DG', 'years', 'of', 'legal', 'or', 'job', 'related', 'experience', ';', 'or', 'any', 'combination', 'of', 'education', 'and', 'experience', ',', 'which', 'would', 'provide', 'an', 'equivalent', 'background', '.', 'legal', 'specialist', 'sr', '..', 'requires', 'a', 'law', 'degree', 'or', 'a', 'paralegal', 'certificate', 'with', 'DGDG', 'years', 'of', 'legal', 'or', 'job', 'related', 'experience', ';', 'or', 'any', 'combination', 'of', 'education', 'and', 'experience', ',', 'which', 'would', 'provide', 'an', 'equivalent', 'background', '.', '/', 'anthem', ',', 'inc', '.', 'is', 'ranked', 'as', 'one', 'of', \"america's\", 'most', 'admired', 'companies', 'among', 'health', 'insurers', 'by', 'fortune', 'magazine', 'and', 'is', 'a', 'DGDGDGDG', 'diversityinc', 'magazine', 'top', 'DGDG', 'company', 'for', 'diversity', '.', 'to', 'learn', 'more', 'about', 'our', 'company', 'and', 'apply', ',', 'please', 'visit', 'us', 'at', 'postedhyperlinkvalue', '.', 'eoe', '.', 'm', '/', 'f', '/', 'disability', '/', 'veteran', '.', '/', '.', 'job', 'legal', 'title', ':', 'legal', 'specialist', 'ii', ',', 'or', 'sr', '.', 'DGDGDGDGDGDG', 'location', ':', 'va-roanoke', 'other', 'locations', ':', 'ca-woodland', 'hills', ',', 'va-virginia', 'beach', ',', 'va-richmond', ',', 'oh-mason', ',', 'ky-louisville', ',', 'in-indianapolis', 'requisition', 'id', ':', 'DGDGDGDGDGDG'])\n",
      "(0.9977411523105522, 'Computer User Support Specialists', ['/', 'your', 'talent', '.', 'our', 'vision', '.', '/', 'at', 'anthem', ',', 'inc', '.', ',', \"it's\", 'a', 'powerful', 'combination', ',', 'and', 'the', 'foundation', 'upon', 'which', \"we're\", 'creating', 'greater', 'access', 'to', 'care', 'for', 'our', 'members', ',', 'greater', 'value', 'for', 'our', 'customers', ',', 'and', 'greater', 'health', 'for', 'our', 'communities', '.', 'join', 'us', 'and', 'together', 'we', 'willdrive', 'the', 'future', 'of', 'health', 'care', '.', 'this', 'is', 'an', 'exceptional', 'opportunity', 'to', 'do', 'innovative', 'work', 'that', 'means', 'more', 'to', 'you', 'and', 'those', 'we', 'serve', 'atone', 'of', \"america's\", 'leading', 'health', 'benefits', 'companies', 'and', 'a', 'fortune', 'top', 'DGDG', 'company', '.', 'legal', 'specialist', 'ii', ',', 'or', 'legal', 'specialist', 'sr', '..', 'preferred', 'locations', 'include', ':', 'woodland', 'hills', ',', 'ca', ',', 'richmond', 'va', ',', 'virginia', 'beach', 'va', ',', 'indianapolis', ',', 'in', ',', 'mason', ',', 'ohio', ',', 'or', 'louisville', ',', 'ky', '..', 'please', 'note', ',', 'we', 'have', 'two', 'positions', 'to', 'fill', 'at', 'either', 'the', 'specialist', 'ii', 'or', 'specialist', 'sr', '.', 'level', 'depending', 'on', 'candidates', \"'\", 'qualifications', '.', 'thelegal', 'specialist', 'ii', 'andlegal', 'specialist', 'sr', 'will', 'be', 'responsible', 'for', 'providing', 'legal', 'support', 'services', 'for', 'one', 'or', 'more', 'primarily', 'supporting', 'the', 'legal', 'area', 'dedicated', 'to', 'support', 'of', 'provider', 'solutions', 'business', 'area', 'including', 'commercial', ',', 'medicaid', 'and', 'medicare', 'products', '.', 'primary', 'duties', 'may', 'include', ',', 'but', 'are', 'not', 'limited', 'to', ':', 'drafts', 'contract', 'templates', 'and', 'amendments', 'to', 'provider', 'agreements', '.', 'responds', 'to', 'proposed', 'changes', 'to', 'contract', 'language', '.', 'conducts', 'legal', 'research', 'and', 'analysis', ',', 'and', 'recommends', 'appropriate', 'course', 'of', 'action', 'and', 'next', 'steps', '.', 'responds', 'to', 'questions', '/', 'issues', 'regarding', 'provider', 'contract', 'language', '.', 'prepares', 'and', 'assists', 'with', 'regulatory', 'filings', '.', 'prepares', 'and', 'assists', 'with', 'creating', 'training', 'programs', 'related', 'to', 'support', 'of', 'provider', 'solutions', '.', 'prepares', 'settlement', 'agreements', ',', 'letters', 'of', 'intent', ',', 'confidentiality', 'agreements', 'and', 'other', 'documents', 'as', 'requested', '.', 'assists', 'with', 'development', 'of', 'state', 'requirements', 'matrix', '.', 'assists', 'with', 'regulatory', 'governance', 'and', 'compliance', 'issues', '.', 'supports', 'databases', 'or', 'other', 'provider', 'contract', 'document', 'management', 'systems', '.', 'assists', 'with', 'project', 'management', '.', 'legal', 'specialist', 'ii', 'requires', 'a', 'law', 'degree', 'or', 'a', 'paralegal', 'certification', 'with', 'DG', 'years', 'of', 'legal', 'or', 'job', 'related', 'experience', ';', 'or', 'any', 'combination', 'of', 'education', 'and', 'experience', ',', 'which', 'would', 'provide', 'an', 'equivalent', 'background', '.', 'legal', 'specialist', 'sr', '..', 'requires', 'a', 'law', 'degree', 'or', 'a', 'paralegal', 'certificate', 'with', 'DGDG', 'years', 'of', 'legal', 'or', 'job', 'related', 'experience', ';', 'or', 'any', 'combination', 'of', 'education', 'and', 'experience', ',', 'which', 'would', 'provide', 'an', 'equivalent', 'background', '.', '/', 'anthem', ',', 'inc', '.', 'is', 'ranked', 'as', 'one', 'of', \"america's\", 'most', 'admired', 'companies', 'among', 'health', 'insurers', 'by', 'fortune', 'magazine', 'and', 'is', 'a', 'DGDGDGDG', 'diversityinc', 'magazine', 'top', 'DGDG', 'company', 'for', 'diversity', '.', 'to', 'learn', 'more', 'about', 'our', 'company', 'and', 'apply', ',', 'please', 'visit', 'us', 'at', 'postedhyperlinkvalue', '.', 'eoe', '.', 'm', '/', 'f', '/', 'disability', '/', 'veteran', '.', '/', '.', 'job', 'legal', 'title', ':', 'legal', 'specialist', 'ii', ',', 'or', 'sr', '.', 'DGDGDGDGDGDG', 'location', ':', 'va-alexandria', 'other', 'locations', ':', 'ca-woodland', 'hills', ',', 'va-virginia', 'beach', ',', 'va-richmond', ',', 'oh-mason', ',', 'ky-louisville', ',', 'in-indianapolis', 'requisition', 'id', ':', 'DGDGDGDGDGDG'])\n",
      "(0.9978791517630152, 'Computer User Support Specialists', ['the', 'haley', 'automotive', 'group', ',', 'volvo', 'of', 'richmond', ',', 'parts', 'inventory', 'and', 'wholsale', 'specialist', 'provides', 'first-class', 'assistance', 'our', 'parts', 'specialist', 'and', 'wholesale', 'delivery', 'customers', '.', 'he', '/', 'she', 'is', 'familiar', 'with', 'automotive', 'products', 'so', 'as', 'to', 'accurately', 'answer', 'questions', 'and', 'satisfy', 'customer', 'requirements', '.', 'the', 'specialist', 'expertly', 'uses', 'a', 'computerized', 'means', 'to', 'identify', 'and', 'locate', 'automotive', 'products', 'from', 'inventory', 'and', 'makes', 'prompt', 'delivery', '.', 'the', 'specialist', 'will', 'also', 'handle', 'returns', '.', 'the', 'ideal', 'parts', 'inventory', 'and', 'wholesale', 'specialist', 'will', 'have', 'prior', 'parts', 'experience', ',', 'strong', 'computer', 'and', 'internet', 'skills', ',', 'is', 'genuinely', 'interested', 'in', 'customer', 'satisfaction', '.'])\n",
      "(0.9982816894272623, 'Computer User Support Specialists', ['frontier', 'technology', ',', 'inc', '.', 'is', 'seeking', 'full-time', 'instructional', 'system', 'design', '/', 'training', 'specialist', 'to', 'join', 'our', 'team', 'of', 'qualified', ',', 'talented', ',', 'and', 'diverse', 'individuals', '.', 'previous', 'experience', ',', 'is', 'a', '...', 'instructional', 'system', 'design', '-', 'lrb-isd-rrb', '-', '/', 'training', 'specialist', 'in', 'norfolk', ',', 'virginia', 'requiring', 'an', 'active', '..', 'this', 'position', 'is', 'located', 'at', 'the', 'client', 'site', 'in', 'the', 'norfolk', ',', 'va', 'area', '.'])\n",
      "(0.9983049784874204, 'Computer User Support Specialists', ['counterintelligence', 'specialist', '/', 'intelligence', 'operations', 'specialistall', 'times', 'are', 'in', 'central', 'daylight', 'time', '.', 'requisition', 'id', 'DGDGDGDG-DGDGDGDGDG', '#', 'of', 'openings', 'DG', 'job', 'location', 'us-va', '-', 'springfield', 'posted', 'date', '...', 'DG', 'days', 'ago', '..', 'counterintelligence', 'specialist', '/', 'intelligence', 'operations', 'specialist', 'job', 'at', 'engility', 'corporation', 'in', 'springfield', ',', 'va', '|', 'dc', 'postedhyperlinkvalue', 'hourly', ',', '...'])\n",
      "(0.9984027076500727, 'Computer User Support Specialists', ['counterintelligence', 'specialist', '/', 'intelligence', 'operations', 'specialistall', 'times', 'are', 'in', 'central', 'daylight', 'time', '.', 'requisition', 'id', 'DGDGDGDG-DGDGDGDGDG', '#', 'of', 'openings', 'DG', 'job', 'location', 'us-va', '-', 'springfield', 'posted', 'date', '...', 'may', 'DG', ',', 'DGDGDGDG', '..', 'counterintelligence', 'specialist', '/', 'intelligence', 'operations', 'specialist', 'job', 'at', 'engility', 'corporation', 'in', 'springfield', ',', 'va', '|', 'wisconsinjob', 'postedhyperlinkvalue', '...'])\n",
      "(0.9984180712921342, 'Computer User Support Specialists', ['dell', 'services', 'federal', 'government', 'is', 'actively', 'hiring', 'an', 'it', 'specialist', 'to', 'support', 'a', 'top', 'federal', 'client', 'in', 'arlington', ',', 'va', 'the', 'it', 'specialist', 'is', 'responsible', 'for', 'integrating', 'hardware', 'engineering', 'and', 'software', 'design', 'theories', 'and', 'principles', 'in', 'researching', ',', 'designing', 'and', 'developing', 'product', 'hardware', 'and', 'software', 'interfaces', 'to', 'form', 'a', 'compatible', 'system', '.', 'provides', 'networking', 'capabilities', 'between', 'products', '.', 'designs', 'and', 'defines', 'system', 'requirements', 'for', 'complex', 'systems', 'and', '/', 'or', 'prepares', 'studies', 'and', 'analyzes', 'existing', 'systems', '.', 'determines', 'system', 'architecture', 'specifications', ',', 'input', '/', 'output', 'processes', ',', 'and', 'working', 'parameters', 'for', 'hardware', '/', 'software', 'compatibility', '.', 'DG', '+', 'years', 'of', 'experience', 'providing', 'high', 'level', 'technical', 'support', 'to', 'high', 'level', 'customers', '7989c5648dd947d1a0017a11798695c3'])\n",
      "(0.9985579914802225, 'Computer User Support Specialists', ['helpdesk', 'specialist', '.', 'recruitment', '#17-s255-0116', '.', 'date', 'opened', ':', 'DGDG/DG', '/', 'DGDGDGDG', 'DG:', 'DGDG:DGDG', 'am', '.', 'closing', 'date', ':', 'DGDG/DGDG', '/', 'DGDGDGDG', 'DGDG:DGDG', ':', 'DGDG', 'pm', '.', 'hiring', 'range', ':', '$', 'DGDGDGDGDG-', '$', 'DGDGDGDGDG', '.', 'department', ':', 'information', 'technology', '.', 'job', 'type', ':', 'open', 'and', 'competitive', '.', 'full', '/', 'part-time', ':', 'full-time', 'eligible', 'for', ':', 'full', 'benefits', '.', 'reg', '/', 'temp', ':', 'regular', '.', 'go', 'back', '.', 'apply', '.', 'view', 'benefits', '.', 'job', 'description', '.', 'the', 'department', 'of', 'information', 'technology', 'is', 'seeking', 'qualified', 'applicants', 'for', 'a', 'full-time', 'help', 'desk', 'specialist', '.', 'the', 'help', 'desk', 'specialist', 'serves', 'as', 'a', 'primary', 'interface', 'between', 'dit', 'and', 'the', \"county's\", 'internal', 'users', '.', 'the', 'helpdesk', 'specialist', 'records', 'and', 'responds', 'to', 'user', 'requests', 'via', 'telephone', 'or', 'remote', 'access', 'to', 'provide', 'assistance', 'regarding', 'computer', 'workstations', ',', 'network', ',', 'and', 'telephony', 'systems', '.', 'responsibilities', 'include', 'providing', 'reliable', 'and', 'timely', 'help', 'desk', 'assistance', 'for', 'all', 'incoming', 'requests', ',', 'resetting', 'passwords', ',', 'and', 'troubleshooting', 'problems', 'related', 'to', 'pcs', ',', 'installations', ',', 'configurations', ',', 'application', 'software', 'and', 'telecommunications', 'tools', '.', 'this', 'position', 'is', 'a', 's2', ',', 'however', ',', 'we', 'will', 'consider', 'under', 'filling', 'the', 'position', 'for', 'lower', 'level', 'applicants', 'that', 'are', 'otherwise', 'determined', 'to', 'be', 'qualified', '.', 'job', 'requirements', '.', 'requires', 'education', 'and', 'experience', 'equivalent', 'to', 'a', \"bachelor's\", 'degree', 'with', 'major', 'coursework', 'in', 'computer', 'science', ',', 'data', 'processing', ',', 'electronics', 'or', 'other', 'related', 'field', ';', 'two', 'years', 'work', 'experience', 'in', 'computer', 'technology', ';', 'and', 'experience', 'in', 'the', 'use', 'of', 'computer', 'hardware', 'and', 'software', 'in', 'general', '.', 'requires', 'excellent', 'verbal', 'and', 'written', 'communication', 'skills', 'along', 'with', 'excellent', 'customer', 'relations', 'skills', '.', 'special', 'requirements', '.', 'a', 'current', \"driver's\", 'license', 'and', 'driving', 'record', 'check', 'is', 'required', '.', 'a', 'criminal', '/', 'credit', 'background', 'check', 'will', 'be', 'conducted', 'on', 'the', 'successful', 'candidate', '.', '9a00a41bb3fa4a0195333a177e280f4d'])\n",
      "(0.9985943815490292, 'Computer User Support Specialists', ['/', 'your', 'talent', '.', 'our', 'vision', '.', '/', 'atanthem', ',', 'inc', '.', ',', \"it's\", 'a', 'powerful', 'combination', ',', 'and', 'the', 'foundation', 'upon', 'which', \"we're\", 'creating', 'greater', 'care', 'for', 'our', 'members', ',', 'greater', 'value', 'for', 'our', 'customers', ',', 'and', 'greater', 'health', 'for', 'our', 'communities', '.', 'join', 'us', 'and', 'together', 'we', 'will', 'drive', 'the', 'future', 'of', 'health', 'care', '.', 'this', 'is', 'an', 'exceptional', 'opportunity', 'to', 'do', 'innovative', 'work', 'that', 'means', 'more', 'to', 'you', 'and', 'those', 'we', 'serve', 'at', 'one', 'of', \"america's\", 'leading', 'health', 'benefits', 'companies', 'and', 'a', 'fortune', 'top', 'DGDG', 'company', '.', 'sales', 'training', 'specialist', 'or', 'specialist', 'sr', '..', 'location', ':', 'any', 'anthem', 'location', '.', 'please', 'note', ':', 'this', 'position', 'may', 'be', 'filled', 'at', 'either', 'the', 'training', 'specialist', 'or', '.', 'training', 'specialist', 'sr', '.', 'level', '.', 'manager', 'will', 'determine', 'level', 'based', 'upon', 'the', 'selected', \"applicant's\", 'skillset', 'relative', 'to', 'the', 'qualifications', 'listed', 'for', 'this', 'position', '.', 'the', 'sales', 'training', 'specialist', '/', 'sr', '.', 'will', 'support', 'the', 'sales', 'training', 'process', 'and', 'is', 'responsible', 'for', 'facilitating', 'a', 'variety', 'of', 'performance-based', 'learning', 'events', 'that', 'may', 'include', 'technical', 'skills', 'in', 'addition', 'to', 'soft', 'skills', '.', 'primary', 'duties', 'may', 'include', ',', 'but', 'are', 'not', 'limited', 'to', ':', 'exercises', 'classroom', 'management', 'including', 'learner', 'performance', 'and', 'escalates', 'issues', 'to', 'learning', 'and', 'development', 'and', 'client', 'leadership', 'when', 'necessary', '.', 'partnering', 'with', 'sales', 'and', 'account', 'management', 'leadership', 'to', 'assess', 'training', 'needs', ',', 'developing', 'an', 'implementation', 'plan', ',', 'and', 'leading', '/', 'facilitating', 'training', 'initiatives', '.', 'developing', 'and', 'delivering', 'virtual', 'and', 'in-person', 'instructor-led', 'training', 'for', 'internal', 'sales', 'associates', '.', 'partnering', 'with', 'senior', 'sales', 'leaders', 'and', 'subject', 'matter', 'experts', 'in', 'developing', 'content', ',', 'coordination', 'of', 'training', 'and', 'delivery', 'of', 'sales', 'training', 'conference-lrb-s-rrb', '-', 'for', 'internal', 'sales', 'associates', '.', 'employs', 'rapid', 'course', 'development', 'methodologies', 'to', 'quickly', 'meet', 'client', 'needs', '.', 'thinks', 'and', 'acts', 'globally', 'and', 'is', 'aware', 'of', 'learning', 'and', 'cultural', 'differences', 'both', 'domestically', 'and', 'globally', 'that', 'drive', 'learner', 'effectiveness', '.', 'exhibits', 'exceptional', 'interpersonal', 'communication', 'skills', 'to', 'foster', 'and', 'strengthen', 'relationships', 'with', 'matrix', 'and', 'business', 'partners', 'to', 'support', 'training', 'initiatives', '.', 'keeps', 'all', 'technical', 'skills', 'updated', 'via', 'assigned', 'work', 'and', 'professional', 'development', 'opportunities', '.', 'identifies', 'business', 'partner', 'training', 'needs', 'through', 'performance', 'consulting', ',', 'knowledge', 'of', 'business', ',', 'and', 'prepares', 'training', 'to', 'meet', 'the', 'needs', '.', 'measures', 'and', 'tracks', 'learner', 'and', 'business', 'partner', 'satisfaction', '.', 'supports', 'pmo', 'projects', 'as', 'a', 'training', 'subject', 'matter', 'expert', 'as', 'assigned', 'by', 'management', '.', 'plans', ',', 'coordinates', 'and', 'facilitates', 'train', 'the', 'trainer', 'sessions', 'as', 'needed', 'and', 'directed', 'by', 'management', '.', 'sales', 'training', 'specialist', 'requires', 'ba', '/', 'bs', 'in', 'related', 'field', ';', 'DG-DG', 'years', 'formal', 'training', 'experience', ';', 'or', 'any', 'combination', 'of', 'education', 'and', 'experience', ',', 'which', 'would', 'provide', 'an', 'equivalent', 'background', '.', 'sales', 'training', 'experience', 'preferred', '.', 'travel', '-', 'lrb', '-', 'DGDG', '%', '-', 'rrb', '-', 'is', 'required', '.', 'sales', 'training', 'specialist', 'sr', 'requires', 'ba', '/', 'bs', 'in', 'related', 'field', ';', 'DG-DG', 'years', 'formal', 'training', 'experience', ',', 'ctt', 'certification', ',', 'and', 'sle', 'certification', 'recommended', ';', 'or', 'any', 'combination', 'of', 'education', 'and', 'experience', ',', 'which', 'would', 'provide', 'an', 'equivalent', 'background', '.', 'sales', 'training', 'experience', 'preferred', '.', 'travel', '-', 'lrb', '-', 'DGDG', '%', '-', 'rrb', '-', 'is', 'required', '.', 'additional', 'skills', 'or', 'experience', 'needed', 'in', 'both', 'roles', ':', 'proficiency', 'in', 'microsoft', 'office', 'programs', ',', 'especially', 'powerpoint', '.', 'exceptional', 'interpersonal', 'communication', 'skills', '.', 'understanding', 'of', 'foundational', 'adult', 'learning', 'theories', ';', 'needs', 'assessment', ';', 'performance', 'consulting', '.', 'strong', 'understanding', 'of', 'sales', 'and', 'sales', 'training', '.', 'health', 'insurance', 'experience', 'or', 'other', 'insurance', 'experience', 'desired', '.', 'anthem', ',', 'inc', '.', 'is', 'ranked', 'as', 'one', 'of', \"america's\", 'most', 'admired', 'companies', 'among', 'health', 'insurers', 'by', 'fortune', 'magazine', 'and', 'is', 'a', 'DGDGDGDG', 'diversityinc', 'magazine', 'top', 'DGDG', 'company', 'for', 'diversity', '.', 'to', 'learn', 'more', 'about', 'our', 'company', 'and', 'apply', ',', 'please', 'visit', 'us', 'at', 'postedhyperlinkvalue', '.', 'eoe', '.', 'm', '/', 'f', '/', 'disability', '/', 'veteran', '.', 'job', 'education', '&', 'training', 'title', ':', 'sales', 'training', 'specialist', 'or', 'training', 'specialist', 'sr', '..', 'any', 'anthem', 'location', '-', 'DGDGDGDGDGDG', 'location', ':', 'va-culpeper', 'requisition', 'id', ':', 'DGDGDGDGDGDG'])\n",
      "(0.998603892864926, 'Computer User Support Specialists', ['/', 'your', 'talent', '.', 'our', 'vision', '.', '/', 'atanthem', ',', 'inc', '.', ',', \"it's\", 'a', 'powerful', 'combination', ',', 'and', 'the', 'foundation', 'upon', 'which', \"we're\", 'creating', 'greater', 'care', 'for', 'our', 'members', ',', 'greater', 'value', 'for', 'our', 'customers', ',', 'and', 'greater', 'health', 'for', 'our', 'communities', '.', 'join', 'us', 'and', 'together', 'we', 'will', 'drive', 'the', 'future', 'of', 'health', 'care', '.', 'this', 'is', 'an', 'exceptional', 'opportunity', 'to', 'do', 'innovative', 'work', 'that', 'means', 'more', 'to', 'you', 'and', 'those', 'we', 'serve', 'at', 'one', 'of', \"america's\", 'leading', 'health', 'benefits', 'companies', 'and', 'a', 'fortune', 'top', 'DGDG', 'company', '.', 'sales', 'training', 'specialist', 'or', 'specialist', 'sr', '..', 'location', ':', 'any', 'anthem', 'location', '.', 'please', 'note', ':', 'this', 'position', 'may', 'be', 'filled', 'at', 'either', 'the', 'training', 'specialist', 'or', '.', 'training', 'specialist', 'sr', '.', 'level', '.', 'manager', 'will', 'determine', 'level', 'based', 'upon', 'the', 'selected', \"applicant's\", 'skillset', 'relative', 'to', 'the', 'qualifications', 'listed', 'for', 'this', 'position', '.', 'the', 'sales', 'training', 'specialist', '/', 'sr', '.', 'will', 'support', 'the', 'sales', 'training', 'process', 'and', 'is', 'responsible', 'for', 'facilitating', 'a', 'variety', 'of', 'performance-based', 'learning', 'events', 'that', 'may', 'include', 'technical', 'skills', 'in', 'addition', 'to', 'soft', 'skills', '.', 'primary', 'duties', 'may', 'include', ',', 'but', 'are', 'not', 'limited', 'to', ':', 'exercises', 'classroom', 'management', 'including', 'learner', 'performance', 'and', 'escalates', 'issues', 'to', 'learning', 'and', 'development', 'and', 'client', 'leadership', 'when', 'necessary', '.', 'partnering', 'with', 'sales', 'and', 'account', 'management', 'leadership', 'to', 'assess', 'training', 'needs', ',', 'developing', 'an', 'implementation', 'plan', ',', 'and', 'leading', '/', 'facilitating', 'training', 'initiatives', '.', 'developing', 'and', 'delivering', 'virtual', 'and', 'in-person', 'instructor-led', 'training', 'for', 'internal', 'sales', 'associates', '.', 'partnering', 'with', 'senior', 'sales', 'leaders', 'and', 'subject', 'matter', 'experts', 'in', 'developing', 'content', ',', 'coordination', 'of', 'training', 'and', 'delivery', 'of', 'sales', 'training', 'conference-lrb-s-rrb', '-', 'for', 'internal', 'sales', 'associates', '.', 'employs', 'rapid', 'course', 'development', 'methodologies', 'to', 'quickly', 'meet', 'client', 'needs', '.', 'thinks', 'and', 'acts', 'globally', 'and', 'is', 'aware', 'of', 'learning', 'and', 'cultural', 'differences', 'both', 'domestically', 'and', 'globally', 'that', 'drive', 'learner', 'effectiveness', '.', 'exhibits', 'exceptional', 'interpersonal', 'communication', 'skills', 'to', 'foster', 'and', 'strengthen', 'relationships', 'with', 'matrix', 'and', 'business', 'partners', 'to', 'support', 'training', 'initiatives', '.', 'keeps', 'all', 'technical', 'skills', 'updated', 'via', 'assigned', 'work', 'and', 'professional', 'development', 'opportunities', '.', 'identifies', 'business', 'partner', 'training', 'needs', 'through', 'performance', 'consulting', ',', 'knowledge', 'of', 'business', ',', 'and', 'prepares', 'training', 'to', 'meet', 'the', 'needs', '.', 'measures', 'and', 'tracks', 'learner', 'and', 'business', 'partner', 'satisfaction', '.', 'supports', 'pmo', 'projects', 'as', 'a', 'training', 'subject', 'matter', 'expert', 'as', 'assigned', 'by', 'management', '.', 'plans', ',', 'coordinates', 'and', 'facilitates', 'train', 'the', 'trainer', 'sessions', 'as', 'needed', 'and', 'directed', 'by', 'management', '.', 'sales', 'training', 'specialist', 'requires', 'ba', '/', 'bs', 'in', 'related', 'field', ';', 'DG-DG', 'years', 'formal', 'training', 'experience', ';', 'or', 'any', 'combination', 'of', 'education', 'and', 'experience', ',', 'which', 'would', 'provide', 'an', 'equivalent', 'background', '.', 'sales', 'training', 'experience', 'preferred', '.', 'travel', '-', 'lrb', '-', 'DGDG', '%', '-', 'rrb', '-', 'is', 'required', '.', 'sales', 'training', 'specialist', 'sr', 'requires', 'ba', '/', 'bs', 'in', 'related', 'field', ';', 'DG-DG', 'years', 'formal', 'training', 'experience', ',', 'ctt', 'certification', ',', 'and', 'sle', 'certification', 'recommended', ';', 'or', 'any', 'combination', 'of', 'education', 'and', 'experience', ',', 'which', 'would', 'provide', 'an', 'equivalent', 'background', '.', 'sales', 'training', 'experience', 'preferred', '.', 'travel', '-', 'lrb', '-', 'DGDG', '%', '-', 'rrb', '-', 'is', 'required', '.', 'additional', 'skills', 'or', 'experience', 'needed', 'in', 'both', 'roles', ':', 'proficiency', 'in', 'microsoft', 'office', 'programs', ',', 'especially', 'powerpoint', '.', 'exceptional', 'interpersonal', 'communication', 'skills', '.', 'understanding', 'of', 'foundational', 'adult', 'learning', 'theories', ';', 'needs', 'assessment', ';', 'performance', 'consulting', '.', 'strong', 'understanding', 'of', 'sales', 'and', 'sales', 'training', '.', 'health', 'insurance', 'experience', 'or', 'other', 'insurance', 'experience', 'desired', '.', 'anthem', ',', 'inc', '.', 'is', 'ranked', 'as', 'one', 'of', \"america's\", 'most', 'admired', 'companies', 'among', 'health', 'insurers', 'by', 'fortune', 'magazine', 'and', 'is', 'a', 'DGDGDGDG', 'diversityinc', 'magazine', 'top', 'DGDG', 'company', 'for', 'diversity', '.', 'to', 'learn', 'more', 'about', 'our', 'company', 'and', 'apply', ',', 'please', 'visit', 'us', 'at', 'postedhyperlinkvalue', '.', 'eoe', '.', 'm', '/', 'f', '/', 'disability', '/', 'veteran', '.', 'job', 'education', '&', 'training', 'title', ':', 'sales', 'training', 'specialist', 'or', 'training', 'specialist', 'sr', '..', 'any', 'anthem', 'location', '-', 'DGDGDGDGDGDG', 'location', ':', 'va-alexandria', 'requisition', 'id', ':', 'DGDGDGDGDGDG'])\n",
      "(0.9986069848039059, 'Computer User Support Specialists', ['/', 'your', 'talent', '.', 'our', 'vision', '.', '/', 'atanthem', ',', 'inc', '.', ',', \"it's\", 'a', 'powerful', 'combination', ',', 'and', 'the', 'foundation', 'upon', 'which', \"we're\", 'creating', 'greater', 'care', 'for', 'our', 'members', ',', 'greater', 'value', 'for', 'our', 'customers', ',', 'and', 'greater', 'health', 'for', 'our', 'communities', '.', 'join', 'us', 'and', 'together', 'we', 'will', 'drive', 'the', 'future', 'of', 'health', 'care', '.', 'this', 'is', 'an', 'exceptional', 'opportunity', 'to', 'do', 'innovative', 'work', 'that', 'means', 'more', 'to', 'you', 'and', 'those', 'we', 'serve', 'at', 'one', 'of', \"america's\", 'leading', 'health', 'benefits', 'companies', 'and', 'a', 'fortune', 'top', 'DGDG', 'company', '.', 'sales', 'training', 'specialist', 'or', 'specialist', 'sr', '..', 'location', ':', 'any', 'anthem', 'location', '.', 'please', 'note', ':', 'this', 'position', 'may', 'be', 'filled', 'at', 'either', 'the', 'training', 'specialist', 'or', '.', 'training', 'specialist', 'sr', '.', 'level', '.', 'manager', 'will', 'determine', 'level', 'based', 'upon', 'the', 'selected', \"applicant's\", 'skillset', 'relative', 'to', 'the', 'qualifications', 'listed', 'for', 'this', 'position', '.', 'the', 'sales', 'training', 'specialist', '/', 'sr', '.', 'will', 'support', 'the', 'sales', 'training', 'process', 'and', 'is', 'responsible', 'for', 'facilitating', 'a', 'variety', 'of', 'performance-based', 'learning', 'events', 'that', 'may', 'include', 'technical', 'skills', 'in', 'addition', 'to', 'soft', 'skills', '.', 'primary', 'duties', 'may', 'include', ',', 'but', 'are', 'not', 'limited', 'to', ':', 'exercises', 'classroom', 'management', 'including', 'learner', 'performance', 'and', 'escalates', 'issues', 'to', 'learning', 'and', 'development', 'and', 'client', 'leadership', 'when', 'necessary', '.', 'partnering', 'with', 'sales', 'and', 'account', 'management', 'leadership', 'to', 'assess', 'training', 'needs', ',', 'developing', 'an', 'implementation', 'plan', ',', 'and', 'leading', '/', 'facilitating', 'training', 'initiatives', '.', 'developing', 'and', 'delivering', 'virtual', 'and', 'in-person', 'instructor-led', 'training', 'for', 'internal', 'sales', 'associates', '.', 'partnering', 'with', 'senior', 'sales', 'leaders', 'and', 'subject', 'matter', 'experts', 'in', 'developing', 'content', ',', 'coordination', 'of', 'training', 'and', 'delivery', 'of', 'sales', 'training', 'conference-lrb-s-rrb', '-', 'for', 'internal', 'sales', 'associates', '.', 'employs', 'rapid', 'course', 'development', 'methodologies', 'to', 'quickly', 'meet', 'client', 'needs', '.', 'thinks', 'and', 'acts', 'globally', 'and', 'is', 'aware', 'of', 'learning', 'and', 'cultural', 'differences', 'both', 'domestically', 'and', 'globally', 'that', 'drive', 'learner', 'effectiveness', '.', 'exhibits', 'exceptional', 'interpersonal', 'communication', 'skills', 'to', 'foster', 'and', 'strengthen', 'relationships', 'with', 'matrix', 'and', 'business', 'partners', 'to', 'support', 'training', 'initiatives', '.', 'keeps', 'all', 'technical', 'skills', 'updated', 'via', 'assigned', 'work', 'and', 'professional', 'development', 'opportunities', '.', 'identifies', 'business', 'partner', 'training', 'needs', 'through', 'performance', 'consulting', ',', 'knowledge', 'of', 'business', ',', 'and', 'prepares', 'training', 'to', 'meet', 'the', 'needs', '.', 'measures', 'and', 'tracks', 'learner', 'and', 'business', 'partner', 'satisfaction', '.', 'supports', 'pmo', 'projects', 'as', 'a', 'training', 'subject', 'matter', 'expert', 'as', 'assigned', 'by', 'management', '.', 'plans', ',', 'coordinates', 'and', 'facilitates', 'train', 'the', 'trainer', 'sessions', 'as', 'needed', 'and', 'directed', 'by', 'management', '.', 'sales', 'training', 'specialist', 'requires', 'ba', '/', 'bs', 'in', 'related', 'field', ';', 'DG-DG', 'years', 'formal', 'training', 'experience', ';', 'or', 'any', 'combination', 'of', 'education', 'and', 'experience', ',', 'which', 'would', 'provide', 'an', 'equivalent', 'background', '.', 'sales', 'training', 'experience', 'preferred', '.', 'travel', '-', 'lrb', '-', 'DGDG', '%', '-', 'rrb', '-', 'is', 'required', '.', 'sales', 'training', 'specialist', 'sr', 'requires', 'ba', '/', 'bs', 'in', 'related', 'field', ';', 'DG-DG', 'years', 'formal', 'training', 'experience', ',', 'ctt', 'certification', ',', 'and', 'sle', 'certification', 'recommended', ';', 'or', 'any', 'combination', 'of', 'education', 'and', 'experience', ',', 'which', 'would', 'provide', 'an', 'equivalent', 'background', '.', 'sales', 'training', 'experience', 'preferred', '.', 'travel', '-', 'lrb', '-', 'DGDG', '%', '-', 'rrb', '-', 'is', 'required', '.', 'additional', 'skills', 'or', 'experience', 'needed', 'in', 'both', 'roles', ':', 'proficiency', 'in', 'microsoft', 'office', 'programs', ',', 'especially', 'powerpoint', '.', 'exceptional', 'interpersonal', 'communication', 'skills', '.', 'understanding', 'of', 'foundational', 'adult', 'learning', 'theories', ';', 'needs', 'assessment', ';', 'performance', 'consulting', '.', 'strong', 'understanding', 'of', 'sales', 'and', 'sales', 'training', '.', 'health', 'insurance', 'experience', 'or', 'other', 'insurance', 'experience', 'desired', '.', 'anthem', ',', 'inc', '.', 'is', 'ranked', 'as', 'one', 'of', \"america's\", 'most', 'admired', 'companies', 'among', 'health', 'insurers', 'by', 'fortune', 'magazine', 'and', 'is', 'a', 'DGDGDGDG', 'diversityinc', 'magazine', 'top', 'DGDG', 'company', 'for', 'diversity', '.', 'to', 'learn', 'more', 'about', 'our', 'company', 'and', 'apply', ',', 'please', 'visit', 'us', 'at', 'postedhyperlinkvalue', '.', 'eoe', '.', 'm', '/', 'f', '/', 'disability', '/', 'veteran', '.', 'job', 'education', '&', 'training', 'title', ':', 'sales', 'training', 'specialist', 'or', 'training', 'specialist', 'sr', '..', 'any', 'anthem', 'location', '-', 'DGDGDGDGDGDG', 'location', ':', 'va-richmond', 'requisition', 'id', ':', 'DGDGDGDGDGDG'])\n",
      "(0.9986069848039059, 'Computer User Support Specialists', ['/', 'your', 'talent', '.', 'our', 'vision', '.', '/', 'atanthem', ',', 'inc', '.', ',', \"it's\", 'a', 'powerful', 'combination', ',', 'and', 'the', 'foundation', 'upon', 'which', \"we're\", 'creating', 'greater', 'care', 'for', 'our', 'members', ',', 'greater', 'value', 'for', 'our', 'customers', ',', 'and', 'greater', 'health', 'for', 'our', 'communities', '.', 'join', 'us', 'and', 'together', 'we', 'will', 'drive', 'the', 'future', 'of', 'health', 'care', '.', 'this', 'is', 'an', 'exceptional', 'opportunity', 'to', 'do', 'innovative', 'work', 'that', 'means', 'more', 'to', 'you', 'and', 'those', 'we', 'serve', 'at', 'one', 'of', \"america's\", 'leading', 'health', 'benefits', 'companies', 'and', 'a', 'fortune', 'top', 'DGDG', 'company', '.', 'sales', 'training', 'specialist', 'or', 'specialist', 'sr', '..', 'location', ':', 'any', 'anthem', 'location', '.', 'please', 'note', ':', 'this', 'position', 'may', 'be', 'filled', 'at', 'either', 'the', 'training', 'specialist', 'or', '.', 'training', 'specialist', 'sr', '.', 'level', '.', 'manager', 'will', 'determine', 'level', 'based', 'upon', 'the', 'selected', \"applicant's\", 'skillset', 'relative', 'to', 'the', 'qualifications', 'listed', 'for', 'this', 'position', '.', 'the', 'sales', 'training', 'specialist', '/', 'sr', '.', 'will', 'support', 'the', 'sales', 'training', 'process', 'and', 'is', 'responsible', 'for', 'facilitating', 'a', 'variety', 'of', 'performance-based', 'learning', 'events', 'that', 'may', 'include', 'technical', 'skills', 'in', 'addition', 'to', 'soft', 'skills', '.', 'primary', 'duties', 'may', 'include', ',', 'but', 'are', 'not', 'limited', 'to', ':', 'exercises', 'classroom', 'management', 'including', 'learner', 'performance', 'and', 'escalates', 'issues', 'to', 'learning', 'and', 'development', 'and', 'client', 'leadership', 'when', 'necessary', '.', 'partnering', 'with', 'sales', 'and', 'account', 'management', 'leadership', 'to', 'assess', 'training', 'needs', ',', 'developing', 'an', 'implementation', 'plan', ',', 'and', 'leading', '/', 'facilitating', 'training', 'initiatives', '.', 'developing', 'and', 'delivering', 'virtual', 'and', 'in-person', 'instructor-led', 'training', 'for', 'internal', 'sales', 'associates', '.', 'partnering', 'with', 'senior', 'sales', 'leaders', 'and', 'subject', 'matter', 'experts', 'in', 'developing', 'content', ',', 'coordination', 'of', 'training', 'and', 'delivery', 'of', 'sales', 'training', 'conference-lrb-s-rrb', '-', 'for', 'internal', 'sales', 'associates', '.', 'employs', 'rapid', 'course', 'development', 'methodologies', 'to', 'quickly', 'meet', 'client', 'needs', '.', 'thinks', 'and', 'acts', 'globally', 'and', 'is', 'aware', 'of', 'learning', 'and', 'cultural', 'differences', 'both', 'domestically', 'and', 'globally', 'that', 'drive', 'learner', 'effectiveness', '.', 'exhibits', 'exceptional', 'interpersonal', 'communication', 'skills', 'to', 'foster', 'and', 'strengthen', 'relationships', 'with', 'matrix', 'and', 'business', 'partners', 'to', 'support', 'training', 'initiatives', '.', 'keeps', 'all', 'technical', 'skills', 'updated', 'via', 'assigned', 'work', 'and', 'professional', 'development', 'opportunities', '.', 'identifies', 'business', 'partner', 'training', 'needs', 'through', 'performance', 'consulting', ',', 'knowledge', 'of', 'business', ',', 'and', 'prepares', 'training', 'to', 'meet', 'the', 'needs', '.', 'measures', 'and', 'tracks', 'learner', 'and', 'business', 'partner', 'satisfaction', '.', 'supports', 'pmo', 'projects', 'as', 'a', 'training', 'subject', 'matter', 'expert', 'as', 'assigned', 'by', 'management', '.', 'plans', ',', 'coordinates', 'and', 'facilitates', 'train', 'the', 'trainer', 'sessions', 'as', 'needed', 'and', 'directed', 'by', 'management', '.', 'sales', 'training', 'specialist', 'requires', 'ba', '/', 'bs', 'in', 'related', 'field', ';', 'DG-DG', 'years', 'formal', 'training', 'experience', ';', 'or', 'any', 'combination', 'of', 'education', 'and', 'experience', ',', 'which', 'would', 'provide', 'an', 'equivalent', 'background', '.', 'sales', 'training', 'experience', 'preferred', '.', 'travel', '-', 'lrb', '-', 'DGDG', '%', '-', 'rrb', '-', 'is', 'required', '.', 'sales', 'training', 'specialist', 'sr', 'requires', 'ba', '/', 'bs', 'in', 'related', 'field', ';', 'DG-DG', 'years', 'formal', 'training', 'experience', ',', 'ctt', 'certification', ',', 'and', 'sle', 'certification', 'recommended', ';', 'or', 'any', 'combination', 'of', 'education', 'and', 'experience', ',', 'which', 'would', 'provide', 'an', 'equivalent', 'background', '.', 'sales', 'training', 'experience', 'preferred', '.', 'travel', '-', 'lrb', '-', 'DGDG', '%', '-', 'rrb', '-', 'is', 'required', '.', 'additional', 'skills', 'or', 'experience', 'needed', 'in', 'both', 'roles', ':', 'proficiency', 'in', 'microsoft', 'office', 'programs', ',', 'especially', 'powerpoint', '.', 'exceptional', 'interpersonal', 'communication', 'skills', '.', 'understanding', 'of', 'foundational', 'adult', 'learning', 'theories', ';', 'needs', 'assessment', ';', 'performance', 'consulting', '.', 'strong', 'understanding', 'of', 'sales', 'and', 'sales', 'training', '.', 'health', 'insurance', 'experience', 'or', 'other', 'insurance', 'experience', 'desired', '.', 'anthem', ',', 'inc', '.', 'is', 'ranked', 'as', 'one', 'of', \"america's\", 'most', 'admired', 'companies', 'among', 'health', 'insurers', 'by', 'fortune', 'magazine', 'and', 'is', 'a', 'DGDGDGDG', 'diversityinc', 'magazine', 'top', 'DGDG', 'company', 'for', 'diversity', '.', 'to', 'learn', 'more', 'about', 'our', 'company', 'and', 'apply', ',', 'please', 'visit', 'us', 'at', 'postedhyperlinkvalue', '.', 'eoe', '.', 'm', '/', 'f', '/', 'disability', '/', 'veteran', '.', 'job', 'education', '&', 'training', 'title', ':', 'sales', 'training', 'specialist', 'or', 'training', 'specialist', 'sr', '..', 'any', 'anthem', 'location', '-', 'DGDGDGDGDGDG', 'location', ':', 'va-richmond', 'requisition', 'id', ':', 'DGDGDGDGDGDG'])\n",
      "(0.9986308069848129, 'Computer User Support Specialists', ['/', 'your', 'talent', '.', 'our', 'vision', '.', '/', 'atanthem', ',', 'inc', '.', ',', \"it's\", 'a', 'powerful', 'combination', ',', 'and', 'the', 'foundation', 'upon', 'which', \"we're\", 'creating', 'greater', 'care', 'for', 'our', 'members', ',', 'greater', 'value', 'for', 'our', 'customers', ',', 'and', 'greater', 'health', 'for', 'our', 'communities', '.', 'join', 'us', 'and', 'together', 'we', 'will', 'drive', 'the', 'future', 'of', 'health', 'care', '.', 'this', 'is', 'an', 'exceptional', 'opportunity', 'to', 'do', 'innovative', 'work', 'that', 'means', 'more', 'to', 'you', 'and', 'those', 'we', 'serve', 'at', 'one', 'of', \"america's\", 'leading', 'health', 'benefits', 'companies', 'and', 'a', 'fortune', 'top', 'DGDG', 'company', '.', 'sales', 'training', 'specialist', 'or', 'specialist', 'sr', '..', 'location', ':', 'co', ',', 'nv', 'or', 'ca', '.', 'please', 'note', ':', 'this', 'position', 'may', 'be', 'filled', 'at', 'either', 'the', 'training', 'specialist', 'or', '.', 'training', 'specialist', 'sr', '.', 'level', '.', 'manager', 'will', 'determine', 'level', 'based', 'upon', 'the', 'selected', \"applicant's\", 'skillset', 'relative', 'to', 'the', 'qualifications', 'listed', 'for', 'this', 'position', '.', 'the', 'sales', 'training', 'specialist', '/', 'sr', '.', 'will', 'support', 'the', 'sales', 'training', 'process', 'and', 'is', 'responsible', 'for', 'facilitating', 'a', 'variety', 'of', 'performance-based', 'learning', 'events', 'that', 'may', 'include', 'technical', 'skills', 'in', 'addition', 'to', 'soft', 'skills', '.', 'primary', 'duties', 'may', 'include', ',', 'but', 'are', 'not', 'limited', 'to', ':', 'exercises', 'classroom', 'management', 'including', 'learner', 'performance', 'and', 'escalates', 'issues', 'to', 'learning', 'and', 'development', 'and', 'client', 'leadership', 'when', 'necessary', '.', 'partnering', 'with', 'sales', 'and', 'account', 'management', 'leadership', 'to', 'assess', 'training', 'needs', ',', 'developing', 'an', 'implementation', 'plan', ',', 'and', 'leading', '/', 'facilitating', 'training', 'initiatives', '.', 'developing', 'and', 'delivering', 'virtual', 'and', 'in-person', 'instructor-led', 'training', 'for', 'internal', 'sales', 'associates', '.', 'partnering', 'with', 'senior', 'sales', 'leaders', 'and', 'subject', 'matter', 'experts', 'in', 'developing', 'content', ',', 'coordination', 'of', 'training', 'and', 'delivery', 'of', 'sales', 'training', 'conference-lrb-s-rrb', '-', 'for', 'internal', 'sales', 'associates', '.', 'employs', 'rapid', 'course', 'development', 'methodologies', 'to', 'quickly', 'meet', 'client', 'needs', '.', 'thinks', 'and', 'acts', 'globally', 'and', 'is', 'aware', 'of', 'learning', 'and', 'cultural', 'differences', 'both', 'domestically', 'and', 'globally', 'that', 'drive', 'learner', 'effectiveness', '.', 'exhibits', 'exceptional', 'interpersonal', 'communication', 'skills', 'to', 'foster', 'and', 'strengthen', 'relationships', 'with', 'matrix', 'and', 'business', 'partners', 'to', 'support', 'training', 'initiatives', '.', 'keeps', 'all', 'technical', 'skills', 'updated', 'via', 'assigned', 'work', 'and', 'professional', 'development', 'opportunities', '.', 'identifies', 'business', 'partner', 'training', 'needs', 'through', 'performance', 'consulting', ',', 'knowledge', 'of', 'business', ',', 'and', 'prepares', 'training', 'to', 'meet', 'the', 'needs', '.', 'measures', 'and', 'tracks', 'learner', 'and', 'business', 'partner', 'satisfaction', '.', 'supports', 'pmo', 'projects', 'as', 'a', 'training', 'subject', 'matter', 'expert', 'as', 'assigned', 'by', 'management', '.', 'plans', ',', 'coordinates', 'and', 'facilitates', 'train', 'the', 'trainer', 'sessions', 'as', 'needed', 'and', 'directed', 'by', 'management', '.', 'sales', 'training', 'specialist', 'requires', 'ba', '/', 'bs', 'in', 'related', 'field', ';', 'DG-DG', 'years', 'formal', 'training', 'experience', ';', 'or', 'any', 'combination', 'of', 'education', 'and', 'experience', ',', 'which', 'would', 'provide', 'an', 'equivalent', 'background', '.', 'sales', 'training', 'experience', 'preferred', '.', 'travel', '-', 'lrb', '-', 'DGDG', '%', '-', 'rrb', '-', 'is', 'required', '.', 'sales', 'training', 'specialist', 'sr', 'requires', 'ba', '/', 'bs', 'in', 'related', 'field', ';', 'DG-DG', 'years', 'formal', 'training', 'experience', ',', 'ctt', 'certification', ',', 'and', 'sle', 'certification', 'recommended', ';', 'or', 'any', 'combination', 'of', 'education', 'and', 'experience', ',', 'which', 'would', 'provide', 'an', 'equivalent', 'background', '.', 'sales', 'training', 'experience', 'preferred', '.', 'travel', '-', 'lrb', '-', 'DGDG', '%', '-', 'rrb', '-', 'is', 'required', '.', 'additional', 'skills', 'or', 'experience', 'needed', 'in', 'both', 'roles', ':', 'proficiency', 'in', 'microsoft', 'office', 'programs', ',', 'especially', 'powerpoint', '.', 'exceptional', 'interpersonal', 'communication', 'skills', '.', 'understanding', 'of', 'foundational', 'adult', 'learning', 'theories', ';', 'needs', 'assessment', ';', 'performance', 'consulting', '.', 'strong', 'understanding', 'of', 'sales', 'and', 'sales', 'training', '.', 'health', 'insurance', 'experience', 'or', 'other', 'insurance', 'experience', 'desired', '.', 'anthem', ',', 'inc', '.', 'is', 'ranked', 'as', 'one', 'of', \"america's\", 'most', 'admired', 'companies', 'among', 'health', 'insurers', 'by', 'fortune', 'magazine', 'and', 'is', 'a', 'DGDGDGDG', 'diversityinc', 'magazine', 'top', 'DGDG', 'company', 'for', 'diversity', '.', 'to', 'learn', 'more', 'about', 'our', 'company', 'and', 'apply', ',', 'please', 'visit', 'us', 'at', 'postedhyperlinkvalue', '.', 'eoe', '.', 'm', '/', 'f', '/', 'disability', '/', 'veteran', '.', 'job', 'education', '&', 'training', 'title', ':', 'sales', 'training', 'specialist', 'or', 'training', 'specialist', 'sr', '..', 'co', ',', 'nv', ',', 'ca', '-', 'DGDGDGDGDGDG', 'location', ':', 'va-roanoke', 'requisition', 'id', ':', 'DGDGDGDGDGDG', 'd65f779630624674a2edff479a161228'])\n",
      "\n"
     ]
    }
   ],
   "source": [
    "n=20\n",
    "prediction_probs = lgst_l1.predict_proba(test_data_sparse)[:,0]\n",
    "prob_actual = list(zip(prediction_probs, pred_labels,test_data))\n",
    "\n",
    "print(\"Most likely fans\")\n",
    "for row in sorted(prob_actual)[:n]:\n",
    "    print(row)\n",
    "print()\n",
    "\n",
    "print(\"Least likely fans\")\n",
    "for row in sorted(prob_actual)[-n:]:\n",
    "    print(row)\n",
    "print()"
   ]
  },
  {
   "cell_type": "code",
   "execution_count": 81,
   "metadata": {},
   "outputs": [
    {
     "name": "stdout",
     "output_type": "stream",
     "text": [
      "68.86 specialist\n",
      "8.25 hardware\n",
      "6.87 desk\n",
      "6.21 office\n",
      "5.16 technician\n",
      "5.03 client\n",
      "4.53 high\n",
      "3.72 social\n",
      "3.65 programs\n",
      "3.64 service\n",
      "3.57 announcement\n",
      "3.41 special\n",
      "3.27 information\n",
      "3.26 position\n",
      "3.15 training\n",
      "3.06 diploma\n",
      "3.05 operations\n",
      "2.99 support\n",
      "2.97 geek\n",
      "2.94 squad\n",
      "2.91 mason\n",
      "2.8 order\n",
      "2.79 store\n",
      "2.77 resources\n",
      "2.63 agency\n",
      "2.22 computers\n",
      "2.09 provides\n",
      "1.92 technicians\n",
      "1.9 center\n",
      "1.85 required\n",
      "1.7 users\n",
      "1.66 level\n",
      "1.64 administrative\n",
      "1.6 prepare\n",
      "1.56 specialists\n",
      "1.51 a5\n",
      "1.49 duties\n",
      "1.45 z\n",
      "1.33 procedures\n",
      "1.29 maintains\n",
      "1.18 /DG\n",
      "1.15 human\n",
      "1.04 specialized\n",
      "0.99 international\n",
      "0.95 acquisition\n",
      "0.95 personnel\n",
      "0.9 requests\n",
      "0.89 operating\n",
      "0.89 market\n",
      "0.87 asset\n"
     ]
    }
   ],
   "source": [
    "n=50\n",
    "classifier=lgst_l1\n",
    "\n",
    "feature_names = vectorizer.get_feature_names()\n",
    "    \n",
    "topn_class1 = sorted(zip(classifier.coef_[0], feature_names))[:n]\n",
    "topn_class2 = sorted(zip(classifier.coef_[0], feature_names))[-n:]\n",
    "# for coef, feat in topn_class1:\n",
    "#     print (round(coef,2), feat)\n",
    "\n",
    "# print()\n",
    "\n",
    "for coef, feat in reversed(topn_class2):\n",
    "    print (round(coef,2), feat)"
   ]
  },
  {
   "cell_type": "code",
   "execution_count": 82,
   "metadata": {},
   "outputs": [
    {
     "name": "stdout",
     "output_type": "stream",
     "text": [
      "42.22 engineer\n",
      "15.23 engineering\n",
      "7.09 systems\n",
      "5.7 test\n",
      "5.61 network\n",
      "5.56 mechanical\n",
      "5.31 technical\n",
      "4.55 engineers\n",
      "3.29 construction\n",
      "3.15 testing\n",
      "2.91 analysis\n",
      "2.82 platform\n",
      "2.78 cisco\n",
      "2.71 design\n",
      "2.65 architecture\n",
      "2.64 enterprise\n",
      "2.29 strong\n",
      "2.28 ip\n",
      "2.25 cbre\n",
      "2.2 tools\n",
      "2.04 demonstrations\n",
      "2.03 splunk\n",
      "1.93 vmware\n",
      "1.92 security\n",
      "1.89 knowledge\n",
      "1.85 communications\n",
      "1.71 understanding\n",
      "1.68 opower\n",
      "1.65 energy\n",
      "1.64 nextlabs\n",
      "1.57 cyber\n",
      "1.57 ground\n",
      "1.56 cloud\n",
      "1.55 travel\n",
      "1.55 environments\n",
      "1.51 itil\n",
      "1.51 cybersecurity\n",
      "1.51 designs\n",
      "1.41 ships\n",
      "1.31 water\n",
      "1.3 amazon\n",
      "1.26 windows\n",
      "1.25 configuration\n",
      "1.24 citizenship\n",
      "1.17 algorithms\n",
      "1.13 modeling\n",
      "1.0 equipment\n",
      "1.0 storage\n",
      "0.98 aramark\n",
      "0.94 field\n"
     ]
    }
   ],
   "source": [
    "n=50\n",
    "classifier=lgst_l1\n",
    "\n",
    "feature_names = vectorizer.get_feature_names()\n",
    "    \n",
    "topn_class1 = sorted(zip(classifier.coef_[1], feature_names))[:n]\n",
    "topn_class2 = sorted(zip(classifier.coef_[1], feature_names))[-n:]\n",
    "# for coef, feat in topn_class1:\n",
    "#     print (round(coef,2), feat)\n",
    "\n",
    "# print()\n",
    "\n",
    "for coef, feat in reversed(topn_class2):\n",
    "    print (round(coef,2), feat)"
   ]
  },
  {
   "cell_type": "code",
   "execution_count": 83,
   "metadata": {},
   "outputs": [
    {
     "name": "stdout",
     "output_type": "stream",
     "text": [
      "31.56 nurse\n",
      "18.74 nursing\n",
      "13.72 rn\n",
      "13.67 care\n",
      "8.05 registered\n",
      "5.97 lrb-rn-rrb\n",
      "5.63 healthcare\n",
      "5.63 hospital\n",
      "5.57 patient\n",
      "4.8 residents\n",
      "4.72 health\n",
      "4.68 bed\n",
      "3.95 medical\n",
      "3.87 carilion\n",
      "3.7 facility\n",
      "3.05 temporary\n",
      "2.96 patients\n",
      "2.66 clinic\n",
      "2.43 specialty\n",
      "2.31 virginia\n",
      "1.74 DGDGDG\n",
      "1.63 reference\n",
      "1.42 randstad\n",
      "1.4 license\n",
      "1.33 roanoke\n",
      "1.05 clinical\n",
      "0.85 state\n",
      "0.51 licensure\n",
      "0.48 washington\n",
      "0.41 located\n",
      "0.3 bls\n",
      "0.26 surgical\n",
      "0.23 acls\n",
      "0.21 apply\n",
      "0.14 fredericksburg\n",
      "0.13 miles\n",
      "0.0 �\n",
      "0.0 ~\n",
      "0.0 |\n",
      "0.0 zytel-lrb-r-rrb\n",
      "0.0 zynq\n",
      "0.0 zweimiller\n",
      "0.0 zweig\n",
      "0.0 zwe\n",
      "0.0 zwada\n",
      "0.0 zvm\n",
      "0.0 zuul\n",
      "0.0 zuse\n",
      "0.0 zurb\n",
      "0.0 zuni\n"
     ]
    }
   ],
   "source": [
    "n=50\n",
    "classifier=lgst_l1\n",
    "\n",
    "feature_names = vectorizer.get_feature_names()\n",
    "    \n",
    "topn_class1 = sorted(zip(classifier.coef_[2], feature_names))[:n]\n",
    "topn_class2 = sorted(zip(classifier.coef_[2], feature_names))[-n:]\n",
    "# for coef, feat in topn_class1:\n",
    "#     print (round(coef,2), feat)\n",
    "\n",
    "# print()\n",
    "\n",
    "for coef, feat in reversed(topn_class2):\n",
    "    print (round(coef,2), feat)"
   ]
  },
  {
   "cell_type": "code",
   "execution_count": 84,
   "metadata": {},
   "outputs": [
    {
     "name": "stdout",
     "output_type": "stream",
     "text": [
      "36.06 developer\n",
      "16.24 software\n",
      "8.28 development\n",
      "7.95 java\n",
      "7.84 oracle\n",
      "6.98 programming\n",
      "5.11 months\n",
      "4.7 solutions\n",
      "4.41 accounts\n",
      "4.23 sql\n",
      "3.91 business\n",
      "3.4 applications\n",
      "3.35 integration\n",
      "2.99 agile\n",
      "2.85 capital\n",
      "2.8 develops\n",
      "2.75 c\n",
      "2.66 code\n",
      "2.62 devops\n",
      "2.49 pwc\n",
      "2.48 ...\n",
      "2.38 cashier\n",
      "2.34 data\n",
      "2.19 database\n",
      "2.09 etl\n",
      "2.07 html\n",
      "1.87 lockheed\n",
      "1.84 coding\n",
      "1.8 territory\n",
      "1.78 web\n",
      "1.7 javascript\n",
      "1.67 +\n",
      "1.6 language\n",
      "1.57 gender\n",
      "1.56 app-v\n",
      "1.48 using\n",
      "1.47 cgi\n",
      "1.33 cash\n",
      "1.3 intelligence\n",
      "1.29 output\n",
      "1.2 netforum\n",
      "1.2 sharepoint\n",
      "1.17 existing\n",
      "1.17 modules\n",
      "1.12 postedhyperlinkvalue\n",
      "1.11 reviews\n",
      "1.09 o\n",
      "1.08 net\n",
      "1.03 design\n",
      "1.03 robert\n"
     ]
    }
   ],
   "source": [
    "n=50\n",
    "classifier=lgst_l1\n",
    "\n",
    "feature_names = vectorizer.get_feature_names()\n",
    "    \n",
    "topn_class1 = sorted(zip(classifier.coef_[3], feature_names))[:n]\n",
    "topn_class2 = sorted(zip(classifier.coef_[3], feature_names))[-n:]\n",
    "# for coef, feat in topn_class1:\n",
    "#     print (round(coef,2), feat)\n",
    "\n",
    "# print()\n",
    "\n",
    "for coef, feat in reversed(topn_class2):\n",
    "    print (round(coef,2), feat)"
   ]
  },
  {
   "cell_type": "markdown",
   "metadata": {},
   "source": [
    "# Logistic Regression with L2"
   ]
  },
  {
   "cell_type": "code",
   "execution_count": 85,
   "metadata": {},
   "outputs": [],
   "source": [
    "lgst_l2 = SGDClassifier(loss=\"log\", penalty=\"l2\", random_state=42\n",
    "                        ,alpha=.000005\n",
    "                       )\n",
    "lgst_l2.fit(train_data_sparse, train_labels)\n",
    "with open('lgst_l2_classifier.pkl', 'wb') as fid:\n",
    "    pickle.dump(lgst_l2, fid)    "
   ]
  },
  {
   "cell_type": "code",
   "execution_count": 86,
   "metadata": {},
   "outputs": [
    {
     "name": "stdout",
     "output_type": "stream",
     "text": [
      "Training set score: 0.966\n",
      "Test set score: 0.957\n",
      "Number of features used: 663268\n",
      "Confusion Matrix...\n",
      "[[2942   43    5   22]\n",
      " [  25 2263    0  135]\n",
      " [   8    0 2248    0]\n",
      " [  47  167    0 2539]]\n"
     ]
    }
   ],
   "source": [
    "#Create predictions and evaluate\n",
    "pred_labels = lgst_l2.predict(test_data_sparse)\n",
    "print(\"Training set score: {:.3f}\".format(lgst_l2.score(train_data_sparse, train_labels)))\n",
    "print(\"Test set score: {:.3f}\".format(lgst_l2.score(test_data_sparse, test_labels)))\n",
    "print(\"Number of features used: {}\".format(np.sum(lgst_l2.coef_ != 0)))\n",
    "\n",
    "print(\"Confusion Matrix...\")\n",
    "confusionMatrix = metrics.confusion_matrix(test_labels, pred_labels)\n",
    "print(confusionMatrix)"
   ]
  },
  {
   "cell_type": "code",
   "execution_count": 87,
   "metadata": {},
   "outputs": [
    {
     "name": "stdout",
     "output_type": "stream",
     "text": [
      "f1_score  0.9571499907562795\n",
      "precision_score 0.9570391689885253\n",
      "recall 0.9573615761884304\n"
     ]
    }
   ],
   "source": [
    "from sklearn.datasets import make_classification\n",
    "from sklearn.cross_validation import StratifiedShuffleSplit\n",
    "from sklearn.metrics import accuracy_score, f1_score, precision_score, recall_score, classification_report, confusion_matrix\n",
    "\n",
    "print(\"f1_score \", f1_score(test_labels, pred_labels, average=\"macro\"))\n",
    "print(\"precision_score\", precision_score(test_labels, pred_labels, average=\"macro\"))\n",
    "print(\"recall\", recall_score(test_labels, pred_labels, average=\"macro\"))   "
   ]
  },
  {
   "cell_type": "code",
   "execution_count": 88,
   "metadata": {},
   "outputs": [
    {
     "name": "stdout",
     "output_type": "stream",
     "text": [
      "                                   precision    recall  f1-score   support\n",
      "\n",
      "Computer User Support Specialists       0.97      0.98      0.98      3012\n",
      "             Mechanical Engineers       0.92      0.93      0.92      2423\n",
      "                Registered Nurses       1.00      1.00      1.00      2256\n",
      "Software Developers, Applications       0.94      0.92      0.93      2753\n",
      "\n",
      "                      avg / total       0.96      0.96      0.96     10444\n",
      "\n"
     ]
    }
   ],
   "source": [
    "print(classification_report(test_labels, pred_labels))"
   ]
  },
  {
   "cell_type": "code",
   "execution_count": 91,
   "metadata": {},
   "outputs": [
    {
     "name": "stdout",
     "output_type": "stream",
     "text": [
      "68.46 specialist\n",
      "6.82 technician\n",
      "6.7 desk\n",
      "5.61 specialists\n",
      "4.94 printer\n",
      "4.69 center\n",
      "4.54 summer\n",
      "4.46 hardware\n",
      "4.1 analyst\n",
      "4.0 mason\n",
      "4.0 office\n",
      "3.93 high\n",
      "3.9 support\n",
      "3.62 training\n",
      "3.42 related\n",
      "3.42 geek\n",
      "3.41 social\n",
      "3.38 helpdesk\n",
      "3.35 local\n",
      "3.3 squad\n",
      "3.29 pharmacy\n",
      "3.2 client\n",
      "3.19 customers\n",
      "3.19 tech\n",
      "3.18 includes\n",
      "3.18 operations\n",
      "3.13 store\n",
      "3.07 associates\n",
      "2.9 diploma\n",
      "2.89 human\n",
      "2.86 epic\n",
      "2.85 repair\n",
      "2.81 technicians\n",
      "2.81 axios\n",
      "2.81 operating\n",
      "2.79 selling\n",
      "2.74 provides\n",
      "2.74 resources\n",
      "2.74 fitness\n",
      "2.71 maintains\n",
      "2.69 end-users\n",
      "2.69 agency\n",
      "2.69 users\n",
      "2.68 trouble\n",
      "2.67 accuracy\n",
      "2.64 order\n",
      "2.6 material\n",
      "2.6 gca\n",
      "2.57 a5\n",
      "2.57 announcement\n"
     ]
    }
   ],
   "source": [
    "n=50\n",
    "classifier=lgst_l2\n",
    "\n",
    "feature_names = vectorizer.get_feature_names()\n",
    "    \n",
    "topn_class1 = sorted(zip(classifier.coef_[0], feature_names))[:n]\n",
    "topn_class2 = sorted(zip(classifier.coef_[0], feature_names))[-n:]\n",
    "# for coef, feat in topn_class1:\n",
    "#     print (round(coef,2), feat)\n",
    "\n",
    "# print()\n",
    "\n",
    "for coef, feat in reversed(topn_class2):\n",
    "    print (round(coef,2), feat)"
   ]
  },
  {
   "cell_type": "code",
   "execution_count": 92,
   "metadata": {},
   "outputs": [
    {
     "name": "stdout",
     "output_type": "stream",
     "text": [
      "40.16 engineer\n",
      "11.34 engineering\n",
      "7.06 mechanical\n",
      "5.91 systems\n",
      "5.27 demonstrations\n",
      "5.14 testing\n",
      "4.89 field\n",
      "4.78 test\n",
      "4.72 modeling\n",
      "4.53 engineers\n",
      "4.45 stack\n",
      "4.33 itil\n",
      "4.1 physics\n",
      "4.09 pre-sales\n",
      "4.07 passive\n",
      "4.0 network\n",
      "3.94 virtualization\n",
      "3.91 opower\n",
      "3.89 cissp\n",
      "3.81 cisco\n",
      "3.77 engineer's\n",
      "3.75 hvac\n",
      "3.64 gdit\n",
      "3.62 nextlabs\n",
      "3.56 subsystems\n",
      "3.51 construction\n",
      "3.48 express\n",
      "3.43 technical\n",
      "3.41 hbss\n",
      "3.35 phase\n",
      "3.33 hardening\n",
      "3.28 concept\n",
      "3.25 ats\n",
      "3.12 tools\n",
      "3.1 exploitation\n",
      "3.03 occupation\n",
      "3.01 platform\n",
      "3.01 cybersecurity\n",
      "3.01 cbre\n",
      "2.99 complexity\n",
      "2.99 professional\n",
      "2.99 scripting\n",
      "2.94 configure\n",
      "2.93 architecture\n",
      "2.93 bigfix\n",
      "2.88 enterprise\n",
      "2.82 aramark\n",
      "2.81 presales\n",
      "2.79 satellite\n",
      "2.79 cad\n"
     ]
    }
   ],
   "source": [
    "n=50\n",
    "classifier=lgst_l2\n",
    "\n",
    "feature_names = vectorizer.get_feature_names()\n",
    "    \n",
    "topn_class1 = sorted(zip(classifier.coef_[1], feature_names))[:n]\n",
    "topn_class2 = sorted(zip(classifier.coef_[1], feature_names))[-n:]\n",
    "# for coef, feat in topn_class1:\n",
    "#     print (round(coef,2), feat)\n",
    "\n",
    "# print()\n",
    "\n",
    "for coef, feat in reversed(topn_class2):\n",
    "    print (round(coef,2), feat)"
   ]
  },
  {
   "cell_type": "code",
   "execution_count": 93,
   "metadata": {},
   "outputs": [
    {
     "name": "stdout",
     "output_type": "stream",
     "text": [
      "24.46 nurse\n",
      "12.66 nursing\n",
      "9.6 rn\n",
      "8.85 registered\n",
      "8.42 care\n",
      "6.1 health\n",
      "5.42 lrb-rn-rrb\n",
      "5.34 medical\n",
      "5.33 healthcare\n",
      "4.81 patient\n",
      "4.57 case\n",
      "3.9 facility\n",
      "3.86 residents\n",
      "3.69 patients\n",
      "3.62 bed\n",
      "3.2 resident\n",
      "3.12 license\n",
      "3.04 hospital\n",
      "2.98 virginia\n",
      "2.93 state\n",
      "2.88 teaching\n",
      "2.86 licensure\n",
      "2.78 omniplex\n",
      "2.73 medications\n",
      "2.7 nurses\n",
      "2.7 educator\n",
      "2.63 temporary\n",
      "2.58 medication\n",
      "2.51 reference\n",
      "2.49 staffing\n",
      "2.48 bsn\n",
      "2.38 education\n",
      "2.31 mtf\n",
      "2.3 week\n",
      "2.28 specialty\n",
      "2.26 aide\n",
      "2.25 DGDGDG\n",
      "2.24 physician\n",
      "2.22 kaplan\n",
      "2.2 living\n",
      "2.2 clinical\n",
      "2.2 unit\n",
      "2.19 evidence\n",
      "2.19 acute\n",
      "2.16 unrestricted\n",
      "2.15 cpr\n",
      "2.13 bae\n",
      "2.13 clinic\n",
      "2.12 community\n",
      "2.1 er\n"
     ]
    }
   ],
   "source": [
    "n=50\n",
    "classifier=lgst_l2\n",
    "\n",
    "feature_names = vectorizer.get_feature_names()\n",
    "    \n",
    "topn_class1 = sorted(zip(classifier.coef_[2], feature_names))[:n]\n",
    "topn_class2 = sorted(zip(classifier.coef_[2], feature_names))[-n:]\n",
    "# for coef, feat in topn_class1:\n",
    "#     print (round(coef,2), feat)\n",
    "\n",
    "# print()\n",
    "\n",
    "for coef, feat in reversed(topn_class2):\n",
    "    print (round(coef,2), feat)"
   ]
  },
  {
   "cell_type": "code",
   "execution_count": 94,
   "metadata": {},
   "outputs": [
    {
     "name": "stdout",
     "output_type": "stream",
     "text": [
      "34.61 developer\n",
      "15.91 software\n",
      "8.91 oracle\n",
      "6.75 programming\n",
      "5.21 development\n",
      "4.47 based\n",
      "4.32 java\n",
      "4.2 iams\n",
      "4.17 bsa\n",
      "4.13 asp.net\n",
      "3.94 c\n",
      "3.75 architect\n",
      "3.63 reston\n",
      "3.58 team\n",
      "3.49 new\n",
      "3.45 integration\n",
      "3.44 science\n",
      "3.41 financials\n",
      "3.4 applications\n",
      "3.28 developers\n",
      "3.25 months\n",
      "3.23 pwc\n",
      "3.22 intern\n",
      "3.14 webmethods\n",
      "3.13 hyperion\n",
      "3.12 docker\n",
      "3.11 develops\n",
      "3.1 elements\n",
      "3.1 develop\n",
      "3.08 business\n",
      "3.07 in-service\n",
      "3.05 salesforce\n",
      "3.03 scenario\n",
      "3.01 frequently\n",
      "2.99 architectural\n",
      "2.96 demand\n",
      "2.95 sql\n",
      "2.93 refresh\n",
      "2.92 engage\n",
      "2.91 dba\n",
      "2.9 senior\n",
      "2.87 cross-functional\n",
      "2.87 specify\n",
      "2.87 computing\n",
      "2.86 hands-on\n",
      "2.86 modules\n",
      "2.84 analysts\n",
      "2.81 usa-new\n",
      "2.78 curriculum\n",
      "2.77 pega\n"
     ]
    }
   ],
   "source": [
    "n=50\n",
    "classifier=lgst_l2\n",
    "\n",
    "feature_names = vectorizer.get_feature_names()\n",
    "    \n",
    "topn_class1 = sorted(zip(classifier.coef_[3], feature_names))[:n]\n",
    "topn_class2 = sorted(zip(classifier.coef_[3], feature_names))[-n:]\n",
    "# for coef, feat in topn_class1:\n",
    "#     print (round(coef,2), feat)\n",
    "\n",
    "# print()\n",
    "\n",
    "for coef, feat in reversed(topn_class2):\n",
    "    print (round(coef,2), feat)"
   ]
  },
  {
   "cell_type": "code",
   "execution_count": null,
   "metadata": {},
   "outputs": [],
   "source": []
  }
 ],
 "metadata": {
  "anaconda-cloud": {},
  "celltoolbar": "Hide code",
  "hide_code_all_hidden": false,
  "kernelspec": {
   "display_name": "Python [conda env:python36]",
   "language": "python",
   "name": "conda-env-python36-py"
  },
  "language_info": {
   "codemirror_mode": {
    "name": "ipython",
    "version": 3
   },
   "file_extension": ".py",
   "mimetype": "text/x-python",
   "name": "python",
   "nbconvert_exporter": "python",
   "pygments_lexer": "ipython3",
   "version": "3.6.1"
  }
 },
 "nbformat": 4,
 "nbformat_minor": 2
}
