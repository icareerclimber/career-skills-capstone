{
 "cells": [
  {
   "cell_type": "code",
   "execution_count": 1,
   "metadata": {},
   "outputs": [],
   "source": [
    "# This code performs a transformation on the job title and pulls out experience qualifiers qualifiers include: \n",
    "# vice_president, president, principal, senior, junior, lead, entry, mid, intern, 1, 2, 3, 4, 5, 6, 7"
   ]
  },
  {
   "cell_type": "code",
   "execution_count": 2,
   "metadata": {},
   "outputs": [],
   "source": [
    "# Custom function in functions folder\n",
    "from functions.process_job_titles import *"
   ]
  },
  {
   "cell_type": "code",
   "execution_count": 3,
   "metadata": {},
   "outputs": [],
   "source": [
    "directory = '/Users/kwheatley/Desktop/Capstone/gcloud_data/'"
   ]
  },
  {
   "cell_type": "markdown",
   "metadata": {},
   "source": [
    "# Process H1B Salaries"
   ]
  },
  {
   "cell_type": "code",
   "execution_count": 4,
   "metadata": {},
   "outputs": [],
   "source": [
    "filename =  'salaries_h1b'\n",
    "data = pd.read_csv(directory+'00_'+filename+'.csv',header=None)\n",
    "data.columns = ['company','role','salary','location','submit_date','start_date','status']\n",
    "\n",
    "# Remove null job titles\n",
    "data = data[~data.role.isnull()]"
   ]
  },
  {
   "cell_type": "code",
   "execution_count": 5,
   "metadata": {},
   "outputs": [],
   "source": [
    "# Run function to process job titles\n",
    "list_of_jobs, clean_job_list, experience_list, word_counts = clean_job(data.role)\n",
    "clean_job_list = manual_update_job_titles(clean_job_list)"
   ]
  },
  {
   "cell_type": "code",
   "execution_count": 6,
   "metadata": {},
   "outputs": [],
   "source": [
    "data['cleaned_job_title'] = clean_job_list\n",
    "data['experiences'] = experience_list\n",
    "data['experiences'] = data['experiences'].astype(str)\n",
    "data['experiences'] = data.experiences.apply(lambda x: x.replace('[','').replace(']','').replace(\"'\",''))"
   ]
  },
  {
   "cell_type": "code",
   "execution_count": 7,
   "metadata": {},
   "outputs": [],
   "source": [
    "data.to_csv(directory+\"01_\"+filename+\".csv\",index=False)"
   ]
  },
  {
   "cell_type": "code",
   "execution_count": 8,
   "metadata": {},
   "outputs": [],
   "source": [
    "# data[['role','cleaned_job_title','experiences']].drop_duplicates().to_csv('temp.csv')"
   ]
  },
  {
   "cell_type": "markdown",
   "metadata": {},
   "source": [
    "# Process Greencard Salaries"
   ]
  },
  {
   "cell_type": "code",
   "execution_count": 9,
   "metadata": {},
   "outputs": [],
   "source": [
    "filename =  'salaries_greencard'\n",
    "data = pd.read_csv(directory+'00_'+filename+'.csv')\n",
    "\n",
    "# Remove null job titles\n",
    "data = data[~data.job_title.isnull()]"
   ]
  },
  {
   "cell_type": "code",
   "execution_count": 10,
   "metadata": {},
   "outputs": [],
   "source": [
    "# Run function to process job titles\n",
    "list_of_jobs, clean_job_list, experience_list, word_counts = clean_job(data.job_title)\n",
    "clean_job_list = manual_update_job_titles(clean_job_list)"
   ]
  },
  {
   "cell_type": "code",
   "execution_count": 11,
   "metadata": {},
   "outputs": [],
   "source": [
    "data['cleaned_job_title'] = clean_job_list\n",
    "data['experiences'] = experience_list\n",
    "data['experiences'] = data['experiences'].astype(str)\n",
    "data['experiences'] = data.experiences.apply(lambda x: x.replace('[','').replace(']','').replace(\"'\",''))"
   ]
  },
  {
   "cell_type": "code",
   "execution_count": 12,
   "metadata": {},
   "outputs": [],
   "source": [
    "data.to_csv(directory+\"01_\"+filename+\".csv\",index=False)"
   ]
  },
  {
   "cell_type": "markdown",
   "metadata": {},
   "source": [
    "# Process Indeed Resumes"
   ]
  },
  {
   "cell_type": "code",
   "execution_count": 4,
   "metadata": {},
   "outputs": [],
   "source": [
    "filename =  'resumes_work'\n",
    "data = pd.read_csv(directory+'00_'+filename+'.csv',header=None)\n",
    "data.columns = ['search_city','resume_id','container','role','company','location','dates','descript']\n",
    "\n",
    "# Removed jobs without dates\n",
    "data = data[~data.dates.isnull()]\n",
    "# Removed jobs without description\n",
    "data = data[~data.descript.isnull()]\n",
    "# Remove null job titles\n",
    "data = data[~data.role.isnull()]"
   ]
  },
  {
   "cell_type": "code",
   "execution_count": 5,
   "metadata": {},
   "outputs": [],
   "source": [
    "# Run function to process job titles\n",
    "list_of_jobs, clean_job_list, experience_list, word_counts = clean_job(data.role)\n",
    "clean_job_list = manual_update_job_titles(clean_job_list)"
   ]
  },
  {
   "cell_type": "code",
   "execution_count": 6,
   "metadata": {},
   "outputs": [],
   "source": [
    "data['cleaned_job_title'] = clean_job_list\n",
    "data['experiences'] = experience_list\n",
    "data['experiences'] = data['experiences'].astype(str)\n",
    "data['experiences'] = data.experiences.apply(lambda x: x.replace('[','').replace(']','').replace(\"'\",''))"
   ]
  },
  {
   "cell_type": "code",
   "execution_count": 7,
   "metadata": {},
   "outputs": [],
   "source": [
    "data.to_csv(directory+\"01_\"+filename+\".csv\",index=False)"
   ]
  },
  {
   "cell_type": "markdown",
   "metadata": {},
   "source": [
    "# Process Indeed Job Postings"
   ]
  },
  {
   "cell_type": "code",
   "execution_count": 17,
   "metadata": {},
   "outputs": [],
   "source": [
    "filename =  'job_posts_indeed'\n",
    "data = pd.read_csv(directory+'00_'+filename+'.csv',header=None)\n",
    "data.columns = ['company','created_date','days_created_before','id','location','salary','scrape_time',\n",
    "          'search_term','summary_text','title','url']\n",
    "\n",
    "# Remove null job titles\n",
    "data = data[~data.title.isnull()]\n",
    "# Remove null job descriptions\n",
    "data = data[~data.summary_text.isnull()]"
   ]
  },
  {
   "cell_type": "code",
   "execution_count": 18,
   "metadata": {},
   "outputs": [],
   "source": [
    "# Run function to process job titles\n",
    "list_of_jobs, clean_job_list, experience_list, word_counts = clean_job(data.title)\n",
    "clean_job_list = manual_update_job_titles(clean_job_list)"
   ]
  },
  {
   "cell_type": "code",
   "execution_count": 19,
   "metadata": {},
   "outputs": [],
   "source": [
    "data['cleaned_job_title'] = clean_job_list\n",
    "data['experiences'] = experience_list\n",
    "data['experiences'] = data['experiences'].astype(str)\n",
    "data['experiences'] = data.experiences.apply(lambda x: x.replace('[','').replace(']','').replace(\"'\",''))"
   ]
  },
  {
   "cell_type": "code",
   "execution_count": 20,
   "metadata": {},
   "outputs": [],
   "source": [
    "data.to_csv(directory+\"01_\"+filename+\".csv\",index=False)"
   ]
  },
  {
   "cell_type": "markdown",
   "metadata": {},
   "source": [
    "# Process CCAR Job Postings"
   ]
  },
  {
   "cell_type": "code",
   "execution_count": 21,
   "metadata": {},
   "outputs": [],
   "source": [
    "filename =  'job_posts_ccars'\n",
    "data = pd.read_csv(directory+'00_'+filename+'.csv')\n",
    "\n",
    "# Remove null job titles\n",
    "data = data[~data.title.isnull()]\n",
    "# Remove null job descriptions\n",
    "data = data[~data.jobDescription.isnull()]"
   ]
  },
  {
   "cell_type": "code",
   "execution_count": 22,
   "metadata": {},
   "outputs": [],
   "source": [
    "# Run function to process job titles\n",
    "list_of_jobs, clean_job_list, experience_list, word_counts = clean_job(data.title)\n",
    "clean_job_list = manual_update_job_titles(clean_job_list)"
   ]
  },
  {
   "cell_type": "code",
   "execution_count": 23,
   "metadata": {},
   "outputs": [],
   "source": [
    "data['cleaned_job_title'] = clean_job_list\n",
    "data['experiences'] = experience_list\n",
    "data['experiences'] = data['experiences'].astype(str)\n",
    "data['experiences'] = data.experiences.apply(lambda x: x.replace('[','').replace(']','').replace(\"'\",''))"
   ]
  },
  {
   "cell_type": "code",
   "execution_count": 24,
   "metadata": {},
   "outputs": [],
   "source": [
    "data.to_csv(directory+\"01_\"+filename+\".csv\",index=False)"
   ]
  },
  {
   "cell_type": "markdown",
   "metadata": {},
   "source": [
    "# End"
   ]
  }
 ],
 "metadata": {
  "anaconda-cloud": {},
  "kernelspec": {
   "display_name": "Python [conda env:python36]",
   "language": "python",
   "name": "conda-env-python36-py"
  },
  "language_info": {
   "codemirror_mode": {
    "name": "ipython",
    "version": 3
   },
   "file_extension": ".py",
   "mimetype": "text/x-python",
   "name": "python",
   "nbconvert_exporter": "python",
   "pygments_lexer": "ipython3",
   "version": "3.6.1"
  }
 },
 "nbformat": 4,
 "nbformat_minor": 2
}
