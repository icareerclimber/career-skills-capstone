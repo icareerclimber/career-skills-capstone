{
 "cells": [
  {
   "cell_type": "code",
   "execution_count": 6,
   "metadata": {},
   "outputs": [],
   "source": [
    "# This notebook converts the salary into JSON to be consumed by visualization\n",
    "# Again, we are only looking at the most recent 5 years of salaries"
   ]
  },
  {
   "cell_type": "code",
   "execution_count": 2,
   "metadata": {},
   "outputs": [],
   "source": [
    "import pandas as pd\n",
    "import matplotlib.pyplot as plt"
   ]
  },
  {
   "cell_type": "code",
   "execution_count": 3,
   "metadata": {},
   "outputs": [],
   "source": [
    "directory = '/Users/kwheatley/Desktop/Capstone/gcloud_data/'\n",
    "# directory = '/mnt/disks/mnt_dir/data/'"
   ]
  },
  {
   "cell_type": "code",
   "execution_count": 4,
   "metadata": {},
   "outputs": [],
   "source": [
    "# Load salary records\n",
    "data = pd.read_csv(directory+'03_cleaned_salaries_for_app.csv')\n",
    "\n",
    "# Load the list of relevant job titles\n",
    "relevant_job_titles = pd.read_csv(directory+'03_relevant_job_titles.csv')\n",
    "relevant_job_titles.columns = ['cleaned_job_title']\n",
    "\n",
    "# Remove any job titles not in the relevant list of job titles\n",
    "data = data[data.cleaned_job_title.isin(relevant_job_titles.cleaned_job_title)]\n",
    "\n",
    "# Remove any salaries older than 5 years\n",
    "data = data[data.start_year >= 2014]\n",
    "\n",
    "# Delete unneeded column\n",
    "del data['original_role']"
   ]
  },
  {
   "cell_type": "code",
   "execution_count": 5,
   "metadata": {},
   "outputs": [],
   "source": [
    "# Save salary data\n",
    "data.to_json(path_or_buf=directory+'05_salary_data_bar_chart.json',orient='table')\n",
    "\n",
    "# Save unique jobs list\n",
    "unique_jobs = pd.DataFrame(data.cleaned_job_title.unique())\\\n",
    "    .rename(index=str, columns={0:'cleaned_job_title'})\\\n",
    "    .sort_values(by='cleaned_job_title')\n",
    "unique_jobs.to_json(path_or_buf=directory+'05_unique_jobs.json',orient='records')\n",
    "    \n",
    "# Save unique states list\n",
    "# Add an `All` filter\n",
    "all_states = pd.DataFrame(['All']).rename(index=str, columns={0:'state'})\n",
    "# Get list of states\n",
    "unique_states = pd.DataFrame(data.state.unique()).rename(index=str, columns={0:'state'}).sort_values(by='state')\n",
    "# Combine `All` with states\n",
    "all_unique_states = pd.concat([all_states, unique_states])\n",
    "# Save to JSON\n",
    "all_unique_states.to_json(path_or_buf=directory+'05_unique_states.json',orient='records')"
   ]
  },
  {
   "cell_type": "markdown",
   "metadata": {},
   "source": [
    "# End"
   ]
  }
 ],
 "metadata": {
  "anaconda-cloud": {},
  "kernelspec": {
   "display_name": "Python [conda env:python36]",
   "language": "python",
   "name": "conda-env-python36-py"
  },
  "language_info": {
   "codemirror_mode": {
    "name": "ipython",
    "version": 3
   },
   "file_extension": ".py",
   "mimetype": "text/x-python",
   "name": "python",
   "nbconvert_exporter": "python",
   "pygments_lexer": "ipython3",
   "version": "3.6.1"
  }
 },
 "nbformat": 4,
 "nbformat_minor": 2
}
