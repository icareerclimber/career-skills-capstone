{
 "cells": [
  {
   "cell_type": "code",
   "execution_count": 85,
   "metadata": {},
   "outputs": [],
   "source": [
    "import pandas as pd\n",
    "from functions.word_preprocessing import *\n",
    "from sklearn.model_selection import train_test_split\n",
    "from sklearn.feature_extraction.text import TfidfVectorizer\n",
    "from sklearn.metrics import accuracy_score\n",
    "import pickle\n",
    "import datetime\n",
    "from sklearn.naive_bayes import MultinomialNB\n",
    "import numpy as np\n",
    "from nltk import word_tokenize\n",
    "from nltk.util import ngrams\n",
    "from collections import Counter\n",
    "import csv\n",
    "import numpy as np\n",
    "import math\n",
    "\n",
    "pd.set_option('display.max_colwidth', 500)"
   ]
  },
  {
   "cell_type": "code",
   "execution_count": 2,
   "metadata": {},
   "outputs": [],
   "source": [
    "directory = '/Users/kwheatley/Desktop/Capstone/gcloud_data/'"
   ]
  },
  {
   "cell_type": "code",
   "execution_count": 35,
   "metadata": {},
   "outputs": [
    {
     "name": "stdout",
     "output_type": "stream",
     "text": [
      "Number of records: 178403\n",
      "Number of unique resume ids: 102443\n"
     ]
    }
   ],
   "source": [
    "# Load education for resumes\n",
    "resume_edu = pd.read_csv(directory+'00_resumes_education.csv',header=None)\n",
    "resume_edu.columns = ['city','resume_id','container_type','edu_title',\n",
    "                      'edu_school','edu_addressLocality','edu_dates']\n",
    "\n",
    "# Remove any null education titles\n",
    "resume_edu = resume_edu[~resume_edu.edu_title.isnull()]\n",
    "\n",
    "# Load the list of relevant resume ids from 03_create_ngram_model\n",
    "relevant_resume_ids = pd.read_csv(directory+'temp_files/relevant_resume_ids.csv')\n",
    "\n",
    "# Remove all education not in resume id list\n",
    "resume_edu = resume_edu[resume_edu.resume_id\\\n",
    "                       .isin(relevant_resume_ids['0'])]\n",
    "\n",
    "print(\"Number of records:\", resume_edu.resume_id.count())\n",
    "print(\"Number of unique resume ids:\", resume_edu.resume_id.nunique())"
   ]
  },
  {
   "cell_type": "code",
   "execution_count": 37,
   "metadata": {},
   "outputs": [],
   "source": [
    "# Clean education titles and tokenize\n",
    "edu_titles = data.edu_title\n",
    "edu_titles = [re.sub('[^A-Za-z0-9\\s]+', '', row.lower()) for row in edu_titles]\n",
    "edu_tokens = [nltk.word_tokenize(row) for row in edu_titles]"
   ]
  },
  {
   "cell_type": "code",
   "execution_count": 69,
   "metadata": {},
   "outputs": [],
   "source": [
    "acronym_list = []\n",
    "for row in edu_tokens:\n",
    "    [acronym_list.append(x) for x in row if len(x) < 5]\n",
    "acronym_list = list(set(acronym_list))\n",
    "\n",
    "degree_type_dict = pd.read_csv('functions/configuration_files/degree_type_dict.csv', encoding='latin-1')\n",
    "degree_type_dict = degree_type_dict[['keyword','type']]\\\n",
    "                        .set_index('keyword')['type']\\\n",
    "                        .to_dict()\n",
    "\n",
    "degree_name_list = []\n",
    "subject_name_list = []\n",
    "for row in edu_tokens:\n",
    "    \n",
    "    degree_row = []\n",
    "    subject_row = row\n",
    "    for token in row:\n",
    "        if token == 'in':\n",
    "            degree_row.append(token)\n",
    "            subject_row = subject_row[1:]\n",
    "            break\n",
    "        elif token in list(degree_type_dict.keys()) + acronym_list:\n",
    "            degree_row.append(token)\n",
    "            subject_row = subject_row[1:]\n",
    "        else:\n",
    "            break\n",
    "\n",
    "    degree_name_list.append(' '.join(degree_row))\n",
    "    subject_name_list.append(' '.join(subject_row))"
   ]
  },
  {
   "cell_type": "code",
   "execution_count": 38,
   "metadata": {},
   "outputs": [],
   "source": [
    "# for row in edu_titles:\n",
    "#     if 'aa' in row:\n",
    "#         print(row)\n",
    "#         print()"
   ]
  },
  {
   "cell_type": "code",
   "execution_count": 92,
   "metadata": {},
   "outputs": [],
   "source": [
    "degree_type_dict = pd.read_csv('functions/configuration_files/degree_type_dict.csv', encoding='latin-1')\n",
    "degree_type_dict = degree_type_dict[['keyword','type']]\\\n",
    "                        .set_index('keyword')['type']\\\n",
    "                        .to_dict()\n"
   ]
  },
  {
   "cell_type": "code",
   "execution_count": 93,
   "metadata": {},
   "outputs": [],
   "source": [
    "degree_category_list = []\n",
    "for row in degree_name_list:\n",
    "    degree_category = []\n",
    "    for key in degree_type_dict:\n",
    "        if key in row.split():\n",
    "            degree_category.append(degree_type_dict[key])\n",
    "    degree_category_list.append(' '.join(set(degree_category)))\n",
    "\n",
    "final = list(zip(edu_titles, degree_name_list, subject_name_list,degree_category_list))\n",
    "pd.DataFrame(list(set(final))).to_csv('final.csv')\n",
    "pd.DataFrame(list(set(zip(degree_name_list, degree_category_list)))).to_csv('degree_name_list.csv')"
   ]
  },
  {
   "cell_type": "code",
   "execution_count": 68,
   "metadata": {},
   "outputs": [],
   "source": [
    "counter_temp = Counter(degree_name_list)    \n",
    "writefile = open('test1.csv', 'w')\n",
    "writer = csv.writer(writefile)\n",
    "for key, count in counter_temp.items():\n",
    "    writer.writerow([str(key),str(count)])\n",
    "writefile.close()\n",
    "\n",
    "pd.DataFrame(list(set(subject_name_list))).to_csv('temp.csv')"
   ]
  },
  {
   "cell_type": "code",
   "execution_count": 36,
   "metadata": {},
   "outputs": [],
   "source": [
    "data.loc[data.edu_dates.isnull(),'edu_dates'] = 'January 1900'\n",
    "data['from_date'] = data.edu_dates.apply(lambda x: (x.split(\" to \")[0]).strip())\n",
    "data['from_date'] = data.from_date.apply(lambda x: \n",
    "                        datetime.datetime.strptime('January ' + x, '%B %Y')\n",
    "                        if len(x.split(\" \"))==1\n",
    "                        else datetime.datetime.strptime(x, '%B %Y'))\n",
    "data['to_date'] = data.edu_dates.apply(lambda x: (x.split(\" to \")[1]).strip()\n",
    "                        if len(x.split(\" to \"))>1\n",
    "                        else x.strip())\n",
    "data['currently_here'] = 'No'\n",
    "data.loc[data.to_date == 'Present','currently_here'] = 'Yes'\n",
    "data.loc[data.to_date == 'Present','to_date'] = 'July 2018'\n",
    "data['to_date'] = data.to_date.apply(lambda x: \n",
    "                        datetime.datetime.strptime('December ' + x, '%B %Y')\n",
    "                        if len(x.split(\" \"))==1\n",
    "                        else datetime.datetime.strptime(x, '%B %Y'))\n",
    "data['from_year'] = data.from_date.apply(lambda x: str(x.year))\n",
    "data['to_year'] = data.to_date.apply(lambda x: str(x.year))\n",
    "data['days_edu'] = (data.to_date - data.from_date).dt.days\n",
    "data['years_edu'] = round(data.days_edu/365)"
   ]
  },
  {
   "cell_type": "code",
   "execution_count": null,
   "metadata": {
    "hideCode": true
   },
   "outputs": [],
   "source": [
    "# ngram_counter = Counter()\n",
    "\n",
    "for row in edu_tokens:\n",
    "    unigrams = ngrams(row,1)\n",
    "#     bigrams = ngrams(row,2)\n",
    "#     tigrams = ngrams(row,3)\n",
    "\n",
    "    ngram_counter.update(unigrams)\n",
    "#     ngram_counter.update(bigrams)\n",
    "#     ngram_counter.update(tigrams) "
   ]
  },
  {
   "cell_type": "code",
   "execution_count": 11,
   "metadata": {},
   "outputs": [],
   "source": [
    "# for i in resume_work.groupby(['role','cleaned_job_title','experiences','currently_here'])\\\n",
    "# ['days_worked'].agg('mean').reset_index()['experiences'].unique():\n",
    "#     print(i)\n",
    "# resume_work[resume_work.experiences == '4, 7'].role"
   ]
  },
  {
   "cell_type": "code",
   "execution_count": null,
   "metadata": {},
   "outputs": [],
   "source": [
    "# https://developers.google.com/chart/interactive/docs/gallery/sankey"
   ]
  }
 ],
 "metadata": {
  "anaconda-cloud": {},
  "kernelspec": {
   "display_name": "Python [conda env:python36]",
   "language": "python",
   "name": "conda-env-python36-py"
  },
  "language_info": {
   "codemirror_mode": {
    "name": "ipython",
    "version": 3
   },
   "file_extension": ".py",
   "mimetype": "text/x-python",
   "name": "python",
   "nbconvert_exporter": "python",
   "pygments_lexer": "ipython3",
   "version": "3.6.1"
  }
 },
 "nbformat": 4,
 "nbformat_minor": 2
}
