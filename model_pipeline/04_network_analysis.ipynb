{
 "cells": [
  {
   "cell_type": "code",
   "execution_count": 67,
   "metadata": {},
   "outputs": [],
   "source": [
    "import pandas as pd\n",
    "from functions.word_preprocessing import *\n",
    "from sklearn.model_selection import train_test_split\n",
    "from sklearn.feature_extraction.text import TfidfVectorizer\n",
    "from sklearn.metrics import accuracy_score\n",
    "import pickle\n",
    "import datetime\n",
    "from sklearn.naive_bayes import MultinomialNB\n",
    "import numpy as np\n",
    "from nltk import word_tokenize\n",
    "from nltk.util import ngrams\n",
    "from collections import Counter\n",
    "import csv\n",
    "\n",
    "\n",
    "pd.set_option('display.max_colwidth', 500)"
   ]
  },
  {
   "cell_type": "code",
   "execution_count": 2,
   "metadata": {},
   "outputs": [],
   "source": [
    "directory = '/Users/kwheatley/Desktop/Capstone/gcloud_data/'"
   ]
  },
  {
   "cell_type": "code",
   "execution_count": 3,
   "metadata": {},
   "outputs": [],
   "source": [
    "resume_edu = pd.read_csv(directory+'00_resumes%2Fprocessed_resumes_education.csv',header=None)\n",
    "resume_edu.columns = ['city','resume_id','container_type','edu_title',\n",
    "                      'edu_school','edu_addressLocality','edu_dates']\n",
    "\n",
    "resume_work = pd.read_csv(directory+'02_processed_resumes_work_CLEAN.csv')"
   ]
  },
  {
   "cell_type": "code",
   "execution_count": 5,
   "metadata": {},
   "outputs": [],
   "source": [
    "resume_edu = resume_edu[~resume_edu.edu_title.isnull()]\n",
    "data = resume_edu"
   ]
  },
  {
   "cell_type": "code",
   "execution_count": 7,
   "metadata": {},
   "outputs": [],
   "source": [
    "data.loc[data.edu_dates.isnull(),'edu_dates'] = 'January 1900'\n",
    "data['from_date'] = data.edu_dates.apply(lambda x: (x.split(\" to \")[0]).strip())\n",
    "data['from_date'] = data.from_date.apply(lambda x: \n",
    "                        datetime.datetime.strptime('January ' + x, '%B %Y')\n",
    "                        if len(x.split(\" \"))==1\n",
    "                        else datetime.datetime.strptime(x, '%B %Y'))\n",
    "data['to_date'] = data.edu_dates.apply(lambda x: (x.split(\" to \")[1]).strip()\n",
    "                        if len(x.split(\" to \"))>1\n",
    "                        else x.strip())\n",
    "data['currently_here'] = 'No'\n",
    "data.loc[data.to_date == 'Present','currently_here'] = 'Yes'\n",
    "data.loc[data.to_date == 'Present','to_date'] = 'July 2018'\n",
    "data['to_date'] = data.to_date.apply(lambda x: \n",
    "                        datetime.datetime.strptime('December ' + x, '%B %Y')\n",
    "                        if len(x.split(\" \"))==1\n",
    "                        else datetime.datetime.strptime(x, '%B %Y'))\n",
    "data['from_year'] = data.from_date.apply(lambda x: str(x.year))\n",
    "data['to_year'] = data.to_date.apply(lambda x: str(x.year))\n",
    "data['days_edu'] = (data.to_date - data.from_date).dt.days\n",
    "data['years_edu'] = round(data.days_edu/365)"
   ]
  },
  {
   "cell_type": "code",
   "execution_count": 18,
   "metadata": {},
   "outputs": [],
   "source": [
    "edu_titles = data.edu_title\n",
    "edu_titles = [re.sub('[^A-Za-z0-9\\s]+', '', row.lower()) for row in edu_titles]\n",
    "\n",
    "edu_tokens = [nltk.word_tokenize(row) for row in edu_titles]"
   ]
  },
  {
   "cell_type": "code",
   "execution_count": 173,
   "metadata": {},
   "outputs": [],
   "source": [
    "acronym_list = []\n",
    "for row in edu_tokens:\n",
    "    [acronym_list.append(x) for x in row if len(x) < 5]\n",
    "acronym_list = list(set(acronym_list))\n",
    "\n",
    "degrees = ['associates', 'associate', 'association', 'associated', 'associatge ', 'assoc',\n",
    "           'bachelors', 'bachelor', \n",
    "           'science', 'sciences',\n",
    "           'masters', 'master',\n",
    "           'doctor', 'baccalaureate', 'baccalaurat', 'baccalaureat', 'bechelor',\n",
    "           'certificate', 'certificate', 'certification', 'certifcate', 'certifed', 'certified', \n",
    "           'certificantion', 'certificates',\n",
    "           'doctorate', \n",
    "           'juris', 'license', 'minor',\n",
    "           'achievement', 'achievements', 'advanced', 'regents',\n",
    "           'diploma','college', 'junior', 'applied', 'vocational', 'school', 'degree',\n",
    "           'laude',\n",
    "          ]\n",
    "\n",
    "degree_name_list = []\n",
    "subject_name_list = []\n",
    "for row in edu_tokens:\n",
    "    \n",
    "    degree_row = []\n",
    "    subject_row = row\n",
    "    for token in row:\n",
    "        if token == 'in':\n",
    "            degree_row.append(token)\n",
    "            subject_row = subject_row[1:]\n",
    "            break\n",
    "        elif token in degrees + acronym_list:\n",
    "            degree_row.append(token)\n",
    "            subject_row = subject_row[1:]\n",
    "        else:\n",
    "            break\n",
    "\n",
    "    degree_name_list.append(' '.join(degree_row))\n",
    "    subject_name_list.append(' '.join(subject_row))\n",
    "\n",
    "final = list(zip(degree_name_list, subject_name_list))\n",
    "pd.DataFrame(list(set(final))).to_csv('final.csv')\n",
    "pd.DataFrame(list(set(degree_name_list))).to_csv('degree_name_list.csv')"
   ]
  },
  {
   "cell_type": "code",
   "execution_count": 168,
   "metadata": {},
   "outputs": [],
   "source": [
    "counter_temp = Counter(degree_name_list)    \n",
    "writefile = open('test1.csv', 'w')\n",
    "writer = csv.writer(writefile)\n",
    "for key, count in counter_temp.items():\n",
    "    writer.writerow([str(key),str(count)])\n",
    "writefile.close()\n",
    "\n",
    "pd.DataFrame(list(set(subject_name_list))).to_csv('temp.csv')"
   ]
  },
  {
   "cell_type": "code",
   "execution_count": null,
   "metadata": {
    "hideCode": true
   },
   "outputs": [],
   "source": [
    "# ngram_counter = Counter()\n",
    "\n",
    "for row in edu_tokens:\n",
    "    unigrams = ngrams(row,1)\n",
    "#     bigrams = ngrams(row,2)\n",
    "#     tigrams = ngrams(row,3)\n",
    "\n",
    "    ngram_counter.update(unigrams)\n",
    "#     ngram_counter.update(bigrams)\n",
    "#     ngram_counter.update(tigrams) "
   ]
  },
  {
   "cell_type": "code",
   "execution_count": 61,
   "metadata": {
    "scrolled": false
   },
   "outputs": [],
   "source": [
    "# ngram_counter.most_common(500)\n",
    "unigram_list = sorted([word[0] for word in list(set(ngram_counter.elements()))])\n",
    "pd.DataFrame(unigram_list).to_csv('unigram_list.csv')"
   ]
  },
  {
   "cell_type": "code",
   "execution_count": 11,
   "metadata": {},
   "outputs": [],
   "source": [
    "# for i in resume_work.groupby(['role','cleaned_job_title','experiences','currently_here'])\\\n",
    "# ['days_worked'].agg('mean').reset_index()['experiences'].unique():\n",
    "#     print(i)\n",
    "# resume_work[resume_work.experiences == '4, 7'].role"
   ]
  },
  {
   "cell_type": "code",
   "execution_count": null,
   "metadata": {},
   "outputs": [],
   "source": [
    "# https://developers.google.com/chart/interactive/docs/gallery/sankey"
   ]
  }
 ],
 "metadata": {
  "anaconda-cloud": {},
  "kernelspec": {
   "display_name": "Python [conda env:python36]",
   "language": "python",
   "name": "conda-env-python36-py"
  },
  "language_info": {
   "codemirror_mode": {
    "name": "ipython",
    "version": 3
   },
   "file_extension": ".py",
   "mimetype": "text/x-python",
   "name": "python",
   "nbconvert_exporter": "python",
   "pygments_lexer": "ipython3",
   "version": "3.6.1"
  }
 },
 "nbformat": 4,
 "nbformat_minor": 2
}
